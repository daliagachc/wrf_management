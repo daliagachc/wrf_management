{
 "cells": [
  {
   "cell_type": "code",
   "execution_count": 55,
   "metadata": {},
   "outputs": [],
   "source": [
    "from useful_scit.imps import *"
   ]
  },
  {
   "cell_type": "code",
   "execution_count": 56,
   "metadata": {},
   "outputs": [],
   "source": [
    "path = '/Users/diego/Downloads/'\n",
    "gl = 'wrfout*'\n",
    "glpath = os.path.join(path,gl)\n",
    "files = glob.glob(glpath)"
   ]
  },
  {
   "cell_type": "code",
   "execution_count": 57,
   "metadata": {},
   "outputs": [
    {
     "data": {
      "text/plain": [
       "['/Users/diego/Downloads/wrfout_d01_2017-12-15_03:00:00',\n",
       " '/Users/diego/Downloads/wrfout_d02_2010-05-18_00.nc',\n",
       " '/Users/diego/Downloads/wrfout_d02_2017-12-15_03:00:00',\n",
       " '/Users/diego/Downloads/wrfout_d03_2017-12-15_03:00:00',\n",
       " '/Users/diego/Downloads/wrfout_d04_2017-12-15_03:00:00']"
      ]
     },
     "execution_count": 57,
     "metadata": {},
     "output_type": "execute_result"
    }
   ],
   "source": [
    "files"
   ]
  },
  {
   "cell_type": "code",
   "execution_count": 44,
   "metadata": {},
   "outputs": [],
   "source": [
    "f1 = files[3]"
   ]
  },
  {
   "cell_type": "code",
   "execution_count": 45,
   "metadata": {},
   "outputs": [],
   "source": [
    "d1 = xr.open_dataset(f1)"
   ]
  },
  {
   "cell_type": "code",
   "execution_count": 46,
   "metadata": {},
   "outputs": [],
   "source": [
    "dummy = '/tmp/dummy.nc4'"
   ]
  },
  {
   "cell_type": "code",
   "execution_count": 47,
   "metadata": {},
   "outputs": [],
   "source": [
    "d1.to_netcdf(dummy,format='NETCDF4')"
   ]
  },
  {
   "cell_type": "code",
   "execution_count": 48,
   "metadata": {},
   "outputs": [],
   "source": [
    "s1 = os.path.getsize(f1)"
   ]
  },
  {
   "cell_type": "code",
   "execution_count": 49,
   "metadata": {},
   "outputs": [
    {
     "data": {
      "text/plain": [
       "433281188"
      ]
     },
     "execution_count": 49,
     "metadata": {},
     "output_type": "execute_result"
    }
   ],
   "source": [
    "os.path.getsize(dummy)"
   ]
  },
  {
   "cell_type": "code",
   "execution_count": 50,
   "metadata": {},
   "outputs": [],
   "source": [
    "vars2keep = [\n",
    "    'ZNW','ZNU','PB','P','PHB','PH','T','QVAPOR','TKE_PBL','XLAT',\n",
    "    'XLONG','MAPFAC_M','PSFC','U10','V10','T2','Q2','SWDOWN','RAINNC','RAINC',\n",
    "    'HFX','UST','PBLH','U','V','W',\n",
    "    #'AVGFLX_RUM','AVGFLX_RVM','AVGFLX_WWM','MU','MUB','WW',\n",
    "]  #32"
   ]
  },
  {
   "cell_type": "code",
   "execution_count": 51,
   "metadata": {},
   "outputs": [],
   "source": [
    "d2 = d1[vars2keep].copy()"
   ]
  },
  {
   "cell_type": "code",
   "execution_count": 52,
   "metadata": {},
   "outputs": [],
   "source": [
    "dm2 = '/tmp/dummy.nc4'\n",
    "d2.to_netcdf(dm2,format='NETCDF4')"
   ]
  },
  {
   "cell_type": "code",
   "execution_count": 53,
   "metadata": {},
   "outputs": [],
   "source": [
    "s2 = os.path.getsize(dm2)"
   ]
  },
  {
   "cell_type": "code",
   "execution_count": 54,
   "metadata": {},
   "outputs": [
    {
     "data": {
      "text/plain": [
       "0.44405720462521076"
      ]
     },
     "execution_count": 54,
     "metadata": {},
     "output_type": "execute_result"
    }
   ],
   "source": [
    "s2/s1"
   ]
  },
  {
   "cell_type": "code",
   "execution_count": 58,
   "metadata": {},
   "outputs": [],
   "source": [
    "fileF = '/Users/diego/Downloads/wrfout_d02_2010-05-18_00.nc'"
   ]
  },
  {
   "cell_type": "code",
   "execution_count": 59,
   "metadata": {},
   "outputs": [],
   "source": [
    "df = xr.open_dataset(fileF)"
   ]
  },
  {
   "cell_type": "code",
   "execution_count": 60,
   "metadata": {},
   "outputs": [
    {
     "data": {
      "text/plain": [
       "<xarray.Dataset>\n",
       "Dimensions:     (Time: 6, bottom_top: 59, bottom_top_stag: 60, south_north: 180, south_north_stag: 181, west_east: 180, west_east_stag: 181)\n",
       "Coordinates:\n",
       "    XLAT        (Time, south_north, west_east) float32 ...\n",
       "    XLONG       (Time, south_north, west_east) float32 ...\n",
       "Dimensions without coordinates: Time, bottom_top, bottom_top_stag, south_north, south_north_stag, west_east, west_east_stag\n",
       "Data variables:\n",
       "    Times       (Time) |S19 ...\n",
       "    ZNU         (Time, bottom_top) float32 ...\n",
       "    ZNW         (Time, bottom_top_stag) float32 ...\n",
       "    U           (Time, bottom_top, south_north, west_east_stag) float32 ...\n",
       "    V           (Time, bottom_top, south_north_stag, west_east) float32 ...\n",
       "    W           (Time, bottom_top_stag, south_north, west_east) float32 ...\n",
       "    PH          (Time, bottom_top_stag, south_north, west_east) float32 ...\n",
       "    PHB         (Time, bottom_top_stag, south_north, west_east) float32 ...\n",
       "    T           (Time, bottom_top, south_north, west_east) float32 ...\n",
       "    MU          (Time, south_north, west_east) float32 ...\n",
       "    MUB         (Time, south_north, west_east) float32 ...\n",
       "    P           (Time, bottom_top, south_north, west_east) float32 ...\n",
       "    ALT         (Time, bottom_top, south_north, west_east) float32 ...\n",
       "    PB          (Time, bottom_top, south_north, west_east) float32 ...\n",
       "    Q2          (Time, south_north, west_east) float32 ...\n",
       "    T2          (Time, south_north, west_east) float32 ...\n",
       "    PSFC        (Time, south_north, west_east) float32 ...\n",
       "    U10         (Time, south_north, west_east) float32 ...\n",
       "    V10         (Time, south_north, west_east) float32 ...\n",
       "    QVAPOR      (Time, bottom_top, south_north, west_east) float32 ...\n",
       "    SNOWH       (Time, south_north, west_east) float32 ...\n",
       "    MAPFAC_M    (Time, south_north, west_east) float32 ...\n",
       "    MAPFAC_U    (Time, south_north, west_east_stag) float32 ...\n",
       "    MAPFAC_V    (Time, south_north_stag, west_east) float32 ...\n",
       "    HGT         (Time, south_north, west_east) float32 ...\n",
       "    P_TOP       (Time) float32 ...\n",
       "    RAINC       (Time, south_north, west_east) float32 ...\n",
       "    RAINNC      (Time, south_north, west_east) float32 ...\n",
       "    SWDOWN      (Time, south_north, west_east) float32 ...\n",
       "    UST         (Time, south_north, west_east) float32 ...\n",
       "    PBLH        (Time, south_north, west_east) float32 ...\n",
       "    HFX         (Time, south_north, west_east) float32 ...\n",
       "    AVGFLX_RUM  (Time, bottom_top, south_north, west_east_stag) float32 ...\n",
       "    AVGFLX_RVM  (Time, bottom_top, south_north_stag, west_east) float32 ...\n",
       "    AVGFLX_WWM  (Time, bottom_top_stag, south_north, west_east) float32 ...\n",
       "Attributes:\n",
       "    TITLE:                            OUTPUT FROM WRF V3.3 MODEL\n",
       "    START_DATE:                      2010-05-17_12:00:00\n",
       "    SIMULATION_START_DATE:           2010-05-17_12:00:00\n",
       "    WEST-EAST_GRID_DIMENSION:        181\n",
       "    SOUTH-NORTH_GRID_DIMENSION:      181\n",
       "    BOTTOM-TOP_GRID_DIMENSION:       60\n",
       "    DX:                              12000.0\n",
       "    DY:                              12000.0\n",
       "    GRIDTYPE:                        C\n",
       "    DIFF_OPT:                        1\n",
       "    KM_OPT:                          4\n",
       "    DAMP_OPT:                        0\n",
       "    DAMPCOEF:                        0.01\n",
       "    KHDIF:                           0.0\n",
       "    KVDIF:                           0.0\n",
       "    MP_PHYSICS:                      5\n",
       "    RA_LW_PHYSICS:                   4\n",
       "    RA_SW_PHYSICS:                   4\n",
       "    SF_SFCLAY_PHYSICS:               2\n",
       "    SF_SURFACE_PHYSICS:              2\n",
       "    BL_PBL_PHYSICS:                  2\n",
       "    CU_PHYSICS:                      0\n",
       "    SURFACE_INPUT_SOURCE:            1\n",
       "    SST_UPDATE:                      1\n",
       "    GRID_FDDA:                       0\n",
       "    GFDDA_INTERVAL_M:                0\n",
       "    GFDDA_END_H:                     0\n",
       "    GRID_SFDDA:                      0\n",
       "    SGFDDA_INTERVAL_M:               0\n",
       "    SGFDDA_END_H:                    0\n",
       "    SF_URBAN_PHYSICS:                1\n",
       "    FEEDBACK:                        1\n",
       "    SMOOTH_OPTION:                   0\n",
       "    SWRAD_SCAT:                      1.0\n",
       "    W_DAMPING:                       1\n",
       "    MOIST_ADV_OPT:                   2\n",
       "    SCALAR_ADV_OPT:                  2\n",
       "    TKE_ADV_OPT:                     2\n",
       "    DIFF_6TH_OPT:                    2\n",
       "    DIFF_6TH_FACTOR:                 0.12\n",
       "    OBS_NUDGE_OPT:                   0\n",
       "    BUCKET_MM:                       -1.0\n",
       "    BUCKET_J:                        -1.0\n",
       "    PREC_ACC_DT:                     0.0\n",
       "    OMLCALL:                         0\n",
       "    ISFTCFLX:                        0\n",
       "    ISHALLOW:                        0\n",
       "    DFI_OPT:                         0\n",
       "    SHCU_PHYSICS:                    0\n",
       "    WEST-EAST_PATCH_START_UNSTAG:    1\n",
       "    WEST-EAST_PATCH_END_UNSTAG:      180\n",
       "    WEST-EAST_PATCH_START_STAG:      1\n",
       "    WEST-EAST_PATCH_END_STAG:        181\n",
       "    SOUTH-NORTH_PATCH_START_UNSTAG:  1\n",
       "    SOUTH-NORTH_PATCH_END_UNSTAG:    180\n",
       "    SOUTH-NORTH_PATCH_START_STAG:    1\n",
       "    SOUTH-NORTH_PATCH_END_STAG:      181\n",
       "    BOTTOM-TOP_PATCH_START_UNSTAG:   1\n",
       "    BOTTOM-TOP_PATCH_END_UNSTAG:     59\n",
       "    BOTTOM-TOP_PATCH_START_STAG:     1\n",
       "    BOTTOM-TOP_PATCH_END_STAG:       60\n",
       "    GRID_ID:                         2\n",
       "    PARENT_ID:                       1\n",
       "    I_PARENT_START:                  21\n",
       "    J_PARENT_START:                  35\n",
       "    PARENT_GRID_RATIO:               3\n",
       "    DT:                              60.0\n",
       "    CEN_LAT:                         39.915146\n",
       "    CEN_LON:                         -115.160095\n",
       "    TRUELAT1:                        33.0\n",
       "    TRUELAT2:                        45.0\n",
       "    MOAD_CEN_LAT:                    39.767265\n",
       "    STAND_LON:                       -97.0\n",
       "    POLE_LAT:                        90.0\n",
       "    POLE_LON:                        0.0\n",
       "    GMT:                             12.0\n",
       "    JULYR:                           2010\n",
       "    JULDAY:                          137\n",
       "    MAP_PROJ:                        1\n",
       "    MMINLU:                          MODIFIED_IGBP_MODIS_NOAH\n",
       "    NUM_LAND_CAT:                    20\n",
       "    ISWATER:                         17\n",
       "    ISLAKE:                          -1\n",
       "    ISICE:                           15\n",
       "    ISURBAN:                         13\n",
       "    ISOILWATER:                      14\n",
       "    history:                         Mon Apr 23 20:10:19 2012: ncrcat -O -v T...\n",
       "    nco_openmp_thread_number:        1"
      ]
     },
     "execution_count": 60,
     "metadata": {},
     "output_type": "execute_result"
    }
   ],
   "source": [
    "df"
   ]
  },
  {
   "cell_type": "code",
   "execution_count": null,
   "metadata": {},
   "outputs": [],
   "source": []
  }
 ],
 "metadata": {
  "jupytext": {
   "main_language": "python",
   "text_representation": {
    "extension": ".py",
    "format_name": "percent",
    "format_version": "1.2",
    "jupytext_version": "0.8.6"
   }
  },
  "kernelspec": {
   "display_name": "Python 3",
   "language": "python",
   "name": "python3"
  },
  "language_info": {
   "codemirror_mode": {
    "name": "ipython",
    "version": 3
   },
   "file_extension": ".py",
   "mimetype": "text/x-python",
   "name": "python",
   "nbconvert_exporter": "python",
   "pygments_lexer": "ipython3",
   "version": "3.6.8"
  }
 },
 "nbformat": 4,
 "nbformat_minor": 2
}
