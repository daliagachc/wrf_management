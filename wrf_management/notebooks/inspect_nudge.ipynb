{
 "cells": [
  {
   "cell_type": "code",
   "execution_count": 2,
   "metadata": {},
   "outputs": [],
   "source": [
    "from useful_scit.imps import *\n",
    "import wrf "
   ]
  },
  {
   "cell_type": "code",
   "execution_count": 3,
   "metadata": {},
   "outputs": [],
   "source": [
    "path = '/tmp/wrf_management/data_folder/runs/run_2019_02_28/real/'"
   ]
  },
  {
   "cell_type": "code",
   "execution_count": 4,
   "metadata": {},
   "outputs": [
    {
     "data": {
      "text/plain": [
       "['/tmp/wrf_management/data_folder/runs/run_2019_02_28/real/wrfinput_d03',\n",
       " '/tmp/wrf_management/data_folder/runs/run_2019_02_28/real/wrffdda_d01',\n",
       " '/tmp/wrf_management/data_folder/runs/run_2019_02_28/real/wrfinput_d01',\n",
       " '/tmp/wrf_management/data_folder/runs/run_2019_02_28/real/wrfinput_d04',\n",
       " '/tmp/wrf_management/data_folder/runs/run_2019_02_28/real/wrfinput_d02',\n",
       " '/tmp/wrf_management/data_folder/runs/run_2019_02_28/real/wrfbdy_d01']"
      ]
     },
     "execution_count": 4,
     "metadata": {},
     "output_type": "execute_result"
    }
   ],
   "source": [
    "gl=glob.glob(path+'wrf*')\n",
    "df = pd.DataFrame(gl,columns=['path'])\n",
    "gl"
   ]
  },
  {
   "cell_type": "code",
   "execution_count": 5,
   "metadata": {},
   "outputs": [
    {
     "data": {
      "text/plain": [
       "'/tmp/wrf_management/data_folder/runs/run_2019_02_28/real/wrfbdy_d01'"
      ]
     },
     "execution_count": 5,
     "metadata": {},
     "output_type": "execute_result"
    }
   ],
   "source": [
    "bo = df.path.str.contains('bdy')\n",
    "bdy = df[bo]['path'].iloc[0]\n",
    "bdy"
   ]
  },
  {
   "cell_type": "code",
   "execution_count": 6,
   "metadata": {},
   "outputs": [
    {
     "name": "stdout",
     "output_type": "stream",
     "text": [
      "<xarray.Dataset>\n",
      "Dimensions:                                          (Time: 83, bdy_width: 5, bottom_top: 49, bottom_top_stag: 50, south_north: 85, south_north_stag: 86, west_east: 117, west_east_stag: 118)\n",
      "Dimensions without coordinates: Time, bdy_width, bottom_top, bottom_top_stag, south_north, south_north_stag, west_east, west_east_stag\n",
      "Data variables:\n",
      "    Times                                            (Time) |S19 ...\n",
      "    md___thisbdytimee_x_t_d_o_m_a_i_n_m_e_t_a_data_  (Time) |S19 ...\n",
      "    md___nextbdytimee_x_t_d_o_m_a_i_n_m_e_t_a_data_  (Time) |S19 ...\n",
      "    U_BXS                                            (Time, bdy_width, bottom_top, south_north) float32 ...\n",
      "    U_BXE                                            (Time, bdy_width, bottom_top, south_north) float32 ...\n",
      "    U_BYS                                            (Time, bdy_width, bottom_top, west_east_stag) float32 ...\n",
      "    U_BYE                                            (Time, bdy_width, bottom_top, west_east_stag) float32 ...\n",
      "    U_BTXS                                           (Time, bdy_width, bottom_top, south_north) float32 ...\n",
      "    U_BTXE                                           (Time, bdy_width, bottom_top, south_north) float32 ...\n",
      "    U_BTYS                                           (Time, bdy_width, bottom_top, west_east_stag) float32 ...\n",
      "    U_BTYE                                           (Time, bdy_width, bottom_top, west_east_stag) float32 ...\n",
      "    V_BXS                                            (Time, bdy_width, bottom_top, south_north_stag) float32 ...\n",
      "    V_BXE                                            (Time, bdy_width, bottom_top, south_north_stag) float32 ...\n",
      "    V_BYS                                            (Time, bdy_width, bottom_top, west_east) float32 ...\n",
      "    V_BYE                                            (Time, bdy_width, bottom_top, west_east) float32 ...\n",
      "    V_BTXS                                           (Time, bdy_width, bottom_top, south_north_stag) float32 ...\n",
      "    V_BTXE                                           (Time, bdy_width, bottom_top, south_north_stag) float32 ...\n",
      "    V_BTYS                                           (Time, bdy_width, bottom_top, west_east) float32 ...\n",
      "    V_BTYE                                           (Time, bdy_width, bottom_top, west_east) float32 ...\n",
      "    W_BXS                                            (Time, bdy_width, bottom_top_stag, south_north) float32 ...\n",
      "    W_BXE                                            (Time, bdy_width, bottom_top_stag, south_north) float32 ...\n",
      "    W_BYS                                            (Time, bdy_width, bottom_top_stag, west_east) float32 ...\n",
      "    W_BYE                                            (Time, bdy_width, bottom_top_stag, west_east) float32 ...\n",
      "    W_BTXS                                           (Time, bdy_width, bottom_top_stag, south_north) float32 ...\n",
      "    W_BTXE                                           (Time, bdy_width, bottom_top_stag, south_north) float32 ...\n",
      "    W_BT\n"
     ]
    }
   ],
   "source": [
    "bdy_d = xr.open_dataset(bdy)\n",
    "# bdy_d.dims\n",
    "print(str(bdy_d)[:3000])\n"
   ]
  },
  {
   "cell_type": "code",
   "execution_count": 7,
   "metadata": {},
   "outputs": [],
   "source": [
    "bo = df.path.str.contains('fdda')\n",
    "dda = df[bo]['path'].iloc[0]"
   ]
  },
  {
   "cell_type": "code",
   "execution_count": 12,
   "metadata": {},
   "outputs": [
    {
     "name": "stdout",
     "output_type": "stream",
     "text": [
      "<xarray.Dataset>\n",
      "Dimensions:     (Time: 83, bottom_top: 49, one_stag: 1, south_north: 85, west_east: 117)\n",
      "Dimensions without coordinates: Time, bottom_top, one_stag, south_north, west_east\n",
      "Data variables:\n",
      "    Times       (Time) |S19 ...\n",
      "    U_NDG_OLD   (Time, bottom_top, south_north, west_east) float32 ...\n",
      "    V_NDG_OLD   (Time, bottom_top, south_north, west_east) float32 ...\n",
      "    T_NDG_OLD   (Time, bottom_top, south_north, west_east) float32 ...\n",
      "    Q_NDG_OLD   (Time, bottom_top, south_north, west_east) float32 ...\n",
      "    PH_NDG_OLD  (Time, bottom_top, south_north, west_east) float32 ...\n",
      "    U_NDG_NEW   (Time, bottom_top, south_north, west_east) float32 ...\n",
      "    V_NDG_NEW   (Time, bottom_top, south_north, west_east) float32 ...\n",
      "    T_NDG_NEW   (Time, bottom_top, south_north, west_east) float32 ...\n",
      "    Q_NDG_NEW   (Time, bottom_top, south_north, west_east) float32 ...\n",
      "    PH_NDG_NEW  (Time, bottom_top, south_north, west_east) float32 ...\n",
      "    MU_NDG_OLD  (Time, one_stag, south_north, west_east) float32 ...\n",
      "    MU_NDG_NEW  (Time, one_stag, south_north, west_east) float32 ...\n",
      "Attributes:\n",
      "    TITLE:                            OUTPUT FROM REAL_EM V4.0.3 PREPROCESSOR\n",
      "    START_DATE:                      2017-12-02_00:00:00\n",
      "    WEST-EAST_GRID_DIMENSION:        118\n",
      "    SOUTH-NORTH_GRID_DIMENSION:      86\n",
      "    BOTTOM-TOP_GRID_DIMENSION:       50\n",
      "    DX:                              38000.0\n",
      "    DY:                              38000.0\n",
      "    AERCU_OPT:                       0\n",
      "    AERCU_FCT:                       1.0\n",
      "    IDEAL_CASE:                      0\n",
      "    DIFF_6TH_SLOPEOPT:               0\n",
      "    AUTO_LEVELS_OPT:                 2\n",
      "    DIFF_6TH_THRESH:                 0.1\n",
      "    DZBOT:                           50.0\n",
      "    DZSTRETCH_S:                     1.3\n",
      "    DZSTRETCH_U:                     1.1\n",
      "    GRIDTYPE:                        C\n",
      "    DIFF_OPT:                        2\n",
      "    KM_OPT:                          4\n",
      "    DAMP_OPT:                        3\n",
      "    DAMPCOEF:                        0.\n"
     ]
    }
   ],
   "source": [
    "# dda_d.close()\n",
    "dda_d = xr.open_dataset(dda)\n",
    "print(str(dda_d)[:2000])\n",
    "# dda_d.Times"
   ]
  },
  {
   "cell_type": "code",
   "execution_count": null,
   "metadata": {},
   "outputs": [],
   "source": []
  }
 ],
 "metadata": {
  "jupytext": {
   "main_language": "python",
   "text_representation": {
    "extension": ".py",
    "format_name": "percent",
    "format_version": "1.2",
    "jupytext_version": "0.8.6"
   }
  },
  "kernelspec": {
   "display_name": "Python 3",
   "language": "python",
   "name": "python3"
  },
  "language_info": {
   "codemirror_mode": {
    "name": "ipython",
    "version": 3
   },
   "file_extension": ".py",
   "mimetype": "text/x-python",
   "name": "python",
   "nbconvert_exporter": "python",
   "pygments_lexer": "ipython3",
   "version": "3.6.8"
  }
 },
 "nbformat": 4,
 "nbformat_minor": 2
}
