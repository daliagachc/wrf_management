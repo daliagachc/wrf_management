{
 "cells": [
  {
   "cell_type": "code",
   "execution_count": 4,
   "metadata": {},
   "outputs": [],
   "source": [
    "import useful_scit.plot.plot\n",
    "from useful_scit.imps import *"
   ]
  },
  {
   "cell_type": "code",
   "execution_count": 7,
   "metadata": {},
   "outputs": [
    {
     "data": {
      "text/plain": [
       "<module 'useful_scit.plot' from '/homeappl/home/aliagadi/useful-scit/useful_scit/plot/__init__.py'>"
      ]
     },
     "execution_count": 7,
     "metadata": {},
     "output_type": "execute_result"
    }
   ],
   "source": [
    "ucp."
   ]
  },
  {
   "cell_type": "code",
   "execution_count": 8,
   "metadata": {},
   "outputs": [
    {
     "ename": "AttributeError",
     "evalue": "module 'useful_scit.plot.plot' has no attribute 'proj_plat_carree'",
     "output_type": "error",
     "traceback": [
      "\u001b[0;31m---------------------------------------------------------------------------\u001b[0m",
      "\u001b[0;31mAttributeError\u001b[0m                            Traceback (most recent call last)",
      "\u001b[0;32m<ipython-input-8-9f6e6f00be21>\u001b[0m in \u001b[0;36m<module>\u001b[0;34m\u001b[0m\n\u001b[0;32m----> 1\u001b[0;31m \u001b[0museful_scit\u001b[0m\u001b[0;34m.\u001b[0m\u001b[0mplot\u001b[0m\u001b[0;34m.\u001b[0m\u001b[0mplot\u001b[0m\u001b[0;34m.\u001b[0m\u001b[0mproj_plat_carree\u001b[0m\u001b[0;34m(\u001b[0m\u001b[0;34m)\u001b[0m\u001b[0;34m\u001b[0m\u001b[0;34m\u001b[0m\u001b[0m\n\u001b[0m",
      "\u001b[0;31mAttributeError\u001b[0m: module 'useful_scit.plot.plot' has no attribute 'proj_plat_carree'"
     ]
    }
   ],
   "source": [
    "useful_scit.plot.plot.proj_plat_carree()"
   ]
  },
  {
   "cell_type": "code",
   "execution_count": 3,
   "metadata": {},
   "outputs": [
    {
     "data": {
      "text/plain": [
       "[[0.7752941176470588, 0.22078431372549023, 0.2262745098039215, 1],\n",
       " [0.29156862745098033, 0.48647058823529415, 0.645686274509804, 1],\n",
       " [0.35784313725490197, 0.6268627450980393, 0.3496078431372549, 1],\n",
       " [0.5590196078431375, 0.3558823529411764, 0.5892156862745098, 1],\n",
       " [0.85, 0.4986274509803922, 0.15000000000000002, 1],\n",
       " [0.5768627450980393, 0.35725490196078435, 0.23098039215686272, 1],\n",
       " [0.89921568627451, 0.5752941176470587, 0.7454901960784315, 1],\n",
       " [0.6, 0.6, 0.6, 1],\n",
       " [0.18294117647058816, 0.5425490196078432, 0.43549019607843137, 1],\n",
       " [0.7245098039215686, 0.38960784313725494, 0.13431372549019605, 1],\n",
       " [0.4923529411764706, 0.47862745098039217, 0.6625490196078431, 1],\n",
       " [0.7941176470588235, 0.27254901960784317, 0.5388235294117648, 1],\n",
       " [0.3952941176470589, 0.5709803921568628, 0.1976470588235294, 1],\n",
       " [0.7678431372549019, 0.6058823529411764, 0.1419607843137255, 1],\n",
       " [0.5703921568627451, 0.43862745098039213, 0.1943137254901961, 1]]"
      ]
     },
     "execution_count": 3,
     "metadata": {},
     "output_type": "execute_result"
    }
   ],
   "source": [
    "useful_scit.plot.plot.cc"
   ]
  },
  {
   "cell_type": "code",
   "execution_count": 4,
   "metadata": {},
   "outputs": [
    {
     "ename": "NameError",
     "evalue": "name 'ccrs' is not defined",
     "output_type": "error",
     "traceback": [
      "\u001b[0;31m---------------------------------------------------------------------------\u001b[0m",
      "\u001b[0;31mNameError\u001b[0m                                 Traceback (most recent call last)",
      "\u001b[0;32m<ipython-input-4-e69e351fd1a9>\u001b[0m in \u001b[0;36m<module>\u001b[0;34m\u001b[0m\n\u001b[0;32m----> 1\u001b[0;31m \u001b[0mccrs\u001b[0m\u001b[0;34m.\u001b[0m\u001b[0mPlateCarree\u001b[0m\u001b[0;34m(\u001b[0m\u001b[0;34m)\u001b[0m\u001b[0;34m\u001b[0m\u001b[0;34m\u001b[0m\u001b[0m\n\u001b[0m",
      "\u001b[0;31mNameError\u001b[0m: name 'ccrs' is not defined"
     ]
    }
   ],
   "source": [
    "ccrs.PlateCarree()"
   ]
  },
  {
   "cell_type": "code",
   "execution_count": null,
   "metadata": {},
   "outputs": [],
   "source": []
  }
 ],
 "metadata": {
  "jupytext": {
   "text_representation": {
    "extension": ".py",
    "format_name": "percent",
    "format_version": "1.2",
    "jupytext_version": "1.2.3"
   }
  },
  "kernelspec": {
   "display_name": "Python 3",
   "language": "python",
   "name": "python3"
  },
  "language_info": {
   "codemirror_mode": {
    "name": "ipython",
    "version": 3
   },
   "file_extension": ".py",
   "mimetype": "text/x-python",
   "name": "python",
   "nbconvert_exporter": "python",
   "pygments_lexer": "ipython3",
   "version": "3.6.9"
  }
 },
 "nbformat": 4,
 "nbformat_minor": 4
}
