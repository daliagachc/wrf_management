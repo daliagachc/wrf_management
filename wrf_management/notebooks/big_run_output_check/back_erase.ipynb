{
 "cells": [
  {
   "cell_type": "code",
   "execution_count": 90,
   "metadata": {},
   "outputs": [],
   "source": [
    "from useful_scit.imps import *\n",
    "import wrf \n",
    "from netCDF4 import Dataset\n",
    "from sklearn.cluster import KMeans"
   ]
  },
  {
   "cell_type": "code",
   "execution_count": 91,
   "metadata": {},
   "outputs": [],
   "source": [
    "path = '/Volumes/mbProD/Downloads/wrf_out_sample/wrfout_d04*'"
   ]
  },
  {
   "cell_type": "code",
   "execution_count": 92,
   "metadata": {},
   "outputs": [],
   "source": [
    "files = glob.glob(path)\n",
    "files.sort()\n",
    "ncs = [Dataset(f) for f in files]"
   ]
  },
  {
   "cell_type": "code",
   "execution_count": 93,
   "metadata": {},
   "outputs": [],
   "source": [
    "tc = wrf.getvar(ncs,'tc',timeidx=wrf.ALL_TIMES, method=\"cat\")"
   ]
  },
  {
   "cell_type": "code",
   "execution_count": 94,
   "metadata": {},
   "outputs": [],
   "source": [
    "z = wrf.getvar(ncs,'z',timeidx=wrf.ALL_TIMES, method=\"cat\")"
   ]
  },
  {
   "cell_type": "code",
   "execution_count": 95,
   "metadata": {},
   "outputs": [],
   "source": [
    "tc['height']=z"
   ]
  },
  {
   "cell_type": "code",
   "execution_count": 100,
   "metadata": {},
   "outputs": [],
   "source": [
    "tc_t = tc1 = tc.to_series()\n",
    "tc1 = tc1.unstack(level='Time')"
   ]
  },
  {
   "cell_type": "code",
   "execution_count": 102,
   "metadata": {},
   "outputs": [
    {
     "data": {
      "text/plain": [
       "<xarray.DataArray 'temp' (Time: 4, bottom_top: 49, south_north: 150, west_east: 153)>\n",
       "array([[[[ 10.626526, ...,   3.558044],\n",
       "         ...,\n",
       "         [  7.74411 , ...,  25.969208]],\n",
       "\n",
       "        ...,\n",
       "\n",
       "        [[-68.81813 , ..., -70.88298 ],\n",
       "         ...,\n",
       "         [-70.01167 , ..., -71.67766 ]]],\n",
       "\n",
       "\n",
       "       ...,\n",
       "\n",
       "\n",
       "       [[[ 10.400543, ...,   3.794403],\n",
       "         ...,\n",
       "         [  8.282043, ...,  25.995697]],\n",
       "\n",
       "        ...,\n",
       "\n",
       "        [[-69.141266, ..., -70.50749 ],\n",
       "         ...,\n",
       "         [-70.02533 , ..., -71.36795 ]]]], dtype=float32)\n",
       "Coordinates:\n",
       "    XLONG     (south_north, west_east) float32 -68.95856 -68.94759 ... -67.29216\n",
       "    XLAT      (south_north, west_east) float32 -17.15197 -17.15197 ... -15.58474\n",
       "    XTIME     (Time) float64 1.89e+04 1.892e+04 1.893e+04 1.894e+04\n",
       "  * Time      (Time) datetime64[ns] 2017-12-15T03:00:00 ... 2017-12-15T03:45:00\n",
       "    datetime  (Time) datetime64[ns] 2017-12-15T03:00:00 ... 2017-12-15T03:45:00\n",
       "    height    (Time, bottom_top, south_north, west_east) float32 3899.392 ... 20357.758\n",
       "Dimensions without coordinates: bottom_top, south_north, west_east\n",
       "Attributes:\n",
       "    FieldType:    104\n",
       "    MemoryOrder:  XYZ\n",
       "    description:  temperature\n",
       "    units:        degC\n",
       "    stagger:      \n",
       "    coordinates:  XLONG XLAT XTIME\n",
       "    projection:   Mercator(stand_lon=-66.30000305175781, moad_cen_lat=-17.000..."
      ]
     },
     "execution_count": 102,
     "metadata": {},
     "output_type": "execute_result"
    }
   ],
   "source": [
    "tc"
   ]
  },
  {
   "cell_type": "code",
   "execution_count": 8,
   "metadata": {},
   "outputs": [],
   "source": [
    "kmeans = KMeans(n_clusters=6, random_state=0).fit(tc1)"
   ]
  },
  {
   "cell_type": "code",
   "execution_count": 9,
   "metadata": {},
   "outputs": [],
   "source": [
    "tc1['lab']=kmeans.labels_"
   ]
  },
  {
   "cell_type": "code",
   "execution_count": 10,
   "metadata": {},
   "outputs": [],
   "source": [
    "lab_da = tc1['lab'].to_xarray()"
   ]
  },
  {
   "cell_type": "code",
   "execution_count": 83,
   "metadata": {},
   "outputs": [],
   "source": [
    "labs = tc1['lab'].unique()\n",
    "labs.sort()\n",
    "labs\n",
    "i = labs[5]"
   ]
  },
  {
   "cell_type": "code",
   "execution_count": 84,
   "metadata": {},
   "outputs": [
    {
     "data": {
      "text/plain": [
       "array([0, 1, 2, 3, 4, 5])"
      ]
     },
     "execution_count": 84,
     "metadata": {},
     "output_type": "execute_result"
    }
   ],
   "source": [
    "labs"
   ]
  },
  {
   "cell_type": "code",
   "execution_count": 85,
   "metadata": {},
   "outputs": [],
   "source": [
    "ti = tc.where(lab_da==i)"
   ]
  },
  {
   "cell_type": "code",
   "execution_count": 86,
   "metadata": {},
   "outputs": [],
   "source": [
    "ts = tc.to_dataset()"
   ]
  },
  {
   "cell_type": "code",
   "execution_count": 87,
   "metadata": {},
   "outputs": [],
   "source": [
    "ts['b_t']=ts.bottom_top"
   ]
  },
  {
   "cell_type": "code",
   "execution_count": 88,
   "metadata": {},
   "outputs": [],
   "source": [
    "tic=ti.count(dim=['Time','south_north','west_east'])"
   ]
  },
  {
   "cell_type": "code",
   "execution_count": 89,
   "metadata": {},
   "outputs": [
    {
     "data": {
      "text/plain": [
       "<xarray.Dataset>\n",
       "Dimensions:  ()\n",
       "Data variables:\n",
       "    temp     float64 12.41"
      ]
     },
     "execution_count": 89,
     "metadata": {},
     "output_type": "execute_result"
    }
   ],
   "source": [
    "(ts.b_t * tic).sum()/tic.sum()"
   ]
  },
  {
   "cell_type": "code",
   "execution_count": 17,
   "metadata": {},
   "outputs": [
    {
     "data": {
      "text/plain": [
       "[<matplotlib.lines.Line2D at 0x11e876b70>]"
      ]
     },
     "execution_count": 17,
     "metadata": {},
     "output_type": "execute_result"
    },
    {
     "data": {
      "image/png": "[encoded data removed]",
      "text/plain": [
       "<Figure size 432x288 with 2 Axes>"
      ]
     },
     "metadata": {
      "needs_background": "light"
     },
     "output_type": "display_data"
    },
    {
     "data": {
      "image/png": "[encoded data removed]",
      "text/plain": [
       "<Figure size 432x288 with 2 Axes>"
      ]
     },
     "metadata": {
      "needs_background": "light"
     },
     "output_type": "display_data"
    },
    {
     "data": {
      "image/png": "[encoded data removed]",
      "text/plain": [
       "<Figure size 432x288 with 2 Axes>"
      ]
     },
     "metadata": {
      "needs_background": "light"
     },
     "output_type": "display_data"
    },
    {
     "data": {
      "image/png": "[encoded data removed]",
      "text/plain": [
       "<Figure size 432x288 with 1 Axes>"
      ]
     },
     "metadata": {
      "needs_background": "light"
     },
     "output_type": "display_data"
    }
   ],
   "source": [
    "plt.subplots()\n",
    "ti.count(dim=['Time','bottom_top']).plot(x='XLONG',y='XLAT')\n",
    "plt.subplots()\n",
    "tii = ti.count(dim=['Time','west_east'])\n",
    "tii = tii.assign_coords(heights=ti.height.mean(dim=['Time','west_east']))\n",
    "tii = tii.assign_coords(XLAT=ti.XLAT.mean(dim=['west_east']))\n",
    "tii.plot(x='XLAT',y='heights')\n",
    "plt.subplots()\n",
    "dimx = 'south_north'\n",
    "tii = ti.count(dim=['Time',dimx])\n",
    "tii = tii.assign_coords(heights=ti.height.mean(dim=['Time',dimx]))\n",
    "tii = tii.assign_coords(XLONG=ti.XLONG.mean(dim=[dimx]))\n",
    "tii.plot(x='XLONG',y='heights')\n",
    "plt.subplots()\n",
    "ti.median(dim=['bottom_top','south_north','west_east']).plot()"
   ]
  },
  {
   "cell_type": "code",
   "execution_count": 18,
   "metadata": {},
   "outputs": [
    {
     "data": {
      "image/png": "[encoded data removed]",
      "text/plain": [
       "<Figure size 720x72 with 1 Axes>"
      ]
     },
     "metadata": {
      "needs_background": "light"
     },
     "output_type": "display_data"
    },
    {
     "data": {
      "text/plain": [
       "[(0.9575547866205305, 0.9575547866205305, 0.9575547866205305),\n",
       " (0.9012072279892349, 0.9012072279892349, 0.9012072279892349),\n",
       " (0.8328950403690888, 0.8328950403690888, 0.8328950403690888),\n",
       " (0.7502191464821223, 0.7502191464821223, 0.7502191464821223),\n",
       " (0.6434140715109573, 0.6434140715109573, 0.6434140715109573),\n",
       " (0.5387158785082661, 0.5387158785082661, 0.5387158785082661),\n",
       " (0.440322952710496, 0.440322952710496, 0.440322952710496),\n",
       " (0.342883506343714, 0.342883506343714, 0.342883506343714),\n",
       " (0.22329873125720878, 0.22329873125720878, 0.22329873125720878),\n",
       " (0.10469819300269129, 0.10469819300269129, 0.10469819300269129)]"
      ]
     },
     "execution_count": 18,
     "metadata": {},
     "output_type": "execute_result"
    }
   ],
   "source": [
    "sns.choose_colorbrewer_palette('s')"
   ]
  },
  {
   "cell_type": "code",
   "execution_count": 19,
   "metadata": {},
   "outputs": [
    {
     "data": {
      "text/plain": [
       "<xarray.DataArray 'temp' (bottom_top: 49, west_east: 153)>\n",
       "array([[576, 576, 576, ..., 104, 108, 140],\n",
       "       [576, 572, 572, ...,  96,  96, 124],\n",
       "       [568, 568, 572, ...,  96,  88, 112],\n",
       "       ...,\n",
       "       [  0,   0,   0, ...,   0,   0,   0],\n",
       "       [  0,   0,   0, ...,   0,   0,   0],\n",
       "       [  0,   0,   0, ...,   0,   0,   0]])\n",
       "Coordinates:\n",
       "  * bottom_top  (bottom_top) int64 0 1 2 3 4 5 6 7 8 ... 41 42 43 44 45 46 47 48\n",
       "  * west_east   (west_east) int64 0 1 2 3 4 5 6 ... 146 147 148 149 150 151 152\n",
       "    heights     (bottom_top, west_east) float32 3932.0017 3932.945 ... 20360.766\n",
       "    XLONG       (west_east) float32 -68.95861 -68.94757 ... -67.30311 -67.29207"
      ]
     },
     "execution_count": 19,
     "metadata": {},
     "output_type": "execute_result"
    }
   ],
   "source": [
    "tii"
   ]
  },
  {
   "cell_type": "code",
   "execution_count": 20,
   "metadata": {},
   "outputs": [
    {
     "data": {
      "text/plain": [
       "<xarray.DataArray 'temp' (bottom_top: 49, south_north: 150)>\n",
       "array([[612, 612, 612, ..., 160, 148, 136],\n",
       "       [604, 604, 600, ..., 164, 148, 140],\n",
       "       [600, 600, 600, ..., 168, 164, 144],\n",
       "       ...,\n",
       "       [  0,   0,   0, ...,   0,   0,   0],\n",
       "       [  0,   0,   0, ...,   0,   0,   0],\n",
       "       [  0,   0,   0, ...,   0,   0,   0]])\n",
       "Coordinates:\n",
       "  * bottom_top   (bottom_top) int64 0 1 2 3 4 5 6 7 ... 41 42 43 44 45 46 47 48\n",
       "  * south_north  (south_north) int64 0 1 2 3 4 5 6 ... 144 145 146 147 148 149"
      ]
     },
     "execution_count": 20,
     "metadata": {},
     "output_type": "execute_result"
    }
   ],
   "source": [
    "ti.count(dim=['Time','west_east'])"
   ]
  },
  {
   "cell_type": "code",
   "execution_count": 21,
   "metadata": {},
   "outputs": [
    {
     "data": {
      "text/plain": [
       "<xarray.DataArray 'height' (bottom_top: 49, south_north: 150)>\n",
       "array([[ 4039.3726,  4032.9175,  4024.1013, ...,  1897.5559,  1850.9321,\n",
       "         1799.6497],\n",
       "       [ 4092.3525,  4085.9119,  4077.1208, ...,  1954.5134,  1907.9873,\n",
       "         1856.8097],\n",
       "       [ 4158.4136,  4151.993 ,  4143.2407, ...,  2026.484 ,  1980.1011,\n",
       "         1929.0778],\n",
       "       ...,\n",
       "       [19506.846 , 19506.812 , 19506.764 , ..., 19498.732 , 19498.664 ,\n",
       "        19498.592 ],\n",
       "       [19938.027 , 19937.984 , 19937.922 , ..., 19929.744 , 19929.66  ,\n",
       "        19929.568 ],\n",
       "       [20373.297 , 20373.244 , 20373.166 , ..., 20364.035 , 20363.957 ,\n",
       "        20363.86  ]], dtype=float32)\n",
       "Coordinates:\n",
       "  * bottom_top   (bottom_top) int64 0 1 2 3 4 5 6 7 ... 41 42 43 44 45 46 47 48\n",
       "  * south_north  (south_north) int64 0 1 2 3 4 5 6 ... 144 145 146 147 148 149"
      ]
     },
     "execution_count": 21,
     "metadata": {},
     "output_type": "execute_result"
    }
   ],
   "source": [
    "ti.height.mean(dim=['Time','west_east'])"
   ]
  },
  {
   "cell_type": "code",
   "execution_count": null,
   "metadata": {},
   "outputs": [],
   "source": [
    "r,c = tc1.shape"
   ]
  },
  {
   "cell_type": "code",
   "execution_count": null,
   "metadata": {},
   "outputs": [],
   "source": [
    "print(r,c)"
   ]
  },
  {
   "cell_type": "code",
   "execution_count": null,
   "metadata": {},
   "outputs": [],
   "source": []
  },
  {
   "cell_type": "code",
   "execution_count": 9,
   "metadata": {},
   "outputs": [],
   "source": [
    "import rpy2\n",
    "import rpy2.robjects as robjects\n",
    "import rpy2.robjects.packages as rpackages"
   ]
  },
  {
   "cell_type": "code",
   "execution_count": 10,
   "metadata": {},
   "outputs": [],
   "source": [
    "rnc = rpackages.importr('NbClust')"
   ]
  },
  {
   "cell_type": "code",
   "execution_count": 19,
   "metadata": {},
   "outputs": [],
   "source": [
    "ii=10000\n",
    "m = robjects.r.matrix(\n",
    "    robjects.FloatVector(tc1[:ii*c].values.flatten()),\n",
    "    nrow=ii*c\n",
    ")"
   ]
  },
  {
   "cell_type": "code",
   "execution_count": null,
   "metadata": {},
   "outputs": [],
   "source": [
    "res = rnc.NbClust(m,distance = \"euclidean\",\n",
    "         method ='kmeans',**{'min.nc':2,'max.nc':3},\n",
    "           index=\"silhouette\")"
   ]
  },
  {
   "cell_type": "code",
   "execution_count": 1,
   "metadata": {},
   "outputs": [
    {
     "ename": "NameError",
     "evalue": "name 'res' is not defined",
     "output_type": "error",
     "traceback": [
      "\u001b[0;31m---------------------------------------------------------------------------\u001b[0m",
      "\u001b[0;31mNameError\u001b[0m                                 Traceback (most recent call last)",
      "\u001b[0;32m<ipython-input-1-c08785e04264>\u001b[0m in \u001b[0;36m<module>\u001b[0;34m\u001b[0m\n\u001b[0;32m----> 1\u001b[0;31m \u001b[0mres\u001b[0m\u001b[0;34m\u001b[0m\u001b[0;34m\u001b[0m\u001b[0m\n\u001b[0m",
      "\u001b[0;31mNameError\u001b[0m: name 'res' is not defined"
     ]
    }
   ],
   "source": [
    "res"
   ]
  },
  {
   "cell_type": "code",
   "execution_count": 2,
   "metadata": {},
   "outputs": [
    {
     "data": {
      "text/plain": [
       "2"
      ]
     },
     "execution_count": 2,
     "metadata": {},
     "output_type": "execute_result"
    }
   ],
   "source": [
    "a"
   ]
  },
  {
   "cell_type": "code",
   "execution_count": 3,
   "metadata": {},
   "outputs": [
    {
     "ename": "NameError",
     "evalue": "name 'res' is not defined",
     "output_type": "error",
     "traceback": [
      "\u001b[0;31m---------------------------------------------------------------------------\u001b[0m",
      "\u001b[0;31mNameError\u001b[0m                                 Traceback (most recent call last)",
      "\u001b[0;32m<ipython-input-3-a90dea80f461>\u001b[0m in \u001b[0;36m<module>\u001b[0;34m\u001b[0m\n\u001b[0;32m----> 1\u001b[0;31m \u001b[0mprint\u001b[0m\u001b[0;34m(\u001b[0m\u001b[0mres\u001b[0m\u001b[0;34m)\u001b[0m\u001b[0;34m\u001b[0m\u001b[0;34m\u001b[0m\u001b[0m\n\u001b[0m",
      "\u001b[0;31mNameError\u001b[0m: name 'res' is not defined"
     ]
    }
   ],
   "source": [
    "print(res)"
   ]
  },
  {
   "cell_type": "code",
   "execution_count": null,
   "metadata": {},
   "outputs": [],
   "source": []
  }
 ],
 "metadata": {
  "jupytext": {
   "text_representation": {
    "extension": ".py",
    "format_name": "percent",
    "format_version": "1.2",
    "jupytext_version": "1.1.3"
   }
  },
  "kernelspec": {
   "display_name": "Python 3",
   "language": "python",
   "name": "python3"
  },
  "language_info": {
   "codemirror_mode": {
    "name": "ipython",
    "version": 3
   },
   "file_extension": ".py",
   "mimetype": "text/x-python",
   "name": "python",
   "nbconvert_exporter": "python",
   "pygments_lexer": "ipython3",
   "version": "3.6.8"
  }
 },
 "nbformat": 4,
 "nbformat_minor": 2
}
