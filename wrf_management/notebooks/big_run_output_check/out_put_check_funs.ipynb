{
 "cells": [
  {
   "cell_type": "code",
   "execution_count": 1,
   "metadata": {},
   "outputs": [],
   "source": [
    "from useful_scit.imps import *\n",
    "import wrf \n",
    "from netCDF4 import Dataset\n",
    "from sklearn.cluster import KMeans"
   ]
  },
  {
   "cell_type": "code",
   "execution_count": 8,
   "metadata": {},
   "outputs": [],
   "source": [
    "def import_ds(path,var):\n",
    "    files = glob.glob(path)\n",
    "    files.sort()\n",
    "    ncs = [Dataset(f) for f in files]\n",
    "    tc = wrf.getvar(ncs,'tc',timeidx=wrf.ALL_TIMES, method=\"cat\")\n",
    "    z = wrf.getvar(ncs,'z',timeidx=wrf.ALL_TIMES, method=\"cat\")\n",
    "    tc['height']=z\n",
    "    ds = tc.to_dataset()\n",
    "    return ds\n",
    "    "
   ]
  },
  {
   "cell_type": "code",
   "execution_count": 307,
   "metadata": {},
   "outputs": [],
   "source": [
    "def cluster_ds_raw(ds, clus_num, var, var_name):\n",
    "    tc1 = ds[var_name].to_series()\n",
    "    tc1 = tc1.unstack(level='Time').dropna(axis=0,how='all')\n",
    "    kmeans = KMeans(n_clusters=clus_num, random_state=0).fit(tc1)\n",
    "    tc1['lab']=kmeans.labels_\n",
    "    lab_da = tc1['lab'].to_xarray()\n",
    "    labs = tc1['lab'].unique()\n",
    "    labs.sort()\n",
    "    labs\n",
    "    ds['clus_lab'] = lab_da\n",
    "    return {'ds':ds, 'labs':labs} "
   ]
  },
  {
   "cell_type": "code",
   "execution_count": 86,
   "metadata": {},
   "outputs": [],
   "source": [
    "def find_bot_top(ds,i):\n",
    "    dsi = ds[var_name].where(ds['clus_lab']==i)\n",
    "    dsi\n",
    "    b_t = ds.bottom_top\n",
    "    dic = dsi.count(dim=['Time','south_north','west_east'])\n",
    "    bot_top_val = (b_t*dic).sum()/dic.sum()\n",
    "    bot_top_val\n",
    "    return i , bot_top_val"
   ]
  },
  {
   "cell_type": "code",
   "execution_count": 260,
   "metadata": {},
   "outputs": [],
   "source": [
    "def get_sorted_labs(ds,labs):\n",
    "    lab_dic = {}\n",
    "    for i in labs:\n",
    "        nn,tb = find_bot_top(ds,i)\n",
    "        lab_dic[i]= float(tb)\n",
    "    df = pd.DataFrame(lab_dic,['bt']).T\n",
    "    df['old_lab']=df.index\n",
    "    df=df.sort_values('bt').reset_index(drop=True)\n",
    "    df['new_lab']=df.index\n",
    "    return df"
   ]
  },
  {
   "cell_type": "code",
   "execution_count": 244,
   "metadata": {},
   "outputs": [],
   "source": [
    "def ds_fix_cluster_lab(ds_i,df):\n",
    "    ds = ds_i.copy()\n",
    "    ds['old_lab'] = ds.clus_lab.copy()\n",
    "    ds['new_lab'] = ds.clus_lab.copy()\n",
    "    for l,r in df.iterrows():\n",
    "        ds['i'] = r.new_lab\n",
    "        ds['new_lab']= ds['i'].where(ds.old_lab==r.old_lab,ds['new_lab'])\n",
    "    ds = ds.drop(['old_lab','i'])\n",
    "    ds['new_lab']=ds.new_lab.astype(int)\n",
    "    return ds"
   ]
  },
  {
   "cell_type": "code",
   "execution_count": 224,
   "metadata": {},
   "outputs": [],
   "source": [
    "def cluster_ds(path, clus_num, var, var_name):\n",
    "    ds = import_ds(path,var)\n",
    "    res = cluster_ds_raw(ds,clus_num,var, var_name)\n",
    "    ds = res['ds']\n",
    "    labs = res['labs'] \n",
    "    df = get_sorted_labs(ds,labs)\n",
    "    ds1 = ds_fix_cluster_lab(ds,df)\n",
    "    return ds1 \n",
    "\n",
    "    \n",
    "    "
   ]
  },
  {
   "cell_type": "code",
   "execution_count": 349,
   "metadata": {},
   "outputs": [
    {
     "data": {
      "text/plain": [
       "<matplotlib.image.AxesImage at 0x13b25f828>"
      ]
     },
     "execution_count": 349,
     "metadata": {},
     "output_type": "execute_result"
    },
    {
     "data": {
      "image/png": "[encoded data removed]",
      "text/plain": [
       "<Figure size 432x288 with 2 Axes>"
      ]
     },
     "metadata": {
      "needs_background": "light"
     },
     "output_type": "display_data"
    }
   ],
   "source": [
    "cmap=matplotlib.colors.ListedColormap(sns.color_palette('Greys',18))\n",
    "dsi = ds2[var_name].where(ds2.clus_lab==i)\n",
    "plt.subplots()\n",
    "dsc = dsi.count(dim=['Time','bottom_top'])\n",
    "dsc.name = 'counts'\n",
    "dsc.plot.imshow(vmin=0,vmax=tot_max,\n",
    "                cmap=cmap)"
   ]
  },
  {
   "cell_type": "code",
   "execution_count": 337,
   "metadata": {},
   "outputs": [],
   "source": [
    "tot = ds2[var_name].count()\n",
    "tot_max = ds2[var_name].count(dim=['Time','bottom_top']).max()\n",
    "grid_max = dsc.max()"
   ]
  },
  {
   "cell_type": "code",
   "execution_count": 339,
   "metadata": {},
   "outputs": [
    {
     "data": {
      "text/plain": [
       "<xarray.DataArray 'temp' ()>\n",
       "array(60)"
      ]
     },
     "execution_count": 339,
     "metadata": {},
     "output_type": "execute_result"
    }
   ],
   "source": [
    "tot_max"
   ]
  },
  {
   "cell_type": "code",
   "execution_count": 341,
   "metadata": {},
   "outputs": [
    {
     "data": {
      "application/vnd.jupyter.widget-view+json": {
       "model_id": "2ffec01a6f184670b5a49b3e473b0970",
       "version_major": 2,
       "version_minor": 0
      },
      "text/plain": [
       "interactive(children=(Dropdown(description='name', options=('RdBu', 'RdGy', 'PRGn', 'PiYG', 'BrBG', 'RdYlBu', …"
      ]
     },
     "metadata": {},
     "output_type": "display_data"
    },
    {
     "data": {
      "text/plain": [
       "[(0.6922722029988467, 0.09227220299884642, 0.16770472895040373),\n",
       " (0.8392156862745099, 0.376470588235294, 0.3019607843137253),\n",
       " (0.9545559400230679, 0.641753171856978, 0.5057285659361783),\n",
       " (0.9921568627450982, 0.8588235294117645, 0.7803921568627449),\n",
       " (0.9657054978854286, 0.9672433679354094, 0.9680891964628989),\n",
       " (0.8196078431372551, 0.8980392156862745, 0.9411764705882353),\n",
       " (0.5664744329104192, 0.7687043444828916, 0.8685121107266438),\n",
       " (0.26274509803921564, 0.576470588235294, 0.7647058823529411),\n",
       " (0.1272587466359093, 0.39584775086505203, 0.6687427912341407)]"
      ]
     },
     "execution_count": 341,
     "metadata": {},
     "output_type": "execute_result"
    }
   ],
   "source": [
    "sns.choose_colorbrewer_palette('d')"
   ]
  },
  {
   "cell_type": "code",
   "execution_count": 346,
   "metadata": {},
   "outputs": [],
   "source": [
    "cmBuRd = mpl.colors.ListedColormap(sns.color_palette('RdBu_r',18))"
   ]
  },
  {
   "cell_type": "code",
   "execution_count": null,
   "metadata": {},
   "outputs": [],
   "source": []
  }
 ],
 "metadata": {
  "jupytext": {
   "text_representation": {
    "extension": ".py",
    "format_name": "percent",
    "format_version": "1.2",
    "jupytext_version": "1.1.3"
   }
  },
  "kernelspec": {
   "display_name": "Python 3",
   "language": "python",
   "name": "python3"
  },
  "language_info": {
   "codemirror_mode": {
    "name": "ipython",
    "version": 3
   },
   "file_extension": ".py",
   "mimetype": "text/x-python",
   "name": "python",
   "nbconvert_exporter": "python",
   "pygments_lexer": "ipython3",
   "version": "3.6.8"
  }
 },
 "nbformat": 4,
 "nbformat_minor": 2
}
