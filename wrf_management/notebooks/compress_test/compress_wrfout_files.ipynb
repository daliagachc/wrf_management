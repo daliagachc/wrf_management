{
 "cells": [
  {
   "cell_type": "code",
   "execution_count": 2,
   "metadata": {},
   "outputs": [],
   "source": [
    "%load_ext autoreload\n",
    "%autoreload 2"
   ]
  },
  {
   "cell_type": "code",
   "execution_count": 3,
   "metadata": {},
   "outputs": [],
   "source": [
    "from useful_scit.imps import * \n",
    "import useful_scit.util.zarray as za"
   ]
  },
  {
   "cell_type": "code",
   "execution_count": 4,
   "metadata": {},
   "outputs": [],
   "source": [
    "import wrf_management.modules.CompressOut as CO\n",
    "import sqlite3\n"
   ]
  },
  {
   "cell_type": "code",
   "execution_count": 5,
   "metadata": {},
   "outputs": [
    {
     "name": "stderr",
     "output_type": "stream",
     "text": [
      "2019-06-19 02:13:29,162 - DEBUG - creating db table\n",
      "2019-06-19 02:13:29,169 - DEBUG - file table already exist in db\n"
     ]
    }
   ],
   "source": [
    "# path  = '/Volumes/mbProD/Downloads/wrf_test_d01/'\n",
    "pc = 'taito'\n",
    "# pc = 'mac'\n",
    "\n",
    "if pc is 'taito':\n",
    "    path = '/proj/atm/saltena/runs/run_2019_05_15/wrf'\n",
    "    path_out  = '/proj/atm/saltena/runs/run_2019_05_15/wrf_compressed'\n",
    "    db_path = os.path.join(path_out,'zip.sqlite')\n",
    "    patt = '2017-12-0*'\n",
    "    wrfout_patt = 'wrfout'\n",
    "    \n",
    "if pc is 'taito':\n",
    "    path = '/homeappl/home/aliagadi/wrk/DONOTREMOVE/flexpart_management_data/runs/run_2019-06-18_17-40-56_/2017-12-08'\n",
    "    path_out  = os.path.join(path,'.compressed_log')\n",
    "    db_path = os.path.join(path_out,'zip.sqlite')\n",
    "    patt = '*.nc'\n",
    "    wrfout_patt = ''\n",
    "    date_pattern = ''\n",
    "    \n",
    "if pc is 'taito':\n",
    "    path = '/proj/atm/saltena/runs/run_2019_03_01/wrf'\n",
    "    path_out  = os.path.join(path,'wrf_compressed')\n",
    "    db_path = os.path.join(path_out,'zip.sqlite')\n",
    "    patt = ''\n",
    "    wrfout_patt = 'wrfout'\n",
    "    \n",
    "if pc is 'mac':\n",
    "    path = '/Volumes/mbProD/Downloads/wrf_test_d01/'\n",
    "    path_out  = '/private/tmp/co_out/'\n",
    "    db_path = os.path.join(path_out,'zip.sqlite')\n",
    "    patt = 'd01*'\n",
    "    wrfout_patt = 'wrfout'\n",
    "self = CO.Compresser(path,path_out,db_path,pattern=patt,wrfout_patt=wrfout_patt,lock_last_date=False)"
   ]
  },
  {
   "cell_type": "code",
   "execution_count": 62,
   "metadata": {},
   "outputs": [],
   "source": [
    "# self.drop_files_table()"
   ]
  },
  {
   "cell_type": "code",
   "execution_count": 67,
   "metadata": {},
   "outputs": [
    {
     "name": "stderr",
     "output_type": "stream",
     "text": [
      "2019-06-18 19:49:37,376 - DEBUG - compressing:wrfout_d01_2017-12-25_00:00:00\n",
      "2019-06-18 19:49:47,053 - DEBUG - compressing:wrfout_d01_2017-12-25_01:00:00\n",
      "2019-06-18 19:49:57,185 - DEBUG - compressing:wrfout_d01_2017-12-25_02:00:00\n",
      "2019-06-18 19:50:07,698 - DEBUG - compressing:wrfout_d01_2017-12-25_03:00:00\n",
      "2019-06-18 19:50:17,415 - DEBUG - compressing:wrfout_d01_2017-12-25_04:00:00\n",
      "2019-06-18 19:50:27,097 - DEBUG - compressing:wrfout_d01_2017-12-25_05:00:00\n",
      "2019-06-18 19:50:36,855 - DEBUG - compressing:wrfout_d01_2017-12-25_06:00:00\n",
      "2019-06-18 19:50:46,616 - DEBUG - compressing:wrfout_d01_2017-12-25_08:00:00\n",
      "2019-06-18 19:51:05,661 - DEBUG - compressing:wrfout_d01_2017-12-25_10:00:00\n",
      "2019-06-18 19:51:24,094 - DEBUG - compressing:wrfout_d01_2017-12-25_12:00:00\n",
      "2019-06-18 19:51:42,638 - DEBUG - compressing:wrfout_d01_2017-12-25_14:00:00\n",
      "2019-06-18 19:52:01,195 - DEBUG - compressing:wrfout_d01_2017-12-25_16:00:00\n",
      "2019-06-18 19:52:19,956 - DEBUG - compressing:wrfout_d01_2017-12-25_18:00:00\n",
      "2019-06-18 19:52:38,514 - CRITICAL - we are done! no more files to compress\n"
     ]
    },
    {
     "ename": "SystemExit",
     "evalue": "0",
     "output_type": "error",
     "traceback": [
      "An exception has occurred, use %tb to see the full traceback.\n",
      "\u001b[0;31mSystemExit\u001b[0m\u001b[0;31m:\u001b[0m 0\n"
     ]
    },
    {
     "name": "stderr",
     "output_type": "stream",
     "text": [
      "/Users/diego/miniconda3/envs/b36/lib/python3.6/site-packages/IPython/core/interactiveshell.py:3304: UserWarning: To exit: use 'exit', 'quit', or Ctrl-D.\n",
      "  warn(\"To exit: use 'exit', 'quit', or Ctrl-D.\", stacklevel=1)\n"
     ]
    }
   ],
   "source": [
    "self.reset_locks()\n",
    "while True:\n",
    "    self.get_and_zip_next_row(move=True)"
   ]
  },
  {
   "cell_type": "code",
   "execution_count": null,
   "metadata": {},
   "outputs": [],
   "source": []
  }
 ],
 "metadata": {
  "jupytext": {
   "text_representation": {
    "extension": ".py",
    "format_name": "percent",
    "format_version": "1.2",
    "jupytext_version": "1.1.3"
   }
  },
  "kernelspec": {
   "display_name": "Python 3",
   "language": "python",
   "name": "python3"
  },
  "language_info": {
   "codemirror_mode": {
    "name": "ipython",
    "version": 3
   },
   "file_extension": ".py",
   "mimetype": "text/x-python",
   "name": "python",
   "nbconvert_exporter": "python",
   "pygments_lexer": "ipython3",
   "version": "3.6.8"
  }
 },
 "nbformat": 4,
 "nbformat_minor": 2
}
