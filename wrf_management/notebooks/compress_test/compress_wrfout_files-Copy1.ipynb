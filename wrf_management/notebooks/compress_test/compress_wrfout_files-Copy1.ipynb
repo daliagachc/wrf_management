{
 "cells": [
  {
   "cell_type": "code",
   "execution_count": null,
   "metadata": {},
   "outputs": [],
   "source": [
    "%load_ext autoreload\n",
    "%autoreload 2"
   ]
  },
  {
   "cell_type": "code",
   "execution_count": 2,
   "metadata": {},
   "outputs": [],
   "source": [
    "from useful_scit.imps import * \n",
    "import useful_scit.util.zarray as za"
   ]
  },
  {
   "cell_type": "code",
   "execution_count": 3,
   "metadata": {
    "lines_to_next_cell": 2
   },
   "outputs": [],
   "source": [
    "import wrf_management.modules.CompressOut as CO\n",
    "import sqlite3"
   ]
  },
  {
   "cell_type": "code",
   "execution_count": 45,
   "metadata": {},
   "outputs": [
    {
     "name": "stderr",
     "output_type": "stream",
     "text": [
      "2019-06-19 16:33:53,657 - DEBUG - number of files is 80\n",
      "2019-06-19 16:33:53,667 - DEBUG - number of file remaining after dropping symlinks is 20\n",
      "2019-06-19 16:33:56,563 - DEBUG - number of file remaining after dropping not cdf files is 20\n",
      "2019-06-19 16:33:59,857 - DEBUG - number of files with compress level lower than target is 0\n",
      "2019-06-19 16:33:59,857 - CRITICAL - all files already compressed or no files matched pattern. exiting\n"
     ]
    },
    {
     "ename": "SystemExit",
     "evalue": "1",
     "output_type": "error",
     "traceback": [
      "An exception has occurred, use %tb to see the full traceback.\n",
      "\u001b[0;31mSystemExit\u001b[0m\u001b[0;31m:\u001b[0m 1\n"
     ]
    },
    {
     "name": "stderr",
     "output_type": "stream",
     "text": [
      "/Users/diego/miniconda3/envs/b36/lib/python3.6/site-packages/IPython/core/interactiveshell.py:3304: UserWarning: To exit: use 'exit', 'quit', or Ctrl-D.\n",
      "  warn(\"To exit: use 'exit', 'quit', or Ctrl-D.\", stacklevel=1)\n"
     ]
    }
   ],
   "source": [
    "# path  = '/Volumes/mbProD/Downloads/wrf_test_d01/'\n",
    "pc = 'taito'\n",
    "pc = 'mac'\n",
    "\n",
    "if pc is 'taito':\n",
    "    path = '/proj/atm/saltena/runs/run_2019_05_15/wrf'\n",
    "    path_out  = '/proj/atm/saltena/runs/run_2019_05_15/wrf_compressed'\n",
    "    db_path = os.path.join(path_out,'zip.sqlite')\n",
    "    patt = '2017-12-0*'\n",
    "    last_date_lock = True\n",
    "    \n",
    "if pc is 'mac':\n",
    "    path = '/Volumes/mbProD/Downloads/wrf_test_d01/'\n",
    "    path_out  = '/private/tmp/co_out/'\n",
    "    db_path = os.path.join(path_out,'zip.sqlite')\n",
    "    patt = 'd0*'\n",
    "    last_date_lock = False\n",
    "self = CO.Compresser(path,\n",
    "                     path_out,\n",
    "                     db_path,\n",
    "                     pattern=patt, \n",
    "                     lock_last_date = last_date_lock,\n",
    "                     source_path_is_file=False\n",
    "                    )"
   ]
  },
  {
   "cell_type": "code",
   "execution_count": 5,
   "metadata": {},
   "outputs": [],
   "source": [
    "row = self.compress_out_df.iloc[0]"
   ]
  },
  {
   "cell_type": "code",
   "execution_count": 9,
   "metadata": {},
   "outputs": [
    {
     "name": "stderr",
     "output_type": "stream",
     "text": [
      "2019-06-19 02:03:32,805 - DEBUG - compressing:wrfout_d01_2017-12-25_04:00:00\n",
      "2019-06-19 02:03:47,217 - DEBUG - {'moving /private/tmp/co_out/wrfout_d01_2017-12-25_04:00:00 to /Volumes/mbProD/Downloads/wrf_test_d01/wrfout_d01_2017-12-25_04:00:00'}\n",
      "2019-06-19 02:03:49,483 - DEBUG - double check fine. deleting /private/tmp/co_out/wrfout_d01_2017-12-25_04:00:00_source_back_up\n"
     ]
    }
   ],
   "source": [
    "self.get_and_zip_next_row(move=True)"
   ]
  },
  {
   "cell_type": "code",
   "execution_count": 100,
   "metadata": {},
   "outputs": [],
   "source": [
    "self.merge_update_dfs()"
   ]
  },
  {
   "cell_type": "code",
   "execution_count": 101,
   "metadata": {},
   "outputs": [],
   "source": [
    "\n",
    "query = f'''\n",
    "    select {CO.DATE_COL} from {self.files_table_name}\n",
    "    order by {CO.DATE_COL} desc limit 1\n",
    "    '''\n",
    "with sqlite3.connect(self.db_path) as con:\n",
    "    last_date = pd.read_sql_query(query,con).iloc[0][CO.DATE_COL]\n",
    "    "
   ]
  },
  {
   "cell_type": "code",
   "execution_count": 102,
   "metadata": {},
   "outputs": [
    {
     "data": {
      "text/plain": [
       "1514228400000000000"
      ]
     },
     "execution_count": 102,
     "metadata": {},
     "output_type": "execute_result"
    }
   ],
   "source": [
    "last_date"
   ]
  },
  {
   "cell_type": "code",
   "execution_count": 97,
   "metadata": {},
   "outputs": [],
   "source": [
    "query = f'''\n",
    "    delete from {self.files_table_name} where {CO.DATE_COL}=={last_date}\n",
    "    '''\n",
    "with sqlite3.connect(self.db_path) as con:\n",
    "    cursor = con.cursor()\n",
    "    cursor.execute(query)\n",
    "    con.commit()\n"
   ]
  },
  {
   "cell_type": "code",
   "execution_count": null,
   "metadata": {},
   "outputs": [],
   "source": []
  },
  {
   "cell_type": "code",
   "execution_count": 8,
   "metadata": {},
   "outputs": [
    {
     "name": "stderr",
     "output_type": "stream",
     "text": [
      "2019-06-18 19:50:45,963 - DEBUG - compressing:wrfout_d01_2017-12-25_07:00:00\n",
      "2019-06-18 19:51:05,022 - DEBUG - compressing:wrfout_d01_2017-12-25_09:00:00\n",
      "2019-06-18 19:51:23,442 - DEBUG - compressing:wrfout_d01_2017-12-25_11:00:00\n",
      "2019-06-18 19:51:41,827 - DEBUG - compressing:wrfout_d01_2017-12-25_13:00:00\n",
      "2019-06-18 19:52:00,474 - DEBUG - compressing:wrfout_d01_2017-12-25_15:00:00\n",
      "2019-06-18 19:52:19,262 - DEBUG - compressing:wrfout_d01_2017-12-25_17:00:00\n",
      "2019-06-18 19:52:37,954 - DEBUG - compressing:wrfout_d01_2017-12-25_19:00:00\n",
      "2019-06-18 19:52:47,720 - CRITICAL - we are done! no more files to compress\n"
     ]
    },
    {
     "ename": "SystemExit",
     "evalue": "0",
     "output_type": "error",
     "traceback": [
      "An exception has occurred, use %tb to see the full traceback.\n",
      "\u001b[0;31mSystemExit\u001b[0m\u001b[0;31m:\u001b[0m 0\n"
     ]
    },
    {
     "name": "stderr",
     "output_type": "stream",
     "text": [
      "/Users/diego/miniconda3/envs/b36/lib/python3.6/site-packages/IPython/core/interactiveshell.py:3304: UserWarning: To exit: use 'exit', 'quit', or Ctrl-D.\n",
      "  warn(\"To exit: use 'exit', 'quit', or Ctrl-D.\", stacklevel=1)\n"
     ]
    }
   ],
   "source": [
    "while True:\n",
    "    self.get_and_zip_next_row()"
   ]
  },
  {
   "cell_type": "code",
   "execution_count": 9,
   "metadata": {},
   "outputs": [
    {
     "ename": "NameError",
     "evalue": "name 'sadf' is not defined",
     "output_type": "error",
     "traceback": [
      "\u001b[0;31m---------------------------------------------------------------------------\u001b[0m",
      "\u001b[0;31mNameError\u001b[0m                                 Traceback (most recent call last)",
      "\u001b[0;32m<ipython-input-9-baca1840028f>\u001b[0m in \u001b[0;36m<module>\u001b[0;34m\u001b[0m\n\u001b[0;32m----> 1\u001b[0;31m \u001b[0msadf\u001b[0m\u001b[0;34m\u001b[0m\u001b[0;34m\u001b[0m\u001b[0m\n\u001b[0m",
      "\u001b[0;31mNameError\u001b[0m: name 'sadf' is not defined"
     ]
    }
   ],
   "source": [
    "sadf"
   ]
  },
  {
   "cell_type": "code",
   "execution_count": 15,
   "metadata": {},
   "outputs": [
    {
     "name": "stderr",
     "output_type": "stream",
     "text": [
      "2019-06-19 12:13:02,301 - DEBUG - ['srun', '-t', '20', '-p', 'serial', '-c', '1', '--mem', '4000', 'hola']\n"
     ]
    },
    {
     "ename": "FileNotFoundError",
     "evalue": "[Errno 2] No such file or directory: 'srun': 'srun'",
     "output_type": "error",
     "traceback": [
      "\u001b[0;31m---------------------------------------------------------------------------\u001b[0m",
      "\u001b[0;31mFileNotFoundError\u001b[0m                         Traceback (most recent call last)",
      "\u001b[0;32m<ipython-input-15-0fcbe130d1fd>\u001b[0m in \u001b[0;36m<module>\u001b[0;34m\u001b[0m\n\u001b[0;32m----> 1\u001b[0;31m \u001b[0mCO\u001b[0m\u001b[0;34m.\u001b[0m\u001b[0mrun_srun\u001b[0m\u001b[0;34m(\u001b[0m\u001b[0;34m'hola'\u001b[0m\u001b[0;34m,\u001b[0m\u001b[0mtime_minutes\u001b[0m\u001b[0;34m=\u001b[0m\u001b[0;36m20\u001b[0m\u001b[0;34m,\u001b[0m\u001b[0mmemory\u001b[0m\u001b[0;34m=\u001b[0m\u001b[0;36m4000\u001b[0m\u001b[0;34m,\u001b[0m\u001b[0mparallel_type\u001b[0m\u001b[0;34m=\u001b[0m\u001b[0;34m'serial'\u001b[0m\u001b[0;34m,\u001b[0m\u001b[0mn_cpus\u001b[0m\u001b[0;34m=\u001b[0m\u001b[0;36m1\u001b[0m\u001b[0;34m)\u001b[0m\u001b[0;34m\u001b[0m\u001b[0;34m\u001b[0m\u001b[0m\n\u001b[0m",
      "\u001b[0;32m~/wrf_management/wrf_management/modules/CompressOut.py\u001b[0m in \u001b[0;36mrun_srun\u001b[0;34m(exe, time_minutes, memory, parallel_type, n_cpus, message)\u001b[0m\n\u001b[1;32m    343\u001b[0m            ]\n\u001b[1;32m    344\u001b[0m     \u001b[0mlogging\u001b[0m\u001b[0;34m.\u001b[0m\u001b[0mdebug\u001b[0m\u001b[0;34m(\u001b[0m\u001b[0mcmd\u001b[0m\u001b[0;34m)\u001b[0m\u001b[0;34m\u001b[0m\u001b[0;34m\u001b[0m\u001b[0m\n\u001b[0;32m--> 345\u001b[0;31m     \u001b[0msubprocess\u001b[0m\u001b[0;34m.\u001b[0m\u001b[0mPopen\u001b[0m\u001b[0;34m(\u001b[0m\u001b[0mcmd\u001b[0m\u001b[0;34m)\u001b[0m\u001b[0;34m\u001b[0m\u001b[0;34m\u001b[0m\u001b[0m\n\u001b[0m\u001b[1;32m    346\u001b[0m     \u001b[0;32mreturn\u001b[0m \u001b[0mcmd\u001b[0m\u001b[0;34m\u001b[0m\u001b[0;34m\u001b[0m\u001b[0m\n",
      "\u001b[0;32m~/miniconda3/envs/b36/lib/python3.6/subprocess.py\u001b[0m in \u001b[0;36m__init__\u001b[0;34m(self, args, bufsize, executable, stdin, stdout, stderr, preexec_fn, close_fds, shell, cwd, env, universal_newlines, startupinfo, creationflags, restore_signals, start_new_session, pass_fds, encoding, errors)\u001b[0m\n\u001b[1;32m    727\u001b[0m                                 \u001b[0mc2pread\u001b[0m\u001b[0;34m,\u001b[0m \u001b[0mc2pwrite\u001b[0m\u001b[0;34m,\u001b[0m\u001b[0;34m\u001b[0m\u001b[0;34m\u001b[0m\u001b[0m\n\u001b[1;32m    728\u001b[0m                                 \u001b[0merrread\u001b[0m\u001b[0;34m,\u001b[0m \u001b[0merrwrite\u001b[0m\u001b[0;34m,\u001b[0m\u001b[0;34m\u001b[0m\u001b[0;34m\u001b[0m\u001b[0m\n\u001b[0;32m--> 729\u001b[0;31m                                 restore_signals, start_new_session)\n\u001b[0m\u001b[1;32m    730\u001b[0m         \u001b[0;32mexcept\u001b[0m\u001b[0;34m:\u001b[0m\u001b[0;34m\u001b[0m\u001b[0;34m\u001b[0m\u001b[0m\n\u001b[1;32m    731\u001b[0m             \u001b[0;31m# Cleanup if the child failed starting.\u001b[0m\u001b[0;34m\u001b[0m\u001b[0;34m\u001b[0m\u001b[0;34m\u001b[0m\u001b[0m\n",
      "\u001b[0;32m~/miniconda3/envs/b36/lib/python3.6/subprocess.py\u001b[0m in \u001b[0;36m_execute_child\u001b[0;34m(self, args, executable, preexec_fn, close_fds, pass_fds, cwd, env, startupinfo, creationflags, shell, p2cread, p2cwrite, c2pread, c2pwrite, errread, errwrite, restore_signals, start_new_session)\u001b[0m\n\u001b[1;32m   1362\u001b[0m                         \u001b[0;32mif\u001b[0m \u001b[0merrno_num\u001b[0m \u001b[0;34m==\u001b[0m \u001b[0merrno\u001b[0m\u001b[0;34m.\u001b[0m\u001b[0mENOENT\u001b[0m\u001b[0;34m:\u001b[0m\u001b[0;34m\u001b[0m\u001b[0;34m\u001b[0m\u001b[0m\n\u001b[1;32m   1363\u001b[0m                             \u001b[0merr_msg\u001b[0m \u001b[0;34m+=\u001b[0m \u001b[0;34m': '\u001b[0m \u001b[0;34m+\u001b[0m \u001b[0mrepr\u001b[0m\u001b[0;34m(\u001b[0m\u001b[0merr_filename\u001b[0m\u001b[0;34m)\u001b[0m\u001b[0;34m\u001b[0m\u001b[0;34m\u001b[0m\u001b[0m\n\u001b[0;32m-> 1364\u001b[0;31m                     \u001b[0;32mraise\u001b[0m \u001b[0mchild_exception_type\u001b[0m\u001b[0;34m(\u001b[0m\u001b[0merrno_num\u001b[0m\u001b[0;34m,\u001b[0m \u001b[0merr_msg\u001b[0m\u001b[0;34m,\u001b[0m \u001b[0merr_filename\u001b[0m\u001b[0;34m)\u001b[0m\u001b[0;34m\u001b[0m\u001b[0;34m\u001b[0m\u001b[0m\n\u001b[0m\u001b[1;32m   1365\u001b[0m                 \u001b[0;32mraise\u001b[0m \u001b[0mchild_exception_type\u001b[0m\u001b[0;34m(\u001b[0m\u001b[0merr_msg\u001b[0m\u001b[0;34m)\u001b[0m\u001b[0;34m\u001b[0m\u001b[0;34m\u001b[0m\u001b[0m\n\u001b[1;32m   1366\u001b[0m \u001b[0;34m\u001b[0m\u001b[0m\n",
      "\u001b[0;31mFileNotFoundError\u001b[0m: [Errno 2] No such file or directory: 'srun': 'srun'"
     ]
    }
   ],
   "source": [
    "CO.run_srun('hola',time_minutes=20,memory=4000,parallel_type='serial',n_cpus=1)"
   ]
  },
  {
   "cell_type": "code",
   "execution_count": 35,
   "metadata": {},
   "outputs": [],
   "source": [
    "path = '/Volumes/mbProD/Downloads/wrf_test_d01/wrfout_d01_2017-12-25_10:00:00'\n",
    "# path = '/private/tmp/co_out/wrfout_d01_2017-12-25_18:00:00'\n",
    "ds = xr.open_dataset(path)\n",
    "variables = list(ds.variables)\n",
    "compression_list = []\n",
    "for var in variables:\n",
    "    c = ds[var].encoding.get('complevel', 0)\n",
    "    compression_list.append(c)\n",
    "compression_list = np.array(compression_list)"
   ]
  },
  {
   "cell_type": "code",
   "execution_count": 36,
   "metadata": {},
   "outputs": [
    {
     "data": {
      "text/plain": [
       "0.0"
      ]
     },
     "execution_count": 36,
     "metadata": {},
     "output_type": "execute_result"
    }
   ],
   "source": [
    "np.mean(compression_list)"
   ]
  },
  {
   "cell_type": "code",
   "execution_count": null,
   "metadata": {},
   "outputs": [],
   "source": []
  }
 ],
 "metadata": {
  "jupytext": {
   "text_representation": {
    "extension": ".py",
    "format_name": "percent",
    "format_version": "1.2",
    "jupytext_version": "1.1.3"
   }
  },
  "kernelspec": {
   "display_name": "Python 3",
   "language": "python",
   "name": "python3"
  },
  "language_info": {
   "codemirror_mode": {
    "name": "ipython",
    "version": 3
   },
   "file_extension": ".py",
   "mimetype": "text/x-python",
   "name": "python",
   "nbconvert_exporter": "python",
   "pygments_lexer": "ipython3",
   "version": "3.6.8"
  }
 },
 "nbformat": 4,
 "nbformat_minor": 2
}
