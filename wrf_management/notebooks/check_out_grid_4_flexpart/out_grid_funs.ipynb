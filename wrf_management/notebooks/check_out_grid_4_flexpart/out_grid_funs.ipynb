{
 "cells": [
  {
   "cell_type": "code",
   "execution_count": null,
   "metadata": {},
   "outputs": [],
   "source": [
    "from useful_scit.imps import *\n",
    "from matplotlib.patches import Polygon"
   ]
  },
  {
   "cell_type": "code",
   "execution_count": 21,
   "metadata": {},
   "outputs": [],
   "source": [
    "def get_ll(file):\n",
    "    xd = xr.open_dataset(file)\n",
    "    loM = float(xd.XLONG_U.max())\n",
    "    lom = float(xd.XLONG_U.min())\n",
    "    laM = float(xd.XLAT_V.max())\n",
    "    lam = float(xd.XLAT_V.min())\n",
    "\n",
    "    ll_dic = dict(\n",
    "    loM = loM,\n",
    "    lom = lom,\n",
    "    laM = laM,\n",
    "    lam = lam,\n",
    "    )\n",
    "    return ll_dic"
   ]
  },
  {
   "cell_type": "code",
   "execution_count": 125,
   "metadata": {},
   "outputs": [],
   "source": [
    "def plot_pol(ll,ax):\n",
    "    pol_points = [\n",
    "        [ll['lom'],ll['lam']],\n",
    "        [ll['lom'],ll['laM']],\n",
    "        [ll['loM'],ll['laM']],\n",
    "        [ll['loM'],ll['lam']],\n",
    "    ]\n",
    "#     print(ll)\n",
    "    polygon = Polygon(pol_points, True, edgecolor='k',facecolor='none')\n",
    "    ax.add_patch(polygon)"
   ]
  },
  {
   "cell_type": "code",
   "execution_count": 69,
   "metadata": {},
   "outputs": [],
   "source": [
    "def get_files(path):\n",
    "    path = '/Users/diego/Downloads/wrf_out_sample/'\n",
    "    file_pat = dict(\n",
    "        d1='d01_2017',\n",
    "        d2='d02_2017',\n",
    "        d3='d03_2017',\n",
    "        d4='d04_2017',\n",
    "    )\n",
    "    files_dic={}\n",
    "    for d,p in file_pat.items():\n",
    "        files_dic[d]=glob.glob(os.path.join(path,'*'+p+'*'))\n",
    "    files_dic = pd.DataFrame(files_dic,['path']).T\n",
    "    return files_dic\n",
    "    \n",
    "    "
   ]
  },
  {
   "cell_type": "code",
   "execution_count": 139,
   "metadata": {},
   "outputs": [],
   "source": [
    "import cartopy.crs as ccrs\n",
    "import cartopy.feature as cfeature\n",
    "import matplotlib.pyplot as plt\n",
    "\n",
    "\n",
    "def get_map(lom,loM,lam,laM,pargs={}):\n",
    "    fig = plt.figure(**pargs)\n",
    "    proj = ccrs.PlateCarree()\n",
    "    ax = fig.add_subplot(1, 1, 1, projection=proj)\n",
    "    ax.set_extent([lom,loM,lam,laM], crs=proj)\n",
    "\n",
    "    ax.add_feature(cfeature.LAND)\n",
    "    ax.add_feature(cfeature.OCEAN)\n",
    "    ax.add_feature(cfeature.COASTLINE)\n",
    "    ax.add_feature(cfeature.BORDERS, linestyle=':')\n",
    "    ax.add_feature(cfeature.LAKES, alpha=0.5)\n",
    "    ax.add_feature(cfeature.RIVERS)\n",
    "    gl = ax.gridlines(crs=proj, draw_labels=True,\n",
    "                      linewidth=2, color='gray', alpha=0.5, linestyle='--')\n",
    "    return ax, proj"
   ]
  },
  {
   "cell_type": "code",
   "execution_count": 186,
   "metadata": {},
   "outputs": [],
   "source": [
    "def add_text(t,x,y,ax):\n",
    "    ax.text(x, y, t, size=8,\n",
    "             ha=\"center\", va=\"center\",\n",
    "             bbox=dict(boxstyle=\"round\",\n",
    "                       ec='w',\n",
    "                       fc='w',\n",
    "                       )\n",
    "             )"
   ]
  },
  {
   "cell_type": "code",
   "execution_count": 178,
   "metadata": {},
   "outputs": [],
   "source": [
    "def add_text_ll(ll,ax):\n",
    "    pol_points = [\n",
    "        [ll['lom'],ll['lam']],\n",
    "        [ll['lom'],ll['laM']],\n",
    "        [ll['loM'],ll['laM']],\n",
    "        [ll['loM'],ll['lam']],\n",
    "    ]\n",
    "    \n",
    "    for p in pol_points:\n",
    "        pr = [np.round(pp,1) for pp in p]\n",
    "        add_text(pr,*p,ax)"
   ]
  },
  {
   "cell_type": "code",
   "execution_count": null,
   "metadata": {},
   "outputs": [],
   "source": []
  }
 ],
 "metadata": {
  "jupytext": {
   "text_representation": {
    "extension": ".py",
    "format_name": "percent",
    "format_version": "1.2",
    "jupytext_version": "1.1.3"
   }
  },
  "kernelspec": {
   "display_name": "Python 3",
   "language": "python",
   "name": "python3"
  },
  "language_info": {
   "codemirror_mode": {
    "name": "ipython",
    "version": 3
   },
   "file_extension": ".py",
   "mimetype": "text/x-python",
   "name": "python",
   "nbconvert_exporter": "python",
   "pygments_lexer": "ipython3",
   "version": "3.9.2"
  }
 },
 "nbformat": 4,
 "nbformat_minor": 4
}
