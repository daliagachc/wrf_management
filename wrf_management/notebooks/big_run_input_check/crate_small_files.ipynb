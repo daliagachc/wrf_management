{
 "cells": [
  {
   "cell_type": "code",
   "execution_count": 1,
   "metadata": {},
   "outputs": [],
   "source": [
    "from useful_scit.imps import *"
   ]
  },
  {
   "cell_type": "code",
   "execution_count": 2,
   "metadata": {},
   "outputs": [],
   "source": [
    "path = '/proj/atm/saltena/runs/run_2019_05_15/wrf/'"
   ]
  },
  {
   "cell_type": "code",
   "execution_count": 5,
   "metadata": {},
   "outputs": [],
   "source": [
    "files = glob.glob(path+'wrf*_*')"
   ]
  },
  {
   "cell_type": "code",
   "execution_count": 6,
   "metadata": {},
   "outputs": [
    {
     "data": {
      "text/plain": [
       "['/proj/atm/saltena/runs/run_2019_05_15/wrf/wrflowinp_d04',\n",
       " '/proj/atm/saltena/runs/run_2019_05_15/wrf/wrfbdy_d01',\n",
       " '/proj/atm/saltena/runs/run_2019_05_15/wrf/wrfinput_d04',\n",
       " '/proj/atm/saltena/runs/run_2019_05_15/wrf/wrflowinp_d02',\n",
       " '/proj/atm/saltena/runs/run_2019_05_15/wrf/wrflowinp_d01',\n",
       " '/proj/atm/saltena/runs/run_2019_05_15/wrf/wrfinput_d02',\n",
       " '/proj/atm/saltena/runs/run_2019_05_15/wrf/wrflowinp_d03',\n",
       " '/proj/atm/saltena/runs/run_2019_05_15/wrf/wrffdda_d01',\n",
       " '/proj/atm/saltena/runs/run_2019_05_15/wrf/wrfinput_d01',\n",
       " '/proj/atm/saltena/runs/run_2019_05_15/wrf/wrfinput_d03']"
      ]
     },
     "execution_count": 6,
     "metadata": {},
     "output_type": "execute_result"
    }
   ],
   "source": [
    "files"
   ]
  },
  {
   "cell_type": "code",
   "execution_count": 21,
   "metadata": {},
   "outputs": [],
   "source": [
    "ffdda = '/proj/atm/saltena/runs/run_2019_05_15/wrf/wrfbdy_d01'"
   ]
  },
  {
   "cell_type": "code",
   "execution_count": 22,
   "metadata": {},
   "outputs": [],
   "source": [
    "xa = xr.open_dataset(ffdda)"
   ]
  },
  {
   "cell_type": "code",
   "execution_count": 25,
   "metadata": {},
   "outputs": [],
   "source": [
    "xa1=xa.isel(Time=slice(0,None,50))"
   ]
  },
  {
   "cell_type": "code",
   "execution_count": 26,
   "metadata": {},
   "outputs": [],
   "source": [
    "xa1.to_netcdf('/proj/atm/wrfbdy_d0_short')"
   ]
  },
  {
   "cell_type": "code",
   "execution_count": null,
   "metadata": {},
   "outputs": [],
   "source": []
  }
 ],
 "metadata": {
  "jupytext": {
   "main_language": "python",
   "text_representation": {
    "extension": ".py",
    "format_name": "percent",
    "format_version": "1.2",
    "jupytext_version": "1.0.0"
   }
  },
  "kernelspec": {
   "display_name": "Python 3",
   "language": "python",
   "name": "python3"
  },
  "language_info": {
   "codemirror_mode": {
    "name": "ipython",
    "version": 3
   },
   "file_extension": ".py",
   "mimetype": "text/x-python",
   "name": "python",
   "nbconvert_exporter": "python",
   "pygments_lexer": "ipython3",
   "version": "3.6.8"
  }
 },
 "nbformat": 4,
 "nbformat_minor": 2
}
