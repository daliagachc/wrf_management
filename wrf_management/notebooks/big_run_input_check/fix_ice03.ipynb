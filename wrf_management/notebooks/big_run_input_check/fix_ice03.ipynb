{
 "cells": [
  {
   "cell_type": "code",
   "execution_count": null,
   "metadata": {},
   "outputs": [],
   "source": []
  },
  {
   "cell_type": "code",
   "execution_count": null,
   "metadata": {},
   "outputs": [],
   "source": [
    "%load_ext autoreload"
   ]
  },
  {
   "cell_type": "code",
   "execution_count": null,
   "metadata": {},
   "outputs": [],
   "source": [
    "%autoreload 2"
   ]
  },
  {
   "cell_type": "code",
   "execution_count": null,
   "metadata": {},
   "outputs": [],
   "source": [
    "from useful_scit.imps import *\n",
    "import check_input_01_funs as pp\n",
    "from check_input_01_funs import *"
   ]
  },
  {
   "cell_type": "code",
   "execution_count": null,
   "metadata": {},
   "outputs": [],
   "source": [
    "path = '/wrk/kadantse/wrfimp_longrun/wrf'\n",
    "out_path = '/proj/atm/saltena/runs/run_2019_05_15/wrf'\n",
    "fn_low = 'wrflowinp_d03'\n",
    "fn_inp = 'wrfinput_d03'\n",
    "file_out = os.path.join(out_path,fn_low)"
   ]
  },
  {
   "cell_type": "code",
   "execution_count": null,
   "metadata": {},
   "outputs": [],
   "source": [
    "glob.glob(path+'/wrf*')"
   ]
  },
  {
   "cell_type": "code",
   "execution_count": null,
   "metadata": {},
   "outputs": [],
   "source": [
    "xr.set_options(keep_attrs=True)\n",
    "file_path = os.path.join(path,fn_low)\n",
    "file_input = os.path.join(path,fn_inp)\n",
    "xa_help =  import_lowinp('/tmp/xa1',file_input)\n",
    "xa_raw = xr.open_dataset(file_path)\n",
    "xa_cop = xa_raw.copy()"
   ]
  },
  {
   "cell_type": "code",
   "execution_count": null,
   "metadata": {},
   "outputs": [],
   "source": [
    "dims = ['south_north','west_east']\n",
    "sst = 'SST'\n",
    "si = 'SEAICE'"
   ]
  },
  {
   "cell_type": "code",
   "execution_count": null,
   "metadata": {},
   "outputs": [],
   "source": [
    "xa_cop[sst] = xa_cop[sst].where(xa_cop[si]==0) \n",
    "xa_cop[sst] = xa_cop[sst].interpolate_na(dim='Time',method='linear')\n",
    "xa_cop[sst].attrs = xa_raw[sst].attrs\n",
    "xa_cop[si]=xa_cop[si].where(xa_cop[si]==0,0.0)\n",
    "xa_cop[si].attrs = xa_raw[si].attrs"
   ]
  },
  {
   "cell_type": "code",
   "execution_count": null,
   "metadata": {},
   "outputs": [],
   "source": [
    "b_l = xa_help['LAKEMASK']==1\n",
    "b_l = b_l.drop('XLONG').drop('XLAT')\n",
    "b_t = xa_cop[sst]>307"
   ]
  },
  {
   "cell_type": "code",
   "execution_count": null,
   "metadata": {},
   "outputs": [],
   "source": [
    "xa_cop[sst]=xa_cop[sst].where(~(b_t & b_l))\n",
    "xa_cop[sst] = xa_cop[sst].interpolate_na(dim='Time',method='linear')\n",
    "xa_cop[sst].attrs = xa_raw[sst].attrs"
   ]
  },
  {
   "cell_type": "code",
   "execution_count": null,
   "metadata": {},
   "outputs": [],
   "source": [
    "try: os.remove(file_out)\n",
    "except: pass\n",
    "xa_cop.to_netcdf(file_out)"
   ]
  },
  {
   "cell_type": "code",
   "execution_count": null,
   "metadata": {},
   "outputs": [],
   "source": [
    "xa_low_new = import_lowinp(file_out,file_input)"
   ]
  },
  {
   "cell_type": "code",
   "execution_count": null,
   "metadata": {},
   "outputs": [],
   "source": [
    "x1 = xa_low_new.where(xa_low_new.LAKEMASK==1)\n",
    "p = 'SST'\n",
    "nc = 6\n",
    "p_c = p+'_clus_lake'\n",
    "cols = 2\n",
    "plot_clus_sig(x1,p,p_c,nc,cols=2)"
   ]
  },
  {
   "cell_type": "code",
   "execution_count": null,
   "metadata": {},
   "outputs": [],
   "source": [
    "x1 = xa_low_new\n",
    "p = 'SST'\n",
    "nc = 7\n",
    "p_c = p+'_clus_lake'\n",
    "cols = 2\n",
    "plot_clus_sig(x1,p,p_c,nc,cols=2)"
   ]
  },
  {
   "cell_type": "code",
   "execution_count": null,
   "metadata": {},
   "outputs": [],
   "source": []
  }
 ],
 "metadata": {
  "kernelspec": {
   "display_name": "Python 3",
   "language": "python",
   "name": "python3"
  }
 },
 "nbformat": 4,
 "nbformat_minor": 2
}
