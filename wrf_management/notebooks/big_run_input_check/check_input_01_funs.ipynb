{
 "cells": [
  {
   "cell_type": "code",
   "execution_count": 1,
   "metadata": {},
   "outputs": [],
   "source": [
    "from useful_scit.imps import *"
   ]
  },
  {
   "cell_type": "code",
   "execution_count": 289,
   "metadata": {},
   "outputs": [],
   "source": [
    "from sklearn.cluster import KMeans"
   ]
  },
  {
   "cell_type": "code",
   "execution_count": 274,
   "metadata": {},
   "outputs": [],
   "source": [
    "pars = ['SST','T2','TSK','SEAICE','LAKEMASK']"
   ]
  },
  {
   "cell_type": "code",
   "execution_count": 349,
   "metadata": {},
   "outputs": [],
   "source": [
    "def import_lowinp(file_lowinp,file_input):\n",
    "    xa_low = xr.open_dataset(file_lowinp)\n",
    "    xa_inp = xr.open_dataset(file_input)\n",
    "    xlat = xa_inp.isel(Time=0).XLAT \n",
    "    xlkm = xa_inp.isel(Time=0).LAKEMASK \n",
    "    xa_low1=xa_low.assign_coords(XLAT=xlat)\n",
    "    t1=xa_low.Times.to_dataframe().Times.str.decode('utf-8')\n",
    "    t1=pd.to_datetime(t1.values,format='%Y-%m-%d_%H:%M:%S')\n",
    "    xa_low1=xa_low1.assign_coords(Time=t1)\n",
    "    xa_low1['LAKEMASK']=xlkm\n",
    "    return xa_low1\n",
    "    \n",
    "    \n",
    "    "
   ]
  },
  {
   "cell_type": "code",
   "execution_count": 288,
   "metadata": {},
   "outputs": [],
   "source": [
    "p = 'SST'\n",
    "nc = 8 "
   ]
  },
  {
   "cell_type": "code",
   "execution_count": 374,
   "metadata": {},
   "outputs": [],
   "source": [
    "def get_cluster(xa_low,p,nc):\n",
    "    xp = xa_low[p]\n",
    "    ps = xp.to_series().unstack(level=0)\n",
    "    ps1 = ps.dropna(0,'all')\n",
    "\n",
    "\n",
    "    y_pred = KMeans(n_clusters=nc, random_state=13324).fit_predict(ps1)\n",
    "\n",
    "    df = pd.DataFrame(ps)\n",
    "    df1 = pd.DataFrame(ps1)\n",
    "    df1['flags']=y_pred\n",
    "    df['flags']=df1['flags']\n",
    "\n",
    "    return df.flags.to_xarray()"
   ]
  },
  {
   "cell_type": "code",
   "execution_count": 397,
   "metadata": {},
   "outputs": [],
   "source": [
    "def plot_clus(xa_low, p_clus , nc,x='XLONG',y='XLAT'):\n",
    "    xa_low[p_clus].plot(\n",
    "        x=x,y=y,\n",
    "        levels=nc+1, colors=sns.color_palette('Set1',nc),vmin=-.5,vmax=nc-.5)"
   ]
  },
  {
   "cell_type": "code",
   "execution_count": 398,
   "metadata": {},
   "outputs": [],
   "source": [
    "def line_plot_clus(xa_low,nc,p,p_c):\n",
    "    pal = sns.color_palette('Set1',nc)\n",
    "    for i in range(nc):\n",
    "        va = xa_low[p].where(xa_low[p_c]==i)\n",
    "        va = va.mean(dim=['south_north','west_east'])\n",
    "        res = va.plot(color=pal[i])\n",
    "    ax = res[0].figure.axes[0]\n",
    "    ax.grid()"
   ]
  },
  {
   "cell_type": "code",
   "execution_count": null,
   "metadata": {},
   "outputs": [],
   "source": []
  }
 ],
 "metadata": {
  "jupytext": {
   "text_representation": {
    "extension": ".py",
    "format_name": "percent",
    "format_version": "1.2",
    "jupytext_version": "0.8.6"
   }
  },
  "kernelspec": {
   "display_name": "Python 3",
   "language": "python",
   "name": "python3"
  },
  "language_info": {
   "codemirror_mode": {
    "name": "ipython",
    "version": 3
   },
   "file_extension": ".py",
   "mimetype": "text/x-python",
   "name": "python",
   "nbconvert_exporter": "python",
   "pygments_lexer": "ipython3",
   "version": "3.6.8"
  }
 },
 "nbformat": 4,
 "nbformat_minor": 2
}
