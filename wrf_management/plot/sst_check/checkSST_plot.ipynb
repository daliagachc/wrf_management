{
 "cells": [
  {
   "cell_type": "code",
   "execution_count": 1,
   "metadata": {},
   "outputs": [],
   "source": [
    "from useful_scit.imps import * \n",
    "from checkSST_funs import *"
   ]
  },
  {
   "cell_type": "code",
   "execution_count": 12,
   "metadata": {},
   "outputs": [],
   "source": [
    "def plt_sst(pathTest):\n",
    "#     pathTest = '/proj/atm/saltena/runs/run_2019_04_03_1/wrf2'\n",
    "    # pathCont = '/proj/atm/saltena/runs/run_2019_02_28_2/wrf' # as in control \n",
    "    paths = (pathTest,pathCont)\n",
    "\n",
    "    dfT = get_file_list(pathTest)\n",
    "    doms = ['d01','d02','d03','d04']\n",
    "\n",
    "    outF1={}\n",
    "    merge={}\n",
    "    for d in doms:\n",
    "        outFs = get_specific_files([['kind','wrfout'],['dom',d]],dfT)\n",
    "\n",
    "        outF1[d] = outFs[::12].copy()\n",
    "        outF1[d]['sst'] = outF1[d].apply(lambda r: get_sst_ttcc(r),axis=1)\n",
    "        merge[d] = xr.merge(outF1[d].sst.values)\n",
    "\n",
    "    for d in doms:\n",
    "        plt.subplots()\n",
    "        l2ds = merge[d].SST.mean(dim=['south_north','west_east']).plot()\n",
    "        l2d = l2ds[0]\n",
    "        l2d.axes.set_title('SST mean output at TTCC lake - {}'.format(d))\n",
    "        l2d.axes.grid(True)"
   ]
  },
  {
   "cell_type": "code",
   "execution_count": null,
   "metadata": {},
   "outputs": [],
   "source": [
    "\n",
    "plt_sst(pathTest)"
   ]
  },
  {
   "cell_type": "code",
   "execution_count": null,
   "metadata": {},
   "outputs": [],
   "source": []
  }
 ],
 "metadata": {
  "jupytext": {
   "main_language": "python",
   "text_representation": {
    "extension": ".py",
    "format_name": "percent",
    "format_version": "1.2",
    "jupytext_version": "1.0.0"
   }
  },
  "kernelspec": {
   "display_name": "Python 3",
   "language": "python",
   "name": "python3"
  },
  "language_info": {
   "codemirror_mode": {
    "name": "ipython",
    "version": 3
   },
   "file_extension": ".py",
   "mimetype": "text/x-python",
   "name": "python",
   "nbconvert_exporter": "python",
   "pygments_lexer": "ipython3",
   "version": "3.6.8"
  }
 },
 "nbformat": 4,
 "nbformat_minor": 2
}
