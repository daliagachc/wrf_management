{
 "cells": [
  {
   "cell_type": "code",
   "execution_count": 6,
   "metadata": {},
   "outputs": [
    {
     "data": {
      "text/plain": [
       "<module 'wrf_management.project_global_constants' from '/private/tmp/wrf_management/wrf_management/project_global_constants.py'>"
      ]
     },
     "execution_count": 6,
     "metadata": {},
     "output_type": "execute_result"
    }
   ],
   "source": [
    "# imports\n",
    "import pandas as pd\n",
    "from wrf_management import project_global_constants as gc\n",
    "import sqlite3 as sq\n",
    "import importlib\n",
    "importlib.reload(gc)"
   ]
  },
  {
   "cell_type": "code",
   "execution_count": 14,
   "metadata": {},
   "outputs": [],
   "source": [
    "import wrf_management.utilities as ut\n",
    "importlib.reload(gc);\n",
    "importlib.reload(ut);"
   ]
  },
  {
   "cell_type": "code",
   "execution_count": 8,
   "metadata": {
    "lines_to_next_cell": 2
   },
   "outputs": [],
   "source": [
    "con = sq.connect(gc.PATH_DB)"
   ]
  },
  {
   "cell_type": "code",
   "execution_count": 9,
   "metadata": {},
   "outputs": [
    {
     "data": {
      "text/html": [
       "<div>\n",
       "<style scoped>\n",
       "    .dataframe tbody tr th:only-of-type {\n",
       "        vertical-align: middle;\n",
       "    }\n",
       "\n",
       "    .dataframe tbody tr th {\n",
       "        vertical-align: top;\n",
       "    }\n",
       "\n",
       "    .dataframe thead th {\n",
       "        text-align: right;\n",
       "    }\n",
       "</style>\n",
       "<table border=\"1\" class=\"dataframe\">\n",
       "  <thead>\n",
       "    <tr style=\"text-align: right;\">\n",
       "      <th></th>\n",
       "      <th>type</th>\n",
       "      <th>name</th>\n",
       "      <th>tbl_name</th>\n",
       "      <th>rootpage</th>\n",
       "      <th>sql</th>\n",
       "    </tr>\n",
       "  </thead>\n",
       "  <tbody>\n",
       "    <tr>\n",
       "      <th>0</th>\n",
       "      <td>table</td>\n",
       "      <td>master_date</td>\n",
       "      <td>master_date</td>\n",
       "      <td>2</td>\n",
       "      <td>CREATE TABLE \"master_date\" (\\n\"date\" TIMESTAMP...</td>\n",
       "    </tr>\n",
       "    <tr>\n",
       "      <th>1</th>\n",
       "      <td>index</td>\n",
       "      <td>ix_master_date_date</td>\n",
       "      <td>master_date</td>\n",
       "      <td>3</td>\n",
       "      <td>CREATE INDEX \"ix_master_date_date\"ON \"master_d...</td>\n",
       "    </tr>\n",
       "    <tr>\n",
       "      <th>2</th>\n",
       "      <td>table</td>\n",
       "      <td>press</td>\n",
       "      <td>press</td>\n",
       "      <td>8</td>\n",
       "      <td>CREATE TABLE \"press\" (\\n\"date\" TEXT,\\n  \"i\" IN...</td>\n",
       "    </tr>\n",
       "    <tr>\n",
       "      <th>3</th>\n",
       "      <td>index</td>\n",
       "      <td>ix_press_date</td>\n",
       "      <td>press</td>\n",
       "      <td>9</td>\n",
       "      <td>CREATE INDEX \"ix_press_date\"ON \"press\" (\"date\")</td>\n",
       "    </tr>\n",
       "    <tr>\n",
       "      <th>4</th>\n",
       "      <td>table</td>\n",
       "      <td>surf_0</td>\n",
       "      <td>surf_0</td>\n",
       "      <td>14</td>\n",
       "      <td>CREATE TABLE \"surf_0\" (\\n\"date\" TEXT,\\n  \"i\" I...</td>\n",
       "    </tr>\n",
       "    <tr>\n",
       "      <th>5</th>\n",
       "      <td>index</td>\n",
       "      <td>ix_surf_0_date</td>\n",
       "      <td>surf_0</td>\n",
       "      <td>15</td>\n",
       "      <td>CREATE INDEX \"ix_surf_0_date\"ON \"surf_0\" (\"date\")</td>\n",
       "    </tr>\n",
       "    <tr>\n",
       "      <th>6</th>\n",
       "      <td>table</td>\n",
       "      <td>surf_1</td>\n",
       "      <td>surf_1</td>\n",
       "      <td>20</td>\n",
       "      <td>CREATE TABLE \"surf_1\" (\\n\"date\" TEXT,\\n  \"i\" I...</td>\n",
       "    </tr>\n",
       "    <tr>\n",
       "      <th>7</th>\n",
       "      <td>index</td>\n",
       "      <td>ix_surf_1_date</td>\n",
       "      <td>surf_1</td>\n",
       "      <td>21</td>\n",
       "      <td>CREATE INDEX \"ix_surf_1_date\"ON \"surf_1\" (\"date\")</td>\n",
       "    </tr>\n",
       "  </tbody>\n",
       "</table>\n",
       "</div>"
      ],
      "text/plain": [
       "    type                 name     tbl_name  rootpage  \\\n",
       "0  table          master_date  master_date         2   \n",
       "1  index  ix_master_date_date  master_date         3   \n",
       "2  table                press        press         8   \n",
       "3  index        ix_press_date        press         9   \n",
       "4  table               surf_0       surf_0        14   \n",
       "5  index       ix_surf_0_date       surf_0        15   \n",
       "6  table               surf_1       surf_1        20   \n",
       "7  index       ix_surf_1_date       surf_1        21   \n",
       "\n",
       "                                                 sql  \n",
       "0  CREATE TABLE \"master_date\" (\\n\"date\" TIMESTAMP...  \n",
       "1  CREATE INDEX \"ix_master_date_date\"ON \"master_d...  \n",
       "2  CREATE TABLE \"press\" (\\n\"date\" TEXT,\\n  \"i\" IN...  \n",
       "3    CREATE INDEX \"ix_press_date\"ON \"press\" (\"date\")  \n",
       "4  CREATE TABLE \"surf_0\" (\\n\"date\" TEXT,\\n  \"i\" I...  \n",
       "5  CREATE INDEX \"ix_surf_0_date\"ON \"surf_0\" (\"date\")  \n",
       "6  CREATE TABLE \"surf_1\" (\\n\"date\" TEXT,\\n  \"i\" I...  \n",
       "7  CREATE INDEX \"ix_surf_1_date\"ON \"surf_1\" (\"date\")  "
      ]
     },
     "execution_count": 9,
     "metadata": {},
     "output_type": "execute_result"
    }
   ],
   "source": [
    "pd.read_sql('select * from sqlite_master',con)"
   ]
  },
  {
   "cell_type": "code",
   "execution_count": 10,
   "metadata": {},
   "outputs": [
    {
     "data": {
      "text/html": [
       "<div>\n",
       "<style scoped>\n",
       "    .dataframe tbody tr th:only-of-type {\n",
       "        vertical-align: middle;\n",
       "    }\n",
       "\n",
       "    .dataframe tbody tr th {\n",
       "        vertical-align: top;\n",
       "    }\n",
       "\n",
       "    .dataframe thead th {\n",
       "        text-align: right;\n",
       "    }\n",
       "</style>\n",
       "<table border=\"1\" class=\"dataframe\">\n",
       "  <thead>\n",
       "    <tr style=\"text-align: right;\">\n",
       "      <th></th>\n",
       "      <th>i</th>\n",
       "      <th>downloaded</th>\n",
       "      <th>name</th>\n",
       "      <th>untarred</th>\n",
       "    </tr>\n",
       "    <tr>\n",
       "      <th>date</th>\n",
       "      <th></th>\n",
       "      <th></th>\n",
       "      <th></th>\n",
       "      <th></th>\n",
       "    </tr>\n",
       "  </thead>\n",
       "  <tbody>\n",
       "    <tr>\n",
       "      <th>2018-03-24 00:00:00</th>\n",
       "      <td>113</td>\n",
       "      <td>0</td>\n",
       "      <td>0</td>\n",
       "      <td>0</td>\n",
       "    </tr>\n",
       "  </tbody>\n",
       "</table>\n",
       "</div>"
      ],
      "text/plain": [
       "                       i  downloaded name  untarred\n",
       "date                                               \n",
       "2018-03-24 00:00:00  113           0    0         0"
      ]
     },
     "execution_count": 10,
     "metadata": {},
     "output_type": "execute_result"
    }
   ],
   "source": [
    "ut.get_tb_from_name(tb_name='press').sample()"
   ]
  },
  {
   "cell_type": "code",
   "execution_count": 17,
   "metadata": {},
   "outputs": [
    {
     "data": {
      "text/plain": [
       "date          2018-01-01 00:00:00\n",
       "i                              31\n",
       "downloaded                      0\n",
       "name                            0\n",
       "untarred                        0\n",
       "Name: 0, dtype: object"
      ]
     },
     "execution_count": 17,
     "metadata": {},
     "output_type": "execute_result"
    }
   ],
   "source": [
    "ftype = 'surf_0'\n",
    "row = ut.get_next_row_to_down(tb_name=ftype,min_date='2018-01')\n",
    "row"
   ]
  },
  {
   "cell_type": "code",
   "execution_count": 353,
   "metadata": {},
   "outputs": [],
   "source": [
    "importlib.reload(gc);\n",
    "importlib.reload(ut);"
   ]
  },
  {
   "cell_type": "code",
   "execution_count": 354,
   "metadata": {},
   "outputs": [
    {
     "name": "stdout",
     "output_type": "stream",
     "text": [
      "2017/cdas1.20171201.splgrbf.tar\n",
      "/tmp/data/surf_0_tar\n"
     ]
    }
   ],
   "source": [
    "down_str = ut.get_down_string_from_row(row=row,ftype=ftype)\n",
    "print(down_str)\n",
    "tar_path = ut.get_tar_path(ftype) \n",
    "print(tar_path)"
   ]
  },
  {
   "cell_type": "code",
   "execution_count": 355,
   "metadata": {},
   "outputs": [
    {
     "name": "stdout",
     "output_type": "stream",
     "text": [
      "processor <urllib.request.HTTPCookieProcessor object at 0x1c22f6e780>\n",
      "<urllib.request.OpenerDirector object at 0x1c22f6e160>\n",
      "downloading cdas1.20171201.splgrbf.tar..."
     ]
    }
   ],
   "source": [
    "res = ut.down_file_from_str(down_str,tar_path)"
   ]
  },
  {
   "cell_type": "code",
   "execution_count": 356,
   "metadata": {},
   "outputs": [
    {
     "name": "stdout",
     "output_type": "stream",
     "text": [
      "\n",
      "        update surf_0 \n",
      "        set downloaded=1\n",
      "        where i=0\n",
      "        \n",
      "\n",
      "        update surf_0 \n",
      "        set name='cdas1.20171201.splgrbf.tar'\n",
      "        where i=0\n",
      "        \n"
     ]
    }
   ],
   "source": [
    "if res:\n",
    "    ut.update_sucess_down(row=row,tb_name=ftype)\n",
    "    ut.update_row_name(row=row,tb_name=ftype,down_string=down_str)"
   ]
  },
  {
   "cell_type": "code",
   "execution_count": 357,
   "metadata": {},
   "outputs": [
    {
     "data": {
      "text/html": [
       "<div>\n",
       "<style scoped>\n",
       "    .dataframe tbody tr th:only-of-type {\n",
       "        vertical-align: middle;\n",
       "    }\n",
       "\n",
       "    .dataframe tbody tr th {\n",
       "        vertical-align: top;\n",
       "    }\n",
       "\n",
       "    .dataframe thead th {\n",
       "        text-align: right;\n",
       "    }\n",
       "</style>\n",
       "<table border=\"1\" class=\"dataframe\">\n",
       "  <thead>\n",
       "    <tr style=\"text-align: right;\">\n",
       "      <th></th>\n",
       "      <th>i</th>\n",
       "      <th>downloaded</th>\n",
       "      <th>name</th>\n",
       "      <th>untarred</th>\n",
       "    </tr>\n",
       "    <tr>\n",
       "      <th>date</th>\n",
       "      <th></th>\n",
       "      <th></th>\n",
       "      <th></th>\n",
       "      <th></th>\n",
       "    </tr>\n",
       "  </thead>\n",
       "  <tbody>\n",
       "    <tr>\n",
       "      <th>2017-12-01 00:00:00</th>\n",
       "      <td>0</td>\n",
       "      <td>1</td>\n",
       "      <td>cdas1.20171201.splgrbf.tar</td>\n",
       "      <td>0</td>\n",
       "    </tr>\n",
       "    <tr>\n",
       "      <th>2017-12-02 00:00:00</th>\n",
       "      <td>1</td>\n",
       "      <td>0</td>\n",
       "      <td>0</td>\n",
       "      <td>0</td>\n",
       "    </tr>\n",
       "  </tbody>\n",
       "</table>\n",
       "</div>"
      ],
      "text/plain": [
       "                     i  downloaded                        name  untarred\n",
       "date                                                                    \n",
       "2017-12-01 00:00:00  0           1  cdas1.20171201.splgrbf.tar         0\n",
       "2017-12-02 00:00:00  1           0                           0         0"
      ]
     },
     "execution_count": 357,
     "metadata": {},
     "output_type": "execute_result"
    }
   ],
   "source": [
    "ut.get_tb_from_name(tb_name=ftype)[:2]"
   ]
  },
  {
   "cell_type": "code",
   "execution_count": 331,
   "metadata": {},
   "outputs": [
    {
     "name": "stdout",
     "output_type": "stream",
     "text": [
      "/tmp/data/surf_0/tar\n"
     ]
    }
   ],
   "source": [
    "tar_path = dow_dir\n",
    "print(tar_path)"
   ]
  },
  {
   "cell_type": "code",
   "execution_count": 333,
   "metadata": {},
   "outputs": [
    {
     "data": {
      "text/plain": [
       "'cdas1.20171201.splgrbf.tar'"
      ]
     },
     "execution_count": 333,
     "metadata": {},
     "output_type": "execute_result"
    }
   ],
   "source": [
    "os.path.basename(down_str)"
   ]
  },
  {
   "cell_type": "code",
   "execution_count": 358,
   "metadata": {},
   "outputs": [],
   "source": [
    "import platform"
   ]
  },
  {
   "cell_type": "code",
   "execution_count": 359,
   "metadata": {},
   "outputs": [
    {
     "data": {
      "text/plain": [
       "'Darwin-18.5.0-x86_64-i386-64bit'"
      ]
     },
     "execution_count": 359,
     "metadata": {},
     "output_type": "execute_result"
    }
   ],
   "source": [
    "platform.platform()"
   ]
  },
  {
   "cell_type": "code",
   "execution_count": 361,
   "metadata": {
    "lines_to_next_cell": 2
   },
   "outputs": [],
   "source": []
  },
  {
   "cell_type": "code",
   "execution_count": 365,
   "metadata": {},
   "outputs": [
    {
     "name": "stdout",
     "output_type": "stream",
     "text": [
      "mac_diego\n"
     ]
    }
   ],
   "source": [
    "ID = None\n",
    "try:\n",
    "    import wrf_management.pc_id as pc_id\n",
    "    ID = pc_id.ID \n",
    "except: \n",
    "    print('no pc id found. create a pc_id.py file in the root of the package with constant ID')\n",
    "print(ID)"
   ]
  },
  {
   "cell_type": "code",
   "execution_count": null,
   "metadata": {
    "lines_to_next_cell": 2
   },
   "outputs": [],
   "source": []
  }
 ],
 "metadata": {
  "jupytext": {
   "text_representation": {
    "extension": ".py",
    "format_name": "percent",
    "format_version": "1.2",
    "jupytext_version": "0.8.6"
   }
  },
  "kernelspec": {
   "display_name": "Python 3",
   "language": "python",
   "name": "python3"
  },
  "language_info": {
   "codemirror_mode": {
    "name": "ipython",
    "version": 3
   },
   "file_extension": ".py",
   "mimetype": "text/x-python",
   "name": "python",
   "nbconvert_exporter": "python",
   "pygments_lexer": "ipython3",
   "version": "3.6.7"
  }
 },
 "nbformat": 4,
 "nbformat_minor": 2
}
