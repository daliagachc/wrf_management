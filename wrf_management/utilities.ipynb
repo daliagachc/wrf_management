{
 "cells": [
  {
   "cell_type": "code",
   "execution_count": 1,
   "metadata": {
    "lines_to_next_cell": 2.0
   },
   "outputs": [],
   "source": [
    "# project name: wrf_management\n",
    "# created by diego aliaga daliaga_at_chacaltaya.edu.bo\n",
    "import os\n",
    "import sqlite3 as sq\n",
    "import pandas as pd\n",
    "from wrf_management import project_global_constants as gc"
   ]
  },
  {
   "cell_type": "code",
   "execution_count": null,
   "metadata": {
    "lines_to_next_cell": 2.0
   },
   "outputs": [],
   "source": [
    "def create_date_db(init_date=gc.INIT_DATE,\n",
    "                   end_date=gc.END_DATE,\n",
    "                   db_path=gc.PATH_DB_FOLDER,\n",
    "                   tb_name=gc.MASTER_DATE_TB_NAME,\n",
    "                   override=False,\n",
    "                   db_name=gc.NAME_DB\n",
    "                   ):\n",
    "    \"\"\"\n",
    "\n",
    "    Parameters\n",
    "    ----------\n",
    "    init_date\n",
    "    end_date\n",
    "    db_path\n",
    "    tb_name\n",
    "    override\n",
    "\n",
    "    Returns\n",
    "    -------\n",
    "\n",
    "    \"\"\"\n",
    "    date_index = pd.date_range(\n",
    "        start=init_date,\n",
    "        end=end_date\n",
    "    )\n",
    "\n",
    "    df = pd.DataFrame(date_index, columns=['date'])\n",
    "    df = df.reset_index()\n",
    "    df = df.set_index('date')\n",
    "    df = df.rename(columns={'index': 'i'})\n",
    "\n",
    "    os.makedirs(db_path, exist_ok=True)\n",
    "\n",
    "    db_con_path = os.path.join(db_path, db_name)\n",
    "    con = sq.connect(db_con_path)\n",
    "    try:\n",
    "        df.to_sql(tb_name, con)\n",
    "    except:\n",
    "        print('could not create the table maybe it exists already')\n",
    "    finally:\n",
    "        con.close()"
   ]
  },
  {
   "cell_type": "code",
   "execution_count": null,
   "metadata": {
    "lines_to_next_cell": 2.0
   },
   "outputs": [],
   "source": [
    "def get_date_tb(\n",
    "        path_db=gc.PATH_DB,\n",
    "        tb_name=gc.MASTER_DATE_TB_NAME\n",
    "):\n",
    "    \"\"\"\n",
    "\n",
    "    Parameters\n",
    "    ----------\n",
    "    path_db\n",
    "    tb_name\n",
    "\n",
    "    Returns\n",
    "    -------\n",
    "    df : pandas.DataFrame\n",
    "\n",
    "    \"\"\"\n",
    "    con = sq.connect(path_db)\n",
    "    try:\n",
    "        st = 'select * from {}'.format(tb_name)\n",
    "        df = pd.read_sql_query(st, con, index_col='date')\n",
    "    finally:\n",
    "        con.close()\n",
    "    return df"
   ]
  },
  {
   "cell_type": "code",
   "execution_count": null,
   "metadata": {
    "lines_to_next_cell": 2.0
   },
   "outputs": [],
   "source": [
    "def get_tb_from_name(*,\n",
    "                     path_db=gc.PATH_DB,\n",
    "                     tb_name\n",
    "                     ):\n",
    "    \"\"\"\n",
    "\n",
    "    Parameters\n",
    "    ----------\n",
    "    path_db\n",
    "    tb_name\n",
    "\n",
    "    Returns\n",
    "    -------\n",
    "    df : pandas.DataFrame\n",
    "\n",
    "    \"\"\"\n",
    "    con = sq.connect(path_db)\n",
    "    try:\n",
    "        st = 'select * from {}'.format(tb_name)\n",
    "        df = pd.read_sql_query(st, con, index_col='date')\n",
    "    finally:\n",
    "        con.close()\n",
    "    return df"
   ]
  },
  {
   "cell_type": "code",
   "execution_count": null,
   "metadata": {
    "lines_to_next_cell": 2.0
   },
   "outputs": [],
   "source": [
    "def create_download_db(\n",
    "        *,\n",
    "        path_db=gc.PATH_DB,\n",
    "        db_name,\n",
    "        override=False,\n",
    "        date_tb_name=gc.MASTER_DATE_TB_NAME,\n",
    "):\n",
    "    date_db = get_date_tb(path_db, date_tb_name)\n",
    "    date_db['downloaded'] = False\n",
    "    # date_db['tar_path'] = False\n",
    "    date_db['name'] = False\n",
    "    date_db['untarred'] = False\n",
    "    # date_db['untar_path'] = False\n",
    "\n",
    "    down_db = date_db.copy()\n",
    "    con = sq.connect(path_db)\n",
    "    try:\n",
    "        down_db.to_sql(db_name, con)\n",
    "    except:\n",
    "        print('could not create. it might exist already')\n",
    "    finally:\n",
    "        con.close()"
   ]
  },
  {
   "cell_type": "code",
   "execution_count": null,
   "metadata": {
    "lines_to_next_cell": 2.0
   },
   "outputs": [],
   "source": [
    "def get_down_string_from_row(*, row, ftype):\n",
    "    suffix = gc.FILE_TYPES[ftype]['suffix']\n",
    "    date = row.date\n",
    "    date_pd = pd.to_datetime(str(date))\n",
    "    date_string = date_pd.strftime('%Y%m%d')\n",
    "    string_template = '{y}/cdas1.{date_string}.{suffix}'\n",
    "    string = string_template.format(y=date_pd.year, date_string=date_string, suffix=suffix)\n",
    "    return string"
   ]
  },
  {
   "cell_type": "code",
   "execution_count": null,
   "metadata": {
    "lines_to_next_cell": 2.0
   },
   "outputs": [],
   "source": [
    "def get_next_row_to_down(\n",
    "        *,\n",
    "        tb_name,\n",
    "        db_path=gc.PATH_DB,\n",
    "        min_date='1900-01-01 00:00:00'\n",
    "):\n",
    "    con = sq.connect(db_path)\n",
    "    try:\n",
    "        st = '''\n",
    "        select * from {tb} \n",
    "        where downloaded = 0\n",
    "        and date>'{min_date}'\n",
    "        order by date \n",
    "        limit 1\n",
    "        '''.format(tb=tb_name,min_date=min_date)\n",
    "        row = pd.read_sql(st, con)\n",
    "        ll = len(row)\n",
    "        # print(ll)\n",
    "        if ll < 1:\n",
    "            raise SystemExit('no more rows to download')\n",
    "    finally:\n",
    "        con.close()\n",
    "    return row.iloc[0]"
   ]
  },
  {
   "cell_type": "code",
   "execution_count": null,
   "metadata": {},
   "outputs": [],
   "source": [
    "def update_sucess_down(\n",
    "        *, row, tb_name, db_path=gc.PATH_DB\n",
    "):\n",
    "    i = row.i\n",
    "    con = sq.connect(db_path)\n",
    "    try:\n",
    "        st = '''\n",
    "        update {tb} \n",
    "        set downloaded=1\n",
    "        where i={i}\n",
    "        '''\n",
    "        st = st.format(tb=tb_name, i=i)\n",
    "        print(st)\n",
    "        c = con.cursor()\n",
    "        c.execute(st)\n",
    "        con.commit()\n",
    "    finally:\n",
    "        con.close()"
   ]
  },
  {
   "cell_type": "code",
   "execution_count": null,
   "metadata": {},
   "outputs": [],
   "source": [
    "def update_row_name(\n",
    "        *, row, tb_name, down_string, db_path=gc.PATH_DB\n",
    "):\n",
    "    i = row.i\n",
    "    name = os.path.basename(down_string)\n",
    "    con = sq.connect(db_path)\n",
    "    try:\n",
    "        st = '''\n",
    "        update {tb} \n",
    "        set name='{name}'\n",
    "        where i={i}\n",
    "        '''\n",
    "        st = st.format(tb=tb_name, i=i, name=name)\n",
    "        print(st)\n",
    "        c = con.cursor()\n",
    "        c.execute(st)\n",
    "        con.commit()\n",
    "    finally:\n",
    "        con.close()"
   ]
  },
  {
   "cell_type": "code",
   "execution_count": null,
   "metadata": {
    "lines_to_next_cell": 2.0
   },
   "outputs": [],
   "source": [
    "def down_file_from_str(\n",
    "        file_str, down_folder,\n",
    "):\n",
    "    import sys\n",
    "    import os\n",
    "    import urllib.request, urllib.error, urllib.parse\n",
    "    import http.cookiejar\n",
    "    #\n",
    "    verbose = True\n",
    "    #\n",
    "    cj = http.cookiejar.MozillaCookieJar()\n",
    "    processor = urllib.request.HTTPCookieProcessor(cj)\n",
    "    print('processor', processor)\n",
    "    opener = urllib.request.build_opener(processor)\n",
    "\n",
    "    print(opener)\n",
    "    #\n",
    "    # check for existing cookies file and authenticate if necessary\n",
    "    do_authentication = False\n",
    "    if (os.path.isfile(\"auth.rda.ucar.edu\")):\n",
    "        cj.load(\"auth.rda.ucar.edu\", False, True)\n",
    "        for cookie in cj:\n",
    "            if (cookie.name == \"sess\" and cookie.is_expired()):\n",
    "                do_authentication = True\n",
    "    else:\n",
    "        do_authentication = True\n",
    "\n",
    "    if (do_authentication):\n",
    "        login_string = \"email=diego.aliaga@helsinki.fi&password=22711253N&action=login\"\n",
    "        print('login', login_string)\n",
    "        login_string_encoded = login_string.encode('utf-8')\n",
    "        login = opener.open(\n",
    "            \"https://rda.ucar.edu/cgi-bin/login\",\n",
    "            login_string_encoded\n",
    "        )\n",
    "        #\n",
    "        # save the authentication cookies for future downloads\n",
    "        # NOTE! - cookies are saved for future sessions because overly-frequent authentication to our server can cause your data access to be blocked\n",
    "        cj.clear_session_cookies()\n",
    "        cj.save(\"auth.rda.ucar.edu\", True, True)\n",
    "    #\n",
    "    # download the data file(s)\n",
    "    listoffiles = [file_str]\n",
    "    for file in listoffiles:\n",
    "        idx = file.rfind(\"/\")\n",
    "        if (idx > 0):\n",
    "            ofile = file[idx + 1:]\n",
    "        else:\n",
    "            ofile = file\n",
    "        if (verbose):\n",
    "            sys.stdout.write(\"downloading \" + ofile + \"...\")\n",
    "            sys.stdout.flush()\n",
    "        infile = opener.open(\"http://rda.ucar.edu/data/ds094.0/\" + file)\n",
    "        down_path = os.path.join(down_folder, ofile)\n",
    "        os.makedirs(down_folder, exist_ok=True)\n",
    "        is_downloaded = False\n",
    "        try:\n",
    "            outfile = open(down_path, \"wb\",)\n",
    "            outfile.write(infile.read())\n",
    "            outfile.close()\n",
    "            is_downloaded = True\n",
    "        except:\n",
    "            print('failed to download')\n",
    "            os.remove(down_path)\n",
    "            print('removing unfinished path')\n",
    "\n",
    "        return is_downloaded"
   ]
  },
  {
   "cell_type": "code",
   "execution_count": null,
   "metadata": {},
   "outputs": [],
   "source": [
    "def get_tar_path(\n",
    "        tb_name\n",
    "    ):\n",
    "    tar_path = gc.FILE_TYPES[tb_name]['data_tar']\n",
    "    tar_path = os.path.join(gc.PATH_DATA,tar_path)\n",
    "    return tar_path"
   ]
  },
  {
   "cell_type": "code",
   "execution_count": null,
   "metadata": {
    "lines_to_next_cell": 2.0
   },
   "outputs": [],
   "source": []
  }
 ],
 "metadata": {
  "jupytext": {
   "main_language": "python",
   "text_representation": {
    "extension": ".py",
    "format_name": "light"
   }
  },
  "kernelspec": {
   "display_name": "Python 3",
   "language": "python",
   "name": "python3"
  },
  "language_info": {
   "codemirror_mode": {
    "name": "ipython",
    "version": 3
   },
   "file_extension": ".py",
   "mimetype": "text/x-python",
   "name": "python",
   "nbconvert_exporter": "python",
   "pygments_lexer": "ipython3",
   "version": "3.6.7"
  }
 },
 "nbformat": 4,
 "nbformat_minor": 2
}
