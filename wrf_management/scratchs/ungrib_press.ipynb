{
 "cells": [
  {
   "cell_type": "code",
   "execution_count": 30,
   "metadata": {},
   "outputs": [],
   "source": [
    "import wrf_management.utilities as ut\n",
    "import importlib\n",
    "importlib.reload(ut);\n",
    "import wrf_management.project_global_constants as gc\n",
    "importlib.reload(gc)\n",
    "import wrf_management.geogrid as geo\n",
    "import wrf_management.ungrib as un\n",
    "import os\n",
    "import sqlite3 as sq\n",
    "import pandas as pd\n",
    "import wrf_management.base_namelists.base_namelists as bn\n",
    "importlib.reload(bn);\n",
    "import f90nml\n",
    "import tarfile"
   ]
  },
  {
   "cell_type": "code",
   "execution_count": 31,
   "metadata": {
    "lines_to_next_cell": 2
   },
   "outputs": [
    {
     "name": "stdout",
     "output_type": "stream",
     "text": [
      "run_2019_02_20\n"
     ]
    }
   ],
   "source": [
    "print(gc.RUN_NAME)\n",
    "job = 'ungrib_press'\n",
    "file_types = ['press']\n",
    "real = False\n",
    "\n",
    "LIST_S_LINKS = [\n",
    "    'ungrib',\n",
    "    'ungrib.exe',\n",
    "    'link_grib.csh',\n",
    "]\n",
    "\n",
    "LIST_H_LINKS = [\n",
    "    'Vtable',\n",
    "    'env_WRFv4.bash'\n",
    "]"
   ]
  },
  {
   "cell_type": "code",
   "execution_count": 32,
   "metadata": {},
   "outputs": [],
   "source": [
    "con = sq.connect(gc.PATH_DB)"
   ]
  },
  {
   "cell_type": "code",
   "execution_count": 52,
   "metadata": {},
   "outputs": [
    {
     "name": "stdout",
     "output_type": "stream",
     "text": [
      "index                             1\n",
      "run_name             run_2019_02_20\n",
      "metgrid_path                geogrid\n",
      "config_path          run_2019_02_20\n",
      "data_path       runs/run_2019_02_20\n",
      "Name: 0, dtype: object\n",
      "date            2017-12-05 00:00:00\n",
      "ungrib_surf                       0\n",
      "ungrib_press                      0\n",
      "ungrib_lake                       0\n",
      "Name: 0, dtype: object\n",
      "/tmp/wrf_management/data_folder/runs/run_2019_02_20/2017_12_05/ungrib_press\n",
      "/Users/diego/wrf_management/wrf_management/config_dir/run_2019_02_20\n",
      "                  date  i  downloaded                      name  untarred  \\\n",
      "0  2017-12-05 00:00:00  4           1  cdas1.20171205.pgrbh.tar         0   \n",
      "\n",
      "    type  \n",
      "0  press  \n",
      "OrderedDict([('share', Namelist([('wrf_core', 'ARW'), ('max_dom', 4), ('start_date', ['2017-12-05_00:00:00', '2017-12-05_00:00:00', '2017-12-05_00:00:00', '2017-12-05_00:00:00']), ('end_date', ['2017-12-05_18:00:00', '2017-12-05_18:00:00', '2017-12-05_18:00:00', '2017-12-05_18:00:00']), ('interval_seconds', 21600), ('io_form_geogrid', 2)])), ('ungrib', Namelist([('out_format', 'WPS'), ('prefix', 'ungrib_press')]))])\n"
     ]
    }
   ],
   "source": [
    "importlib.reload(un)\n",
    "run_row = un.get_run_row()\n",
    "print(run_row)\n",
    "\n",
    "job_row = un.get_next_row(job=job)\n",
    "print(job_row)\n",
    "un.update_run_table(val=job_row[job]+1,\n",
    "                    job=job,\n",
    "                    date=job_row['date']\n",
    "                   )\n",
    "job_path = un.getmk_job_path(run_row,job_row,job)\n",
    "print(job_path)\n",
    "\n",
    "untar_path = os.path.join(job_path,'untar')\n",
    "\n",
    "conf_path = un.get_conf_path(run_row)\n",
    "print(conf_path)\n",
    "\n",
    "type_rows = pd.DataFrame([un.get_type_row(ft,job_row) for ft in file_types])\n",
    "print(type_rows)\n",
    "\n",
    "name_list = un.skim_namelist_copy(\n",
    "    conf_path,job_path,date =job_row.date,prefix=job\n",
    ")\n",
    "print(name_list)\n",
    "\n",
    "if gc.ID=='taito_login':\n",
    "    un.copy_hard_links(conf_path,job_path,LIST_H_LINKS)\n",
    "    un.copy_soft_links(gc.PATH_WPS,job_path,LIST_S_LINKS)\n",
    "    importlib.reload(un)\n",
    "    un.untar_the_files(type_rows,joba_path)"
   ]
  },
  {
   "cell_type": "code",
   "execution_count": 17,
   "metadata": {
    "lines_to_next_cell": 2
   },
   "outputs": [],
   "source": [
    "r = type_rows.iloc[0]\n",
    "type_ = r.type\n",
    "source_tar_path = gc.FILE_TYPES[type_]['data_tar']\n",
    "source_tar_path = os.path.join(\n",
    "    gc.PATH_DATA,\n",
    "    source_tar_path,\n",
    "    r['name']\n",
    ")"
   ]
  },
  {
   "cell_type": "code",
   "execution_count": 20,
   "metadata": {},
   "outputs": [],
   "source": [
    "tf=tarfile.TarFile(source_tar_path)"
   ]
  },
  {
   "cell_type": "code",
   "execution_count": 22,
   "metadata": {},
   "outputs": [
    {
     "data": {
      "text/plain": [
       "[<TarInfo 'cdas1.t00z.pgrbh01.grib2' at 0x1c1dbf62a0>,\n",
       " <TarInfo 'cdas1.t00z.pgrbh02.grib2' at 0x1c1def3818>,\n",
       " <TarInfo 'cdas1.t00z.pgrbh03.grib2' at 0x1c1def3750>,\n",
       " <TarInfo 'cdas1.t00z.pgrbh04.grib2' at 0x1c1def38e0>,\n",
       " <TarInfo 'cdas1.t00z.pgrbh05.grib2' at 0x1c1def39a8>,\n",
       " <TarInfo 'cdas1.t00z.pgrbh06.grib2' at 0x1c1def3a70>,\n",
       " <TarInfo 'cdas1.t00z.pgrbh07.grib2' at 0x1c1def3b38>,\n",
       " <TarInfo 'cdas1.t00z.pgrbh08.grib2' at 0x1c1def3c00>,\n",
       " <TarInfo 'cdas1.t00z.pgrbh09.grib2' at 0x1c1def3cc8>,\n",
       " <TarInfo 'cdas1.t00z.pgrbhanl.grib2' at 0x1c1def3d90>,\n",
       " <TarInfo 'cdas1.t06z.pgrbh01.grib2' at 0x1c1def3e58>,\n",
       " <TarInfo 'cdas1.t06z.pgrbh02.grib2' at 0x1c1def3f20>,\n",
       " <TarInfo 'cdas1.t06z.pgrbh03.grib2' at 0x1c1e00d048>,\n",
       " <TarInfo 'cdas1.t06z.pgrbh04.grib2' at 0x1c1e00d110>,\n",
       " <TarInfo 'cdas1.t06z.pgrbh05.grib2' at 0x1c1e00d1d8>,\n",
       " <TarInfo 'cdas1.t06z.pgrbh06.grib2' at 0x1c1e00d2a0>,\n",
       " <TarInfo 'cdas1.t06z.pgrbh07.grib2' at 0x1c1e00d368>,\n",
       " <TarInfo 'cdas1.t06z.pgrbh08.grib2' at 0x1c1e00d4f8>,\n",
       " <TarInfo 'cdas1.t06z.pgrbh09.grib2' at 0x1c1e00d5c0>,\n",
       " <TarInfo 'cdas1.t06z.pgrbhanl.grib2' at 0x1c1e00d688>,\n",
       " <TarInfo 'cdas1.t12z.pgrbh01.grib2' at 0x1c1e00d750>,\n",
       " <TarInfo 'cdas1.t12z.pgrbh02.grib2' at 0x1c1e00d818>,\n",
       " <TarInfo 'cdas1.t12z.pgrbh03.grib2' at 0x1c1e00d8e0>,\n",
       " <TarInfo 'cdas1.t12z.pgrbh04.grib2' at 0x1c1e00d9a8>,\n",
       " <TarInfo 'cdas1.t12z.pgrbh05.grib2' at 0x1c1e00da70>,\n",
       " <TarInfo 'cdas1.t12z.pgrbh06.grib2' at 0x1c1e00db38>,\n",
       " <TarInfo 'cdas1.t12z.pgrbh07.grib2' at 0x1c1e00d430>,\n",
       " <TarInfo 'cdas1.t12z.pgrbh08.grib2' at 0x1c1e00dc00>,\n",
       " <TarInfo 'cdas1.t12z.pgrbh09.grib2' at 0x1c1e00dcc8>,\n",
       " <TarInfo 'cdas1.t12z.pgrbhanl.grib2' at 0x1c1e00dd90>,\n",
       " <TarInfo 'cdas1.t18z.pgrbh01.grib2' at 0x1c1e00de58>,\n",
       " <TarInfo 'cdas1.t18z.pgrbh02.grib2' at 0x1c1e00df20>,\n",
       " <TarInfo 'cdas1.t18z.pgrbh03.grib2' at 0x1c1dffc048>,\n",
       " <TarInfo 'cdas1.t18z.pgrbh04.grib2' at 0x1c1dffc110>,\n",
       " <TarInfo 'cdas1.t18z.pgrbh05.grib2' at 0x1c1dffc1d8>,\n",
       " <TarInfo 'cdas1.t18z.pgrbh06.grib2' at 0x1c1dffc2a0>,\n",
       " <TarInfo 'cdas1.t18z.pgrbh07.grib2' at 0x1c1dffc368>,\n",
       " <TarInfo 'cdas1.t18z.pgrbh08.grib2' at 0x1c1dffc430>,\n",
       " <TarInfo 'cdas1.t18z.pgrbh09.grib2' at 0x1c1dffc4f8>,\n",
       " <TarInfo 'cdas1.t18z.pgrbhanl.grib2' at 0x1c1dffc5c0>]"
      ]
     },
     "execution_count": 22,
     "metadata": {},
     "output_type": "execute_result"
    }
   ],
   "source": [
    "tf.getmembers()"
   ]
  },
  {
   "cell_type": "code",
   "execution_count": 29,
   "metadata": {},
   "outputs": [],
   "source": [
    "importlib.reload(un)\n",
    "date_formated=un.date_file_format(job_row.date)"
   ]
  },
  {
   "cell_type": "code",
   "execution_count": 34,
   "metadata": {},
   "outputs": [
    {
     "data": {
      "text/plain": [
       "date            2017-12-03 00:00:00\n",
       "ungrib_surf                       0\n",
       "ungrib_press                      0\n",
       "ungrib_lake                       0\n",
       "Name: 0, dtype: object"
      ]
     },
     "execution_count": 34,
     "metadata": {},
     "output_type": "execute_result"
    }
   ],
   "source": [
    "job_row"
   ]
  },
  {
   "cell_type": "code",
   "execution_count": 42,
   "metadata": {},
   "outputs": [
    {
     "name": "stdout",
     "output_type": "stream",
     "text": [
      "1\n",
      "\n",
      "update run_2019_02_20\n",
      "set ungrib_press = 1\n",
      "where date('2017-12-03 00:00:00')=date(date)\n",
      "\n"
     ]
    }
   ],
   "source": [
    "val = job_row[job]+1\n",
    "print(val)\n",
    "sql = \"\"\"\n",
    "update {tb}\n",
    "set {job} = {val}\n",
    "where date('{dt}')=date(date)\n",
    "\"\"\".format(dt=job_row.date,tb=gc.RUN_NAME,val=val,job=job)\n",
    "print(sql)"
   ]
  },
  {
   "cell_type": "code",
   "execution_count": 45,
   "metadata": {},
   "outputs": [],
   "source": [
    "con = sq.connect(gc.PATH_DB)\n",
    "try: \n",
    "    cu = con.cursor()\n",
    "    cu.execute(sql)\n",
    "    con.commit()\n",
    "finally: \n",
    "    con.close()\n"
   ]
  },
  {
   "cell_type": "code",
   "execution_count": null,
   "metadata": {},
   "outputs": [],
   "source": []
  }
 ],
 "metadata": {
  "jupytext": {
   "text_representation": {
    "extension": ".py",
    "format_name": "percent",
    "format_version": "1.2",
    "jupytext_version": "0.8.6"
   }
  },
  "kernelspec": {
   "display_name": "Python 3",
   "language": "python",
   "name": "python3"
  },
  "language_info": {
   "codemirror_mode": {
    "name": "ipython",
    "version": 3
   },
   "file_extension": ".py",
   "mimetype": "text/x-python",
   "name": "python",
   "nbconvert_exporter": "python",
   "pygments_lexer": "ipython3",
   "version": "3.6.7"
  }
 },
 "nbformat": 4,
 "nbformat_minor": 2
}
