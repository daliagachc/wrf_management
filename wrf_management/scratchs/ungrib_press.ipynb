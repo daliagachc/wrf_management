{
 "cells": [
  {
   "cell_type": "code",
   "execution_count": 9,
   "metadata": {},
   "outputs": [],
   "source": [
    "import wrf_management.utilities as ut\n",
    "import importlib\n",
    "importlib.reload(ut);\n",
    "import wrf_management.project_global_constants as gc\n",
    "importlib.reload(gc)\n",
    "import wrf_management.geogrid as geo\n",
    "import wrf_management.ungrib as un\n",
    "import os\n",
    "import sqlite3 as sq\n",
    "import pandas as pd\n",
    "import wrf_management.base_namelists.base_namelists as bn\n",
    "importlib.reload(bn);\n",
    "import f90nml"
   ]
  },
  {
   "cell_type": "code",
   "execution_count": 65,
   "metadata": {},
   "outputs": [
    {
     "name": "stdout",
     "output_type": "stream",
     "text": [
      "run_2019_02_20\n"
     ]
    }
   ],
   "source": [
    "print(gc.RUN_NAME)\n",
    "job = 'ungrib_press'\n",
    "file_types = ['press']\n",
    "real = False\n",
    "\n",
    "LIST_S_LINKS = [\n",
    "    'ungrib',\n",
    "    'ungrib.exe',\n",
    "    'link_grib.csh',\n",
    "]\n",
    "\n",
    "LIST_H_LINKS = [\n",
    "    'Vtable',\n",
    "    'env_WRFv4.bash'\n",
    "]\n"
   ]
  },
  {
   "cell_type": "code",
   "execution_count": 5,
   "metadata": {},
   "outputs": [],
   "source": [
    "con = sq.connect(gc.PATH_DB)"
   ]
  },
  {
   "cell_type": "code",
   "execution_count": 99,
   "metadata": {},
   "outputs": [
    {
     "name": "stdout",
     "output_type": "stream",
     "text": [
      "index                             1\n",
      "run_name             run_2019_02_20\n",
      "metgrid_path                geogrid\n",
      "config_path          run_2019_02_20\n",
      "data_path       runs/run_2019_02_20\n",
      "Name: 0, dtype: object\n",
      "date            2017-12-01 00:00:00\n",
      "ungrib_surf                       0\n",
      "ungrib_press                      1\n",
      "ungrib_lake                       0\n",
      "Name: 0, dtype: object\n",
      "/tmp/wrf_management/data_folder/runs/run_2019_02_20/2017_12_01/ungrib_press\n",
      "/tmp/wrf_management/data_folder/runs/run_2019_02_20/2017_12_01/ungrib_press/untar\n",
      "/Users/diego/wrf_management/wrf_management/config_dir/run_2019_02_20\n",
      "                  date  i  downloaded                      name  untarred  \\\n",
      "0  2017-12-01 00:00:00  0           1  cdas1.20171201.pgrbh.tar         0   \n",
      "\n",
      "    type  \n",
      "0  press  \n",
      "OrderedDict([('share', Namelist([('wrf_core', 'ARW'), ('max_dom', 4), ('start_date', ['2017-12-01_00:00:00', '2017-12-01_00:00:00', '2017-12-01_00:00:00', '2017-12-01_00:00:00']), ('end_date', ['2017-12-01_18:00:00', '2017-12-01_18:00:00', '2017-12-01_18:00:00', '2017-12-01_18:00:00']), ('interval_seconds', 21600), ('io_form_geogrid', 2)])), ('ungrib', Namelist([('out_format', 'WPS'), ('prefix', 'ungrib_press')]))])\n"
     ]
    }
   ],
   "source": [
    "importlib.reload(un)\n",
    "run_row = un.get_run_row()\n",
    "print(run_row)\n",
    "\n",
    "job_row = un.get_next_row(job=job)\n",
    "print(job_row)\n",
    "\n",
    "job_path = un.getmk_job_path(run_row,job_row,job)\n",
    "print(job_path)\n",
    "\n",
    "untar_path = os.path.join(job_path,'untar')\n",
    "print(untar_path)\n",
    "\n",
    "conf_path = un.get_conf_path(run_row)\n",
    "print(conf_path)\n",
    "\n",
    "type_rows = pd.DataFrame([un.get_type_row(ft,job_row) for ft in file_types])\n",
    "print(type_rows)\n",
    "\n",
    "name_list = un.skim_namelist_copy(\n",
    "    conf_path,job_path,date =job_row.date,prefix=job\n",
    ")\n",
    "print(name_list)\n",
    "\n",
    "if gc.ID=='taito_login':\n",
    "    un.copy_hard_links(conf_path,job_path,LIST_H_LINKS)\n",
    "    un.copy_soft_links(gc.PATH_WPS,job_path,LIST_S_LINKS)\n",
    "    importlib.reload(un)\n",
    "    un.untar_the_files(type_rows,untar_path)"
   ]
  },
  {
   "cell_type": "code",
   "execution_count": 85,
   "metadata": {},
   "outputs": [
    {
     "data": {
      "text/plain": [
       "'mac_diego'"
      ]
     },
     "execution_count": 85,
     "metadata": {},
     "output_type": "execute_result"
    }
   ],
   "source": [
    "gc.ID"
   ]
  },
  {
   "cell_type": "code",
   "execution_count": 95,
   "metadata": {},
   "outputs": [],
   "source": [
    "import subprocess as su\n",
    "res = su.run(['ls','-l'],stdout=su.PIPE,stderr=su.PIPE)"
   ]
  },
  {
   "cell_type": "code",
   "execution_count": 97,
   "metadata": {},
   "outputs": [
    {
     "data": {
      "text/plain": [
       "0"
      ]
     },
     "execution_count": 97,
     "metadata": {},
     "output_type": "execute_result"
    }
   ],
   "source": [
    "res.returncode"
   ]
  },
  {
   "cell_type": "code",
   "execution_count": null,
   "metadata": {},
   "outputs": [],
   "source": []
  }
 ],
 "metadata": {
  "jupytext": {
   "main_language": "python",
   "text_representation": {
    "extension": ".py",
    "format_name": "percent",
    "format_version": "1.2",
    "jupytext_version": "0.8.6"
   }
  },
  "kernelspec": {
   "display_name": "Python 3",
   "language": "python",
   "name": "python3"
  },
  "language_info": {
   "codemirror_mode": {
    "name": "ipython",
    "version": 3
   },
   "file_extension": ".py",
   "mimetype": "text/x-python",
   "name": "python",
   "nbconvert_exporter": "python",
   "pygments_lexer": "ipython3",
   "version": "3.6.7"
  }
 },
 "nbformat": 4,
 "nbformat_minor": 2
}
