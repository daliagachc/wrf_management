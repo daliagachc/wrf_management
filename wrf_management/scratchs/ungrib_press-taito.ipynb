{
 "cells": [
  {
   "cell_type": "code",
   "execution_count": 3,
   "metadata": {},
   "outputs": [],
   "source": [
    "import wrf_management.utilities as ut\n",
    "import importlib\n",
    "importlib.reload(ut);\n",
    "import wrf_management.project_global_constants as gc\n",
    "importlib.reload(gc)\n",
    "import wrf_management.geogrid as geo\n",
    "import wrf_management.ungrib as un\n",
    "import os\n",
    "import sqlite3 as sq\n",
    "import pandas as pd\n",
    "import wrf_management.base_namelists.base_namelists as bn\n",
    "importlib.reload(bn);\n",
    "import f90nml"
   ]
  },
  {
   "cell_type": "code",
   "execution_count": 5,
   "metadata": {},
   "outputs": [
    {
     "name": "stdout",
     "output_type": "stream",
     "text": [
      "run_2019_02_20\n"
     ]
    }
   ],
   "source": [
    "print(gc.RUN_NAME)\n",
    "job = 'ungrib_surf'\n",
    "file_types = ['surf_0','surf_1']\n",
    "job = 'ungrib_press'\n",
    "file_types=['press']\n",
    "real = False\n",
    "\n",
    "LIST_S_LINKS = [\n",
    "    'ungrib.exe',\n",
    "    'link_grib.csh',\n",
    "    'ungrib'\n",
    "]\n",
    "\n",
    "LIST_H_LINKS = [\n",
    "    'Vtable',\n",
    "    'env_WRFv4.bash'\n",
    "]\n"
   ]
  },
  {
   "cell_type": "code",
   "execution_count": 6,
   "metadata": {},
   "outputs": [
    {
     "data": {
      "text/plain": [
       "'/homeappl/home/aliagadi/saltena_2018/wrf_management/wrf_management/db_folder/wrf_man.sqlite'"
      ]
     },
     "execution_count": 6,
     "metadata": {},
     "output_type": "execute_result"
    }
   ],
   "source": [
    "con = sq.connect(gc.PATH_DB)\n",
    "gc.PATH_DB"
   ]
  },
  {
   "cell_type": "code",
   "execution_count": 14,
   "metadata": {},
   "outputs": [
    {
     "name": "stdout",
     "output_type": "stream",
     "text": [
      "index                             1\n",
      "run_name             run_2019_02_20\n",
      "metgrid_path                geogrid\n",
      "config_path          run_2019_02_20\n",
      "data_path       runs/run_2019_02_20\n",
      "Name: 0, dtype: object\n",
      "date            2017-12-04 00:00:00\n",
      "ungrib_surf                       0\n",
      "ungrib_press                      0\n",
      "ungrib_lake                       0\n",
      "Name: 0, dtype: object\n",
      "/wrk/aliagadi/DONOTREMOVE/wrf_management_data/runs/run_2019_02_20/2017_12_04/ungrib_press\n",
      "/wrk/aliagadi/DONOTREMOVE/wrf_management_data/runs/run_2019_02_20/2017_12_04/ungrib_press/untar\n",
      "/homeappl/home/aliagadi/saltena_2018/wrf_management/wrf_management/config_dir/run_2019_02_20\n",
      "                  date  i  downloaded                      name  untarred  \\\n",
      "0  2017-12-04 00:00:00  3           1  cdas1.20171204.pgrbh.tar         0   \n",
      "\n",
      "    type  \n",
      "0  press  \n",
      "OrderedDict([('share', Namelist([('wrf_core', 'ARW'), ('max_dom', 4), ('start_date', ['2017-12-04_00:00:00', '2017-12-04_00:00:00', '2017-12-04_00:00:00', '2017-12-04_00:00:00']), ('end_date', ['2017-12-04_18:00:00', '2017-12-04_18:00:00', '2017-12-04_18:00:00', '2017-12-04_18:00:00']), ('interval_seconds', 21600), ('io_form_geogrid', 2)])), ('ungrib', Namelist([('out_format', 'WPS'), ('prefix', 'ungrib_press')]))])\n"
     ]
    }
   ],
   "source": [
    "importlib.reload(un)\n",
    "run_row = un.get_run_row()\n",
    "print(run_row)\n",
    "\n",
    "job_row = un.get_next_row(job=job)\n",
    "print(job_row)\n",
    "\n",
    "job_path = un.getmk_job_path(run_row,job_row,job)\n",
    "print(job_path)\n",
    "\n",
    "untar_path = os.path.join(job_path,'untar')\n",
    "print(untar_path)\n",
    "\n",
    "conf_path = un.get_conf_path(run_row)\n",
    "print(conf_path)\n",
    "\n",
    "type_rows = pd.DataFrame([un.get_type_row(ft,job_row) for ft in file_types])\n",
    "print(type_rows)\n",
    "\n",
    "name_list = un.skim_namelist_copy(\n",
    "    conf_path,job_path,date =job_row.date,prefix=job\n",
    ")\n",
    "print(name_list)"
   ]
  },
  {
   "cell_type": "code",
   "execution_count": 15,
   "metadata": {},
   "outputs": [
    {
     "name": "stdout",
     "output_type": "stream",
     "text": [
      "Vtable\n",
      "env_WRFv4.bash\n",
      "ungrib.exe\n",
      "link_grib.csh\n",
      "ungrib\n",
      "/wrk/aliagadi/DONOTREMOVE/wrf_management_data/press_tar/cdas1.20171204.pgrbh.tar\n"
     ]
    }
   ],
   "source": [
    "if gc.ID=='taito_login':\n",
    "    un.copy_hard_links(conf_path,job_path,LIST_H_LINKS)\n",
    "    un.copy_soft_links(gc.PATH_WPS,job_path,LIST_S_LINKS)\n",
    "    importlib.reload(un)\n",
    "    un.untar_the_files(type_rows,untar_path)"
   ]
  },
  {
   "cell_type": "code",
   "execution_count": null,
   "metadata": {},
   "outputs": [
    {
     "name": "stdout",
     "output_type": "stream",
     "text": [
      "#!/bin/bash\n",
      "cd /wrk/aliagadi/DONOTREMOVE/wrf_management_data/runs/run_2019_02_20/2017_12_04/ungrib_press\n",
      "./link_grib.csh ./untar/*\n",
      "source ./env_WRFv4.bash \n",
      "./ungrib.exe\n",
      "\n"
     ]
    }
   ],
   "source": [
    "run_script = \\\n",
    "\"\"\"#!/bin/bash\n",
    "cd {job_path}\n",
    "./link_grib.csh ./untar/*\n",
    "source ./env_WRFv4.bash \n",
    "./ungrib.exe\n",
    "\"\"\".format(job_path=job_path)\n",
    "print(run_script)\n",
    "bs_path = os.path.join(job_path,'run_me.sh')\n",
    "bs_file = open(bs_path,'w')\n",
    "bs_file.write(run_script)\n",
    "bs_file.close()"
   ]
  },
  {
   "cell_type": "code",
   "execution_count": null,
   "metadata": {},
   "outputs": [],
   "source": [
    "import subprocess as su\n",
    "res = su.run(['/bin/bash',bs_path],stdout=su.PIPE,stderr=su.PIPE)"
   ]
  },
  {
   "cell_type": "code",
   "execution_count": 97,
   "metadata": {},
   "outputs": [
    {
     "data": {
      "text/plain": [
       "0"
      ]
     },
     "execution_count": 97,
     "metadata": {},
     "output_type": "execute_result"
    }
   ],
   "source": [
    "res.returncode"
   ]
  },
  {
   "cell_type": "code",
   "execution_count": 27,
   "metadata": {},
   "outputs": [
    {
     "name": "stdout",
     "output_type": "stream",
     "text": [
      "False\n",
      "total 20\n",
      "-rwx------ 1 aliagadi  200 Feb 22 01:54 \u001b[0m\u001b[01;32menv_WRFv4.bash\u001b[0m*\n",
      "lrwxrwxrwx 1 aliagadi   53 Feb 22 01:17 \u001b[40;31;01mlink_grib.csh\u001b[0m -> \u001b[40;31;01m/tmp/wrf_management/app_folder/WRF4/WPS/link_grib.csh\u001b[0m\u001b[K\n",
      "-rw-r--r-- 1 aliagadi  407 Feb 22 02:41 namelist.wps\n",
      "lrwxrwxrwx 1 aliagadi   46 Feb 22 01:17 \u001b[40;31;01mungrib\u001b[0m -> \u001b[40;31;01m/tmp/wrf_management/app_folder/WRF4/WPS/ungrib\u001b[0m\n",
      "lrwxrwxrwx 1 aliagadi   54 Feb 22 02:41 \u001b[01;36mungrib.exe\u001b[0m -> \u001b[01;32m/homeappl/home/aliagadi/appl_taito/WRF4/WPS/ungrib.exe\u001b[0m\u001b[K*\n",
      "drwxr-xr-x 2 aliagadi 4096 Feb 22 01:33 \u001b[01;34muntar\u001b[0m/\n",
      "-rw------- 1 aliagadi 4586 Feb 22 01:54 Vtable\n",
      "\u001b[m"
     ]
    }
   ],
   "source": [
    "pp='/wrk/aliagadi/DONOTREMOVE/wrf_management_data/runs/run_2019_02_20/2017_12_01/ungrib_press/ungrib.exe'\n",
    "pp='/wrk/aliagadi/DONOTREMOVE/wrf_management_data/runs/run_2019_02_20/2017_12_01/ungrib_press/link_grib.csh'\n",
    "print(os.path.isfile(pp))\n",
    "%ll /wrk/aliagadi/DONOTREMOVE/wrf_management_data/runs/run_2019_02_20/2017_12_01/ungrib_press/\n"
   ]
  },
  {
   "cell_type": "code",
   "execution_count": null,
   "metadata": {},
   "outputs": [],
   "source": []
  }
 ],
 "metadata": {
  "jupytext": {
   "main_language": "python",
   "text_representation": {
    "extension": ".py",
    "format_name": "percent",
    "format_version": "1.2",
    "jupytext_version": "0.8.6"
   }
  },
  "kernelspec": {
   "display_name": "Python 3",
   "language": "python",
   "name": "python3"
  },
  "language_info": {
   "codemirror_mode": {
    "name": "ipython",
    "version": 3
   },
   "file_extension": ".py",
   "mimetype": "text/x-python",
   "name": "python",
   "nbconvert_exporter": "python",
   "pygments_lexer": "ipython3",
   "version": "3.6.8"
  }
 },
 "nbformat": 4,
 "nbformat_minor": 2
}
