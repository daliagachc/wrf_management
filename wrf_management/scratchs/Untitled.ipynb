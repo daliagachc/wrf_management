{
 "cells": [
  {
   "cell_type": "code",
   "execution_count": 115,
   "metadata": {},
   "outputs": [],
   "source": [
    "import wrf_management.utilities as ut\n",
    "import importlib\n",
    "importlib.reload(ut);\n",
    "import wrf_management.project_global_constants as gc\n",
    "importlib.reload(gc)\n",
    "import wrf_management.geogrid as geo\n",
    "import os\n",
    "import sqlite3 as sq\n",
    "import pandas as pd"
   ]
  },
  {
   "cell_type": "code",
   "execution_count": 107,
   "metadata": {},
   "outputs": [
    {
     "data": {
      "text/plain": [
       "'/tmp/wrf_management/db_folder/wrf_man.sqlite'"
      ]
     },
     "execution_count": 107,
     "metadata": {},
     "output_type": "execute_result"
    }
   ],
   "source": [
    "gc.PATH_DB"
   ]
  },
  {
   "cell_type": "code",
   "execution_count": 108,
   "metadata": {},
   "outputs": [],
   "source": [
    "con = sq.connect(gc.PATH_DB)"
   ]
  },
  {
   "cell_type": "code",
   "execution_count": 109,
   "metadata": {},
   "outputs": [
    {
     "data": {
      "text/html": [
       "<div>\n",
       "<style scoped>\n",
       "    .dataframe tbody tr th:only-of-type {\n",
       "        vertical-align: middle;\n",
       "    }\n",
       "\n",
       "    .dataframe tbody tr th {\n",
       "        vertical-align: top;\n",
       "    }\n",
       "\n",
       "    .dataframe thead th {\n",
       "        text-align: right;\n",
       "    }\n",
       "</style>\n",
       "<table border=\"1\" class=\"dataframe\">\n",
       "  <thead>\n",
       "    <tr style=\"text-align: right;\">\n",
       "      <th></th>\n",
       "      <th>type</th>\n",
       "      <th>name</th>\n",
       "      <th>tbl_name</th>\n",
       "      <th>rootpage</th>\n",
       "      <th>sql</th>\n",
       "    </tr>\n",
       "  </thead>\n",
       "  <tbody>\n",
       "    <tr>\n",
       "      <th>0</th>\n",
       "      <td>table</td>\n",
       "      <td>master_date</td>\n",
       "      <td>master_date</td>\n",
       "      <td>2</td>\n",
       "      <td>CREATE TABLE \"master_date\" (\\n\"date\" TIMESTAMP...</td>\n",
       "    </tr>\n",
       "    <tr>\n",
       "      <th>1</th>\n",
       "      <td>index</td>\n",
       "      <td>ix_master_date_date</td>\n",
       "      <td>master_date</td>\n",
       "      <td>3</td>\n",
       "      <td>CREATE INDEX \"ix_master_date_date\"ON \"master_d...</td>\n",
       "    </tr>\n",
       "    <tr>\n",
       "      <th>2</th>\n",
       "      <td>table</td>\n",
       "      <td>press</td>\n",
       "      <td>press</td>\n",
       "      <td>8</td>\n",
       "      <td>CREATE TABLE \"press\" (\\n\"date\" TEXT,\\n  \"i\" IN...</td>\n",
       "    </tr>\n",
       "    <tr>\n",
       "      <th>3</th>\n",
       "      <td>index</td>\n",
       "      <td>ix_press_date</td>\n",
       "      <td>press</td>\n",
       "      <td>9</td>\n",
       "      <td>CREATE INDEX \"ix_press_date\"ON \"press\" (\"date\")</td>\n",
       "    </tr>\n",
       "    <tr>\n",
       "      <th>4</th>\n",
       "      <td>table</td>\n",
       "      <td>surf_0</td>\n",
       "      <td>surf_0</td>\n",
       "      <td>14</td>\n",
       "      <td>CREATE TABLE \"surf_0\" (\\n\"date\" TEXT,\\n  \"i\" I...</td>\n",
       "    </tr>\n",
       "    <tr>\n",
       "      <th>5</th>\n",
       "      <td>index</td>\n",
       "      <td>ix_surf_0_date</td>\n",
       "      <td>surf_0</td>\n",
       "      <td>15</td>\n",
       "      <td>CREATE INDEX \"ix_surf_0_date\"ON \"surf_0\" (\"date\")</td>\n",
       "    </tr>\n",
       "    <tr>\n",
       "      <th>6</th>\n",
       "      <td>table</td>\n",
       "      <td>surf_1</td>\n",
       "      <td>surf_1</td>\n",
       "      <td>20</td>\n",
       "      <td>CREATE TABLE \"surf_1\" (\\n\"date\" TEXT,\\n  \"i\" I...</td>\n",
       "    </tr>\n",
       "    <tr>\n",
       "      <th>7</th>\n",
       "      <td>index</td>\n",
       "      <td>ix_surf_1_date</td>\n",
       "      <td>surf_1</td>\n",
       "      <td>21</td>\n",
       "      <td>CREATE INDEX \"ix_surf_1_date\"ON \"surf_1\" (\"date\")</td>\n",
       "    </tr>\n",
       "  </tbody>\n",
       "</table>\n",
       "</div>"
      ],
      "text/plain": [
       "    type                 name     tbl_name  rootpage  \\\n",
       "0  table          master_date  master_date         2   \n",
       "1  index  ix_master_date_date  master_date         3   \n",
       "2  table                press        press         8   \n",
       "3  index        ix_press_date        press         9   \n",
       "4  table               surf_0       surf_0        14   \n",
       "5  index       ix_surf_0_date       surf_0        15   \n",
       "6  table               surf_1       surf_1        20   \n",
       "7  index       ix_surf_1_date       surf_1        21   \n",
       "\n",
       "                                                 sql  \n",
       "0  CREATE TABLE \"master_date\" (\\n\"date\" TIMESTAMP...  \n",
       "1  CREATE INDEX \"ix_master_date_date\"ON \"master_d...  \n",
       "2  CREATE TABLE \"press\" (\\n\"date\" TEXT,\\n  \"i\" IN...  \n",
       "3    CREATE INDEX \"ix_press_date\"ON \"press\" (\"date\")  \n",
       "4  CREATE TABLE \"surf_0\" (\\n\"date\" TEXT,\\n  \"i\" I...  \n",
       "5  CREATE INDEX \"ix_surf_0_date\"ON \"surf_0\" (\"date\")  \n",
       "6  CREATE TABLE \"surf_1\" (\\n\"date\" TEXT,\\n  \"i\" I...  \n",
       "7  CREATE INDEX \"ix_surf_1_date\"ON \"surf_1\" (\"date\")  "
      ]
     },
     "execution_count": 109,
     "metadata": {},
     "output_type": "execute_result"
    }
   ],
   "source": [
    "pd.read_sql('select * from sqlite_master',con)"
   ]
  },
  {
   "cell_type": "code",
   "execution_count": 114,
   "metadata": {},
   "outputs": [
    {
     "data": {
      "text/html": [
       "<div>\n",
       "<style scoped>\n",
       "    .dataframe tbody tr th:only-of-type {\n",
       "        vertical-align: middle;\n",
       "    }\n",
       "\n",
       "    .dataframe tbody tr th {\n",
       "        vertical-align: top;\n",
       "    }\n",
       "\n",
       "    .dataframe thead th {\n",
       "        text-align: right;\n",
       "    }\n",
       "</style>\n",
       "<table border=\"1\" class=\"dataframe\">\n",
       "  <thead>\n",
       "    <tr style=\"text-align: right;\">\n",
       "      <th></th>\n",
       "      <th>comments</th>\n",
       "      <th>pogram</th>\n",
       "      <th>run_name</th>\n",
       "      <th>unique_id</th>\n",
       "    </tr>\n",
       "  </thead>\n",
       "  <tbody>\n",
       "    <tr>\n",
       "      <th>0</th>\n",
       "      <td>exploring geogrid</td>\n",
       "      <td>geogrid</td>\n",
       "      <td>2018_02_19</td>\n",
       "      <td>2019-02-21T15-04-27_476148_geogrid</td>\n",
       "    </tr>\n",
       "  </tbody>\n",
       "</table>\n",
       "</div>"
      ],
      "text/plain": [
       "            comments   pogram    run_name                           unique_id\n",
       "0  exploring geogrid  geogrid  2018_02_19  2019-02-21T15-04-27_476148_geogrid"
      ]
     },
     "execution_count": 114,
     "metadata": {},
     "output_type": "execute_result"
    }
   ],
   "source": [
    "df = pd.DataFrame(\n",
    "    [{\n",
    "        'run_name':gc.RUN_NAME,\n",
    "        'unique_id':'2019-02-21T15-04-27_476148_geogrid',\n",
    "        'pogram':'geogrid',\n",
    "        'comments':'exploring geogrid',\n",
    "     }]\n",
    ")\n",
    "df"
   ]
  },
  {
   "cell_type": "code",
   "execution_count": 111,
   "metadata": {},
   "outputs": [],
   "source": [
    "df.to_sql(gc.RUNS_TB_NAME,con)"
   ]
  },
  {
   "cell_type": "code",
   "execution_count": 60,
   "metadata": {},
   "outputs": [],
   "source": [
    "run_path = ut.get_run_data_path()\n",
    "os.makedirs(run_path)"
   ]
  },
  {
   "cell_type": "code",
   "execution_count": 61,
   "metadata": {},
   "outputs": [],
   "source": [
    "import datetime as dt "
   ]
  },
  {
   "cell_type": "code",
   "execution_count": 89,
   "metadata": {},
   "outputs": [],
   "source": [
    "unique_id = ut.get_unique_id()"
   ]
  },
  {
   "cell_type": "code",
   "execution_count": 90,
   "metadata": {},
   "outputs": [
    {
     "data": {
      "text/plain": [
       "'2019-02-21T15-04-27_476148'"
      ]
     },
     "execution_count": 90,
     "metadata": {},
     "output_type": "execute_result"
    }
   ],
   "source": [
    "unique_id"
   ]
  },
  {
   "cell_type": "code",
   "execution_count": 112,
   "metadata": {},
   "outputs": [
    {
     "data": {
      "text/html": [
       "<div>\n",
       "<style scoped>\n",
       "    .dataframe tbody tr th:only-of-type {\n",
       "        vertical-align: middle;\n",
       "    }\n",
       "\n",
       "    .dataframe tbody tr th {\n",
       "        vertical-align: top;\n",
       "    }\n",
       "\n",
       "    .dataframe thead th {\n",
       "        text-align: right;\n",
       "    }\n",
       "</style>\n",
       "<table border=\"1\" class=\"dataframe\">\n",
       "  <thead>\n",
       "    <tr style=\"text-align: right;\">\n",
       "      <th></th>\n",
       "      <th>tbl_name</th>\n",
       "    </tr>\n",
       "  </thead>\n",
       "  <tbody>\n",
       "    <tr>\n",
       "      <th>0</th>\n",
       "      <td>master_date</td>\n",
       "    </tr>\n",
       "    <tr>\n",
       "      <th>1</th>\n",
       "      <td>press</td>\n",
       "    </tr>\n",
       "    <tr>\n",
       "      <th>2</th>\n",
       "      <td>surf_0</td>\n",
       "    </tr>\n",
       "    <tr>\n",
       "      <th>3</th>\n",
       "      <td>surf_1</td>\n",
       "    </tr>\n",
       "    <tr>\n",
       "      <th>4</th>\n",
       "      <td>runs_table</td>\n",
       "    </tr>\n",
       "  </tbody>\n",
       "</table>\n",
       "</div>"
      ],
      "text/plain": [
       "      tbl_name\n",
       "0  master_date\n",
       "1        press\n",
       "2       surf_0\n",
       "3       surf_1\n",
       "4   runs_table"
      ]
     },
     "execution_count": 112,
     "metadata": {},
     "output_type": "execute_result"
    }
   ],
   "source": [
    "ut.list_table_names()"
   ]
  },
  {
   "cell_type": "code",
   "execution_count": 100,
   "metadata": {},
   "outputs": [],
   "source": []
  },
  {
   "cell_type": "code",
   "execution_count": null,
   "metadata": {},
   "outputs": [],
   "source": []
  }
 ],
 "metadata": {
  "jupytext": {
   "text_representation": {
    "extension": ".py",
    "format_name": "percent",
    "format_version": "1.2",
    "jupytext_version": "0.8.6"
   }
  },
  "kernelspec": {
   "display_name": "Python 3",
   "language": "python",
   "name": "python3"
  },
  "language_info": {
   "codemirror_mode": {
    "name": "ipython",
    "version": 3
   },
   "file_extension": ".py",
   "mimetype": "text/x-python",
   "name": "python",
   "nbconvert_exporter": "python",
   "pygments_lexer": "ipython3",
   "version": "3.6.7"
  }
 },
 "nbformat": 4,
 "nbformat_minor": 2
}
