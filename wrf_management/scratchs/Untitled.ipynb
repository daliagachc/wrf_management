{
 "cells": [
  {
   "cell_type": "code",
   "execution_count": 428,
   "metadata": {},
   "outputs": [],
   "source": [
    "import wrf_management.utilities as ut\n",
    "import importlib\n",
    "importlib.reload(ut);\n",
    "import wrf_management.project_global_constants as gc\n",
    "importlib.reload(gc)\n",
    "import wrf_management.geogrid as geo\n",
    "import os\n",
    "import sqlite3 as sq\n",
    "import pandas as pd\n",
    "import wrf_management.base_namelists.base_namelists as bn\n",
    "importlib.reload(bn);\n",
    "import f90nml"
   ]
  },
  {
   "cell_type": "code",
   "execution_count": 429,
   "metadata": {},
   "outputs": [
    {
     "data": {
      "text/plain": [
       "'/tmp/wrf_management/db_folder/wrf_man.sqlite'"
      ]
     },
     "execution_count": 429,
     "metadata": {},
     "output_type": "execute_result"
    }
   ],
   "source": [
    "gc.PATH_DB"
   ]
  },
  {
   "cell_type": "code",
   "execution_count": 430,
   "metadata": {},
   "outputs": [],
   "source": [
    "con = sq.connect(gc.PATH_DB)"
   ]
  },
  {
   "cell_type": "code",
   "execution_count": 431,
   "metadata": {},
   "outputs": [
    {
     "data": {
      "text/html": [
       "<div>\n",
       "<style scoped>\n",
       "    .dataframe tbody tr th:only-of-type {\n",
       "        vertical-align: middle;\n",
       "    }\n",
       "\n",
       "    .dataframe tbody tr th {\n",
       "        vertical-align: top;\n",
       "    }\n",
       "\n",
       "    .dataframe thead th {\n",
       "        text-align: right;\n",
       "    }\n",
       "</style>\n",
       "<table border=\"1\" class=\"dataframe\">\n",
       "  <thead>\n",
       "    <tr style=\"text-align: right;\">\n",
       "      <th></th>\n",
       "      <th>type</th>\n",
       "      <th>name</th>\n",
       "      <th>tbl_name</th>\n",
       "      <th>rootpage</th>\n",
       "      <th>sql</th>\n",
       "    </tr>\n",
       "  </thead>\n",
       "  <tbody>\n",
       "    <tr>\n",
       "      <th>0</th>\n",
       "      <td>table</td>\n",
       "      <td>master_date</td>\n",
       "      <td>master_date</td>\n",
       "      <td>2</td>\n",
       "      <td>CREATE TABLE \"master_date\" (\\n\"date\" TIMESTAMP...</td>\n",
       "    </tr>\n",
       "    <tr>\n",
       "      <th>1</th>\n",
       "      <td>index</td>\n",
       "      <td>ix_master_date_date</td>\n",
       "      <td>master_date</td>\n",
       "      <td>3</td>\n",
       "      <td>CREATE INDEX \"ix_master_date_date\"ON \"master_d...</td>\n",
       "    </tr>\n",
       "    <tr>\n",
       "      <th>2</th>\n",
       "      <td>table</td>\n",
       "      <td>runs_table</td>\n",
       "      <td>runs_table</td>\n",
       "      <td>29</td>\n",
       "      <td>CREATE TABLE \"runs_table\" (\\n\"index\" INTEGER,\\...</td>\n",
       "    </tr>\n",
       "    <tr>\n",
       "      <th>3</th>\n",
       "      <td>index</td>\n",
       "      <td>ix_runs_table_index</td>\n",
       "      <td>runs_table</td>\n",
       "      <td>30</td>\n",
       "      <td>CREATE INDEX \"ix_runs_table_index\"ON \"runs_tab...</td>\n",
       "    </tr>\n",
       "    <tr>\n",
       "      <th>4</th>\n",
       "      <td>table</td>\n",
       "      <td>run_unique_id</td>\n",
       "      <td>run_unique_id</td>\n",
       "      <td>33</td>\n",
       "      <td>CREATE TABLE \"run_unique_id\" (\\n\\t\"unique_id\"\\...</td>\n",
       "    </tr>\n",
       "    <tr>\n",
       "      <th>5</th>\n",
       "      <td>index</td>\n",
       "      <td>sqlite_autoindex_run_unique_id_1</td>\n",
       "      <td>run_unique_id</td>\n",
       "      <td>34</td>\n",
       "      <td>None</td>\n",
       "    </tr>\n",
       "    <tr>\n",
       "      <th>6</th>\n",
       "      <td>index</td>\n",
       "      <td>ix_run_unique_id_unique_id</td>\n",
       "      <td>run_unique_id</td>\n",
       "      <td>31</td>\n",
       "      <td>CREATE INDEX \"ix_run_unique_id_unique_id\" ON \"...</td>\n",
       "    </tr>\n",
       "    <tr>\n",
       "      <th>7</th>\n",
       "      <td>table</td>\n",
       "      <td>press</td>\n",
       "      <td>press</td>\n",
       "      <td>11</td>\n",
       "      <td>CREATE TABLE \"press\" (\\n\\t\"date\"\\tTIMESTAMP,\\n...</td>\n",
       "    </tr>\n",
       "    <tr>\n",
       "      <th>8</th>\n",
       "      <td>index</td>\n",
       "      <td>ix_press_date</td>\n",
       "      <td>press</td>\n",
       "      <td>8</td>\n",
       "      <td>CREATE INDEX \"ix_press_date\" ON \"press\" (\\n\\t\"...</td>\n",
       "    </tr>\n",
       "    <tr>\n",
       "      <th>9</th>\n",
       "      <td>table</td>\n",
       "      <td>surf_0</td>\n",
       "      <td>surf_0</td>\n",
       "      <td>17</td>\n",
       "      <td>CREATE TABLE \"surf_0\" (\\n\\t\"date\"\\tTIMESTAMP,\\...</td>\n",
       "    </tr>\n",
       "    <tr>\n",
       "      <th>10</th>\n",
       "      <td>index</td>\n",
       "      <td>sqlite_autoindex_surf_0_1</td>\n",
       "      <td>surf_0</td>\n",
       "      <td>19</td>\n",
       "      <td>None</td>\n",
       "    </tr>\n",
       "    <tr>\n",
       "      <th>11</th>\n",
       "      <td>index</td>\n",
       "      <td>ix_surf_0_date</td>\n",
       "      <td>surf_0</td>\n",
       "      <td>14</td>\n",
       "      <td>CREATE INDEX \"ix_surf_0_date\" ON \"surf_0\" (\\n\\...</td>\n",
       "    </tr>\n",
       "    <tr>\n",
       "      <th>12</th>\n",
       "      <td>table</td>\n",
       "      <td>surf_1</td>\n",
       "      <td>surf_1</td>\n",
       "      <td>23</td>\n",
       "      <td>CREATE TABLE \"surf_1\" (\\n\\t\"date\"\\tTIMESTAMP,\\...</td>\n",
       "    </tr>\n",
       "    <tr>\n",
       "      <th>13</th>\n",
       "      <td>index</td>\n",
       "      <td>sqlite_autoindex_surf_1_1</td>\n",
       "      <td>surf_1</td>\n",
       "      <td>25</td>\n",
       "      <td>None</td>\n",
       "    </tr>\n",
       "    <tr>\n",
       "      <th>14</th>\n",
       "      <td>index</td>\n",
       "      <td>ix_surf_1_date</td>\n",
       "      <td>surf_1</td>\n",
       "      <td>20</td>\n",
       "      <td>CREATE INDEX \"ix_surf_1_date\" ON \"surf_1\" (\\n\\...</td>\n",
       "    </tr>\n",
       "  </tbody>\n",
       "</table>\n",
       "</div>"
      ],
      "text/plain": [
       "     type                              name       tbl_name  rootpage  \\\n",
       "0   table                       master_date    master_date         2   \n",
       "1   index               ix_master_date_date    master_date         3   \n",
       "2   table                        runs_table     runs_table        29   \n",
       "3   index               ix_runs_table_index     runs_table        30   \n",
       "4   table                     run_unique_id  run_unique_id        33   \n",
       "5   index  sqlite_autoindex_run_unique_id_1  run_unique_id        34   \n",
       "6   index        ix_run_unique_id_unique_id  run_unique_id        31   \n",
       "7   table                             press          press        11   \n",
       "8   index                     ix_press_date          press         8   \n",
       "9   table                            surf_0         surf_0        17   \n",
       "10  index         sqlite_autoindex_surf_0_1         surf_0        19   \n",
       "11  index                    ix_surf_0_date         surf_0        14   \n",
       "12  table                            surf_1         surf_1        23   \n",
       "13  index         sqlite_autoindex_surf_1_1         surf_1        25   \n",
       "14  index                    ix_surf_1_date         surf_1        20   \n",
       "\n",
       "                                                  sql  \n",
       "0   CREATE TABLE \"master_date\" (\\n\"date\" TIMESTAMP...  \n",
       "1   CREATE INDEX \"ix_master_date_date\"ON \"master_d...  \n",
       "2   CREATE TABLE \"runs_table\" (\\n\"index\" INTEGER,\\...  \n",
       "3   CREATE INDEX \"ix_runs_table_index\"ON \"runs_tab...  \n",
       "4   CREATE TABLE \"run_unique_id\" (\\n\\t\"unique_id\"\\...  \n",
       "5                                                None  \n",
       "6   CREATE INDEX \"ix_run_unique_id_unique_id\" ON \"...  \n",
       "7   CREATE TABLE \"press\" (\\n\\t\"date\"\\tTIMESTAMP,\\n...  \n",
       "8   CREATE INDEX \"ix_press_date\" ON \"press\" (\\n\\t\"...  \n",
       "9   CREATE TABLE \"surf_0\" (\\n\\t\"date\"\\tTIMESTAMP,\\...  \n",
       "10                                               None  \n",
       "11  CREATE INDEX \"ix_surf_0_date\" ON \"surf_0\" (\\n\\...  \n",
       "12  CREATE TABLE \"surf_1\" (\\n\\t\"date\"\\tTIMESTAMP,\\...  \n",
       "13                                               None  \n",
       "14  CREATE INDEX \"ix_surf_1_date\" ON \"surf_1\" (\\n\\...  "
      ]
     },
     "execution_count": 431,
     "metadata": {},
     "output_type": "execute_result"
    }
   ],
   "source": [
    "pd.read_sql('select * from sqlite_master',con)"
   ]
  },
  {
   "cell_type": "code",
   "execution_count": 432,
   "metadata": {},
   "outputs": [],
   "source": [
    "df = pd.DataFrame(\n",
    "    [{\n",
    "        'run_name':gc.RUN_NAME,\n",
    "        'unique_id':'2019-02-21T15-04-27_476148_geogrid',\n",
    "        'program':'geogrid',\n",
    "        'comments':'exploring geogrid',\n",
    "     }]\n",
    ")\n",
    "df=df.set_index('unique_id')"
   ]
  },
  {
   "cell_type": "code",
   "execution_count": 433,
   "metadata": {},
   "outputs": [],
   "source": [
    "# df.to_sql(gc.UNIQUE_ID_RUN_TB_NAME,con,if_exists='replace',index_label='unique_id')"
   ]
  },
  {
   "cell_type": "code",
   "execution_count": 434,
   "metadata": {},
   "outputs": [],
   "source": [
    "run_path = ut.get_run_data_path()\n",
    "os.makedirs(run_path, exist_ok=True)"
   ]
  },
  {
   "cell_type": "code",
   "execution_count": 435,
   "metadata": {},
   "outputs": [],
   "source": [
    "import datetime as dt "
   ]
  },
  {
   "cell_type": "code",
   "execution_count": 436,
   "metadata": {},
   "outputs": [
    {
     "ename": "TypeError",
     "evalue": "get_unique_id() missing 1 required positional argument: 'program'",
     "output_type": "error",
     "traceback": [
      "\u001b[0;31m---------------------------------------------------------------------------\u001b[0m",
      "\u001b[0;31mTypeError\u001b[0m                                 Traceback (most recent call last)",
      "\u001b[0;32m<ipython-input-436-ff29509dcc1a>\u001b[0m in \u001b[0;36m<module>\u001b[0;34m\u001b[0m\n\u001b[0;32m----> 1\u001b[0;31m \u001b[0munique_id\u001b[0m \u001b[0;34m=\u001b[0m \u001b[0mut\u001b[0m\u001b[0;34m.\u001b[0m\u001b[0mget_unique_id\u001b[0m\u001b[0;34m(\u001b[0m\u001b[0;34m)\u001b[0m\u001b[0;34m\u001b[0m\u001b[0;34m\u001b[0m\u001b[0m\n\u001b[0m",
      "\u001b[0;31mTypeError\u001b[0m: get_unique_id() missing 1 required positional argument: 'program'"
     ]
    }
   ],
   "source": [
    "unique_id = ut.get_unique_id()"
   ]
  },
  {
   "cell_type": "code",
   "execution_count": 90,
   "metadata": {},
   "outputs": [
    {
     "data": {
      "text/plain": [
       "'2019-02-21T15-04-27_476148'"
      ]
     },
     "execution_count": 90,
     "metadata": {},
     "output_type": "execute_result"
    }
   ],
   "source": [
    "unique_id"
   ]
  },
  {
   "cell_type": "code",
   "execution_count": 437,
   "metadata": {},
   "outputs": [
    {
     "data": {
      "text/html": [
       "<div>\n",
       "<style scoped>\n",
       "    .dataframe tbody tr th:only-of-type {\n",
       "        vertical-align: middle;\n",
       "    }\n",
       "\n",
       "    .dataframe tbody tr th {\n",
       "        vertical-align: top;\n",
       "    }\n",
       "\n",
       "    .dataframe thead th {\n",
       "        text-align: right;\n",
       "    }\n",
       "</style>\n",
       "<table border=\"1\" class=\"dataframe\">\n",
       "  <thead>\n",
       "    <tr style=\"text-align: right;\">\n",
       "      <th></th>\n",
       "      <th>tbl_name</th>\n",
       "    </tr>\n",
       "  </thead>\n",
       "  <tbody>\n",
       "    <tr>\n",
       "      <th>0</th>\n",
       "      <td>master_date</td>\n",
       "    </tr>\n",
       "    <tr>\n",
       "      <th>1</th>\n",
       "      <td>runs_table</td>\n",
       "    </tr>\n",
       "    <tr>\n",
       "      <th>2</th>\n",
       "      <td>run_unique_id</td>\n",
       "    </tr>\n",
       "    <tr>\n",
       "      <th>3</th>\n",
       "      <td>press</td>\n",
       "    </tr>\n",
       "    <tr>\n",
       "      <th>4</th>\n",
       "      <td>surf_0</td>\n",
       "    </tr>\n",
       "    <tr>\n",
       "      <th>5</th>\n",
       "      <td>surf_1</td>\n",
       "    </tr>\n",
       "  </tbody>\n",
       "</table>\n",
       "</div>"
      ],
      "text/plain": [
       "        tbl_name\n",
       "0    master_date\n",
       "1     runs_table\n",
       "2  run_unique_id\n",
       "3          press\n",
       "4         surf_0\n",
       "5         surf_1"
      ]
     },
     "execution_count": 437,
     "metadata": {},
     "output_type": "execute_result"
    }
   ],
   "source": [
    "ut.list_table_names()"
   ]
  },
  {
   "cell_type": "code",
   "execution_count": 439,
   "metadata": {},
   "outputs": [],
   "source": [
    "df = ut.get_tb_from_name(tb_name='run_unique_id')"
   ]
  },
  {
   "cell_type": "code",
   "execution_count": 440,
   "metadata": {},
   "outputs": [
    {
     "data": {
      "text/html": [
       "<div>\n",
       "<style scoped>\n",
       "    .dataframe tbody tr th:only-of-type {\n",
       "        vertical-align: middle;\n",
       "    }\n",
       "\n",
       "    .dataframe tbody tr th {\n",
       "        vertical-align: top;\n",
       "    }\n",
       "\n",
       "    .dataframe thead th {\n",
       "        text-align: right;\n",
       "    }\n",
       "</style>\n",
       "<table border=\"1\" class=\"dataframe\">\n",
       "  <thead>\n",
       "    <tr style=\"text-align: right;\">\n",
       "      <th></th>\n",
       "      <th>unique_id</th>\n",
       "      <th>comments</th>\n",
       "      <th>program</th>\n",
       "      <th>run_name</th>\n",
       "    </tr>\n",
       "  </thead>\n",
       "  <tbody>\n",
       "    <tr>\n",
       "      <th>0</th>\n",
       "      <td>2019-02-21T15-04-27_476148_geogrid</td>\n",
       "      <td>exploring geogrid. didnt work as expected</td>\n",
       "      <td>geogrid</td>\n",
       "      <td>2018_02_19</td>\n",
       "    </tr>\n",
       "    <tr>\n",
       "      <th>1</th>\n",
       "      <td>2019-02-21T17-29-01_753696_ungrib_ungrib</td>\n",
       "      <td>first run</td>\n",
       "      <td>ungrib</td>\n",
       "      <td>2018_02_19</td>\n",
       "    </tr>\n",
       "  </tbody>\n",
       "</table>\n",
       "</div>"
      ],
      "text/plain": [
       "                                  unique_id  \\\n",
       "0        2019-02-21T15-04-27_476148_geogrid   \n",
       "1  2019-02-21T17-29-01_753696_ungrib_ungrib   \n",
       "\n",
       "                                    comments  program    run_name  \n",
       "0  exploring geogrid. didnt work as expected  geogrid  2018_02_19  \n",
       "1                                  first run   ungrib  2018_02_19  "
      ]
     },
     "execution_count": 440,
     "metadata": {},
     "output_type": "execute_result"
    }
   ],
   "source": [
    "df"
   ]
  },
  {
   "cell_type": "code",
   "execution_count": 124,
   "metadata": {},
   "outputs": [],
   "source": [
    "path = '/private/tmp/wrf_management/data_folder/runs/2018_02_19/2019-02-21T15-04-27_476148_geogrid/namelist.wps'"
   ]
  },
  {
   "cell_type": "code",
   "execution_count": 147,
   "metadata": {},
   "outputs": [],
   "source": [
    "importlib.reload(bn);\n",
    "o1,o2,o3 = bn.sanity_check(path_wps=path,path_wrf='../config_dir/run_2018_02_19/namelist.wps')"
   ]
  },
  {
   "cell_type": "code",
   "execution_count": 148,
   "metadata": {},
   "outputs": [
    {
     "data": {
      "text/plain": [
       "False"
      ]
     },
     "execution_count": 148,
     "metadata": {},
     "output_type": "execute_result"
    }
   ],
   "source": [
    "o1"
   ]
  },
  {
   "cell_type": "code",
   "execution_count": 152,
   "metadata": {},
   "outputs": [
    {
     "data": {
      "text/html": [
       "<div>\n",
       "<style scoped>\n",
       "    .dataframe tbody tr th:only-of-type {\n",
       "        vertical-align: middle;\n",
       "    }\n",
       "\n",
       "    .dataframe tbody tr th {\n",
       "        vertical-align: top;\n",
       "    }\n",
       "\n",
       "    .dataframe thead th {\n",
       "        text-align: right;\n",
       "    }\n",
       "</style>\n",
       "<table border=\"1\" class=\"dataframe\">\n",
       "  <thead>\n",
       "    <tr style=\"text-align: right;\">\n",
       "      <th></th>\n",
       "      <th>d1</th>\n",
       "      <th>d2</th>\n",
       "      <th>pass</th>\n",
       "    </tr>\n",
       "  </thead>\n",
       "  <tbody>\n",
       "    <tr>\n",
       "      <th>e_sn</th>\n",
       "      <td>[86, 205, 214, 151]</td>\n",
       "      <td>[86, 205, 214, 79]</td>\n",
       "      <td>False</td>\n",
       "    </tr>\n",
       "    <tr>\n",
       "      <th>e_we</th>\n",
       "      <td>[118, 253, 274, 154]</td>\n",
       "      <td>[118, 253, 274, 100]</td>\n",
       "      <td>False</td>\n",
       "    </tr>\n",
       "    <tr>\n",
       "      <th>i_parent_start</th>\n",
       "      <td>[1, 28, 80, 61]</td>\n",
       "      <td>[1, 28, 80, 65]</td>\n",
       "      <td>False</td>\n",
       "    </tr>\n",
       "    <tr>\n",
       "      <th>j_parent_start</th>\n",
       "      <td>[1, 18, 65, 110]</td>\n",
       "      <td>[1, 18, 65, 132]</td>\n",
       "      <td>False</td>\n",
       "    </tr>\n",
       "    <tr>\n",
       "      <th>stand_lon</th>\n",
       "      <td>-66.3</td>\n",
       "      <td>-68.13</td>\n",
       "      <td>False</td>\n",
       "    </tr>\n",
       "  </tbody>\n",
       "</table>\n",
       "</div>"
      ],
      "text/plain": [
       "                                  d1                    d2   pass\n",
       "e_sn             [86, 205, 214, 151]    [86, 205, 214, 79]  False\n",
       "e_we            [118, 253, 274, 154]  [118, 253, 274, 100]  False\n",
       "i_parent_start       [1, 28, 80, 61]       [1, 28, 80, 65]  False\n",
       "j_parent_start      [1, 18, 65, 110]      [1, 18, 65, 132]  False\n",
       "stand_lon                      -66.3                -68.13  False"
      ]
     },
     "execution_count": 152,
     "metadata": {},
     "output_type": "execute_result"
    }
   ],
   "source": [
    "o2[o2['pass'] == False]"
   ]
  },
  {
   "cell_type": "code",
   "execution_count": 234,
   "metadata": {},
   "outputs": [
    {
     "data": {
      "text/plain": [
       "OrderedDict([('share',\n",
       "              Namelist([('wrf_core', 'ARW'),\n",
       "                        ('max_dom', 4),\n",
       "                        ('io_form_geogrid', 2)])),\n",
       "             ('geogrid',\n",
       "              Namelist([('parent_id', [1, 1, 2, 3]),\n",
       "                        ('parent_grid_ratio', [1, 4, 3, 3]),\n",
       "                        ('i_parent_start', [1, 28, 80, 61]),\n",
       "                        ('j_parent_start', [1, 18, 65, 110]),\n",
       "                        ('e_we', [118, 253, 274, 154]),\n",
       "                        ('e_sn', [86, 205, 214, 151]),\n",
       "                        ('geog_data_res',\n",
       "                         ['default', 'default', 'default', 'default']),\n",
       "                        ('dx', 38000),\n",
       "                        ('dy', 38000),\n",
       "                        ('map_proj', 'mercator'),\n",
       "                        ('ref_lat', -17),\n",
       "                        ('ref_lon', -66.3),\n",
       "                        ('truelat1', 30.0),\n",
       "                        ('truelat2', 60.0),\n",
       "                        ('stand_lon', -66.3),\n",
       "                        ('geog_data_path', '/proj/atm/WRF/WPS_GEOG/')]))])"
      ]
     },
     "execution_count": 234,
     "metadata": {},
     "output_type": "execute_result"
    }
   ],
   "source": [
    "in_path = '../config_dir/2018_02_19/namelist.wps'\n",
    "ou_path = '/tmp/borrar.wps'\n",
    "importlib.reload(geo)\n",
    "geo.skim_namelist(in_path, ou_path)"
   ]
  },
  {
   "cell_type": "code",
   "execution_count": 252,
   "metadata": {},
   "outputs": [
    {
     "data": {
      "text/html": [
       "<div>\n",
       "<style scoped>\n",
       "    .dataframe tbody tr th:only-of-type {\n",
       "        vertical-align: middle;\n",
       "    }\n",
       "\n",
       "    .dataframe tbody tr th {\n",
       "        vertical-align: top;\n",
       "    }\n",
       "\n",
       "    .dataframe thead th {\n",
       "        text-align: right;\n",
       "    }\n",
       "</style>\n",
       "<table border=\"1\" class=\"dataframe\">\n",
       "  <thead>\n",
       "    <tr style=\"text-align: right;\">\n",
       "      <th></th>\n",
       "      <th>index</th>\n",
       "      <th>comments</th>\n",
       "      <th>pogram</th>\n",
       "      <th>run_name</th>\n",
       "      <th>unique_id</th>\n",
       "    </tr>\n",
       "  </thead>\n",
       "  <tbody>\n",
       "    <tr>\n",
       "      <th>0</th>\n",
       "      <td>0</td>\n",
       "      <td>exploring geogrid</td>\n",
       "      <td>geogrid</td>\n",
       "      <td>2018_02_19</td>\n",
       "      <td>2019-02-21T15-04-27_476148_geogrid</td>\n",
       "    </tr>\n",
       "  </tbody>\n",
       "</table>\n",
       "</div>"
      ],
      "text/plain": [
       "   index           comments   pogram    run_name  \\\n",
       "0      0  exploring geogrid  geogrid  2018_02_19   \n",
       "\n",
       "                            unique_id  \n",
       "0  2019-02-21T15-04-27_476148_geogrid  "
      ]
     },
     "execution_count": 252,
     "metadata": {},
     "output_type": "execute_result"
    }
   ],
   "source": [
    "ut.get_tb_from_name(tb_name='run_unique_id')"
   ]
  },
  {
   "cell_type": "code",
   "execution_count": 236,
   "metadata": {},
   "outputs": [],
   "source": [
    "UID = '2019-02-21T15-04-27_476148_geogrid'"
   ]
  },
  {
   "cell_type": "code",
   "execution_count": 241,
   "metadata": {},
   "outputs": [
    {
     "name": "stdout",
     "output_type": "stream",
     "text": [
      "/tmp/wrf_management/data_folder/runs/2018_02_19/2019-02-21T15-04-27_476148_geogrid\n"
     ]
    }
   ],
   "source": [
    "upath = os.path.join(gc.PATH_DATA,'runs','2018_02_19',UID)\n",
    "print(upath)\n",
    "ou_path = os.path.join(upath,'namelist.wps')"
   ]
  },
  {
   "cell_type": "code",
   "execution_count": 243,
   "metadata": {},
   "outputs": [
    {
     "data": {
      "text/plain": [
       "OrderedDict([('share',\n",
       "              Namelist([('wrf_core', 'ARW'),\n",
       "                        ('max_dom', 4),\n",
       "                        ('io_form_geogrid', 2)])),\n",
       "             ('geogrid',\n",
       "              Namelist([('parent_id', [1, 1, 2, 3]),\n",
       "                        ('parent_grid_ratio', [1, 4, 3, 3]),\n",
       "                        ('i_parent_start', [1, 28, 80, 61]),\n",
       "                        ('j_parent_start', [1, 18, 65, 110]),\n",
       "                        ('e_we', [118, 253, 274, 154]),\n",
       "                        ('e_sn', [86, 205, 214, 151]),\n",
       "                        ('geog_data_res',\n",
       "                         ['default', 'default', 'default', 'default']),\n",
       "                        ('dx', 38000),\n",
       "                        ('dy', 38000),\n",
       "                        ('map_proj', 'mercator'),\n",
       "                        ('ref_lat', -17),\n",
       "                        ('ref_lon', -66.3),\n",
       "                        ('truelat1', 30.0),\n",
       "                        ('truelat2', 60.0),\n",
       "                        ('stand_lon', -66.3),\n",
       "                        ('geog_data_path', '/proj/atm/WRF/WPS_GEOG/')]))])"
      ]
     },
     "execution_count": 243,
     "metadata": {},
     "output_type": "execute_result"
    }
   ],
   "source": [
    "os.remove(ou_path)\n",
    "geo.skim_namelist(in_path,ou_path)"
   ]
  },
  {
   "cell_type": "code",
   "execution_count": 385,
   "metadata": {},
   "outputs": [
    {
     "name": "stdout",
     "output_type": "stream",
     "text": [
      "2019-02-21T19-07-34_958530_ungrib\n"
     ]
    }
   ],
   "source": [
    "importlib.reload(ut)\n",
    "program = 'ungrib'\n",
    "unique_id = ut.get_unique_id(program)\n",
    "print(unique_id)\n",
    "unique_id = '2019-02-21T17-29-01_753696_ungrib'"
   ]
  },
  {
   "cell_type": "code",
   "execution_count": 386,
   "metadata": {},
   "outputs": [
    {
     "name": "stdout",
     "output_type": "stream",
     "text": [
      "/tmp/wrf_management/data_folder/runs/2018_02_19/2019-02-21T17-29-01_753696_ungrib\n"
     ]
    }
   ],
   "source": [
    "importlib.reload(ut)\n",
    "new_path = ut.get_new_unique_path_for_program(unique_id=unique_id)\n",
    "print(new_path)\n",
    "new_path = '/tmp/wrf_management/data_folder/runs/2018_02_19/2019-02-21T17-29-01_753696_ungrib'"
   ]
  },
  {
   "cell_type": "code",
   "execution_count": 387,
   "metadata": {},
   "outputs": [
    {
     "name": "stdout",
     "output_type": "stream",
     "text": [
      "\n",
      "    insert into run_unique_id\n",
      "    (comments, program, run_name, unique_id)\n",
      "    values \n",
      "    ('first run', 'ungrib', '2018_02_19', '2019-02-21T17-29-01_753696_ungrib_ungrib')\n",
      "    \n"
     ]
    }
   ],
   "source": [
    "importlib.reload(ut)\n",
    "ut.add_unique_id_run_db(unique_id=unique_id+'_ungrib',program_nm='ungrib',comment='first run')\n",
    "con.commit()"
   ]
  },
  {
   "cell_type": "code",
   "execution_count": 388,
   "metadata": {},
   "outputs": [
    {
     "data": {
      "text/html": [
       "<div>\n",
       "<style scoped>\n",
       "    .dataframe tbody tr th:only-of-type {\n",
       "        vertical-align: middle;\n",
       "    }\n",
       "\n",
       "    .dataframe tbody tr th {\n",
       "        vertical-align: top;\n",
       "    }\n",
       "\n",
       "    .dataframe thead th {\n",
       "        text-align: right;\n",
       "    }\n",
       "</style>\n",
       "<table border=\"1\" class=\"dataframe\">\n",
       "  <thead>\n",
       "    <tr style=\"text-align: right;\">\n",
       "      <th></th>\n",
       "      <th>unique_id</th>\n",
       "      <th>comments</th>\n",
       "      <th>program</th>\n",
       "      <th>run_name</th>\n",
       "    </tr>\n",
       "  </thead>\n",
       "  <tbody>\n",
       "    <tr>\n",
       "      <th>0</th>\n",
       "      <td>2019-02-21T15-04-27_476148_geogrid</td>\n",
       "      <td>exploring geogrid</td>\n",
       "      <td>geogrid</td>\n",
       "      <td>2018_02_19</td>\n",
       "    </tr>\n",
       "    <tr>\n",
       "      <th>1</th>\n",
       "      <td>2019-02-21T17-29-01_753696_ungrib_ungrib</td>\n",
       "      <td>first run</td>\n",
       "      <td>ungrib</td>\n",
       "      <td>2018_02_19</td>\n",
       "    </tr>\n",
       "  </tbody>\n",
       "</table>\n",
       "</div>"
      ],
      "text/plain": [
       "                                  unique_id           comments  program  \\\n",
       "0        2019-02-21T15-04-27_476148_geogrid  exploring geogrid  geogrid   \n",
       "1  2019-02-21T17-29-01_753696_ungrib_ungrib          first run   ungrib   \n",
       "\n",
       "     run_name  \n",
       "0  2018_02_19  \n",
       "1  2018_02_19  "
      ]
     },
     "execution_count": 388,
     "metadata": {},
     "output_type": "execute_result"
    }
   ],
   "source": [
    "ut.get_tb_from_name(tb_name='run_unique_id')"
   ]
  },
  {
   "cell_type": "code",
   "execution_count": 294,
   "metadata": {},
   "outputs": [
    {
     "data": {
      "text/html": [
       "<div>\n",
       "<style scoped>\n",
       "    .dataframe tbody tr th:only-of-type {\n",
       "        vertical-align: middle;\n",
       "    }\n",
       "\n",
       "    .dataframe tbody tr th {\n",
       "        vertical-align: top;\n",
       "    }\n",
       "\n",
       "    .dataframe thead th {\n",
       "        text-align: right;\n",
       "    }\n",
       "</style>\n",
       "<table border=\"1\" class=\"dataframe\">\n",
       "  <thead>\n",
       "    <tr style=\"text-align: right;\">\n",
       "      <th></th>\n",
       "      <th>tbl_name</th>\n",
       "    </tr>\n",
       "  </thead>\n",
       "  <tbody>\n",
       "    <tr>\n",
       "      <th>0</th>\n",
       "      <td>master_date</td>\n",
       "    </tr>\n",
       "    <tr>\n",
       "      <th>1</th>\n",
       "      <td>press</td>\n",
       "    </tr>\n",
       "    <tr>\n",
       "      <th>2</th>\n",
       "      <td>surf_0</td>\n",
       "    </tr>\n",
       "    <tr>\n",
       "      <th>3</th>\n",
       "      <td>surf_1</td>\n",
       "    </tr>\n",
       "    <tr>\n",
       "      <th>4</th>\n",
       "      <td>runs_table</td>\n",
       "    </tr>\n",
       "    <tr>\n",
       "      <th>5</th>\n",
       "      <td>run_unique_id</td>\n",
       "    </tr>\n",
       "  </tbody>\n",
       "</table>\n",
       "</div>"
      ],
      "text/plain": [
       "        tbl_name\n",
       "0    master_date\n",
       "1          press\n",
       "2         surf_0\n",
       "3         surf_1\n",
       "4     runs_table\n",
       "5  run_unique_id"
      ]
     },
     "execution_count": 294,
     "metadata": {},
     "output_type": "execute_result"
    }
   ],
   "source": [
    "ut.list_table_names()"
   ]
  },
  {
   "cell_type": "code",
   "execution_count": 301,
   "metadata": {},
   "outputs": [],
   "source": [
    "date_to_ungrib = '2017-12-15'"
   ]
  },
  {
   "cell_type": "code",
   "execution_count": 337,
   "metadata": {
    "lines_to_next_cell": 2
   },
   "outputs": [
    {
     "data": {
      "text/html": [
       "<div>\n",
       "<style scoped>\n",
       "    .dataframe tbody tr th:only-of-type {\n",
       "        vertical-align: middle;\n",
       "    }\n",
       "\n",
       "    .dataframe tbody tr th {\n",
       "        vertical-align: top;\n",
       "    }\n",
       "\n",
       "    .dataframe thead th {\n",
       "        text-align: right;\n",
       "    }\n",
       "</style>\n",
       "<table border=\"1\" class=\"dataframe\">\n",
       "  <thead>\n",
       "    <tr style=\"text-align: right;\">\n",
       "      <th></th>\n",
       "      <th>date</th>\n",
       "      <th>i</th>\n",
       "      <th>downloaded</th>\n",
       "      <th>name</th>\n",
       "      <th>untarred</th>\n",
       "      <th>tb</th>\n",
       "    </tr>\n",
       "  </thead>\n",
       "  <tbody>\n",
       "    <tr>\n",
       "      <th>0</th>\n",
       "      <td>2017-12-15 00:00:00</td>\n",
       "      <td>14</td>\n",
       "      <td>1</td>\n",
       "      <td>cdas1.20171215.pgrbh.tar</td>\n",
       "      <td>0</td>\n",
       "      <td>press</td>\n",
       "    </tr>\n",
       "    <tr>\n",
       "      <th>0</th>\n",
       "      <td>2017-12-15 00:00:00</td>\n",
       "      <td>14</td>\n",
       "      <td>1</td>\n",
       "      <td>cdas1.20171215.splgrbf.tar</td>\n",
       "      <td>0</td>\n",
       "      <td>surf_0</td>\n",
       "    </tr>\n",
       "    <tr>\n",
       "      <th>0</th>\n",
       "      <td>2017-12-15 00:00:00</td>\n",
       "      <td>14</td>\n",
       "      <td>1</td>\n",
       "      <td>cdas1.20171215.sfluxgrbf.tar</td>\n",
       "      <td>0</td>\n",
       "      <td>surf_1</td>\n",
       "    </tr>\n",
       "  </tbody>\n",
       "</table>\n",
       "</div>"
      ],
      "text/plain": [
       "                  date   i  downloaded                          name  \\\n",
       "0  2017-12-15 00:00:00  14           1      cdas1.20171215.pgrbh.tar   \n",
       "0  2017-12-15 00:00:00  14           1    cdas1.20171215.splgrbf.tar   \n",
       "0  2017-12-15 00:00:00  14           1  cdas1.20171215.sfluxgrbf.tar   \n",
       "\n",
       "   untarred      tb  \n",
       "0         0   press  \n",
       "0         0  surf_0  \n",
       "0         0  surf_1  "
      ]
     },
     "execution_count": 337,
     "metadata": {},
     "output_type": "execute_result"
    }
   ],
   "source": [
    "rows = {}\n",
    "for tb in gc.FILE_TYPES.keys():\n",
    "#     print(tb)\n",
    "    sql = \"\"\"\n",
    "    select * from {tb} where date(date)=date('{dt}')\n",
    "    \"\"\".format(tb=tb,dt=date_to_ungrib)\n",
    "    rows[tb]=pd.read_sql(sql,con)\n",
    "    rows[tb]['tb']=tb\n",
    "df = pd.concat(list(rows.values()))\n",
    "if df.downloaded.all()!=True: print('not all downloaded')\n",
    "df"
   ]
  },
  {
   "cell_type": "code",
   "execution_count": 365,
   "metadata": {
    "lines_to_next_cell": 2
   },
   "outputs": [
    {
     "data": {
      "text/html": [
       "<div>\n",
       "<style scoped>\n",
       "    .dataframe tbody tr th:only-of-type {\n",
       "        vertical-align: middle;\n",
       "    }\n",
       "\n",
       "    .dataframe tbody tr th {\n",
       "        vertical-align: top;\n",
       "    }\n",
       "\n",
       "    .dataframe thead th {\n",
       "        text-align: right;\n",
       "    }\n",
       "</style>\n",
       "<table border=\"1\" class=\"dataframe\">\n",
       "  <thead>\n",
       "    <tr style=\"text-align: right;\">\n",
       "      <th></th>\n",
       "      <th>date</th>\n",
       "      <th>i</th>\n",
       "      <th>downloaded</th>\n",
       "      <th>name</th>\n",
       "      <th>untarred</th>\n",
       "      <th>tb</th>\n",
       "      <th>untar_path</th>\n",
       "      <th>tar_path</th>\n",
       "    </tr>\n",
       "  </thead>\n",
       "  <tbody>\n",
       "    <tr>\n",
       "      <th>0</th>\n",
       "      <td>2017-12-15 00:00:00</td>\n",
       "      <td>14</td>\n",
       "      <td>1</td>\n",
       "      <td>cdas1.20171215.pgrbh.tar</td>\n",
       "      <td>0</td>\n",
       "      <td>press</td>\n",
       "      <td>/tmp/wrf_management/data_folder/runs/2018_02_1...</td>\n",
       "      <td>/tmp/wrf_management/data_folder/press_tar/cdas...</td>\n",
       "    </tr>\n",
       "    <tr>\n",
       "      <th>0</th>\n",
       "      <td>2017-12-15 00:00:00</td>\n",
       "      <td>14</td>\n",
       "      <td>1</td>\n",
       "      <td>cdas1.20171215.splgrbf.tar</td>\n",
       "      <td>0</td>\n",
       "      <td>surf_0</td>\n",
       "      <td>/tmp/wrf_management/data_folder/runs/2018_02_1...</td>\n",
       "      <td>/tmp/wrf_management/data_folder/surf_0_tar/cda...</td>\n",
       "    </tr>\n",
       "    <tr>\n",
       "      <th>0</th>\n",
       "      <td>2017-12-15 00:00:00</td>\n",
       "      <td>14</td>\n",
       "      <td>1</td>\n",
       "      <td>cdas1.20171215.sfluxgrbf.tar</td>\n",
       "      <td>0</td>\n",
       "      <td>surf_1</td>\n",
       "      <td>/tmp/wrf_management/data_folder/runs/2018_02_1...</td>\n",
       "      <td>/tmp/wrf_management/data_folder/surf_1_tar/cda...</td>\n",
       "    </tr>\n",
       "  </tbody>\n",
       "</table>\n",
       "</div>"
      ],
      "text/plain": [
       "                  date   i  downloaded                          name  \\\n",
       "0  2017-12-15 00:00:00  14           1      cdas1.20171215.pgrbh.tar   \n",
       "0  2017-12-15 00:00:00  14           1    cdas1.20171215.splgrbf.tar   \n",
       "0  2017-12-15 00:00:00  14           1  cdas1.20171215.sfluxgrbf.tar   \n",
       "\n",
       "   untarred      tb                                         untar_path  \\\n",
       "0         0   press  /tmp/wrf_management/data_folder/runs/2018_02_1...   \n",
       "0         0  surf_0  /tmp/wrf_management/data_folder/runs/2018_02_1...   \n",
       "0         0  surf_1  /tmp/wrf_management/data_folder/runs/2018_02_1...   \n",
       "\n",
       "                                            tar_path  \n",
       "0  /tmp/wrf_management/data_folder/press_tar/cdas...  \n",
       "0  /tmp/wrf_management/data_folder/surf_0_tar/cda...  \n",
       "0  /tmp/wrf_management/data_folder/surf_1_tar/cda...  "
      ]
     },
     "execution_count": 365,
     "metadata": {},
     "output_type": "execute_result"
    }
   ],
   "source": [
    "df['tar_path']=df.apply(lambda r: os.path.join(ut.get_tar_path(r.tb),r['name']),\n",
    "         axis = 1)\n",
    "df['untar_path']=df.apply(lambda r: new_path,\n",
    "         axis = 1)\n",
    "row = df.iloc[0]\n",
    "df"
   ]
  },
  {
   "cell_type": "code",
   "execution_count": 368,
   "metadata": {},
   "outputs": [],
   "source": [
    "import tarfile\n",
    "tfile = tarfile.TarFile(row.tar_path)"
   ]
  },
  {
   "cell_type": "code",
   "execution_count": 371,
   "metadata": {},
   "outputs": [
    {
     "ename": "KeyboardInterrupt",
     "evalue": "",
     "output_type": "error",
     "traceback": [
      "\u001b[0;31m---------------------------------------------------------------------------\u001b[0m",
      "\u001b[0;31mKeyboardInterrupt\u001b[0m                         Traceback (most recent call last)",
      "\u001b[0;32m<ipython-input-371-b7cc43d53ba2>\u001b[0m in \u001b[0;36m<module>\u001b[0;34m\u001b[0m\n\u001b[0;32m----> 1\u001b[0;31m \u001b[0mtfile\u001b[0m\u001b[0;34m.\u001b[0m\u001b[0mextractall\u001b[0m\u001b[0;34m(\u001b[0m\u001b[0mrow\u001b[0m\u001b[0;34m.\u001b[0m\u001b[0muntar_path\u001b[0m\u001b[0;34m)\u001b[0m\u001b[0;34m\u001b[0m\u001b[0;34m\u001b[0m\u001b[0m\n\u001b[0m",
      "\u001b[0;32m/Volumes/mbProD/anaconda3/lib/python3.6/tarfile.py\u001b[0m in \u001b[0;36mextractall\u001b[0;34m(self, path, members, numeric_owner)\u001b[0m\n\u001b[1;32m   2008\u001b[0m             \u001b[0;31m# Do not set_attrs directories, as we will do that further down\u001b[0m\u001b[0;34m\u001b[0m\u001b[0;34m\u001b[0m\u001b[0;34m\u001b[0m\u001b[0m\n\u001b[1;32m   2009\u001b[0m             self.extract(tarinfo, path, set_attrs=not tarinfo.isdir(),\n\u001b[0;32m-> 2010\u001b[0;31m                          numeric_owner=numeric_owner)\n\u001b[0m\u001b[1;32m   2011\u001b[0m \u001b[0;34m\u001b[0m\u001b[0m\n\u001b[1;32m   2012\u001b[0m         \u001b[0;31m# Reverse sort directories.\u001b[0m\u001b[0;34m\u001b[0m\u001b[0;34m\u001b[0m\u001b[0;34m\u001b[0m\u001b[0m\n",
      "\u001b[0;32m/Volumes/mbProD/anaconda3/lib/python3.6/tarfile.py\u001b[0m in \u001b[0;36mextract\u001b[0;34m(self, member, path, set_attrs, numeric_owner)\u001b[0m\n\u001b[1;32m   2050\u001b[0m             self._extract_member(tarinfo, os.path.join(path, tarinfo.name),\n\u001b[1;32m   2051\u001b[0m                                  \u001b[0mset_attrs\u001b[0m\u001b[0;34m=\u001b[0m\u001b[0mset_attrs\u001b[0m\u001b[0;34m,\u001b[0m\u001b[0;34m\u001b[0m\u001b[0;34m\u001b[0m\u001b[0m\n\u001b[0;32m-> 2052\u001b[0;31m                                  numeric_owner=numeric_owner)\n\u001b[0m\u001b[1;32m   2053\u001b[0m         \u001b[0;32mexcept\u001b[0m \u001b[0mOSError\u001b[0m \u001b[0;32mas\u001b[0m \u001b[0me\u001b[0m\u001b[0;34m:\u001b[0m\u001b[0;34m\u001b[0m\u001b[0;34m\u001b[0m\u001b[0m\n\u001b[1;32m   2054\u001b[0m             \u001b[0;32mif\u001b[0m \u001b[0mself\u001b[0m\u001b[0;34m.\u001b[0m\u001b[0merrorlevel\u001b[0m \u001b[0;34m>\u001b[0m \u001b[0;36m0\u001b[0m\u001b[0;34m:\u001b[0m\u001b[0;34m\u001b[0m\u001b[0;34m\u001b[0m\u001b[0m\n",
      "\u001b[0;32m/Volumes/mbProD/anaconda3/lib/python3.6/tarfile.py\u001b[0m in \u001b[0;36m_extract_member\u001b[0;34m(self, tarinfo, targetpath, set_attrs, numeric_owner)\u001b[0m\n\u001b[1;32m   2120\u001b[0m \u001b[0;34m\u001b[0m\u001b[0m\n\u001b[1;32m   2121\u001b[0m         \u001b[0;32mif\u001b[0m \u001b[0mtarinfo\u001b[0m\u001b[0;34m.\u001b[0m\u001b[0misreg\u001b[0m\u001b[0;34m(\u001b[0m\u001b[0;34m)\u001b[0m\u001b[0;34m:\u001b[0m\u001b[0;34m\u001b[0m\u001b[0;34m\u001b[0m\u001b[0m\n\u001b[0;32m-> 2122\u001b[0;31m             \u001b[0mself\u001b[0m\u001b[0;34m.\u001b[0m\u001b[0mmakefile\u001b[0m\u001b[0;34m(\u001b[0m\u001b[0mtarinfo\u001b[0m\u001b[0;34m,\u001b[0m \u001b[0mtargetpath\u001b[0m\u001b[0;34m)\u001b[0m\u001b[0;34m\u001b[0m\u001b[0;34m\u001b[0m\u001b[0m\n\u001b[0m\u001b[1;32m   2123\u001b[0m         \u001b[0;32melif\u001b[0m \u001b[0mtarinfo\u001b[0m\u001b[0;34m.\u001b[0m\u001b[0misdir\u001b[0m\u001b[0;34m(\u001b[0m\u001b[0;34m)\u001b[0m\u001b[0;34m:\u001b[0m\u001b[0;34m\u001b[0m\u001b[0;34m\u001b[0m\u001b[0m\n\u001b[1;32m   2124\u001b[0m             \u001b[0mself\u001b[0m\u001b[0;34m.\u001b[0m\u001b[0mmakedir\u001b[0m\u001b[0;34m(\u001b[0m\u001b[0mtarinfo\u001b[0m\u001b[0;34m,\u001b[0m \u001b[0mtargetpath\u001b[0m\u001b[0;34m)\u001b[0m\u001b[0;34m\u001b[0m\u001b[0;34m\u001b[0m\u001b[0m\n",
      "\u001b[0;32m/Volumes/mbProD/anaconda3/lib/python3.6/tarfile.py\u001b[0m in \u001b[0;36mmakefile\u001b[0;34m(self, tarinfo, targetpath)\u001b[0m\n\u001b[1;32m   2169\u001b[0m                 \u001b[0mtarget\u001b[0m\u001b[0;34m.\u001b[0m\u001b[0mtruncate\u001b[0m\u001b[0;34m(\u001b[0m\u001b[0;34m)\u001b[0m\u001b[0;34m\u001b[0m\u001b[0;34m\u001b[0m\u001b[0m\n\u001b[1;32m   2170\u001b[0m             \u001b[0;32melse\u001b[0m\u001b[0;34m:\u001b[0m\u001b[0;34m\u001b[0m\u001b[0;34m\u001b[0m\u001b[0m\n\u001b[0;32m-> 2171\u001b[0;31m                 \u001b[0mcopyfileobj\u001b[0m\u001b[0;34m(\u001b[0m\u001b[0msource\u001b[0m\u001b[0;34m,\u001b[0m \u001b[0mtarget\u001b[0m\u001b[0;34m,\u001b[0m \u001b[0mtarinfo\u001b[0m\u001b[0;34m.\u001b[0m\u001b[0msize\u001b[0m\u001b[0;34m,\u001b[0m \u001b[0mReadError\u001b[0m\u001b[0;34m,\u001b[0m \u001b[0mbufsize\u001b[0m\u001b[0;34m)\u001b[0m\u001b[0;34m\u001b[0m\u001b[0;34m\u001b[0m\u001b[0m\n\u001b[0m\u001b[1;32m   2172\u001b[0m \u001b[0;34m\u001b[0m\u001b[0m\n\u001b[1;32m   2173\u001b[0m     \u001b[0;32mdef\u001b[0m \u001b[0mmakeunknown\u001b[0m\u001b[0;34m(\u001b[0m\u001b[0mself\u001b[0m\u001b[0;34m,\u001b[0m \u001b[0mtarinfo\u001b[0m\u001b[0;34m,\u001b[0m \u001b[0mtargetpath\u001b[0m\u001b[0;34m)\u001b[0m\u001b[0;34m:\u001b[0m\u001b[0;34m\u001b[0m\u001b[0;34m\u001b[0m\u001b[0m\n",
      "\u001b[0;32m/Volumes/mbProD/anaconda3/lib/python3.6/tarfile.py\u001b[0m in \u001b[0;36mcopyfileobj\u001b[0;34m(src, dst, length, exception, bufsize)\u001b[0m\n\u001b[1;32m    247\u001b[0m     \u001b[0mblocks\u001b[0m\u001b[0;34m,\u001b[0m \u001b[0mremainder\u001b[0m \u001b[0;34m=\u001b[0m \u001b[0mdivmod\u001b[0m\u001b[0;34m(\u001b[0m\u001b[0mlength\u001b[0m\u001b[0;34m,\u001b[0m \u001b[0mbufsize\u001b[0m\u001b[0;34m)\u001b[0m\u001b[0;34m\u001b[0m\u001b[0;34m\u001b[0m\u001b[0m\n\u001b[1;32m    248\u001b[0m     \u001b[0;32mfor\u001b[0m \u001b[0mb\u001b[0m \u001b[0;32min\u001b[0m \u001b[0mrange\u001b[0m\u001b[0;34m(\u001b[0m\u001b[0mblocks\u001b[0m\u001b[0;34m)\u001b[0m\u001b[0;34m:\u001b[0m\u001b[0;34m\u001b[0m\u001b[0;34m\u001b[0m\u001b[0m\n\u001b[0;32m--> 249\u001b[0;31m         \u001b[0mbuf\u001b[0m \u001b[0;34m=\u001b[0m \u001b[0msrc\u001b[0m\u001b[0;34m.\u001b[0m\u001b[0mread\u001b[0m\u001b[0;34m(\u001b[0m\u001b[0mbufsize\u001b[0m\u001b[0;34m)\u001b[0m\u001b[0;34m\u001b[0m\u001b[0;34m\u001b[0m\u001b[0m\n\u001b[0m\u001b[1;32m    250\u001b[0m         \u001b[0;32mif\u001b[0m \u001b[0mlen\u001b[0m\u001b[0;34m(\u001b[0m\u001b[0mbuf\u001b[0m\u001b[0;34m)\u001b[0m \u001b[0;34m<\u001b[0m \u001b[0mbufsize\u001b[0m\u001b[0;34m:\u001b[0m\u001b[0;34m\u001b[0m\u001b[0;34m\u001b[0m\u001b[0m\n\u001b[1;32m    251\u001b[0m             \u001b[0;32mraise\u001b[0m \u001b[0mexception\u001b[0m\u001b[0;34m(\u001b[0m\u001b[0;34m\"unexpected end of data\"\u001b[0m\u001b[0;34m)\u001b[0m\u001b[0;34m\u001b[0m\u001b[0;34m\u001b[0m\u001b[0m\n",
      "\u001b[0;31mKeyboardInterrupt\u001b[0m: "
     ]
    }
   ],
   "source": [
    "tfile.extractall(row.untar_path)"
   ]
  },
  {
   "cell_type": "code",
   "execution_count": 373,
   "metadata": {},
   "outputs": [],
   "source": [
    "con.close()"
   ]
  },
  {
   "cell_type": "code",
   "execution_count": 424,
   "metadata": {
    "lines_to_next_cell": 1
   },
   "outputs": [],
   "source": [
    "import f90nml\n",
    "from collections import OrderedDict\n",
    "\n",
    "\n",
    "def skim_namelist(\n",
    "        input_path, output_path, *,date, prefix\n",
    "    ):\n",
    "    old_dic = f90nml.read(input_path)\n",
    "    \n",
    "    dt_object = pd.to_datetime(date)\n",
    "    d_init = dt_object.strftime('%Y-%m-%d_%T')\n",
    "    d_end = dt_object + pd.DateOffset(hours=18)\n",
    "    d_end = d_end.strftime('%Y-%m-%d_%T')\n",
    "    \n",
    "    old_dic['share']['start_date']=old_dic['share']['max_dom']*[d_init]\n",
    "    old_dic['share']['end_date']=old_dic['share']['max_dom']*[d_end]\n",
    "    old_dic['share']['interval_seconds']=6*3600\n",
    "    old_dic['ungrib']['prefix']=prefix\n",
    "    sections = ['share','ungrib']\n",
    "    drops = {}\n",
    "    new_dic = OrderedDict()\n",
    "    for s in sections:\n",
    "        new_dic[s]= old_dic[s]\n",
    "        if s in drops.keys():\n",
    "            for d in drops[s]:\n",
    "                new_dic[s].pop(d)\n",
    "    f90nml.write(new_dic, output_path)\n",
    "    return new_dic"
   ]
  },
  {
   "cell_type": "code",
   "execution_count": 427,
   "metadata": {},
   "outputs": [
    {
     "data": {
      "text/plain": [
       "OrderedDict([('share',\n",
       "              Namelist([('wrf_core', 'ARW'),\n",
       "                        ('max_dom', 4),\n",
       "                        ('start_date',\n",
       "                         ['2017-12-15_00:00:00',\n",
       "                          '2017-12-15_00:00:00',\n",
       "                          '2017-12-15_00:00:00',\n",
       "                          '2017-12-15_00:00:00']),\n",
       "                        ('end_date',\n",
       "                         ['2017-12-15_18:00:00',\n",
       "                          '2017-12-15_18:00:00',\n",
       "                          '2017-12-15_18:00:00',\n",
       "                          '2017-12-15_18:00:00']),\n",
       "                        ('interval_seconds', 21600),\n",
       "                        ('io_form_geogrid', 2)])),\n",
       "             ('ungrib',\n",
       "              Namelist([('out_format', 'WPS'), ('prefix', 'PRESSURE')]))])"
      ]
     },
     "execution_count": 427,
     "metadata": {},
     "output_type": "execute_result"
    }
   ],
   "source": [
    "try:os.remove('/tmp/borrar')\n",
    "except:pass    \n",
    "skim_namelist('../config_dir/2018_02_19/namelist.wps','/tmp/borrar',date=date_to_ungrib,prefix='PRESSURE')"
   ]
  },
  {
   "cell_type": "code",
   "execution_count": 398,
   "metadata": {},
   "outputs": [],
   "source": [
    "date_to_ungrib = '2017-12-15' \n",
    "date = date_to_ungrib"
   ]
  },
  {
   "cell_type": "code",
   "execution_count": 405,
   "metadata": {},
   "outputs": [],
   "source": [
    "dt_object = pd.to_datetime(date)\n",
    "d_init = dt_object.strftime('%Y-%m-%d_%T')"
   ]
  },
  {
   "cell_type": "code",
   "execution_count": 411,
   "metadata": {},
   "outputs": [
    {
     "data": {
      "text/plain": [
       "'2017-12-15_18:00:00'"
      ]
     },
     "execution_count": 411,
     "metadata": {},
     "output_type": "execute_result"
    }
   ],
   "source": [
    "d_end = dt_object + pd.DateOffset(hours=18)\n",
    "d_end = d_end.strftime('%Y-%m-%d_%T')\n",
    "d_end"
   ]
  },
  {
   "cell_type": "code",
   "execution_count": null,
   "metadata": {
    "lines_to_next_cell": 2
   },
   "outputs": [],
   "source": []
  }
 ],
 "metadata": {
  "jupytext": {
   "text_representation": {
    "extension": ".py",
    "format_name": "percent",
    "format_version": "1.2",
    "jupytext_version": "0.8.6"
   }
  },
  "kernelspec": {
   "display_name": "Python 3",
   "language": "python",
   "name": "python3"
  },
  "language_info": {
   "codemirror_mode": {
    "name": "ipython",
    "version": 3
   },
   "file_extension": ".py",
   "mimetype": "text/x-python",
   "name": "python",
   "nbconvert_exporter": "python",
   "pygments_lexer": "ipython3",
   "version": "3.6.8"
  }
 },
 "nbformat": 4,
 "nbformat_minor": 2
}
