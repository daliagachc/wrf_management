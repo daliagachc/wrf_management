{
 "cells": [
  {
   "cell_type": "code",
   "execution_count": 27,
   "metadata": {
    "lines_to_next_cell": 0
   },
   "outputs": [],
   "source": [
    "import wrf_management.utilities as ut\n",
    "import importlib\n",
    "importlib.reload(ut);\n",
    "import wrf_management.project_global_constants as gc\n",
    "importlib.reload(gc)\n",
    "import wrf_management.geogrid as geo\n",
    "import wrf_management.ungrib as un\n",
    "importlib.reload(un)\n",
    "import os\n",
    "import sqlite3 as sq\n",
    "import pandas as pd\n",
    "import wrf_management.base_namelists.base_namelists as bn\n",
    "importlib.reload(bn);\n",
    "import f90nml\n",
    "import subprocess as su"
   ]
  },
  {
   "cell_type": "code",
   "execution_count": null,
   "metadata": {
    "lines_to_next_cell": 2
   },
   "outputs": [],
   "source": [
    "print(gc.RUN_NAME)\n",
    "job = 'ungrib_surf'\n",
    "file_types = ['surf_0', 'surf_1']\n",
    "real = False\n",
    "\n",
    "LIST_S_LINKS = [\n",
    "    'ungrib.exe',\n",
    "    'link_grib.csh',\n",
    "    'ungrib'\n",
    "]\n",
    "\n",
    "LIST_H_LINKS = [\n",
    "    'Vtable',\n",
    "    'env_WRFv4.bash'\n",
    "]"
   ]
  },
  {
   "cell_type": "code",
   "execution_count": null,
   "metadata": {},
   "outputs": [],
   "source": [
    "#con = sq.connect(gc.PATH_DB)\n",
    "gc.PATH_DB"
   ]
  },
  {
   "cell_type": "code",
   "execution_count": null,
   "metadata": {},
   "outputs": [],
   "source": [
    "importlib.reload(un)\n",
    "run_row = un.get_run_row()\n",
    "print(run_row)\n",
    "\n",
    "job_row = un.get_next_row(job=job)\n",
    "print(job_row)\n",
    "\n",
    "un.update_run_table(val=job_row[job]+1,\n",
    "                    job=job,\n",
    "                    date=job_row['date']\n",
    "                   )\n",
    "\n",
    "job_path = un.getmk_job_path(run_row,job_row,job)\n",
    "print(job_path)\n",
    "\n",
    "conf_path = un.get_conf_path(run_row)\n",
    "print(conf_path)\n",
    "\n",
    "type_rows = pd.DataFrame([un.get_type_row(ft, job_row) for ft in file_types])\n",
    "print(type_rows)\n",
    "\n",
    "name_list = un.skim_namelist_copy(\n",
    "    conf_path, job_path, date=job_row.date, prefix=job\n",
    ")\n",
    "print(name_list)"
   ]
  },
  {
   "cell_type": "code",
   "execution_count": null,
   "metadata": {},
   "outputs": [],
   "source": [
    "if gc.ID=='taito_login':\n",
    "    un.copy_hard_links(conf_path,job_path,LIST_H_LINKS)\n",
    "    un.copy_soft_links(gc.PATH_WPS,job_path,LIST_S_LINKS)\n",
    "    importlib.reload(un)\n",
    "    un.untar_the_files(type_rows, job_path, job_row=job_row)\n",
    "    \n",
    "    # in case we need to download the day before\n",
    "    if job == 'ungrib_surf':\n",
    "        pre_row = un.get_prev_row(job=job,job_row=job_row)\n",
    "        trs = pd.DataFrame([un.get_type_row(ft, pre_row) for ft in file_types])\n",
    "        un.untar_the_files_prev(trs, job_path, job_row=pre_row)"
   ]
  },
  {
   "cell_type": "code",
   "execution_count": null,
   "metadata": {},
   "outputs": [],
   "source": [
    "run_script = \\\n",
    "    \"\"\"#!/bin/bash\n",
    "    cd {job_path}\n",
    "    ./link_grib.csh ./untar/*/*\n",
    "    source ./env_WRFv4.bash \n",
    "    ./ungrib.exe\n",
    "    exit $?\n",
    "    \"\"\".format(job_path=job_path)\n",
    "print(run_script)\n",
    "bs_path = os.path.join(job_path, 'run_me.sh')\n",
    "bs_file = open(bs_path, 'w')\n",
    "bs_file.write(run_script)\n",
    "bs_file.close()"
   ]
  },
  {
   "cell_type": "code",
   "execution_count": 41,
   "metadata": {},
   "outputs": [],
   "source": [
    "if gc.ID == 'taito_login':\n",
    "    res = su.run(['/bin/bash', bs_path], stdout=su.PIPE, stderr=su.PIPE)\n",
    "\n",
    "if gc.ID == 'taito_login' and res.returncode == 0:\n",
    "    un.update_run_table(val=100,\n",
    "                        job=job,\n",
    "                        date=job_row['date']\n",
    "                        )"
   ]
  },
  {
   "cell_type": "code",
   "execution_count": null,
   "metadata": {
    "lines_to_next_cell": 2
   },
   "outputs": [],
   "source": []
  }
 ],
 "metadata": {
  "jupytext": {
   "text_representation": {
    "extension": ".py",
    "format_name": "percent",
    "format_version": "1.2",
    "jupytext_version": "1.0.0"
   }
  },
  "kernelspec": {
   "display_name": "Python 3",
   "language": "python",
   "name": "python3"
  },
  "language_info": {
   "codemirror_mode": {
    "name": "ipython",
    "version": 3
   },
   "file_extension": ".py",
   "mimetype": "text/x-python",
   "name": "python",
   "nbconvert_exporter": "python",
   "pygments_lexer": "ipython3",
   "version": "3.6.7"
  }
 },
 "nbformat": 4,
 "nbformat_minor": 2
}
