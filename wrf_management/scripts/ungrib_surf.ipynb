{
 "cells": [
  {
   "cell_type": "code",
   "execution_count": 9,
   "metadata": {
    "lines_to_next_cell": 0
   },
   "outputs": [],
   "source": [
    "import wrf_management.run_utilities\n",
    "import wrf_management.utilities as ut\n",
    "import importlib\n",
    "importlib.reload(ut);\n",
    "import wrf_management.project_global_constants as gc\n",
    "importlib.reload(gc)\n",
    "import wrf_management.geogrid as geo\n",
    "import wrf_management.ungrib as un\n",
    "importlib.reload(un)\n",
    "import os\n",
    "import sqlite3 as sq\n",
    "import pandas as pd\n",
    "import wrf_management.base_namelists.base_namelists as bn\n",
    "importlib.reload(bn);\n",
    "import f90nml\n",
    "import subprocess as su"
   ]
  },
  {
   "cell_type": "code",
   "execution_count": 10,
   "metadata": {
    "lines_to_next_cell": 2
   },
   "outputs": [
    {
     "name": "stdout",
     "output_type": "stream",
     "text": [
      "run_2019_02_20\n"
     ]
    }
   ],
   "source": [
    "print(gc.RUN_NAME)\n",
    "job = 'ungrib_surf'\n",
    "file_types = ['surf_0', 'surf_1']\n",
    "\n",
    "real = True\n",
    "hours = 24\n",
    "\n",
    "LIST_S_LINKS = [\n",
    "    'ungrib.exe',\n",
    "    'link_grib.csh',\n",
    "    'ungrib'\n",
    "]\n",
    "\n",
    "LIST_H_LINKS = [\n",
    "    'Vtable',\n",
    "    'env_WRFv4.bash'\n",
    "]"
   ]
  },
  {
   "cell_type": "code",
   "execution_count": 11,
   "metadata": {},
   "outputs": [
    {
     "data": {
      "text/plain": [
       "'/homeappl/home/aliagadi/saltena_2018/wrf_management/wrf_management/db_folder/wrf_man.sqlite'"
      ]
     },
     "execution_count": 11,
     "metadata": {},
     "output_type": "execute_result"
    }
   ],
   "source": [
    "#con = sq.connect(gc.PATH_DB)\n",
    "gc.PATH_DB"
   ]
  },
  {
   "cell_type": "code",
   "execution_count": 12,
   "metadata": {},
   "outputs": [
    {
     "name": "stdout",
     "output_type": "stream",
     "text": [
      "index                             1\n",
      "run_name             run_2019_02_20\n",
      "geogrid_path                geogrid\n",
      "config_path          run_2019_02_20\n",
      "data_path       runs/run_2019_02_20\n",
      "parent_run                     None\n",
      "comments                       None\n",
      "Name: 0, dtype: object\n"
     ]
    }
   ],
   "source": [
    "importlib.reload(un)\n",
    "run_row = wrf_management.run_utilities.get_run_row()\n",
    "print(run_row)"
   ]
  },
  {
   "cell_type": "code",
   "execution_count": 13,
   "metadata": {},
   "outputs": [
    {
     "name": "stdout",
     "output_type": "stream",
     "text": [
      "date              2018-01-16 00:00:00\n",
      "ungrib_surf                         5\n",
      "ungrib_press                      200\n",
      "ungrib_avgtsfc                      0\n",
      "metgrid                             0\n",
      "real                                0\n",
      "Name: 0, dtype: object\n"
     ]
    }
   ],
   "source": [
    "job_row = wrf_management.run_utilities.get_next_row(job=job, i_max=10)\n",
    "print(job_row)"
   ]
  },
  {
   "cell_type": "code",
   "execution_count": 14,
   "metadata": {},
   "outputs": [
    {
     "name": "stdout",
     "output_type": "stream",
     "text": [
      "/wrk/aliagadi/DONOTREMOVE/wrf_management_data/runs/run_2019_02_20/2018_01_16/ungrib_surf\n"
     ]
    }
   ],
   "source": [
    "if real:\n",
    "    wrf_management.run_utilities.update_run_table(val=job_row[job] + 1,\n",
    "                                                  job=job,\n",
    "                                                  date=job_row['date']\n",
    "                                                  )\n",
    "\n",
    "job_path = wrf_management.run_utilities.getmk_job_path(run_row, job_row, job)\n",
    "print(job_path)\n",
    "\n",
    "wrf_management.run_utilities.rm_if_path_exists(\n",
    "    os.path.join(job_path, 'ungrib.log')\n",
    ")"
   ]
  },
  {
   "cell_type": "code",
   "execution_count": 15,
   "metadata": {},
   "outputs": [
    {
     "name": "stdout",
     "output_type": "stream",
     "text": [
      "/homeappl/home/aliagadi/saltena_2018/wrf_management/wrf_management/config_dir/run_2019_02_20\n",
      "                  date   i  downloaded                          name  \\\n",
      "0  2018-01-16 00:00:00  46           1    cdas1.20180116.splgrbf.tar   \n",
      "0  2018-01-16 00:00:00  46           1  cdas1.20180116.sfluxgrbf.tar   \n",
      "\n",
      "   untarred    type  \n",
      "0         0  surf_0  \n",
      "0         0  surf_1  \n",
      "OrderedDict([('share', Namelist([('wrf_core', 'ARW'), ('max_dom', 4), ('start_date', ['2018-01-16_00:00:00', '2018-01-16_00:00:00', '2018-01-16_00:00:00', '2018-01-16_00:00:00']), ('end_date', ['2018-01-17_00:00:00', '2018-01-17_00:00:00', '2018-01-17_00:00:00', '2018-01-17_00:00:00']), ('interval_seconds', 21600), ('io_form_geogrid', 2)])), ('ungrib', Namelist([('out_format', 'WPS'), ('prefix', 'ungrib_surf')]))])\n"
     ]
    }
   ],
   "source": [
    "conf_path = wrf_management.run_utilities.get_conf_path(run_row)\n",
    "print(conf_path)\n",
    "\n",
    "type_rows = pd.DataFrame([un.get_type_row(ft, job_row) for ft in file_types])\n",
    "print(type_rows)\n",
    "\n",
    "name_list = un.skim_namelist_copy(\n",
    "    conf_path, job_path, date=job_row.date, prefix=job, hours=hours\n",
    ")\n",
    "print(name_list)"
   ]
  },
  {
   "cell_type": "code",
   "execution_count": 16,
   "metadata": {},
   "outputs": [
    {
     "name": "stdout",
     "output_type": "stream",
     "text": [
      "Vtable\n",
      "env_WRFv4.bash\n",
      "unilinking\n",
      "ungrib.exe\n",
      "unilinking\n",
      "link_grib.csh\n",
      "unilinking\n",
      "ungrib\n",
      "/wrk/aliagadi/DONOTREMOVE/wrf_management_data/surf_0_tar/cdas1.20180116.splgrbf.tar\n",
      "/wrk/aliagadi/DONOTREMOVE/wrf_management_data/surf_1_tar/cdas1.20180116.sfluxgrbf.tar\n",
      "/wrk/aliagadi/DONOTREMOVE/wrf_management_data/surf_0_tar/cdas1.20180115.splgrbf.tar\n",
      "cdas1.t18z.splgrbf06.grib2\n",
      "/wrk/aliagadi/DONOTREMOVE/wrf_management_data/surf_1_tar/cdas1.20180115.sfluxgrbf.tar\n",
      "cdas1.t18z.sfluxgrbf01.grib2\n",
      "cdas1.t18z.sfluxgrbf02.grib2\n",
      "cdas1.t18z.sfluxgrbf03.grib2\n",
      "cdas1.t18z.sfluxgrbf04.grib2\n",
      "cdas1.t18z.sfluxgrbf05.grib2\n",
      "cdas1.t18z.sfluxgrbf06.grib2\n",
      "cdas1.t18z.sfluxgrbf07.grib2\n",
      "cdas1.t18z.sfluxgrbf08.grib2\n",
      "cdas1.t18z.sfluxgrbf09.grib2\n"
     ]
    }
   ],
   "source": [
    "if gc.ID=='taito_login':\n",
    "    wrf_management.run_utilities.copy_hard_links(conf_path, job_path, LIST_H_LINKS)\n",
    "    wrf_management.run_utilities.copy_soft_links(gc.PATH_WPS, job_path, LIST_S_LINKS)\n",
    "    importlib.reload(un)\n",
    "    un.untar_the_files(type_rows, job_path, job_row=job_row)\n",
    "    \n",
    "    # in case we need to download the day before\n",
    "    if job == 'ungrib_surf':\n",
    "        pre_row = wrf_management.run_utilities.get_prev_row(job=job, job_row=job_row)\n",
    "        trs = pd.DataFrame([un.get_type_row(ft, pre_row) for ft in file_types])\n",
    "        un.untar_the_files_prev(trs, job_path, job_row=pre_row)"
   ]
  },
  {
   "cell_type": "code",
   "execution_count": 17,
   "metadata": {},
   "outputs": [
    {
     "name": "stdout",
     "output_type": "stream",
     "text": [
      "#!/bin/bash\n",
      "        \n",
      "cd /wrk/aliagadi/DONOTREMOVE/wrf_management_data/runs/run_2019_02_20/2018_01_16/ungrib_surf\n",
      "./link_grib.csh ./untar/*/*\n",
      "source ./env_WRFv4.bash \n",
      "srun -t20 -p test --mem 1000 ./ungrib.exe\n",
      "exit $?\n",
      "    \n",
      "    \n"
     ]
    }
   ],
   "source": [
    "run_script = \\\n",
    "    \"\"\"#!/bin/bash\n",
    "        \n",
    "cd {job_path}\n",
    "./link_grib.csh ./untar/*/*\n",
    "source ./env_WRFv4.bash \n",
    "srun -t20 -p serial --mem 1000 -J's{date}' ./ungrib.exe\n",
    "exit $?\n",
    "    \n",
    "    \"\"\".format(job_path=job_path, date=job_row.date)\n",
    "print(run_script)\n",
    "bs_path = os.path.join(job_path, 'run_me.sh')\n",
    "bs_file = open(bs_path, 'w')\n",
    "bs_file.write(run_script)\n",
    "bs_file.close()"
   ]
  },
  {
   "cell_type": "code",
   "execution_count": 18,
   "metadata": {},
   "outputs": [
    {
     "name": "stdout",
     "output_type": "stream",
     "text": [
      "b' *** Starting program ungrib.exe ***\\nStart_date =  2018-01-16_00:00:00 ,      End_date = 2018-01-17_00:00:00\\noutput format is WPS\\nPath to intermediate files is ./\\n\\n###############################################################################\\n\\nInventory for date = 2018-01-15 19:00:00\\n\\nPRES   TT       UU       VV       RH       HGT      PMSL     SPECHUMD PSFC     SM000010 SM010040 SM040100 SM100200 ST000010 ST010040 ST040100 ST100200 SEAICE   LANDSEA  SOILHGT  SKINTEMP SNOW    \\n-------------------------------------------------------------------------------\\n2001.0  X        X        X        O        O        O        X        X        X        X        X        X        X        X        X        X        X        X        X        X        X      \\n-------------------------------------------------------------------------------\\n\\n###############################################################################\\n\\nInventory for date = 2018-01-15 20:00:00\\n\\nPRES   TT       UU       VV       RH       HGT      PMSL     SPECHUMD PSFC     SM000010 SM010040 SM040100 SM100200 ST000010 ST010040 ST040100 ST100200 SEAICE   LANDSEA  SOILHGT  SKINTEMP SNOW    \\n-------------------------------------------------------------------------------\\n2001.0  X        X        X        O        O        O        X        X        X        X        X        X        X        X        X        X        X        X        X        X        X      \\n-------------------------------------------------------------------------------\\n\\n###############################################################################\\n\\nInventory for date = 2018-01-15 21:00:00\\n\\nPRES   TT       UU       VV       RH       HGT      PMSL     SPECHUMD PSFC     SM000010 SM010040 SM040100 SM100200 ST000010 ST010040 ST040100 ST100200 SEAICE   LANDSEA  SOILHGT  SKINTEMP SNOW    \\n-------------------------------------------------------------------------------\\n2001.0  X        X        X        O        O        O        X        X        X        X        X        X        X        X        X        X        X        X        X        X        X      \\n-------------------------------------------------------------------------------\\n\\n###############################################################################\\n\\nInventory for date = 2018-01-15 22:00:00\\n\\nPRES   TT       UU       VV       RH       HGT      PMSL     SPECHUMD PSFC     SM000010 SM010040 SM040100 SM100200 ST000010 ST010040 ST040100 ST100200 SEAICE   LANDSEA  SOILHGT  SKINTEMP SNOW    \\n-------------------------------------------------------------------------------\\n2001.0  X        X        X        O        O        O        X        X        X        X        X        X        X        X        X        X        X        X        X        X        X      \\n-------------------------------------------------------------------------------\\n\\n###############################################################################\\n\\nInventory for date = 2018-01-15 23:00:00\\n\\nPRES   TT       UU       VV       RH       HGT      PMSL     SPECHUMD PSFC     SM000010 SM010040 SM040100 SM100200 ST000010 ST010040 ST040100 ST100200 SEAICE   LANDSEA  SOILHGT  SKINTEMP SNOW    \\n-------------------------------------------------------------------------------\\n2001.0  X        X        X        O        O        O        X        X        X        X        X        X        X        X        X        X        X        X        X        X        X      \\n-------------------------------------------------------------------------------\\n\\n###############################################################################\\n\\nInventory for date = 2018-01-16 00:00:00\\n\\nPRES   TT       UU       VV       RH       HGT      PMSL     SPECHUMD PSFC     SM000010 SM010040 SM040100 SM100200 ST000010 ST010040 ST040100 ST100200 SEAICE   LANDSEA  SOILHGT  SKINTEMP SNOW    \\n-------------------------------------------------------------------------------\\n2001.0  X        X        X        O        O        O        X        X        X        X        X        X        X        X        X        X        X        X        X        X        X      \\n-------------------------------------------------------------------------------\\n\\n###############################################################################\\n\\nInventory for date = 2018-01-16 01:00:00\\n\\nPRES   TT       UU       VV       RH       HGT      PMSL     SPECHUMD PSFC     SM000010 SM010040 SM040100 SM100200 ST000010 ST010040 ST040100 ST100200 SEAICE   LANDSEA  SOILHGT  SKINTEMP SNOW    \\n-------------------------------------------------------------------------------\\n2001.0  X        X        X        O        O        O        X        X        X        X        X        X        X        X        X        X        X        X        X        X        X      \\n-------------------------------------------------------------------------------\\n\\n###############################################################################\\n\\nInventory for date = 2018-01-16 02:00:00\\n\\nPRES   TT       UU       VV       RH       HGT      PMSL     SPECHUMD PSFC     SM000010 SM010040 SM040100 SM100200 ST000010 ST010040 ST040100 ST100200 SEAICE   LANDSEA  SOILHGT  SKINTEMP SNOW    \\n-------------------------------------------------------------------------------\\n2001.0  X        X        X        O        O        O        X        X        X        X        X        X        X        X        X        X        X        X        X        X        X      \\n-------------------------------------------------------------------------------\\n\\n###############################################################################\\n\\nInventory for date = 2018-01-16 03:00:00\\n\\nPRES   TT       UU       VV       RH       HGT      PMSL     SPECHUMD PSFC     SM000010 SM010040 SM040100 SM100200 ST000010 ST010040 ST040100 ST100200 SEAICE   LANDSEA  SOILHGT  SKINTEMP SNOW    \\n-------------------------------------------------------------------------------\\n2001.0  X        X        X        O        O        O        X        X        X        X        X        X        X        X        X        X        X        X        X        X        X      \\n-------------------------------------------------------------------------------\\n\\n###############################################################################\\n\\nInventory for date = 2018-01-16 00:00:00\\n\\nPRES   TT       UU       VV       RH       HGT      PMSL     SPECHUMD PSFC     SM000010 SM010040 SM040100 SM100200 ST000010 ST010040 ST040100 ST100200 SEAICE   LANDSEA  SOILHGT  SKINTEMP SNOW    \\n-------------------------------------------------------------------------------\\n2001.0  O        O        O        O        O        O        O        X        O        O        O        O        O        O        O        O        O        O        O        O        O      \\n-------------------------------------------------------------------------------\\n\\n###############################################################################\\n\\nInventory for date = 2018-01-16 01:00:00\\n\\nPRES   TT       UU       VV       RH       HGT      PMSL     SPECHUMD PSFC     SM000010 SM010040 SM040100 SM100200 ST000010 ST010040 ST040100 ST100200 SEAICE   LANDSEA  SOILHGT  SKINTEMP SNOW    \\n-------------------------------------------------------------------------------\\n2001.0  X        X        X        O        O        O        X        X        X        X        X        X        X        X        X        X        X        X        X        X        X      \\n-------------------------------------------------------------------------------\\n\\n###############################################################################\\n\\nInventory for date = 2018-01-16 02:00:00\\n\\nPRES   TT       UU       VV       RH       HGT      PMSL     SPECHUMD PSFC     SM000010 SM010040 SM040100 SM100200 ST000010 ST010040 ST040100 ST100200 SEAICE   LANDSEA  SOILHGT  SKINTEMP SNOW    \\n-------------------------------------------------------------------------------\\n2001.0  X        X        X        O        O        O        X        X        X        X        X        X        X        X        X        X        X        X        X        X        X      \\n-------------------------------------------------------------------------------\\n\\n###############################################################################\\n\\nInventory for date = 2018-01-16 03:00:00\\n\\nPRES   TT       UU       VV       RH       HGT      PMSL     SPECHUMD PSFC     SM000010 SM010040 SM040100 SM100200 ST000010 ST010040 ST040100 ST100200 SEAICE   LANDSEA  SOILHGT  SKINTEMP SNOW    \\n-------------------------------------------------------------------------------\\n2001.0  X        X        X        O        O        O        X        X        X        X        X        X        X        X        X        X        X        X        X        X        X      \\n-------------------------------------------------------------------------------\\n\\n###############################################################################\\n\\nInventory for date = 2018-01-16 04:00:00\\n\\nPRES   TT       UU       VV       RH       HGT      PMSL     SPECHUMD PSFC     SM000010 SM010040 SM040100 SM100200 ST000010 ST010040 ST040100 ST100200 SEAICE   LANDSEA  SOILHGT  SKINTEMP SNOW    \\n-------------------------------------------------------------------------------\\n2001.0  X        X        X        O        O        O        X        X        X        X        X        X        X        X        X        X        X        X        X        X        X      \\n-------------------------------------------------------------------------------\\n\\n###############################################################################\\n\\nInventory for date = 2018-01-16 05:00:00\\n\\nPRES   TT       UU       VV       RH       HGT      PMSL     SPECHUMD PSFC     SM000010 SM010040 SM040100 SM100200 ST000010 ST010040 ST040100 ST100200 SEAICE   LANDSEA  SOILHGT  SKINTEMP SNOW    \\n-------------------------------------------------------------------------------\\n2001.0  X        X        X        O        O        O        X        X        X        X        X        X        X        X        X        X        X        X        X        X        X      \\n-------------------------------------------------------------------------------\\n\\n###############################################################################\\n\\nInventory for date = 2018-01-16 06:00:00\\n\\nPRES   TT       UU       VV       RH       HGT      PMSL     SPECHUMD PSFC     SM000010 SM010040 SM040100 SM100200 ST000010 ST010040 ST040100 ST100200 SEAICE   LANDSEA  SOILHGT  SKINTEMP SNOW    \\n-------------------------------------------------------------------------------\\n2001.0  X        X        X        O        O        O        X        X        X        X        X        X        X        X        X        X        X        X        X        X        X      \\n-------------------------------------------------------------------------------\\n\\n###############################################################################\\n\\nInventory for date = 2018-01-16 07:00:00\\n\\nPRES   TT       UU       VV       RH       HGT      PMSL     SPECHUMD PSFC     SM000010 SM010040 SM040100 SM100200 ST000010 ST010040 ST040100 ST100200 SEAICE   LANDSEA  SOILHGT  SKINTEMP SNOW    \\n-------------------------------------------------------------------------------\\n2001.0  X        X        X        O        O        O        X        X        X        X        X        X        X        X        X        X        X        X        X        X        X      \\n-------------------------------------------------------------------------------\\n\\n###############################################################################\\n\\nInventory for date = 2018-01-16 08:00:00\\n\\nPRES   TT       UU       VV       RH       HGT      PMSL     SPECHUMD PSFC     SM000010 SM010040 SM040100 SM100200 ST000010 ST010040 ST040100 ST100200 SEAICE   LANDSEA  SOILHGT  SKINTEMP SNOW    \\n-------------------------------------------------------------------------------\\n2001.0  X        X        X        O        O        O        X        X        X        X        X        X        X        X        X        X        X        X        X        X        X      \\n-------------------------------------------------------------------------------\\n\\n###############################################################################\\n\\nInventory for date = 2018-01-16 09:00:00\\n\\nPRES   TT       UU       VV       RH       HGT      PMSL     SPECHUMD PSFC     SM000010 SM010040 SM040100 SM100200 ST000010 ST010040 ST040100 ST100200 SEAICE   LANDSEA  SOILHGT  SKINTEMP SNOW    \\n-------------------------------------------------------------------------------\\n2001.0  X        X        X        O        O        O        X        X        X        X        X        X        X        X        X        X        X        X        X        X        X      \\n-------------------------------------------------------------------------------\\n\\n###############################################################################\\n\\nInventory for date = 2018-01-16 06:00:00\\n\\nPRES   TT       UU       VV       RH       HGT      PMSL     SPECHUMD PSFC     SM000010 SM010040 SM040100 SM100200 ST000010 ST010040 ST040100 ST100200 SEAICE   LANDSEA  SOILHGT  SKINTEMP SNOW    \\n-------------------------------------------------------------------------------\\n2001.0  O        O        O        O        O        O        O        X        O        O        O        O        O        O        O        O        O        O        O        O        O      \\n-------------------------------------------------------------------------------\\n\\n###############################################################################\\n\\nInventory for date = 2018-01-16 07:00:00\\n\\nPRES   TT       UU       VV       RH       HGT      PMSL     SPECHUMD PSFC     SM000010 SM010040 SM040100 SM100200 ST000010 ST010040 ST040100 ST100200 SEAICE   LANDSEA  SOILHGT  SKINTEMP SNOW    \\n-------------------------------------------------------------------------------\\n2001.0  X        X        X        O        O        O        X        X        X        X        X        X        X        X        X        X        X        X        X        X        X      \\n-------------------------------------------------------------------------------\\n\\n###############################################################################\\n\\nInventory for date = 2018-01-16 08:00:00\\n\\nPRES   TT       UU       VV       RH       HGT      PMSL     SPECHUMD PSFC     SM000010 SM010040 SM040100 SM100200 ST000010 ST010040 ST040100 ST100200 SEAICE   LANDSEA  SOILHGT  SKINTEMP SNOW    \\n-------------------------------------------------------------------------------\\n2001.0  X        X        X        O        O        O        X        X        X        X        X        X        X        X        X        X        X        X        X        X        X      \\n-------------------------------------------------------------------------------\\n\\n###############################################################################\\n\\nInventory for date = 2018-01-16 09:00:00\\n\\nPRES   TT       UU       VV       RH       HGT      PMSL     SPECHUMD PSFC     SM000010 SM010040 SM040100 SM100200 ST000010 ST010040 ST040100 ST100200 SEAICE   LANDSEA  SOILHGT  SKINTEMP SNOW    \\n-------------------------------------------------------------------------------\\n2001.0  X        X        X        O        O        O        X        X        X        X        X        X        X        X        X        X        X        X        X        X        X      \\n-------------------------------------------------------------------------------\\n\\n###############################################################################\\n\\nInventory for date = 2018-01-16 10:00:00\\n\\nPRES   TT       UU       VV       RH       HGT      PMSL     SPECHUMD PSFC     SM000010 SM010040 SM040100 SM100200 ST000010 ST010040 ST040100 ST100200 SEAICE   LANDSEA  SOILHGT  SKINTEMP SNOW    \\n-------------------------------------------------------------------------------\\n2001.0  X        X        X        O        O        O        X        X        X        X        X        X        X        X        X        X        X        X        X        X        X      \\n-------------------------------------------------------------------------------\\n\\n###############################################################################\\n\\nInventory for date = 2018-01-16 11:00:00\\n\\nPRES   TT       UU       VV       RH       HGT      PMSL     SPECHUMD PSFC     SM000010 SM010040 SM040100 SM100200 ST000010 ST010040 ST040100 ST100200 SEAICE   LANDSEA  SOILHGT  SKINTEMP SNOW    \\n-------------------------------------------------------------------------------\\n2001.0  X        X        X        O        O        O        X        X        X        X        X        X        X        X        X        X        X        X        X        X        X      \\n-------------------------------------------------------------------------------\\n\\n###############################################################################\\n\\nInventory for date = 2018-01-16 12:00:00\\n\\nPRES   TT       UU       VV       RH       HGT      PMSL     SPECHUMD PSFC     SM000010 SM010040 SM040100 SM100200 ST000010 ST010040 ST040100 ST100200 SEAICE   LANDSEA  SOILHGT  SKINTEMP SNOW    \\n-------------------------------------------------------------------------------\\n2001.0  X        X        X        O        O        O        X        X        X        X        X        X        X        X        X        X        X        X        X        X        X      \\n-------------------------------------------------------------------------------\\n\\n###############################################################################\\n\\nInventory for date = 2018-01-16 13:00:00\\n\\nPRES   TT       UU       VV       RH       HGT      PMSL     SPECHUMD PSFC     SM000010 SM010040 SM040100 SM100200 ST000010 ST010040 ST040100 ST100200 SEAICE   LANDSEA  SOILHGT  SKINTEMP SNOW    \\n-------------------------------------------------------------------------------\\n2001.0  X        X        X        O        O        O        X        X        X        X        X        X        X        X        X        X        X        X        X        X        X      \\n-------------------------------------------------------------------------------\\n\\n###############################################################################\\n\\nInventory for date = 2018-01-16 14:00:00\\n\\nPRES   TT       UU       VV       RH       HGT      PMSL     SPECHUMD PSFC     SM000010 SM010040 SM040100 SM100200 ST000010 ST010040 ST040100 ST100200 SEAICE   LANDSEA  SOILHGT  SKINTEMP SNOW    \\n-------------------------------------------------------------------------------\\n2001.0  X        X        X        O        O        O        X        X        X        X        X        X        X        X        X        X        X        X        X        X        X      \\n-------------------------------------------------------------------------------\\n\\n###############################################################################\\n\\nInventory for date = 2018-01-16 15:00:00\\n\\nPRES   TT       UU       VV       RH       HGT      PMSL     SPECHUMD PSFC     SM000010 SM010040 SM040100 SM100200 ST000010 ST010040 ST040100 ST100200 SEAICE   LANDSEA  SOILHGT  SKINTEMP SNOW    \\n-------------------------------------------------------------------------------\\n2001.0  X        X        X        O        O        O        X        X        X        X        X        X        X        X        X        X        X        X        X        X        X      \\n-------------------------------------------------------------------------------\\n\\n###############################################################################\\n\\nInventory for date = 2018-01-16 12:00:00\\n\\nPRES   TT       UU       VV       RH       HGT      PMSL     SPECHUMD PSFC     SM000010 SM010040 SM040100 SM100200 ST000010 ST010040 ST040100 ST100200 SEAICE   LANDSEA  SOILHGT  SKINTEMP SNOW    \\n-------------------------------------------------------------------------------\\n2001.0  O        O        O        O        O        O        O        X        O        O        O        O        O        O        O        O        O        O        O        O        O      \\n-------------------------------------------------------------------------------\\n\\n###############################################################################\\n\\nInventory for date = 2018-01-16 13:00:00\\n\\nPRES   TT       UU       VV       RH       HGT      PMSL     SPECHUMD PSFC     SM000010 SM010040 SM040100 SM100200 ST000010 ST010040 ST040100 ST100200 SEAICE   LANDSEA  SOILHGT  SKINTEMP SNOW    \\n-------------------------------------------------------------------------------\\n2001.0  X        X        X        O        O        O        X        X        X        X        X        X        X        X        X        X        X        X        X        X        X      \\n-------------------------------------------------------------------------------\\n\\n###############################################################################\\n\\nInventory for date = 2018-01-16 14:00:00\\n\\nPRES   TT       UU       VV       RH       HGT      PMSL     SPECHUMD PSFC     SM000010 SM010040 SM040100 SM100200 ST000010 ST010040 ST040100 ST100200 SEAICE   LANDSEA  SOILHGT  SKINTEMP SNOW    \\n-------------------------------------------------------------------------------\\n2001.0  X        X        X        O        O        O        X        X        X        X        X        X        X        X        X        X        X        X        X        X        X      \\n-------------------------------------------------------------------------------\\n\\n###############################################################################\\n\\nInventory for date = 2018-01-16 15:00:00\\n\\nPRES   TT       UU       VV       RH       HGT      PMSL     SPECHUMD PSFC     SM000010 SM010040 SM040100 SM100200 ST000010 ST010040 ST040100 ST100200 SEAICE   LANDSEA  SOILHGT  SKINTEMP SNOW    \\n-------------------------------------------------------------------------------\\n2001.0  X        X        X        O        O        O        X        X        X        X        X        X        X        X        X        X        X        X        X        X        X      \\n-------------------------------------------------------------------------------\\n\\n###############################################################################\\n\\nInventory for date = 2018-01-16 16:00:00\\n\\nPRES   TT       UU       VV       RH       HGT      PMSL     SPECHUMD PSFC     SM000010 SM010040 SM040100 SM100200 ST000010 ST010040 ST040100 ST100200 SEAICE   LANDSEA  SOILHGT  SKINTEMP SNOW    \\n-------------------------------------------------------------------------------\\n2001.0  X        X        X        O        O        O        X        X        X        X        X        X        X        X        X        X        X        X        X        X        X      \\n-------------------------------------------------------------------------------\\n\\n###############################################################################\\n\\nInventory for date = 2018-01-16 17:00:00\\n\\nPRES   TT       UU       VV       RH       HGT      PMSL     SPECHUMD PSFC     SM000010 SM010040 SM040100 SM100200 ST000010 ST010040 ST040100 ST100200 SEAICE   LANDSEA  SOILHGT  SKINTEMP SNOW    \\n-------------------------------------------------------------------------------\\n2001.0  X        X        X        O        O        O        X        X        X        X        X        X        X        X        X        X        X        X        X        X        X      \\n-------------------------------------------------------------------------------\\n\\n###############################################################################\\n\\nInventory for date = 2018-01-16 18:00:00\\n\\nPRES   TT       UU       VV       RH       HGT      PMSL     SPECHUMD PSFC     SM000010 SM010040 SM040100 SM100200 ST000010 ST010040 ST040100 ST100200 SEAICE   LANDSEA  SOILHGT  SKINTEMP SNOW    \\n-------------------------------------------------------------------------------\\n2001.0  X        X        X        O        O        O        X        X        X        X        X        X        X        X        X        X        X        X        X        X        X      \\n-------------------------------------------------------------------------------\\n\\n###############################################################################\\n\\nInventory for date = 2018-01-16 19:00:00\\n\\nPRES   TT       UU       VV       RH       HGT      PMSL     SPECHUMD PSFC     SM000010 SM010040 SM040100 SM100200 ST000010 ST010040 ST040100 ST100200 SEAICE   LANDSEA  SOILHGT  SKINTEMP SNOW    \\n-------------------------------------------------------------------------------\\n2001.0  X        X        X        O        O        O        X        X        X        X        X        X        X        X        X        X        X        X        X        X        X      \\n-------------------------------------------------------------------------------\\n\\n###############################################################################\\n\\nInventory for date = 2018-01-16 20:00:00\\n\\nPRES   TT       UU       VV       RH       HGT      PMSL     SPECHUMD PSFC     SM000010 SM010040 SM040100 SM100200 ST000010 ST010040 ST040100 ST100200 SEAICE   LANDSEA  SOILHGT  SKINTEMP SNOW    \\n-------------------------------------------------------------------------------\\n2001.0  X        X        X        O        O        O        X        X        X        X        X        X        X        X        X        X        X        X        X        X        X      \\n-------------------------------------------------------------------------------\\n\\n###############################################################################\\n\\nInventory for date = 2018-01-16 21:00:00\\n\\nPRES   TT       UU       VV       RH       HGT      PMSL     SPECHUMD PSFC     SM000010 SM010040 SM040100 SM100200 ST000010 ST010040 ST040100 ST100200 SEAICE   LANDSEA  SOILHGT  SKINTEMP SNOW    \\n-------------------------------------------------------------------------------\\n2001.0  X        X        X        O        O        O        X        X        X        X        X        X        X        X        X        X        X        X        X        X        X      \\n-------------------------------------------------------------------------------\\n\\n###############################################################################\\n\\nInventory for date = 2018-01-16 18:00:00\\n\\nPRES   TT       UU       VV       RH       HGT      PMSL     SPECHUMD PSFC     SM000010 SM010040 SM040100 SM100200 ST000010 ST010040 ST040100 ST100200 SEAICE   LANDSEA  SOILHGT  SKINTEMP SNOW    \\n-------------------------------------------------------------------------------\\n2001.0  O        O        O        O        O        O        O        X        O        O        O        O        O        O        O        O        O        O        O        O        O      \\n-------------------------------------------------------------------------------\\n\\n###############################################################################\\n\\nInventory for date = 2018-01-16 19:00:00\\n\\nPRES   TT       UU       VV       RH       HGT      PMSL     SPECHUMD PSFC     SM000010 SM010040 SM040100 SM100200 ST000010 ST010040 ST040100 ST100200 SEAICE   LANDSEA  SOILHGT  SKINTEMP SNOW    \\n-------------------------------------------------------------------------------\\n2001.0  X        X        X        O        O        O        X        X        X        X        X        X        X        X        X        X        X        X        X        X        X      \\n-------------------------------------------------------------------------------\\n\\n###############################################################################\\n\\nInventory for date = 2018-01-16 20:00:00\\n\\nPRES   TT       UU       VV       RH       HGT      PMSL     SPECHUMD PSFC     SM000010 SM010040 SM040100 SM100200 ST000010 ST010040 ST040100 ST100200 SEAICE   LANDSEA  SOILHGT  SKINTEMP SNOW    \\n-------------------------------------------------------------------------------\\n2001.0  X        X        X        O        O        O        X        X        X        X        X        X        X        X        X        X        X        X        X        X        X      \\n-------------------------------------------------------------------------------\\n\\n###############################################################################\\n\\nInventory for date = 2018-01-16 21:00:00\\n\\nPRES   TT       UU       VV       RH       HGT      PMSL     SPECHUMD PSFC     SM000010 SM010040 SM040100 SM100200 ST000010 ST010040 ST040100 ST100200 SEAICE   LANDSEA  SOILHGT  SKINTEMP SNOW    \\n-------------------------------------------------------------------------------\\n2001.0  X        X        X        O        O        O        X        X        X        X        X        X        X        X        X        X        X        X        X        X        X      \\n-------------------------------------------------------------------------------\\n\\n###############################################################################\\n\\nInventory for date = 2018-01-16 22:00:00\\n\\nPRES   TT       UU       VV       RH       HGT      PMSL     SPECHUMD PSFC     SM000010 SM010040 SM040100 SM100200 ST000010 ST010040 ST040100 ST100200 SEAICE   LANDSEA  SOILHGT  SKINTEMP SNOW    \\n-------------------------------------------------------------------------------\\n2001.0  X        X        X        O        O        O        X        X        X        X        X        X        X        X        X        X        X        X        X        X        X      \\n-------------------------------------------------------------------------------\\n\\n###############################################################################\\n\\nInventory for date = 2018-01-16 23:00:00\\n\\nPRES   TT       UU       VV       RH       HGT      PMSL     SPECHUMD PSFC     SM000010 SM010040 SM040100 SM100200 ST000010 ST010040 ST040100 ST100200 SEAICE   LANDSEA  SOILHGT  SKINTEMP SNOW    \\n-------------------------------------------------------------------------------\\n2001.0  X        X        X        O        O        O        X        X        X        X        X        X        X        X        X        X        X        X        X        X        X      \\n-------------------------------------------------------------------------------\\n\\n###############################################################################\\n\\nInventory for date = 2018-01-17 00:00:00\\n\\nPRES   TT       UU       VV       RH       HGT      PMSL     SPECHUMD PSFC     SM000010 SM010040 SM040100 SM100200 ST000010 ST010040 ST040100 ST100200 SEAICE   LANDSEA  SOILHGT  SKINTEMP SNOW    \\n-------------------------------------------------------------------------------\\n2001.0  X        X        X        O        O        O        X        X        X        X        X        X        X        X        X        X        X        X        X        X        X      \\n-------------------------------------------------------------------------------\\n\\n###############################################################################\\n\\nInventory for date = 2018-01-17 00:00:00\\n\\nPRES   TT       UU       VV       RH       HGT      PMSL     SPECHUMD PSFC     SM000010 SM010040 SM040100 SM100200 ST000010 ST010040 ST040100 ST100200 SEAICE   LANDSEA  SOILHGT  SKINTEMP SNOW    \\n-------------------------------------------------------------------------------\\n2001.0  O        O        O        O        O        O        O        X        O        O        O        O        O        O        O        O        O        O        O        O        O      \\n-------------------------------------------------------------------------------\\n\\n###############################################################################\\n\\nInventory for date = 2018-01-16 00:00:00\\n\\nPRES   TT       UU       VV       RH       HGT      PMSL     SPECHUMD PSFC     SM000010 SM010040 SM040100 SM100200 ST000010 ST010040 ST040100 ST100200 SEAICE   LANDSEA  SOILHGT  SKINTEMP SNOW    \\n-------------------------------------------------------------------------------\\n2001.0  X        X        X        X        O        O        X        X        X        X        X        X        X        X        X        X        X        X        X        X        X      \\n-------------------------------------------------------------------------------\\n\\n###############################################################################\\n\\nInventory for date = 2018-01-16 06:00:00\\n\\nPRES   TT       UU       VV       RH       HGT      PMSL     SPECHUMD PSFC     SM000010 SM010040 SM040100 SM100200 ST000010 ST010040 ST040100 ST100200 SEAICE   LANDSEA  SOILHGT  SKINTEMP SNOW    \\n-------------------------------------------------------------------------------\\n2001.0  X        X        X        X        O        O        X        X        X        X        X        X        X        X        X        X        X        X        X        X        X      \\n-------------------------------------------------------------------------------\\n\\n###############################################################################\\n\\nInventory for date = 2018-01-16 12:00:00\\n\\nPRES   TT       UU       VV       RH       HGT      PMSL     SPECHUMD PSFC     SM000010 SM010040 SM040100 SM100200 ST000010 ST010040 ST040100 ST100200 SEAICE   LANDSEA  SOILHGT  SKINTEMP SNOW    \\n-------------------------------------------------------------------------------\\n2001.0  X        X        X        X        O        O        X        X        X        X        X        X        X        X        X        X        X        X        X        X        X      \\n-------------------------------------------------------------------------------\\n\\n###############################################################################\\n\\nInventory for date = 2018-01-16 18:00:00\\n\\nPRES   TT       UU       VV       RH       HGT      PMSL     SPECHUMD PSFC     SM000010 SM010040 SM040100 SM100200 ST000010 ST010040 ST040100 ST100200 SEAICE   LANDSEA  SOILHGT  SKINTEMP SNOW    \\n-------------------------------------------------------------------------------\\n2001.0  X        X        X        X        O        O        X        X        X        X        X        X        X        X        X        X        X        X        X        X        X      \\n-------------------------------------------------------------------------------\\n\\n###############################################################################\\n\\nInventory for date = 2018-01-17 00:00:00\\n\\nPRES   TT       UU       VV       RH       HGT      PMSL     SPECHUMD PSFC     SM000010 SM010040 SM040100 SM100200 ST000010 ST010040 ST040100 ST100200 SEAICE   LANDSEA  SOILHGT  SKINTEMP SNOW    \\n-------------------------------------------------------------------------------\\n2001.0  X        X        X        X        O        O        X        X        X        X        X        X        X        X        X        X        X        X        X        X        X      \\n-------------------------------------------------------------------------------\\nSubroutine DATINT: Interpolating 3-d files to fill in any missing data...\\nLooking for data at time 2018-01-16_00\\nFound file:      ungrib_surf:2018-01-16_00\\nLooking for data at time 2018-01-16_06\\nFound file:      ungrib_surf:2018-01-16_06\\nLooking for data at time 2018-01-16_12\\nFound file:      ungrib_surf:2018-01-16_12\\nLooking for data at time 2018-01-16_18\\nFound file:      ungrib_surf:2018-01-16_18\\nLooking for data at time 2018-01-17_00\\nFound file:      ungrib_surf:2018-01-17_00\\nEnd Subroutine DATINT.\\n\\n**********\\nDeleting temporary files created by ungrib...\\n**********\\n\\nDeleting file:  ./PFILE:2018-01-15_19\\nDeleting file:  ./PFILE:2018-01-15_20\\nDeleting file:  ./PFILE:2018-01-15_21\\nDeleting file:  ./PFILE:2018-01-15_22\\nDeleting file:  ./PFILE:2018-01-15_23\\nDeleting file:  ./PFILE:2018-01-16_00\\nDeleting file:  ./PFILE:2018-01-16_01\\nDeleting file:  ./PFILE:2018-01-16_02\\nDeleting file:  ./PFILE:2018-01-16_03\\nDeleting file:  ./PFILE:2018-01-16_04\\nDeleting file:  ./PFILE:2018-01-16_05\\nDeleting file:  ./PFILE:2018-01-16_06\\nDeleting file:  ./PFILE:2018-01-16_07\\nDeleting file:  ./PFILE:2018-01-16_08\\nDeleting file:  ./PFILE:2018-01-16_09\\nDeleting file:  ./PFILE:2018-01-16_10\\nDeleting file:  ./PFILE:2018-01-16_11\\nDeleting file:  ./PFILE:2018-01-16_12\\nDeleting file:  ./PFILE:2018-01-16_13\\nDeleting file:  ./PFILE:2018-01-16_14\\nDeleting file:  ./PFILE:2018-01-16_15\\nDeleting file:  ./PFILE:2018-01-16_16\\nDeleting file:  ./PFILE:2018-01-16_17\\nDeleting file:  ./PFILE:2018-01-16_18\\nDeleting file:  ./PFILE:2018-01-16_19\\nDeleting file:  ./PFILE:2018-01-16_20\\nDeleting file:  ./PFILE:2018-01-16_21\\nDeleting file:  ./PFILE:2018-01-16_22\\nDeleting file:  ./PFILE:2018-01-16_23\\nDeleting file:  ./PFILE:2018-01-17_00\\n\\n**********\\nDone deleting temporary files.\\n**********\\n\\n!!!!!!!!!!!!!!!!!!!!!!!!!!!!!!!!!!!!!!!\\n!  Successful completion of ungrib.   !\\n!!!!!!!!!!!!!!!!!!!!!!!!!!!!!!!!!!!!!!!\\n'\n",
      "b' CFSR fix: recomputing delta-longitude\\n CFSR fix: recomputing delta-longitude\\n CFSR fix: recomputing delta-longitude\\n CFSR fix: recomputing delta-longitude\\n CFSR fix: recomputing delta-longitude\\n CFSR fix: recomputing delta-longitude\\n CFSR fix: recomputing delta-longitude\\n CFSR fix: recomputing delta-longitude\\n CFSR fix: recomputing delta-longitude\\n CFSR fix: recomputing delta-longitude\\n CFSR fix: recomputing delta-longitude\\n CFSR fix: recomputing delta-longitude\\n CFSR fix: recomputing delta-longitude\\n CFSR fix: recomputing delta-longitude\\n CFSR fix: recomputing delta-longitude\\n CFSR fix: recomputing delta-longitude\\n CFSR fix: recomputing delta-longitude\\n CFSR fix: recomputing delta-longitude\\n CFSR fix: recomputing delta-longitude\\n CFSR fix: recomputing delta-longitude\\n CFSR fix: recomputing delta-longitude\\n CFSR fix: recomputing delta-longitude\\n CFSR fix: recomputing delta-longitude\\n CFSR fix: recomputing delta-longitude\\n CFSR fix: recomputing delta-longitude\\n CFSR fix: recomputing delta-longitude\\n CFSR fix: recomputing delta-longitude\\n CFSR fix: recomputing delta-longitude\\n CFSR fix: recomputing delta-longitude\\n CFSR fix: recomputing delta-longitude\\n CFSR fix: recomputing delta-longitude\\n CFSR fix: recomputing delta-longitude\\n CFSR fix: recomputing delta-longitude\\n CFSR fix: recomputing delta-longitude\\n CFSR fix: recomputing delta-longitude\\n CFSR fix: recomputing delta-longitude\\n CFSR fix: recomputing delta-longitude\\n CFSR fix: recomputing delta-longitude\\n CFSR fix: recomputing delta-longitude\\n CFSR fix: recomputing delta-longitude\\n CFSR fix: recomputing delta-longitude\\n CFSR fix: recomputing delta-longitude\\n CFSR fix: recomputing delta-longitude\\n CFSR fix: recomputing delta-longitude\\n CFSR fix: recomputing delta-longitude\\n CFSR fix: recomputing delta-longitude\\n CFSR fix: recomputing delta-longitude\\n CFSR fix: recomputing delta-longitude\\n CFSR fix: recomputing delta-longitude\\n CFSR fix: recomputing delta-longitude\\n Name of source model =>NCEP CDAS CFSV2                 \\n Name of source model =>NCEP CDAS CFSV2                 \\n Name of source model =>NCEP CDAS CFSV2                 \\n Name of source model =>NCEP CDAS CFSV2                 \\n Name of source model =>NCEP CDAS CFSV2                 \\n'\n"
     ]
    }
   ],
   "source": [
    "if gc.ID == 'taito_login':\n",
    "    res = su.run(['/bin/bash', bs_path], stdout=su.PIPE, stderr=su.PIPE)\n",
    "\n",
    "print(res.stdout)\n",
    "print(res.stderr)\n",
    "if gc.ID == 'taito_login' and res.returncode == 0:\n",
    "    wrf_management.run_utilities.update_run_table(val=100,\n",
    "                                                  job=job,\n",
    "                                                  date=job_row['date']\n",
    "                                                  )"
   ]
  },
  {
   "cell_type": "code",
   "execution_count": null,
   "metadata": {
    "lines_to_next_cell": 3
   },
   "outputs": [],
   "source": []
  }
 ],
 "metadata": {
  "jupytext": {
   "text_representation": {
    "extension": ".py",
    "format_name": "percent",
    "format_version": "1.2",
    "jupytext_version": "1.0.0"
   }
  },
  "kernelspec": {
   "display_name": "Python 3",
   "language": "python",
   "name": "python3"
  },
  "language_info": {
   "codemirror_mode": {
    "name": "ipython",
    "version": 3
   },
   "file_extension": ".py",
   "mimetype": "text/x-python",
   "name": "python",
   "nbconvert_exporter": "python",
   "pygments_lexer": "ipython3",
   "version": "3.6.8"
  }
 },
 "nbformat": 4,
 "nbformat_minor": 2
}
