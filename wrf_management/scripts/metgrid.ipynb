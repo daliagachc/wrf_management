{
 "cells": [
  {
   "cell_type": "code",
   "execution_count": 19,
   "metadata": {},
   "outputs": [],
   "source": [
    "import importlib\n",
    "import wrf_management.project_global_constants as gc\n",
    "import wrf_management.ungrib as un\n",
    "import os\n",
    "import pandas as pd\n",
    "import subprocess as su\n",
    "import wrf_management.run_utilities as ru\n",
    "import wrf_management.metgrid as me"
   ]
  },
  {
   "cell_type": "code",
   "execution_count": 20,
   "metadata": {},
   "outputs": [
    {
     "name": "stdout",
     "output_type": "stream",
     "text": [
      "run_2019_02_20\n"
     ]
    }
   ],
   "source": [
    "print(gc.RUN_NAME)\n",
    "job = 'metgrid'\n",
    "ungrib_source_dirs = ['ungrib_surf', 'ungrib_press']\n",
    "avg_pref = 'ungrib_avgtsfc'\n",
    "real = True\n",
    "hours=24\n",
    "LIST_S_LINKS = [\n",
    "    'metgrid.exe',\n",
    "    #     'link_grib.csh',\n",
    "    'metgrid'\n",
    "]\n",
    "\n",
    "LIST_H_LINKS = [\n",
    "    #     'Vtable',\n",
    "    'env_WRFv4.bash'\n",
    "]"
   ]
  },
  {
   "cell_type": "code",
   "execution_count": 21,
   "metadata": {},
   "outputs": [
    {
     "data": {
      "text/plain": [
       "'/homeappl/home/aliagadi/saltena_2018/wrf_management/wrf_management/db_folder/wrf_man.sqlite'"
      ]
     },
     "execution_count": 21,
     "metadata": {},
     "output_type": "execute_result"
    }
   ],
   "source": [
    "# con = sq.connect(gc.PATH_DB)\n",
    "gc.PATH_DB"
   ]
  },
  {
   "cell_type": "code",
   "execution_count": 22,
   "metadata": {},
   "outputs": [
    {
     "name": "stdout",
     "output_type": "stream",
     "text": [
      "index                             1\n",
      "run_name             run_2019_02_20\n",
      "geogrid_path                geogrid\n",
      "config_path          run_2019_02_20\n",
      "data_path       runs/run_2019_02_20\n",
      "parent_run                     None\n",
      "comments                       None\n",
      "Name: 0, dtype: object\n"
     ]
    }
   ],
   "source": [
    "importlib.reload(un)\n",
    "importlib.reload(ru)\n",
    "run_row = ru.get_run_row()\n",
    "print(run_row)"
   ]
  },
  {
   "cell_type": "code",
   "execution_count": 23,
   "metadata": {},
   "outputs": [
    {
     "name": "stdout",
     "output_type": "stream",
     "text": [
      "/wrk/aliagadi/DONOTREMOVE/wrf_management_data/runs/run_2019_02_20\n"
     ]
    }
   ],
   "source": [
    "run_path = os.path.join(gc.PATH_DATA, run_row.data_path)\n",
    "print(run_path)"
   ]
  },
  {
   "cell_type": "code",
   "execution_count": 25,
   "metadata": {},
   "outputs": [
    {
     "name": "stdout",
     "output_type": "stream",
     "text": [
      "date              2017-12-01 00:00:00\n",
      "ungrib_surf                        50\n",
      "ungrib_press                        5\n",
      "ungrib_avgtsfc                    100\n",
      "metgrid                             5\n",
      "real                               50\n",
      "Name: 0, dtype: object\n"
     ]
    }
   ],
   "source": [
    "job_row = ru.get_next_row(job=job,i_max=10)\n",
    "print(job_row)"
   ]
  },
  {
   "cell_type": "code",
   "execution_count": 7,
   "metadata": {},
   "outputs": [
    {
     "name": "stdout",
     "output_type": "stream",
     "text": [
      "/wrk/aliagadi/DONOTREMOVE/wrf_management_data/runs/run_2019_02_20/2017_12_24/metgrid\n"
     ]
    }
   ],
   "source": [
    "if real:\n",
    "    ru.update_run_table(val=job_row[job] + 1,\n",
    "                        job=job,\n",
    "                        date=job_row['date']\n",
    "                        )\n",
    "\n",
    "job_path = ru.getmk_job_path(run_row, job_row, job)\n",
    "print(job_path)"
   ]
  },
  {
   "cell_type": "code",
   "execution_count": 8,
   "metadata": {},
   "outputs": [
    {
     "name": "stdout",
     "output_type": "stream",
     "text": [
      "/homeappl/home/aliagadi/saltena_2018/wrf_management/wrf_management/config_dir/run_2019_02_20\n"
     ]
    }
   ],
   "source": [
    "conf_path = ru.get_conf_path(run_row)\n",
    "print(conf_path)"
   ]
  },
  {
   "cell_type": "code",
   "execution_count": 9,
   "metadata": {},
   "outputs": [
    {
     "data": {
      "text/html": [
       "<div>\n",
       "<style scoped>\n",
       "    .dataframe tbody tr th:only-of-type {\n",
       "        vertical-align: middle;\n",
       "    }\n",
       "\n",
       "    .dataframe tbody tr th {\n",
       "        vertical-align: top;\n",
       "    }\n",
       "\n",
       "    .dataframe thead th {\n",
       "        text-align: right;\n",
       "    }\n",
       "</style>\n",
       "<table border=\"1\" class=\"dataframe\">\n",
       "  <thead>\n",
       "    <tr style=\"text-align: right;\">\n",
       "      <th></th>\n",
       "      <th>share</th>\n",
       "      <th>metgrid</th>\n",
       "    </tr>\n",
       "  </thead>\n",
       "  <tbody>\n",
       "    <tr>\n",
       "      <th>constants_name</th>\n",
       "      <td>NaN</td>\n",
       "      <td>TAVGSFC</td>\n",
       "    </tr>\n",
       "    <tr>\n",
       "      <th>end_date</th>\n",
       "      <td>[2017-12-25_00:00:00, 2017-12-25_00:00:00, 201...</td>\n",
       "      <td>NaN</td>\n",
       "    </tr>\n",
       "    <tr>\n",
       "      <th>fg_name</th>\n",
       "      <td>NaN</td>\n",
       "      <td>[ungrib_surf, ungrib_press]</td>\n",
       "    </tr>\n",
       "    <tr>\n",
       "      <th>interval_seconds</th>\n",
       "      <td>21600</td>\n",
       "      <td>NaN</td>\n",
       "    </tr>\n",
       "    <tr>\n",
       "      <th>io_form_geogrid</th>\n",
       "      <td>2</td>\n",
       "      <td>NaN</td>\n",
       "    </tr>\n",
       "    <tr>\n",
       "      <th>io_form_metgrid</th>\n",
       "      <td>NaN</td>\n",
       "      <td>2</td>\n",
       "    </tr>\n",
       "    <tr>\n",
       "      <th>max_dom</th>\n",
       "      <td>4</td>\n",
       "      <td>NaN</td>\n",
       "    </tr>\n",
       "    <tr>\n",
       "      <th>start_date</th>\n",
       "      <td>[2017-12-24_00:00:00, 2017-12-24_00:00:00, 201...</td>\n",
       "      <td>NaN</td>\n",
       "    </tr>\n",
       "    <tr>\n",
       "      <th>wrf_core</th>\n",
       "      <td>ARW</td>\n",
       "      <td>NaN</td>\n",
       "    </tr>\n",
       "  </tbody>\n",
       "</table>\n",
       "</div>"
      ],
      "text/plain": [
       "                                                              share  \\\n",
       "constants_name                                                  NaN   \n",
       "end_date          [2017-12-25_00:00:00, 2017-12-25_00:00:00, 201...   \n",
       "fg_name                                                         NaN   \n",
       "interval_seconds                                              21600   \n",
       "io_form_geogrid                                                   2   \n",
       "io_form_metgrid                                                 NaN   \n",
       "max_dom                                                           4   \n",
       "start_date        [2017-12-24_00:00:00, 2017-12-24_00:00:00, 201...   \n",
       "wrf_core                                                        ARW   \n",
       "\n",
       "                                      metgrid  \n",
       "constants_name                        TAVGSFC  \n",
       "end_date                                  NaN  \n",
       "fg_name           [ungrib_surf, ungrib_press]  \n",
       "interval_seconds                          NaN  \n",
       "io_form_geogrid                           NaN  \n",
       "io_form_metgrid                             2  \n",
       "max_dom                                   NaN  \n",
       "start_date                                NaN  \n",
       "wrf_core                                  NaN  "
      ]
     },
     "execution_count": 9,
     "metadata": {},
     "output_type": "execute_result"
    }
   ],
   "source": [
    "importlib.reload(me)\n",
    "name_list = me.skim_namelist_copy_metgrid(\n",
    "    conf_path, job_path, date=job_row.date, prefix=job, hours=hours\n",
    ")\n",
    "pd.DataFrame(name_list)"
   ]
  },
  {
   "cell_type": "code",
   "execution_count": 10,
   "metadata": {},
   "outputs": [],
   "source": [
    "\n",
    "importlib.reload(un)\n",
    "un.link_grub_files(ungrib_prefixes=ungrib_source_dirs, job_path=job_path)"
   ]
  },
  {
   "cell_type": "code",
   "execution_count": 11,
   "metadata": {},
   "outputs": [],
   "source": [
    "importlib.reload(me)\n",
    "me.get_geo_files(\n",
    "    run_path=run_path,\n",
    "    geo_rel_path=run_row.geogrid_path)\n",
    "me.link_geo_files(\n",
    "    geo_rel_path=run_row.geogrid_path,\n",
    "    run_path=run_path,\n",
    "    job_path=job_path\n",
    ")"
   ]
  },
  {
   "cell_type": "code",
   "execution_count": 12,
   "metadata": {},
   "outputs": [],
   "source": [
    "importlib.reload(me)\n",
    "me.link_avg_file(prefix=avg_pref, job_path=job_path)"
   ]
  },
  {
   "cell_type": "code",
   "execution_count": 13,
   "metadata": {},
   "outputs": [
    {
     "name": "stdout",
     "output_type": "stream",
     "text": [
      "env_WRFv4.bash\n",
      "unilinking\n",
      "metgrid.exe\n",
      "unilinking\n",
      "metgrid\n"
     ]
    }
   ],
   "source": [
    "# if gc.ID=='taito_login':\n",
    "ru.copy_hard_links(conf_path, job_path, LIST_H_LINKS)\n",
    "ru.copy_soft_links(\n",
    "    os.path.join(gc.PATH_WPS, ''),\n",
    "    job_path, LIST_S_LINKS)"
   ]
  },
  {
   "cell_type": "code",
   "execution_count": null,
   "metadata": {},
   "outputs": [],
   "source": []
  },
  {
   "cell_type": "code",
   "execution_count": 16,
   "metadata": {
    "lines_to_next_cell": 2
   },
   "outputs": [
    {
     "name": "stdout",
     "output_type": "stream",
     "text": [
      "#!/bin/bash\n",
      "   source ./env_WRFv4.bash\n",
      "   srun -n1 -t10 -p serial -J'm2017-12-24 00:00:00' ./metgrid.exe\n"
     ]
    }
   ],
   "source": [
    "run_script = \\\n",
    "   \"\"\"#!/bin/bash\n",
    "   source ./env_WRFv4.bash\n",
    "   srun -n1 -t10 -p serial -J'm{date}' ./metgrid.exe\"\"\".format(job_path=job_path,date=job_row.date)\n",
    "print(run_script)\n",
    "bs_path = os.path.join(job_path, 'run_me.sh')\n",
    "bs_file = open(bs_path, 'w')\n",
    "bs_file.write(run_script)\n",
    "bs_file.close()"
   ]
  },
  {
   "cell_type": "code",
   "execution_count": 17,
   "metadata": {},
   "outputs": [],
   "source": [
    "if gc.ID == 'taito_login':\n",
    "    res = su.run(['/bin/bash','run_me.sh'], stdout=su.PIPE, stderr=su.PIPE,cwd=job_path)"
   ]
  },
  {
   "cell_type": "code",
   "execution_count": 18,
   "metadata": {},
   "outputs": [
    {
     "name": "stdout",
     "output_type": "stream",
     "text": [
      "b'Processing domain 1 of 4\\n    TAVGSFC\\n Processing 2017-12-24_00\\n    ungrib_surf\\n    ungrib_press\\n Processing 2017-12-24_06\\n    ungrib_surf\\n    ungrib_press\\n Processing 2017-12-24_12\\n    ungrib_surf\\n    ungrib_press\\n Processing 2017-12-24_18\\n    ungrib_surf\\n    ungrib_press\\n Processing 2017-12-25_00\\n    ungrib_surf\\n    ungrib_press\\nProcessing domain 2 of 4\\n    TAVGSFC\\n Processing 2017-12-24_00\\n    ungrib_surf\\n    ungrib_press\\n Processing 2017-12-24_06\\n    ungrib_surf\\n    ungrib_press\\n Processing 2017-12-24_12\\n    ungrib_surf\\n    ungrib_press\\n Processing 2017-12-24_18\\n    ungrib_surf\\n    ungrib_press\\n Processing 2017-12-25_00\\n    ungrib_surf\\n    ungrib_press\\nProcessing domain 3 of 4\\n    TAVGSFC\\n Processing 2017-12-24_00\\n    ungrib_surf\\n    ungrib_press\\n Processing 2017-12-24_06\\n    ungrib_surf\\n    ungrib_press\\n Processing 2017-12-24_12\\n    ungrib_surf\\n    ungrib_press\\n Processing 2017-12-24_18\\n    ungrib_surf\\n    ungrib_press\\n Processing 2017-12-25_00\\n    ungrib_surf\\n    ungrib_press\\nProcessing domain 4 of 4\\n    TAVGSFC\\n Processing 2017-12-24_00\\n    ungrib_surf\\n    ungrib_press\\n Processing 2017-12-24_06\\n    ungrib_surf\\n    ungrib_press\\n Processing 2017-12-24_12\\n    ungrib_surf\\n    ungrib_press\\n Processing 2017-12-24_18\\n    ungrib_surf\\n    ungrib_press\\n Processing 2017-12-25_00\\n    ungrib_surf\\n    ungrib_press\\n!!!!!!!!!!!!!!!!!!!!!!!!!!!!!!!!!!!!!!!\\n!  Successful completion of metgrid.  !\\n!!!!!!!!!!!!!!!!!!!!!!!!!!!!!!!!!!!!!!!\\n'\n",
      "b'srun: job 41451859 queued and waiting for resources\\nsrun: job 41451859 has been allocated resources\\nNote: The following floating-point exceptions are signalling: IEEE_OVERFLOW_FLAG IEEE_UNDERFLOW_FLAG IEEE_DENORMAL\\n'\n"
     ]
    }
   ],
   "source": [
    "print(res.stdout)\n",
    "print(res.stderr)\n",
    "if gc.ID == 'taito_login' and res.returncode == 0:\n",
    "    un.update_run_table(val=100,\n",
    "                        job=job,\n",
    "                        date=job_row['date']\n",
    "                        )"
   ]
  },
  {
   "cell_type": "code",
   "execution_count": null,
   "metadata": {},
   "outputs": [],
   "source": []
  }
 ],
 "metadata": {
  "jupytext": {
   "text_representation": {
    "extension": ".py",
    "format_name": "percent",
    "format_version": "1.2",
    "jupytext_version": "1.0.0"
   }
  },
  "kernelspec": {
   "display_name": "Python 3",
   "language": "python",
   "name": "python3"
  },
  "language_info": {
   "codemirror_mode": {
    "name": "ipython",
    "version": 3
   },
   "file_extension": ".py",
   "mimetype": "text/x-python",
   "name": "python",
   "nbconvert_exporter": "python",
   "pygments_lexer": "ipython3",
   "version": "3.6.8"
  }
 },
 "nbformat": 4,
 "nbformat_minor": 2
}
