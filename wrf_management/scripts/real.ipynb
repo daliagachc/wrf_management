{
 "cells": [
  {
   "cell_type": "code",
   "execution_count": 36,
   "metadata": {},
   "outputs": [],
   "source": [
    "import importlib\n",
    "import wrf_management.project_global_constants as gc\n",
    "import wrf_management.ungrib as un\n",
    "import os\n",
    "import pandas as pd\n",
    "import subprocess as su\n",
    "import wrf_management.run_utilities as ru\n",
    "import wrf_management.real as re"
   ]
  },
  {
   "cell_type": "code",
   "execution_count": 46,
   "metadata": {},
   "outputs": [
    {
     "name": "stdout",
     "output_type": "stream",
     "text": [
      "run_2019_02_20\n"
     ]
    }
   ],
   "source": [
    "print(gc.RUN_NAME)\n",
    "job = 'real'\n",
    "met_pref='metgrid'\n",
    "real = False\n",
    "\n",
    "LIST_S_LINKS = [\n",
    "    'real.exe',\n",
    "    #     'link_grib.csh',\n",
    "#     'metgrid'\n",
    "]\n",
    "\n",
    "LIST_H_LINKS = [\n",
    "    #     'Vtable',\n",
    "    'env_WRFv4.bash'\n",
    "]"
   ]
  },
  {
   "cell_type": "code",
   "execution_count": 26,
   "metadata": {},
   "outputs": [
    {
     "data": {
      "text/plain": [
       "'/tmp/wrf_management/db_folder/wrf_man.sqlite'"
      ]
     },
     "execution_count": 26,
     "metadata": {},
     "output_type": "execute_result"
    }
   ],
   "source": [
    "# con = sq.connect(gc.PATH_DB)\n",
    "gc.PATH_DB"
   ]
  },
  {
   "cell_type": "code",
   "execution_count": 27,
   "metadata": {},
   "outputs": [
    {
     "name": "stdout",
     "output_type": "stream",
     "text": [
      "index                             1\n",
      "run_name             run_2019_02_20\n",
      "geogrid_path                geogrid\n",
      "config_path          run_2019_02_20\n",
      "data_path       runs/run_2019_02_20\n",
      "Name: 0, dtype: object\n"
     ]
    }
   ],
   "source": [
    "importlib.reload(un)\n",
    "importlib.reload(ru)\n",
    "run_row = ru.get_run_row()\n",
    "print(run_row)"
   ]
  },
  {
   "cell_type": "code",
   "execution_count": 28,
   "metadata": {},
   "outputs": [
    {
     "name": "stdout",
     "output_type": "stream",
     "text": [
      "/tmp/wrf_management/data_folder/runs/run_2019_02_20\n"
     ]
    }
   ],
   "source": [
    "run_path = os.path.join(gc.PATH_DATA, run_row.data_path)\n",
    "print(run_path)"
   ]
  },
  {
   "cell_type": "code",
   "execution_count": 29,
   "metadata": {},
   "outputs": [
    {
     "name": "stdout",
     "output_type": "stream",
     "text": [
      "date              2017-12-02 00:00:00\n",
      "ungrib_surf                       100\n",
      "ungrib_press                      100\n",
      "ungrib_lake                         0\n",
      "ungrib_avgtsfc                    100\n",
      "metgrid                           100\n",
      "real                                0\n",
      "Name: 0, dtype: object\n"
     ]
    }
   ],
   "source": [
    "job_row = ru.get_next_row(job=job)\n",
    "print(job_row)"
   ]
  },
  {
   "cell_type": "code",
   "execution_count": 30,
   "metadata": {},
   "outputs": [
    {
     "name": "stdout",
     "output_type": "stream",
     "text": [
      "/tmp/wrf_management/data_folder/runs/run_2019_02_20/2017_12_02/real\n"
     ]
    }
   ],
   "source": [
    "if real:\n",
    "    ru.update_run_table(val=job_row[job] + 1,\n",
    "                        job=job,\n",
    "                        date=job_row['date']\n",
    "                        )\n",
    "\n",
    "job_path = ru.getmk_job_path(run_row, job_row, job)\n",
    "print(job_path)"
   ]
  },
  {
   "cell_type": "code",
   "execution_count": 31,
   "metadata": {},
   "outputs": [
    {
     "name": "stdout",
     "output_type": "stream",
     "text": [
      "/Users/diego/wrf_management/wrf_management/config_dir/run_2019_02_20\n"
     ]
    }
   ],
   "source": [
    "conf_path = ru.get_conf_path(run_row)\n",
    "print(conf_path)"
   ]
  },
  {
   "cell_type": "code",
   "execution_count": 39,
   "metadata": {},
   "outputs": [
    {
     "data": {
      "text/plain": [
       "'2017-12-02 00:00:00'"
      ]
     },
     "execution_count": 39,
     "metadata": {},
     "output_type": "execute_result"
    }
   ],
   "source": []
  },
  {
   "cell_type": "code",
   "execution_count": 44,
   "metadata": {},
   "outputs": [],
   "source": [
    "duration_h = 24\n",
    "importlib.reload(re)\n",
    "re.skim_namelist_copy_real(\n",
    "    conf_path, job_path, date = job_row.date, \n",
    "    duration_h=duration_h\n",
    ");"
   ]
  },
  {
   "cell_type": "code",
   "execution_count": 50,
   "metadata": {},
   "outputs": [],
   "source": [
    "importlib.reload(re)\n",
    "\n",
    "\n",
    "re.link_met_files(\n",
    "    job_path=job_path,\n",
    "    met_pref=met_pref\n",
    ")"
   ]
  },
  {
   "cell_type": "code",
   "execution_count": 51,
   "metadata": {},
   "outputs": [
    {
     "name": "stdout",
     "output_type": "stream",
     "text": [
      "env_WRFv4.bash\n",
      "real.exe\n"
     ]
    }
   ],
   "source": [
    "# if gc.ID=='taito_login':\n",
    "ru.copy_hard_links(conf_path, job_path, LIST_H_LINKS)\n",
    "ru.copy_soft_links(\n",
    "    os.path.join(gc.PATH_WPS, ''),\n",
    "    job_path, LIST_S_LINKS)"
   ]
  },
  {
   "cell_type": "code",
   "execution_count": 68,
   "metadata": {},
   "outputs": [
    {
     "name": "stdout",
     "output_type": "stream",
     "text": [
      "#!/bin/bash\n",
      "    cd /wrk/aliagadi/DONOTREMOVE/wrf_management_data/runs/run_2019_02_20/2017_12_03/ungrib_avgtsfc\n",
      "    source ./env_WRFv4.bash \n",
      "    ./avg_tsfc.exe > avg_tsfc.log\n",
      "    exit $?\n",
      "    \n"
     ]
    }
   ],
   "source": [
    "run_script = \\\n",
    "    \"\"\"#!/bin/bash\n",
    "    cd {job_path}\n",
    "    source ./env_WRFv4.bash \n",
    "    ./metgrid.exe\n",
    "    exit $?\n",
    "    \"\"\".format(job_path=job_path)\n",
    "print(run_script)\n",
    "bs_path = os.path.join(job_path, 'run_me.sh')\n",
    "bs_file = open(bs_path, 'w')\n",
    "bs_file.write(run_script)\n",
    "bs_file.close()"
   ]
  },
  {
   "cell_type": "code",
   "execution_count": 69,
   "metadata": {},
   "outputs": [],
   "source": [
    "if gc.ID == 'taito_login':\n",
    "    res = su.run(['/bin/bash', bs_path], stdout=su.PIPE, stderr=su.PIPE)\n",
    "\n",
    "if gc.ID == 'taito_login' and res.returncode == 0:\n",
    "    un.update_run_table(val=100,\n",
    "                        job=job,\n",
    "                        date=job_row['date']\n",
    "                        )"
   ]
  },
  {
   "cell_type": "code",
   "execution_count": null,
   "metadata": {
    "lines_to_next_cell": 2
   },
   "outputs": [],
   "source": []
  }
 ],
 "metadata": {
  "jupytext": {
   "text_representation": {
    "extension": ".py",
    "format_name": "percent",
    "format_version": "1.2",
    "jupytext_version": "0.8.6"
   }
  },
  "kernelspec": {
   "display_name": "Python 3",
   "language": "python",
   "name": "python3"
  },
  "language_info": {
   "codemirror_mode": {
    "name": "ipython",
    "version": 3
   },
   "file_extension": ".py",
   "mimetype": "text/x-python",
   "name": "python",
   "nbconvert_exporter": "python",
   "pygments_lexer": "ipython3",
   "version": "3.6.7"
  }
 },
 "nbformat": 4,
 "nbformat_minor": 2
}
