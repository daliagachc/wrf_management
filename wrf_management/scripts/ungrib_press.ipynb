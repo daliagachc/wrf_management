{
 "cells": [
  {
   "cell_type": "code",
   "execution_count": 1,
   "metadata": {
    "lines_to_next_cell": 0
   },
   "outputs": [],
   "source": [
    "import wrf_management.run_utilities\n",
    "import wrf_management.utilities as ut\n",
    "import importlib\n",
    "importlib.reload(ut);\n",
    "import wrf_management.project_global_constants as gc\n",
    "importlib.reload(gc)\n",
    "import wrf_management.geogrid as geo\n",
    "import wrf_management.ungrib as un\n",
    "importlib.reload(un)\n",
    "import os\n",
    "import sqlite3 as sq\n",
    "import pandas as pd\n",
    "import wrf_management.base_namelists.base_namelists as bn\n",
    "importlib.reload(bn);\n",
    "import f90nml\n",
    "import subprocess as su"
   ]
  },
  {
   "cell_type": "code",
   "execution_count": 2,
   "metadata": {
    "lines_to_next_cell": 2
   },
   "outputs": [
    {
     "name": "stdout",
     "output_type": "stream",
     "text": [
      "run_2019_02_20\n"
     ]
    }
   ],
   "source": [
    "print(gc.RUN_NAME)\n",
    "job = 'ungrib_press'\n",
    "file_types=['press']\n",
    "real = False\n",
    "hours = 24\n",
    "\n",
    "LIST_S_LINKS = [\n",
    "    'ungrib.exe',\n",
    "    'link_grib.csh',\n",
    "    'ungrib'\n",
    "]\n",
    "\n",
    "LIST_H_LINKS = [\n",
    "    'Vtable',\n",
    "    'env_WRFv4.bash'\n",
    "]"
   ]
  },
  {
   "cell_type": "code",
   "execution_count": 3,
   "metadata": {},
   "outputs": [
    {
     "data": {
      "text/plain": [
       "'/homeappl/home/aliagadi/saltena_2018/wrf_management/wrf_management/db_folder/wrf_man.sqlite'"
      ]
     },
     "execution_count": 3,
     "metadata": {},
     "output_type": "execute_result"
    }
   ],
   "source": [
    "#con = sq.connect(gc.PATH_DB)\n",
    "gc.PATH_DB"
   ]
  },
  {
   "cell_type": "code",
   "execution_count": 4,
   "metadata": {},
   "outputs": [
    {
     "name": "stdout",
     "output_type": "stream",
     "text": [
      "index                             1\n",
      "run_name             run_2019_02_20\n",
      "geogrid_path                geogrid\n",
      "config_path          run_2019_02_20\n",
      "data_path       runs/run_2019_02_20\n",
      "Name: 0, dtype: object\n",
      "date              2017-12-02 00:00:00\n",
      "ungrib_surf                         1\n",
      "ungrib_press                        0\n",
      "ungrib_lake                         0\n",
      "ungrib_avgtsfc                      0\n",
      "metgrid                             0\n",
      "real                                0\n",
      "Name: 0, dtype: object\n",
      "/wrk/aliagadi/DONOTREMOVE/wrf_management_data/runs/run_2019_02_20/2017_12_02/ungrib_press\n",
      "/homeappl/home/aliagadi/saltena_2018/wrf_management/wrf_management/config_dir/run_2019_02_20\n",
      "                  date  i  downloaded                      name  untarred  \\\n",
      "0  2017-12-02 00:00:00  1           1  cdas1.20171202.pgrbh.tar         0   \n",
      "\n",
      "    type  \n",
      "0  press  \n",
      "OrderedDict([('share', Namelist([('wrf_core', 'ARW'), ('max_dom', 4), ('start_date', ['2017-12-02_00:00:00', '2017-12-02_00:00:00', '2017-12-02_00:00:00', '2017-12-02_00:00:00']), ('end_date', ['2017-12-03_00:00:00', '2017-12-03_00:00:00', '2017-12-03_00:00:00', '2017-12-03_00:00:00']), ('interval_seconds', 21600), ('io_form_geogrid', 2)])), ('ungrib', Namelist([('out_format', 'WPS'), ('prefix', 'ungrib_press')]))])\n"
     ]
    }
   ],
   "source": [
    "importlib.reload(un)\n",
    "run_row = wrf_management.run_utilities.get_run_row()\n",
    "print(run_row)\n",
    "\n",
    "job_row = wrf_management.run_utilities.get_next_row(job=job)\n",
    "print(job_row)\n",
    "\n",
    "wrf_management.run_utilities.update_run_table(val=job_row[job] + 1,\n",
    "                                              job=job,\n",
    "                                              date=job_row['date']\n",
    "                                              )\n",
    "\n",
    "job_path = wrf_management.run_utilities.getmk_job_path(run_row, job_row, job)\n",
    "print(job_path)\n",
    "\n",
    "conf_path = wrf_management.run_utilities.get_conf_path(run_row)\n",
    "print(conf_path)\n",
    "\n",
    "type_rows = pd.DataFrame([un.get_type_row(ft, job_row) for ft in file_types])\n",
    "print(type_rows)\n",
    "\n",
    "name_list = un.skim_namelist_copy(\n",
    "    conf_path, job_path, date=job_row.date, prefix=job, hours=hours\n",
    ")\n",
    "print(name_list)"
   ]
  },
  {
   "cell_type": "code",
   "execution_count": 5,
   "metadata": {},
   "outputs": [
    {
     "name": "stdout",
     "output_type": "stream",
     "text": [
      "Vtable\n",
      "env_WRFv4.bash\n",
      "unilinking\n",
      "ungrib.exe\n",
      "unilinking\n",
      "link_grib.csh\n",
      "unilinking\n",
      "ungrib\n",
      "/wrk/aliagadi/DONOTREMOVE/wrf_management_data/press_tar/cdas1.20171202.pgrbh.tar\n",
      "/wrk/aliagadi/DONOTREMOVE/wrf_management_data/press_tar/cdas1.20171201.pgrbh.tar\n",
      "cdas1.t18z.pgrbh01.grib2\n",
      "cdas1.t18z.pgrbh02.grib2\n",
      "cdas1.t18z.pgrbh03.grib2\n",
      "cdas1.t18z.pgrbh04.grib2\n",
      "cdas1.t18z.pgrbh05.grib2\n",
      "cdas1.t18z.pgrbh06.grib2\n",
      "cdas1.t18z.pgrbh07.grib2\n",
      "cdas1.t18z.pgrbh08.grib2\n",
      "cdas1.t18z.pgrbh09.grib2\n",
      "cdas1.t18z.pgrbhanl.grib2\n"
     ]
    }
   ],
   "source": [
    "if gc.ID=='taito_login':\n",
    "    wrf_management.run_utilities.copy_hard_links(conf_path, job_path, LIST_H_LINKS)\n",
    "    wrf_management.run_utilities.copy_soft_links(gc.PATH_WPS, job_path, LIST_S_LINKS)\n",
    "    importlib.reload(un)\n",
    "    un.untar_the_files(type_rows, job_path, job_row=job_row)\n",
    "    \n",
    "    # in case we need to download the day before\n",
    "    if job == 'ungrib_press':\n",
    "        pre_row = wrf_management.run_utilities.get_prev_row(job=job, job_row=job_row)\n",
    "        trs = pd.DataFrame([un.get_type_row(ft, pre_row) for ft in file_types])\n",
    "        un.untar_the_files_prev(trs, job_path, job_row=pre_row)"
   ]
  },
  {
   "cell_type": "code",
   "execution_count": null,
   "metadata": {},
   "outputs": [
    {
     "name": "stdout",
     "output_type": "stream",
     "text": [
      "#!/bin/bash\n",
      "    cd /wrk/aliagadi/DONOTREMOVE/wrf_management_data/runs/run_2019_02_20/2017_12_02/ungrib_press\n",
      "    ./link_grib.csh ./untar/*/*\n",
      "    source ./env_WRFv4.bash \n",
      "    ./ungrib.exe\n",
      "    exit $?\n",
      "    \n"
     ]
    }
   ],
   "source": [
    "run_script = \\\n",
    "    \"\"\"#!/bin/bash\n",
    "    cd {job_path}\n",
    "    ./link_grib.csh ./untar/*/*\n",
    "    source ./env_WRFv4.bash \n",
    "    ./ungrib.exe\n",
    "    exit $?\n",
    "    \"\"\".format(job_path=job_path)\n",
    "print(run_script)\n",
    "bs_path = os.path.join(job_path, 'run_me.sh')\n",
    "bs_file = open(bs_path, 'w')\n",
    "bs_file.write(run_script)\n",
    "bs_file.close()"
   ]
  },
  {
   "cell_type": "code",
   "execution_count": null,
   "metadata": {},
   "outputs": [],
   "source": [
    "if gc.ID == 'taito_login':\n",
    "    res = su.run(['/bin/bash', bs_path], stdout=su.PIPE, stderr=su.PIPE)\n",
    "\n",
    "if gc.ID == 'taito_login' and res.returncode == 0:\n",
    "    wrf_management.run_utilities.update_run_table(val=100,\n",
    "                                                  job=job,\n",
    "                                                  date=job_row['date']\n",
    "                                                  )"
   ]
  },
  {
   "cell_type": "code",
   "execution_count": null,
   "metadata": {
    "lines_to_next_cell": 2
   },
   "outputs": [],
   "source": []
  }
 ],
 "metadata": {
  "jupytext": {
   "text_representation": {
    "extension": ".py",
    "format_name": "percent",
    "format_version": "1.2",
    "jupytext_version": "1.0.0"
   }
  },
  "kernelspec": {
   "display_name": "Python 3",
   "language": "python",
   "name": "python3"
  },
  "language_info": {
   "codemirror_mode": {
    "name": "ipython",
    "version": 3
   },
   "file_extension": ".py",
   "mimetype": "text/x-python",
   "name": "python",
   "nbconvert_exporter": "python",
   "pygments_lexer": "ipython3",
   "version": "3.6.8"
  }
 },
 "nbformat": 4,
 "nbformat_minor": 2
}
