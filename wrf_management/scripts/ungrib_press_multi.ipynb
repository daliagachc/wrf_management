{
 "cells": [
  {
   "cell_type": "code",
   "execution_count": 1,
   "metadata": {},
   "outputs": [],
   "source": [
    "import subprocess as su "
   ]
  },
  {
   "cell_type": "code",
   "execution_count": 2,
   "metadata": {},
   "outputs": [],
   "source": [
    "ress = {}\n",
    "ii=0"
   ]
  },
  {
   "cell_type": "code",
   "execution_count": 4,
   "metadata": {},
   "outputs": [],
   "source": [
    "import time\n",
    "for i in range(10):\n",
    "    time.sleep(1)\n",
    "    res = su.Popen(['python','-u','ungrib_press.py'], stdout=su.PIPE, stderr=su.PIPE)\n",
    "    ress[ii]=res\n",
    "    ii=ii+1"
   ]
  },
  {
   "cell_type": "code",
   "execution_count": 69,
   "metadata": {},
   "outputs": [],
   "source": [
    "rr = {}"
   ]
  },
  {
   "cell_type": "code",
   "execution_count": 71,
   "metadata": {},
   "outputs": [],
   "source": [
    "for i in range(len(ress)):\n",
    "    try:\n",
    "        r = ress[i].communicate(timeout=.1)\n",
    "        rr[i]=r\n",
    "    except: \n",
    "        pass\n",
    "        \n",
    "    \n",
    "    "
   ]
  },
  {
   "cell_type": "code",
   "execution_count": 128,
   "metadata": {},
   "outputs": [
    {
     "data": {
      "text/plain": [
       "b'JOBID         USER     ACCOUNT           NAME     REASON   START_TIME     END_TIME  TIME_LEFT NODES CPUS   PRIORITY\\n41108690      aliagadi csc       WRF_forecast       None 2019-02-28T1 2019-03-01T1   16:24:31     9 48        713\\n41128666      aliagadi csc     2018-01-05 00:       None 2019-02-28T1 2019-02-28T1      18:35     1 1       1020\\n41122394      aliagadi csc         ungrib.exe       None 2019-02-28T1 2019-02-28T1       5:41     1 1        689\\n41122397      aliagadi csc         ungrib.exe       None 2019-02-28T1 2019-02-28T1       5:41     1 1        689\\n41122398      aliagadi csc         ungrib.exe       None 2019-02-28T1 2019-02-28T1       5:41     1 1        689\\n41122399      aliagadi csc         ungrib.exe       None 2019-02-28T1 2019-02-28T1       5:41     1 1        689\\n41122384      aliagadi csc         ungrib.exe       None 2019-02-28T1 2019-02-28T1       4:52     1 1        689\\n41122385      aliagadi csc         ungrib.exe       None 2019-02-28T1 2019-02-28T1       4:52     1 1        689\\n41122387      aliagadi csc         ungrib.exe       None 2019-02-28T1 2019-02-28T1       4:52     1 1        689\\n41122390      aliagadi csc         ungrib.exe       None 2019-02-28T1 2019-02-28T1       4:52     1 1        689\\n41122391      aliagadi csc         ungrib.exe       None 2019-02-28T1 2019-02-28T1       4:52     1 1        689\\n41122393      aliagadi csc         ungrib.exe       None 2019-02-28T1 2019-02-28T1       4:52     1 1        689\\n41122378      aliagadi csc         ungrib.exe       None 2019-02-28T1 2019-02-28T1       4:41     1 1        689\\n'"
      ]
     },
     "execution_count": 128,
     "metadata": {},
     "output_type": "execute_result"
    }
   ],
   "source": [
    "pu = su.run(['squeue', '-u', 'aliagadi'],stdout=su.PIPE, stderr=su.PIPE)\n",
    "pu.stdout"
   ]
  },
  {
   "cell_type": "code",
   "execution_count": null,
   "metadata": {},
   "outputs": [],
   "source": []
  }
 ],
 "metadata": {
  "jupytext": {
   "text_representation": {
    "extension": ".py",
    "format_name": "percent",
    "format_version": "1.2",
    "jupytext_version": "1.0.0"
   }
  },
  "kernelspec": {
   "display_name": "Python 3",
   "language": "python",
   "name": "python3"
  },
  "language_info": {
   "codemirror_mode": {
    "name": "ipython",
    "version": 3
   },
   "file_extension": ".py",
   "mimetype": "text/x-python",
   "name": "python",
   "nbconvert_exporter": "python",
   "pygments_lexer": "ipython3",
   "version": "3.6.8"
  }
 },
 "nbformat": 4,
 "nbformat_minor": 2
}
