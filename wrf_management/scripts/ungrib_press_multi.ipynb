{
 "cells": [
  {
   "cell_type": "code",
   "execution_count": 1,
   "metadata": {},
   "outputs": [],
   "source": [
    "import subprocess as su "
   ]
  },
  {
   "cell_type": "code",
   "execution_count": 24,
   "metadata": {},
   "outputs": [],
   "source": [
    "ress = {}\n",
    "ii=0"
   ]
  },
  {
   "cell_type": "code",
   "execution_count": 26,
   "metadata": {},
   "outputs": [],
   "source": [
    "for i in range(50):\n",
    "    res = su.Popen(['python','-u','ungrib_surf.py'], stdout=su.PIPE, stderr=su.PIPE)\n",
    "    ress[ii]=res\n",
    "    ii=ii+1"
   ]
  },
  {
   "cell_type": "code",
   "execution_count": null,
   "metadata": {},
   "outputs": [],
   "source": [
    "res.communicate(timeout=1)"
   ]
  },
  {
   "cell_type": "code",
   "execution_count": 30,
   "metadata": {},
   "outputs": [
    {
     "data": {
      "text/plain": [
       "b'JOBID         USER     ACCOUNT           NAME     REASON   START_TIME     END_TIME  TIME_LEFT NODES CPUS   PRIORITY\\n41108690      aliagadi csc       WRF_forecast       None 2019-02-28T1 2019-03-01T1   18:23:06     9 48        713\\n41114235      aliagadi csc         ungrib.exe       None 2019-02-28T1 2019-02-28T1      19:59     1 1       1031\\n41114236      aliagadi csc         ungrib.exe       None 2019-02-28T1 2019-02-28T1      19:59     1 1       1031\\n41114238      aliagadi csc         ungrib.exe       None 2019-02-28T1 2019-02-28T1      19:59     1 1       1031\\n41114239      aliagadi csc         ungrib.exe       None 2019-02-28T1 2019-02-28T1      19:59     1 1       1031\\n41114240      aliagadi csc         ungrib.exe       None 2019-02-28T1 2019-02-28T1      19:59     1 1       1031\\n41114241      aliagadi csc         ungrib.exe       None 2019-02-28T1 2019-02-28T1      19:59     1 1       1031\\n41114242      aliagadi csc         ungrib.exe       None 2019-02-28T1 2019-02-28T1      19:59     1 1       1031\\n41114228      aliagadi csc         ungrib.exe       None 2019-02-28T1 2019-02-28T1      19:57     1 1       1031\\n41114229      aliagadi csc         ungrib.exe       None 2019-02-28T1 2019-02-28T1      19:57     1 1       1031\\n41114223      aliagadi csc         ungrib.exe       None 2019-02-28T1 2019-02-28T1      19:56     1 1       1031\\n41114211      aliagadi csc         ungrib.exe       None 2019-02-28T1 2019-02-28T1      19:48     1 1       1031\\n41114212      aliagadi csc         ungrib.exe       None 2019-02-28T1 2019-02-28T1      19:48     1 1       1031\\n41114213      aliagadi csc         ungrib.exe       None 2019-02-28T1 2019-02-28T1      19:48     1 1       1031\\n41114214      aliagadi csc         ungrib.exe       None 2019-02-28T1 2019-02-28T1      19:48     1 1       1031\\n41114205      aliagadi csc         ungrib.exe       None 2019-02-28T1 2019-02-28T1      19:45     1 1       1031\\n41114206      aliagadi csc         ungrib.exe       None 2019-02-28T1 2019-02-28T1      19:45     1 1       1031\\n41114195      aliagadi csc         ungrib.exe       None 2019-02-28T1 2019-02-28T1      19:42     1 1       1031\\n41114187      aliagadi csc         ungrib.exe       None 2019-02-28T1 2019-02-28T1      19:38     1 1       1031\\n41114184      aliagadi csc         ungrib.exe       None 2019-02-28T1 2019-02-28T1      19:37     1 1       1031\\n41114180      aliagadi csc         ungrib.exe       None 2019-02-28T1 2019-02-28T1      19:36     1 1       1031\\n41114173      aliagadi csc         ungrib.exe       None 2019-02-28T1 2019-02-28T1      19:34     1 1       1031\\n'"
      ]
     },
     "execution_count": 30,
     "metadata": {},
     "output_type": "execute_result"
    }
   ],
   "source": [
    "pu = su.run(['squeue', '-u', 'aliagadi'],stdout=su.PIPE, stderr=su.PIPE)\n",
    "pu.stdout"
   ]
  },
  {
   "cell_type": "code",
   "execution_count": null,
   "metadata": {},
   "outputs": [],
   "source": []
  }
 ],
 "metadata": {
  "jupytext": {
   "text_representation": {
    "extension": ".py",
    "format_name": "percent",
    "format_version": "1.2",
    "jupytext_version": "1.0.0"
   }
  },
  "kernelspec": {
   "display_name": "Python 3",
   "language": "python",
   "name": "python3"
  },
  "language_info": {
   "codemirror_mode": {
    "name": "ipython",
    "version": 3
   },
   "file_extension": ".py",
   "mimetype": "text/x-python",
   "name": "python",
   "nbconvert_exporter": "python",
   "pygments_lexer": "ipython3",
   "version": "3.6.8"
  }
 },
 "nbformat": 4,
 "nbformat_minor": 2
}
