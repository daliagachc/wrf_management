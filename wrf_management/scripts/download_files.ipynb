{
 "cells": [
  {
   "cell_type": "code",
   "execution_count": 1,
   "metadata": {},
   "outputs": [],
   "source": [
    "import wrf_management.utilities as ut\n",
    "import wrf_management.project_global_constants as gc\n",
    "\n"
   ]
  },
  {
   "cell_type": "code",
   "execution_count": 2,
   "metadata": {},
   "outputs": [
    {
     "name": "stdout",
     "output_type": "stream",
     "text": [
      "could not create the table maybe it exists already\n"
     ]
    }
   ],
   "source": [
    "ut.create_date_db(override=True)"
   ]
  },
  {
   "cell_type": "code",
   "execution_count": 3,
   "metadata": {},
   "outputs": [
    {
     "data": {
      "text/html": [
       "<div>\n",
       "<style scoped>\n",
       "    .dataframe tbody tr th:only-of-type {\n",
       "        vertical-align: middle;\n",
       "    }\n",
       "\n",
       "    .dataframe tbody tr th {\n",
       "        vertical-align: top;\n",
       "    }\n",
       "\n",
       "    .dataframe thead th {\n",
       "        text-align: right;\n",
       "    }\n",
       "</style>\n",
       "<table border=\"1\" class=\"dataframe\">\n",
       "  <thead>\n",
       "    <tr style=\"text-align: right;\">\n",
       "      <th></th>\n",
       "      <th>i</th>\n",
       "    </tr>\n",
       "    <tr>\n",
       "      <th>date</th>\n",
       "      <th></th>\n",
       "    </tr>\n",
       "  </thead>\n",
       "  <tbody>\n",
       "    <tr>\n",
       "      <th>2018-01-10 00:00:00</th>\n",
       "      <td>40</td>\n",
       "    </tr>\n",
       "  </tbody>\n",
       "</table>\n",
       "</div>"
      ],
      "text/plain": [
       "                      i\n",
       "date                   \n",
       "2018-01-10 00:00:00  40"
      ]
     },
     "execution_count": 3,
     "metadata": {},
     "output_type": "execute_result"
    }
   ],
   "source": [
    "ut.get_date_tb().sample()"
   ]
  },
  {
   "cell_type": "code",
   "execution_count": 4,
   "metadata": {},
   "outputs": [
    {
     "name": "stdout",
     "output_type": "stream",
     "text": [
      "press\n",
      "could not create. it might exist already\n",
      "surf_0\n",
      "could not create. it might exist already\n",
      "surf_1\n",
      "could not create. it might exist already\n"
     ]
    }
   ],
   "source": [
    "for k in gc.FILE_TYPES:\n",
    "    print(k)\n",
    "    ut.create_download_db(db_name=k,override=True)"
   ]
  },
  {
   "cell_type": "code",
   "execution_count": null,
   "metadata": {},
   "outputs": [
    {
     "name": "stdout",
     "output_type": "stream",
     "text": [
      "press\n",
      "2017/cdas1.20171201.pgrbh.tar\n",
      "/tmp/data/press_tar\n",
      "processor <urllib.request.HTTPCookieProcessor object at 0x1c190c0b70>\n",
      "<urllib.request.OpenerDirector object at 0x1c190c09b0>\n",
      "login email=diego.aliaga@helsinki.fi&password=22711253N&action=login\n",
      "downloading cdas1.20171201.pgrbh.tar...failed to download\n",
      "removing unfinished path\n",
      "\n",
      "        update press \n",
      "        set name='cdas1.20171201.pgrbh.tar'\n",
      "        where i=0\n",
      "        \n",
      "surf_0\n",
      "2017/cdas1.20171202.splgrbf.tar\n",
      "/tmp/data/surf_0_tar\n",
      "processor <urllib.request.HTTPCookieProcessor object at 0x1c1909e550>\n",
      "<urllib.request.OpenerDirector object at 0x1c1909e4a8>\n",
      "downloading cdas1.20171202.splgrbf.tar...\n",
      "        update surf_0 \n",
      "        set downloaded=1\n",
      "        where i=1\n",
      "        \n",
      "\n",
      "        update surf_0 \n",
      "        set name='cdas1.20171202.splgrbf.tar'\n",
      "        where i=1\n",
      "        \n",
      "surf_1\n",
      "2017/cdas1.20171201.sfluxgrbf.tar\n",
      "/tmp/data/surf_1_tar\n",
      "processor <urllib.request.HTTPCookieProcessor object at 0x1c190c09b0>\n",
      "<urllib.request.OpenerDirector object at 0x1c190ce908>\n",
      "downloading cdas1.20171201.sfluxgrbf.tar..."
     ]
    }
   ],
   "source": [
    "i=0\n",
    "while i < 10:\n",
    "    for ftype in gc.FILE_TYPES:\n",
    "        print(ftype)\n",
    "        row = ut.get_next_row_to_down(tb_name=ftype,)\n",
    "        down_str = ut.get_down_string_from_row(row=row,ftype=ftype)\n",
    "        print(down_str)\n",
    "        tar_path = ut.get_tar_path(ftype)\n",
    "        print(tar_path)\n",
    "        res = ut.down_file_from_str(down_str,tar_path)\n",
    "        if res:\n",
    "            ut.update_sucess_down(row=row,tb_name=ftype)\n",
    "            ut.update_row_name(row=row,tb_name=ftype,down_string=down_str)\n",
    "    i=i+1"
   ]
  },
  {
   "cell_type": "code",
   "execution_count": null,
   "metadata": {
    "lines_to_next_cell": 2
   },
   "outputs": [],
   "source": []
  }
 ],
 "metadata": {
  "jupytext": {
   "main_language": "python",
   "text_representation": {
    "extension": ".py",
    "format_name": "percent"
   }
  },
  "kernelspec": {
   "display_name": "",
   "name": ""
  },
  "language_info": {
   "codemirror_mode": {
    "name": "ipython",
    "version": 3
   },
   "file_extension": ".py",
   "mimetype": "text/x-python",
   "name": "python",
   "nbconvert_exporter": "python",
   "pygments_lexer": "ipython3",
   "version": "3.6.7"
  }
 },
 "nbformat": 4,
 "nbformat_minor": 2
}
