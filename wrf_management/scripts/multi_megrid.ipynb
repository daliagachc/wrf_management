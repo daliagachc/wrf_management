{
 "cells": [
  {
   "cell_type": "code",
   "execution_count": 4,
   "metadata": {},
   "outputs": [],
   "source": [
    "import subprocess as su "
   ]
  },
  {
   "cell_type": "code",
   "execution_count": 51,
   "metadata": {},
   "outputs": [],
   "source": [
    "res = su.Popen(['python','-u','metgrid.py'], stdout=su.PIPE, stderr=su.PIPE)"
   ]
  },
  {
   "cell_type": "code",
   "execution_count": null,
   "metadata": {},
   "outputs": [],
   "source": [
    "res.communicate(timeout=1)"
   ]
  },
  {
   "cell_type": "code",
   "execution_count": 48,
   "metadata": {},
   "outputs": [
    {
     "data": {
      "text/plain": [
       "b'Wed Feb 27 22:08:12 2019\\n             JOBID PARTITION     NAME     USER    STATE       TIME TIME_LIMI  NODES NODELIST(REASON)\\n          40973311    serial metgrid. aliagadi  RUNNING       0:41     10:00      1 c847\\n          40973312    serial metgrid. aliagadi  RUNNING       0:41     10:00      1 c842\\n          40973313    serial metgrid. aliagadi  RUNNING       0:41     10:00      1 c842\\n          40973314    serial metgrid. aliagadi  RUNNING       0:41     10:00      1 c842\\n          40973315    serial metgrid. aliagadi  RUNNING       0:41     10:00      1 c842\\n          40973316    serial metgrid. aliagadi  RUNNING       0:41     10:00      1 c836\\n          40973286    serial metgrid. aliagadi  RUNNING       2:41     10:00      1 c935\\n          40973287    serial metgrid. aliagadi  RUNNING       2:41     10:00      1 c901\\n          40973288    serial metgrid. aliagadi  RUNNING       2:41     10:00      1 c901\\n          40973289    serial metgrid. aliagadi  RUNNING       2:41     10:00      1 c858\\n          40973290    serial metgrid. aliagadi  RUNNING       2:41     10:00      1 c856\\n          40973291    serial metgrid. aliagadi  RUNNING       2:41     10:00      1 c828\\n          40973292    serial metgrid. aliagadi  RUNNING       2:41     10:00      1 c711\\n'"
      ]
     },
     "execution_count": 48,
     "metadata": {},
     "output_type": "execute_result"
    }
   ],
   "source": [
    "pu = su.run(['squeue', '-u', 'aliagadi', '-l'],stdout=su.PIPE, stderr=su.PIPE)\n",
    "pu.stdout"
   ]
  },
  {
   "cell_type": "code",
   "execution_count": null,
   "metadata": {},
   "outputs": [],
   "source": []
  }
 ],
 "metadata": {
  "jupytext": {
   "main_language": "python",
   "text_representation": {
    "extension": ".py",
    "format_name": "percent",
    "format_version": "1.2",
    "jupytext_version": "1.0.0"
   }
  },
  "kernelspec": {
   "display_name": "Python 3",
   "language": "python",
   "name": "python3"
  },
  "language_info": {
   "codemirror_mode": {
    "name": "ipython",
    "version": 3
   },
   "file_extension": ".py",
   "mimetype": "text/x-python",
   "name": "python",
   "nbconvert_exporter": "python",
   "pygments_lexer": "ipython3",
   "version": "3.6.8"
  }
 },
 "nbformat": 4,
 "nbformat_minor": 2
}
