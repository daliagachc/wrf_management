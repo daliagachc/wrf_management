{
 "cells": [
  {
   "cell_type": "code",
   "execution_count": 1,
   "metadata": {},
   "outputs": [],
   "source": [
    "import wrf_management.utilities as ut\n",
    "import importlib\n",
    "importlib.reload(ut);\n",
    "import wrf_management.project_global_constants as gc\n",
    "importlib.reload(gc)\n",
    "import wrf_management.geogrid as geo\n",
    "import os\n",
    "import sqlite3 as sq\n",
    "import pandas as pd\n",
    "import wrf_management.base_namelists.base_namelists as bn\n",
    "importlib.reload(bn);\n",
    "import f90nml"
   ]
  },
  {
   "cell_type": "code",
   "execution_count": 2,
   "metadata": {},
   "outputs": [],
   "source": [
    "con = sq.connect(gc.PATH_DB)"
   ]
  },
  {
   "cell_type": "code",
   "execution_count": 15,
   "metadata": {},
   "outputs": [
    {
     "data": {
      "text/html": [
       "<div>\n",
       "<style scoped>\n",
       "    .dataframe tbody tr th:only-of-type {\n",
       "        vertical-align: middle;\n",
       "    }\n",
       "\n",
       "    .dataframe tbody tr th {\n",
       "        vertical-align: top;\n",
       "    }\n",
       "\n",
       "    .dataframe thead th {\n",
       "        text-align: right;\n",
       "    }\n",
       "</style>\n",
       "<table border=\"1\" class=\"dataframe\">\n",
       "  <thead>\n",
       "    <tr style=\"text-align: right;\">\n",
       "      <th></th>\n",
       "      <th>type</th>\n",
       "      <th>name</th>\n",
       "      <th>tbl_name</th>\n",
       "      <th>rootpage</th>\n",
       "      <th>sql</th>\n",
       "    </tr>\n",
       "  </thead>\n",
       "  <tbody>\n",
       "    <tr>\n",
       "      <th>0</th>\n",
       "      <td>table</td>\n",
       "      <td>master_date</td>\n",
       "      <td>master_date</td>\n",
       "      <td>2</td>\n",
       "      <td>CREATE TABLE \"master_date\" (\\n\"date\" TIMESTAMP...</td>\n",
       "    </tr>\n",
       "    <tr>\n",
       "      <th>1</th>\n",
       "      <td>index</td>\n",
       "      <td>ix_master_date_date</td>\n",
       "      <td>master_date</td>\n",
       "      <td>3</td>\n",
       "      <td>CREATE INDEX \"ix_master_date_date\"ON \"master_d...</td>\n",
       "    </tr>\n",
       "    <tr>\n",
       "      <th>2</th>\n",
       "      <td>table</td>\n",
       "      <td>press</td>\n",
       "      <td>press</td>\n",
       "      <td>8</td>\n",
       "      <td>CREATE TABLE \"press\" (\\n\"date\" TEXT,\\n  \"i\" IN...</td>\n",
       "    </tr>\n",
       "    <tr>\n",
       "      <th>3</th>\n",
       "      <td>index</td>\n",
       "      <td>ix_press_date</td>\n",
       "      <td>press</td>\n",
       "      <td>9</td>\n",
       "      <td>CREATE INDEX \"ix_press_date\"ON \"press\" (\"date\")</td>\n",
       "    </tr>\n",
       "    <tr>\n",
       "      <th>4</th>\n",
       "      <td>table</td>\n",
       "      <td>surf_0</td>\n",
       "      <td>surf_0</td>\n",
       "      <td>14</td>\n",
       "      <td>CREATE TABLE \"surf_0\" (\\n\"date\" TEXT,\\n  \"i\" I...</td>\n",
       "    </tr>\n",
       "    <tr>\n",
       "      <th>5</th>\n",
       "      <td>index</td>\n",
       "      <td>ix_surf_0_date</td>\n",
       "      <td>surf_0</td>\n",
       "      <td>15</td>\n",
       "      <td>CREATE INDEX \"ix_surf_0_date\"ON \"surf_0\" (\"date\")</td>\n",
       "    </tr>\n",
       "    <tr>\n",
       "      <th>6</th>\n",
       "      <td>table</td>\n",
       "      <td>surf_1</td>\n",
       "      <td>surf_1</td>\n",
       "      <td>20</td>\n",
       "      <td>CREATE TABLE \"surf_1\" (\\n\"date\" TEXT,\\n  \"i\" I...</td>\n",
       "    </tr>\n",
       "    <tr>\n",
       "      <th>7</th>\n",
       "      <td>index</td>\n",
       "      <td>ix_surf_1_date</td>\n",
       "      <td>surf_1</td>\n",
       "      <td>21</td>\n",
       "      <td>CREATE INDEX \"ix_surf_1_date\"ON \"surf_1\" (\"date\")</td>\n",
       "    </tr>\n",
       "    <tr>\n",
       "      <th>8</th>\n",
       "      <td>table</td>\n",
       "      <td>runs_table</td>\n",
       "      <td>runs_table</td>\n",
       "      <td>29</td>\n",
       "      <td>CREATE TABLE \"runs_table\" (\\n\"index\" INTEGER,\\...</td>\n",
       "    </tr>\n",
       "    <tr>\n",
       "      <th>9</th>\n",
       "      <td>index</td>\n",
       "      <td>ix_runs_table_index</td>\n",
       "      <td>runs_table</td>\n",
       "      <td>30</td>\n",
       "      <td>CREATE INDEX \"ix_runs_table_index\"ON \"runs_tab...</td>\n",
       "    </tr>\n",
       "    <tr>\n",
       "      <th>10</th>\n",
       "      <td>table</td>\n",
       "      <td>run_unique_id</td>\n",
       "      <td>run_unique_id</td>\n",
       "      <td>31</td>\n",
       "      <td>CREATE TABLE \"run_unique_id\" (\\n\"index\" INTEGE...</td>\n",
       "    </tr>\n",
       "    <tr>\n",
       "      <th>11</th>\n",
       "      <td>index</td>\n",
       "      <td>ix_run_unique_id_index</td>\n",
       "      <td>run_unique_id</td>\n",
       "      <td>32</td>\n",
       "      <td>CREATE INDEX \"ix_run_unique_id_index\"ON \"run_u...</td>\n",
       "    </tr>\n",
       "  </tbody>\n",
       "</table>\n",
       "</div>"
      ],
      "text/plain": [
       "     type                    name       tbl_name  rootpage  \\\n",
       "0   table             master_date    master_date         2   \n",
       "1   index     ix_master_date_date    master_date         3   \n",
       "2   table                   press          press         8   \n",
       "3   index           ix_press_date          press         9   \n",
       "4   table                  surf_0         surf_0        14   \n",
       "5   index          ix_surf_0_date         surf_0        15   \n",
       "6   table                  surf_1         surf_1        20   \n",
       "7   index          ix_surf_1_date         surf_1        21   \n",
       "8   table              runs_table     runs_table        29   \n",
       "9   index     ix_runs_table_index     runs_table        30   \n",
       "10  table           run_unique_id  run_unique_id        31   \n",
       "11  index  ix_run_unique_id_index  run_unique_id        32   \n",
       "\n",
       "                                                  sql  \n",
       "0   CREATE TABLE \"master_date\" (\\n\"date\" TIMESTAMP...  \n",
       "1   CREATE INDEX \"ix_master_date_date\"ON \"master_d...  \n",
       "2   CREATE TABLE \"press\" (\\n\"date\" TEXT,\\n  \"i\" IN...  \n",
       "3     CREATE INDEX \"ix_press_date\"ON \"press\" (\"date\")  \n",
       "4   CREATE TABLE \"surf_0\" (\\n\"date\" TEXT,\\n  \"i\" I...  \n",
       "5   CREATE INDEX \"ix_surf_0_date\"ON \"surf_0\" (\"date\")  \n",
       "6   CREATE TABLE \"surf_1\" (\\n\"date\" TEXT,\\n  \"i\" I...  \n",
       "7   CREATE INDEX \"ix_surf_1_date\"ON \"surf_1\" (\"date\")  \n",
       "8   CREATE TABLE \"runs_table\" (\\n\"index\" INTEGER,\\...  \n",
       "9   CREATE INDEX \"ix_runs_table_index\"ON \"runs_tab...  \n",
       "10  CREATE TABLE \"run_unique_id\" (\\n\"index\" INTEGE...  \n",
       "11  CREATE INDEX \"ix_run_unique_id_index\"ON \"run_u...  "
      ]
     },
     "execution_count": 15,
     "metadata": {},
     "output_type": "execute_result"
    }
   ],
   "source": [
    "gc.PATH_DB\n",
    "pd.read_sql('select * from sqlite_master',con)"
   ]
  },
  {
   "cell_type": "code",
   "execution_count": 33,
   "metadata": {},
   "outputs": [
    {
     "name": "stdout",
     "output_type": "stream",
     "text": [
      "2019-02-21T20-27-03_589331_ungrib_surf\n"
     ]
    }
   ],
   "source": [
    "importlib.reload(ut)\n",
    "program = 'ungrib_surf'\n",
    "unique_id = ut.get_unique_id(program)\n",
    "print(unique_id)\n",
    "# unique_id = '2019-02-21T17-29-01_753696_ungrib_surface'"
   ]
  },
  {
   "cell_type": "code",
   "execution_count": 37,
   "metadata": {},
   "outputs": [
    {
     "name": "stdout",
     "output_type": "stream",
     "text": [
      "/wrk/aliagadi/DONOTREMOVE/wrf_management_data/runs/2018_02_19/2019-02-21T20-27-03_589331_ungrib_surf\n"
     ]
    }
   ],
   "source": [
    "importlib.reload(ut)\n",
    "new_path = ut.get_new_unique_path_for_program(unique_id=unique_id)\n",
    "print(new_path)\n",
    "os.makedirs(new_path,exist_ok=True)\n",
    "# new_path = '/wrk/aliagadi/DONOTREMOVE/wrf_management_data/runs/2018_02_19/2019-02-21T17-29-01_753696_ungrib'"
   ]
  },
  {
   "cell_type": "code",
   "execution_count": 35,
   "metadata": {},
   "outputs": [
    {
     "data": {
      "text/html": [
       "<div>\n",
       "<style scoped>\n",
       "    .dataframe tbody tr th:only-of-type {\n",
       "        vertical-align: middle;\n",
       "    }\n",
       "\n",
       "    .dataframe tbody tr th {\n",
       "        vertical-align: top;\n",
       "    }\n",
       "\n",
       "    .dataframe thead th {\n",
       "        text-align: right;\n",
       "    }\n",
       "</style>\n",
       "<table border=\"1\" class=\"dataframe\">\n",
       "  <thead>\n",
       "    <tr style=\"text-align: right;\">\n",
       "      <th></th>\n",
       "      <th>unique_id</th>\n",
       "      <th>comments</th>\n",
       "      <th>program</th>\n",
       "      <th>run_name</th>\n",
       "    </tr>\n",
       "  </thead>\n",
       "  <tbody>\n",
       "    <tr>\n",
       "      <th>0</th>\n",
       "      <td>2019-02-21T15-04-27_476148_geogrid</td>\n",
       "      <td>exploring geogrid. didnt work as expected</td>\n",
       "      <td>geogrid</td>\n",
       "      <td>2018_02_19</td>\n",
       "    </tr>\n",
       "    <tr>\n",
       "      <th>1</th>\n",
       "      <td>2019-02-21T17-29-01_753696_ungrib_ungrib</td>\n",
       "      <td>first run</td>\n",
       "      <td>ungrib</td>\n",
       "      <td>2018_02_19</td>\n",
       "    </tr>\n",
       "  </tbody>\n",
       "</table>\n",
       "</div>"
      ],
      "text/plain": [
       "                                  unique_id  \\\n",
       "0        2019-02-21T15-04-27_476148_geogrid   \n",
       "1  2019-02-21T17-29-01_753696_ungrib_ungrib   \n",
       "\n",
       "                                    comments  program    run_name  \n",
       "0  exploring geogrid. didnt work as expected  geogrid  2018_02_19  \n",
       "1                                  first run   ungrib  2018_02_19  "
      ]
     },
     "execution_count": 35,
     "metadata": {},
     "output_type": "execute_result"
    }
   ],
   "source": [
    "ut.get_tb_from_name(tb_name='run_unique_id')"
   ]
  },
  {
   "cell_type": "code",
   "execution_count": 38,
   "metadata": {},
   "outputs": [],
   "source": [
    "date_to_ungrib = '2017-12-15'"
   ]
  },
  {
   "cell_type": "code",
   "execution_count": 48,
   "metadata": {
    "lines_to_next_cell": 2
   },
   "outputs": [],
   "source": [
    "rows = {}\n",
    "for tb in gc.FILE_TYPES.keys():\n",
    "#     print(tb)\n",
    "    sql = \"\"\"\n",
    "    select * from {tb} where date(date)=date('{dt}')\n",
    "    \"\"\".format(tb=tb,dt=date_to_ungrib)\n",
    "    rows[tb]=pd.read_sql(sql,con)\n",
    "    rows[tb]['tb']=tb\n",
    "df = pd.concat(list(rows.values()))\n",
    "if df.downloaded.all()!=True: print('not all downloaded')\n",
    "df=df[df.tb.str.startswith('surf')]"
   ]
  },
  {
   "cell_type": "code",
   "execution_count": 49,
   "metadata": {
    "lines_to_next_cell": 2
   },
   "outputs": [
    {
     "data": {
      "text/html": [
       "<div>\n",
       "<style scoped>\n",
       "    .dataframe tbody tr th:only-of-type {\n",
       "        vertical-align: middle;\n",
       "    }\n",
       "\n",
       "    .dataframe tbody tr th {\n",
       "        vertical-align: top;\n",
       "    }\n",
       "\n",
       "    .dataframe thead th {\n",
       "        text-align: right;\n",
       "    }\n",
       "</style>\n",
       "<table border=\"1\" class=\"dataframe\">\n",
       "  <thead>\n",
       "    <tr style=\"text-align: right;\">\n",
       "      <th></th>\n",
       "      <th>date</th>\n",
       "      <th>i</th>\n",
       "      <th>downloaded</th>\n",
       "      <th>name</th>\n",
       "      <th>untarred</th>\n",
       "      <th>tb</th>\n",
       "      <th>tar_path</th>\n",
       "      <th>untar_path</th>\n",
       "    </tr>\n",
       "  </thead>\n",
       "  <tbody>\n",
       "    <tr>\n",
       "      <th>0</th>\n",
       "      <td>2017-12-15 00:00:00</td>\n",
       "      <td>14</td>\n",
       "      <td>1</td>\n",
       "      <td>cdas1.20171215.splgrbf.tar</td>\n",
       "      <td>0</td>\n",
       "      <td>surf_0</td>\n",
       "      <td>/wrk/aliagadi/DONOTREMOVE/wrf_management_data/...</td>\n",
       "      <td>/wrk/aliagadi/DONOTREMOVE/wrf_management_data/...</td>\n",
       "    </tr>\n",
       "    <tr>\n",
       "      <th>0</th>\n",
       "      <td>2017-12-15 00:00:00</td>\n",
       "      <td>14</td>\n",
       "      <td>1</td>\n",
       "      <td>cdas1.20171215.sfluxgrbf.tar</td>\n",
       "      <td>0</td>\n",
       "      <td>surf_1</td>\n",
       "      <td>/wrk/aliagadi/DONOTREMOVE/wrf_management_data/...</td>\n",
       "      <td>/wrk/aliagadi/DONOTREMOVE/wrf_management_data/...</td>\n",
       "    </tr>\n",
       "  </tbody>\n",
       "</table>\n",
       "</div>"
      ],
      "text/plain": [
       "                  date   i  downloaded                          name  \\\n",
       "0  2017-12-15 00:00:00  14           1    cdas1.20171215.splgrbf.tar   \n",
       "0  2017-12-15 00:00:00  14           1  cdas1.20171215.sfluxgrbf.tar   \n",
       "\n",
       "   untarred      tb                                           tar_path  \\\n",
       "0         0  surf_0  /wrk/aliagadi/DONOTREMOVE/wrf_management_data/...   \n",
       "0         0  surf_1  /wrk/aliagadi/DONOTREMOVE/wrf_management_data/...   \n",
       "\n",
       "                                          untar_path  \n",
       "0  /wrk/aliagadi/DONOTREMOVE/wrf_management_data/...  \n",
       "0  /wrk/aliagadi/DONOTREMOVE/wrf_management_data/...  "
      ]
     },
     "execution_count": 49,
     "metadata": {},
     "output_type": "execute_result"
    }
   ],
   "source": [
    "df['tar_path']=df.apply(lambda r: os.path.join(ut.get_tar_path(r.tb),r['name']),\n",
    "         axis = 1)\n",
    "df['untar_path']=df.apply(lambda r: new_path,\n",
    "         axis = 1)\n",
    "row = df.iloc[0]\n",
    "df"
   ]
  },
  {
   "cell_type": "code",
   "execution_count": 50,
   "metadata": {},
   "outputs": [],
   "source": [
    "import tarfile\n",
    "for l,row in df.iterrows():\n",
    "    tfile = tarfile.TarFile(row.tar_path)\n",
    "    tfile.extractall(row.untar_path)\n"
   ]
  },
  {
   "cell_type": "code",
   "execution_count": null,
   "metadata": {
    "lines_to_next_cell": 3
   },
   "outputs": [],
   "source": []
  }
 ],
 "metadata": {
  "jupytext": {
   "text_representation": {
    "extension": ".py",
    "format_name": "percent",
    "format_version": "1.2",
    "jupytext_version": "0.8.6"
   }
  },
  "kernelspec": {
   "display_name": "Python 3",
   "language": "python",
   "name": "python3"
  },
  "language_info": {
   "codemirror_mode": {
    "name": "ipython",
    "version": 3
   },
   "file_extension": ".py",
   "mimetype": "text/x-python",
   "name": "python",
   "nbconvert_exporter": "python",
   "pygments_lexer": "ipython3",
   "version": "3.6.8"
  }
 },
 "nbformat": 4,
 "nbformat_minor": 2
}
