{
 "cells": [
  {
   "cell_type": "code",
   "execution_count": 2,
   "metadata": {},
   "outputs": [],
   "source": [
    "import wrf_management.utilities as ut\n",
    "import importlib\n",
    "importlib.reload(ut);\n",
    "import wrf_management.project_global_constants as gc\n",
    "importlib.reload(gc)\n",
    "import wrf_management.geogrid as geo\n",
    "import os\n",
    "import sqlite3 as sq\n",
    "import pandas as pd\n",
    "import wrf_management.base_namelists.base_namelists as bn\n",
    "importlib.reload(bn);\n",
    "import f90nml"
   ]
  },
  {
   "cell_type": "code",
   "execution_count": 3,
   "metadata": {},
   "outputs": [],
   "source": [
    "con = sq.connect(gc.PATH_DB)"
   ]
  },
  {
   "cell_type": "code",
   "execution_count": 8,
   "metadata": {},
   "outputs": [
    {
     "name": "stdout",
     "output_type": "stream",
     "text": [
      "2019-02-21T18-53-20_087667_ungrib\n"
     ]
    }
   ],
   "source": [
    "importlib.reload(ut)\n",
    "program = 'ungrib'\n",
    "unique_id = ut.get_unique_id(program)\n",
    "print(unique_id)\n",
    "unique_id = '2019-02-21T17-29-01_753696_ungrib'"
   ]
  },
  {
   "cell_type": "code",
   "execution_count": 9,
   "metadata": {},
   "outputs": [
    {
     "name": "stdout",
     "output_type": "stream",
     "text": [
      "/tmp/wrf_management/data_folder/runs/2018_02_19/2019-02-21T17-29-01_753696_ungrib\n"
     ]
    }
   ],
   "source": [
    "importlib.reload(ut)\n",
    "new_path = ut.get_new_unique_path_for_program(unique_id=unique_id)\n",
    "print(new_path)\n",
    "new_path = '/tmp/wrf_management/data_folder/runs/2018_02_19/2019-02-21T17-29-01_753696_ungrib'"
   ]
  },
  {
   "cell_type": "code",
   "execution_count": 10,
   "metadata": {},
   "outputs": [
    {
     "data": {
      "text/html": [
       "<div>\n",
       "<style scoped>\n",
       "    .dataframe tbody tr th:only-of-type {\n",
       "        vertical-align: middle;\n",
       "    }\n",
       "\n",
       "    .dataframe tbody tr th {\n",
       "        vertical-align: top;\n",
       "    }\n",
       "\n",
       "    .dataframe thead th {\n",
       "        text-align: right;\n",
       "    }\n",
       "</style>\n",
       "<table border=\"1\" class=\"dataframe\">\n",
       "  <thead>\n",
       "    <tr style=\"text-align: right;\">\n",
       "      <th></th>\n",
       "      <th>unique_id</th>\n",
       "      <th>comments</th>\n",
       "      <th>program</th>\n",
       "      <th>run_name</th>\n",
       "    </tr>\n",
       "  </thead>\n",
       "  <tbody>\n",
       "    <tr>\n",
       "      <th>0</th>\n",
       "      <td>2019-02-21T15-04-27_476148_geogrid</td>\n",
       "      <td>exploring geogrid</td>\n",
       "      <td>geogrid</td>\n",
       "      <td>2018_02_19</td>\n",
       "    </tr>\n",
       "    <tr>\n",
       "      <th>1</th>\n",
       "      <td>2019-02-21T17-29-01_753696_ungrib</td>\n",
       "      <td>first run</td>\n",
       "      <td>ungrib</td>\n",
       "      <td>2018_02_19</td>\n",
       "    </tr>\n",
       "  </tbody>\n",
       "</table>\n",
       "</div>"
      ],
      "text/plain": [
       "                            unique_id           comments  program    run_name\n",
       "0  2019-02-21T15-04-27_476148_geogrid  exploring geogrid  geogrid  2018_02_19\n",
       "1   2019-02-21T17-29-01_753696_ungrib          first run   ungrib  2018_02_19"
      ]
     },
     "execution_count": 10,
     "metadata": {},
     "output_type": "execute_result"
    }
   ],
   "source": [
    "ut.get_tb_from_name(tb_name='run_unique_id')"
   ]
  },
  {
   "cell_type": "code",
   "execution_count": 11,
   "metadata": {},
   "outputs": [],
   "source": [
    "date_to_ungrib = '2017-12-15'"
   ]
  },
  {
   "cell_type": "code",
   "execution_count": 12,
   "metadata": {
    "lines_to_next_cell": 2
   },
   "outputs": [
    {
     "data": {
      "text/html": [
       "<div>\n",
       "<style scoped>\n",
       "    .dataframe tbody tr th:only-of-type {\n",
       "        vertical-align: middle;\n",
       "    }\n",
       "\n",
       "    .dataframe tbody tr th {\n",
       "        vertical-align: top;\n",
       "    }\n",
       "\n",
       "    .dataframe thead th {\n",
       "        text-align: right;\n",
       "    }\n",
       "</style>\n",
       "<table border=\"1\" class=\"dataframe\">\n",
       "  <thead>\n",
       "    <tr style=\"text-align: right;\">\n",
       "      <th></th>\n",
       "      <th>date</th>\n",
       "      <th>i</th>\n",
       "      <th>downloaded</th>\n",
       "      <th>name</th>\n",
       "      <th>untarred</th>\n",
       "      <th>tb</th>\n",
       "    </tr>\n",
       "  </thead>\n",
       "  <tbody>\n",
       "    <tr>\n",
       "      <th>0</th>\n",
       "      <td>2017-12-15 00:00:00</td>\n",
       "      <td>14</td>\n",
       "      <td>1</td>\n",
       "      <td>cdas1.20171215.pgrbh.tar</td>\n",
       "      <td>0</td>\n",
       "      <td>press</td>\n",
       "    </tr>\n",
       "    <tr>\n",
       "      <th>0</th>\n",
       "      <td>2017-12-15 00:00:00</td>\n",
       "      <td>14</td>\n",
       "      <td>1</td>\n",
       "      <td>cdas1.20171215.splgrbf.tar</td>\n",
       "      <td>0</td>\n",
       "      <td>surf_0</td>\n",
       "    </tr>\n",
       "    <tr>\n",
       "      <th>0</th>\n",
       "      <td>2017-12-15 00:00:00</td>\n",
       "      <td>14</td>\n",
       "      <td>1</td>\n",
       "      <td>cdas1.20171215.sfluxgrbf.tar</td>\n",
       "      <td>0</td>\n",
       "      <td>surf_1</td>\n",
       "    </tr>\n",
       "  </tbody>\n",
       "</table>\n",
       "</div>"
      ],
      "text/plain": [
       "                  date   i  downloaded                          name  \\\n",
       "0  2017-12-15 00:00:00  14           1      cdas1.20171215.pgrbh.tar   \n",
       "0  2017-12-15 00:00:00  14           1    cdas1.20171215.splgrbf.tar   \n",
       "0  2017-12-15 00:00:00  14           1  cdas1.20171215.sfluxgrbf.tar   \n",
       "\n",
       "   untarred      tb  \n",
       "0         0   press  \n",
       "0         0  surf_0  \n",
       "0         0  surf_1  "
      ]
     },
     "execution_count": 12,
     "metadata": {},
     "output_type": "execute_result"
    }
   ],
   "source": [
    "rows = {}\n",
    "for tb in gc.FILE_TYPES.keys():\n",
    "#     print(tb)\n",
    "    sql = \"\"\"\n",
    "    select * from {tb} where date(date)=date('{dt}')\n",
    "    \"\"\".format(tb=tb,dt=date_to_ungrib)\n",
    "    rows[tb]=pd.read_sql(sql,con)\n",
    "    rows[tb]['tb']=tb\n",
    "df = pd.concat(list(rows.values()))\n",
    "if df.downloaded.all()!=True: print('not all downloaded')\n",
    "df"
   ]
  },
  {
   "cell_type": "code",
   "execution_count": 13,
   "metadata": {
    "lines_to_next_cell": 2
   },
   "outputs": [
    {
     "data": {
      "text/html": [
       "<div>\n",
       "<style scoped>\n",
       "    .dataframe tbody tr th:only-of-type {\n",
       "        vertical-align: middle;\n",
       "    }\n",
       "\n",
       "    .dataframe tbody tr th {\n",
       "        vertical-align: top;\n",
       "    }\n",
       "\n",
       "    .dataframe thead th {\n",
       "        text-align: right;\n",
       "    }\n",
       "</style>\n",
       "<table border=\"1\" class=\"dataframe\">\n",
       "  <thead>\n",
       "    <tr style=\"text-align: right;\">\n",
       "      <th></th>\n",
       "      <th>date</th>\n",
       "      <th>i</th>\n",
       "      <th>downloaded</th>\n",
       "      <th>name</th>\n",
       "      <th>untarred</th>\n",
       "      <th>tb</th>\n",
       "      <th>tar_path</th>\n",
       "      <th>untar_path</th>\n",
       "    </tr>\n",
       "  </thead>\n",
       "  <tbody>\n",
       "    <tr>\n",
       "      <th>0</th>\n",
       "      <td>2017-12-15 00:00:00</td>\n",
       "      <td>14</td>\n",
       "      <td>1</td>\n",
       "      <td>cdas1.20171215.pgrbh.tar</td>\n",
       "      <td>0</td>\n",
       "      <td>press</td>\n",
       "      <td>/tmp/wrf_management/data_folder/press_tar/cdas...</td>\n",
       "      <td>/tmp/wrf_management/data_folder/runs/2018_02_1...</td>\n",
       "    </tr>\n",
       "    <tr>\n",
       "      <th>0</th>\n",
       "      <td>2017-12-15 00:00:00</td>\n",
       "      <td>14</td>\n",
       "      <td>1</td>\n",
       "      <td>cdas1.20171215.splgrbf.tar</td>\n",
       "      <td>0</td>\n",
       "      <td>surf_0</td>\n",
       "      <td>/tmp/wrf_management/data_folder/surf_0_tar/cda...</td>\n",
       "      <td>/tmp/wrf_management/data_folder/runs/2018_02_1...</td>\n",
       "    </tr>\n",
       "    <tr>\n",
       "      <th>0</th>\n",
       "      <td>2017-12-15 00:00:00</td>\n",
       "      <td>14</td>\n",
       "      <td>1</td>\n",
       "      <td>cdas1.20171215.sfluxgrbf.tar</td>\n",
       "      <td>0</td>\n",
       "      <td>surf_1</td>\n",
       "      <td>/tmp/wrf_management/data_folder/surf_1_tar/cda...</td>\n",
       "      <td>/tmp/wrf_management/data_folder/runs/2018_02_1...</td>\n",
       "    </tr>\n",
       "  </tbody>\n",
       "</table>\n",
       "</div>"
      ],
      "text/plain": [
       "                  date   i  downloaded                          name  \\\n",
       "0  2017-12-15 00:00:00  14           1      cdas1.20171215.pgrbh.tar   \n",
       "0  2017-12-15 00:00:00  14           1    cdas1.20171215.splgrbf.tar   \n",
       "0  2017-12-15 00:00:00  14           1  cdas1.20171215.sfluxgrbf.tar   \n",
       "\n",
       "   untarred      tb                                           tar_path  \\\n",
       "0         0   press  /tmp/wrf_management/data_folder/press_tar/cdas...   \n",
       "0         0  surf_0  /tmp/wrf_management/data_folder/surf_0_tar/cda...   \n",
       "0         0  surf_1  /tmp/wrf_management/data_folder/surf_1_tar/cda...   \n",
       "\n",
       "                                          untar_path  \n",
       "0  /tmp/wrf_management/data_folder/runs/2018_02_1...  \n",
       "0  /tmp/wrf_management/data_folder/runs/2018_02_1...  \n",
       "0  /tmp/wrf_management/data_folder/runs/2018_02_1...  "
      ]
     },
     "execution_count": 13,
     "metadata": {},
     "output_type": "execute_result"
    }
   ],
   "source": [
    "df['tar_path']=df.apply(lambda r: os.path.join(ut.get_tar_path(r.tb),r['name']),\n",
    "         axis = 1)\n",
    "df['untar_path']=df.apply(lambda r: new_path,\n",
    "         axis = 1)\n",
    "row = df.iloc[0]\n",
    "df"
   ]
  },
  {
   "cell_type": "code",
   "execution_count": 368,
   "metadata": {},
   "outputs": [],
   "source": [
    "import tarfile\n",
    "tfile = tarfile.TarFile(row.tar_path)"
   ]
  },
  {
   "cell_type": "code",
   "execution_count": null,
   "metadata": {},
   "outputs": [],
   "source": [
    "tfile.extractall(row.untar_path)"
   ]
  },
  {
   "cell_type": "code",
   "execution_count": null,
   "metadata": {
    "lines_to_next_cell": 3
   },
   "outputs": [],
   "source": []
  }
 ],
 "metadata": {
  "jupytext": {
   "text_representation": {
    "extension": ".py",
    "format_name": "percent",
    "format_version": "1.2",
    "jupytext_version": "0.8.6"
   }
  },
  "kernelspec": {
   "display_name": "Python 3",
   "language": "python",
   "name": "python3"
  },
  "language_info": {
   "codemirror_mode": {
    "name": "ipython",
    "version": 3
   },
   "file_extension": ".py",
   "mimetype": "text/x-python",
   "name": "python",
   "nbconvert_exporter": "python",
   "pygments_lexer": "ipython3",
   "version": "3.6.7"
  }
 },
 "nbformat": 4,
 "nbformat_minor": 2
}
