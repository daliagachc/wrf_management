{
 "cells": [
  {
   "cell_type": "code",
   "execution_count": 13,
   "metadata": {
    "lines_to_next_cell": 0
   },
   "outputs": [],
   "source": [
    "import wrf_management.run_utilities\n",
    "import wrf_management.utilities as ut\n",
    "import importlib\n",
    "importlib.reload(ut);\n",
    "import wrf_management.project_global_constants as gc\n",
    "importlib.reload(gc)\n",
    "import wrf_management.geogrid as geo\n",
    "import wrf_management.ungrib as un\n",
    "importlib.reload(un)\n",
    "import os\n",
    "import sqlite3 as sq\n",
    "import pandas as pd\n",
    "import wrf_management.base_namelists.base_namelists as bn\n",
    "importlib.reload(bn);\n",
    "import f90nml\n",
    "import subprocess as su\n",
    "import pathlib"
   ]
  },
  {
   "cell_type": "code",
   "execution_count": 14,
   "metadata": {
    "lines_to_next_cell": 2
   },
   "outputs": [
    {
     "name": "stdout",
     "output_type": "stream",
     "text": [
      "run_2019_02_20\n"
     ]
    }
   ],
   "source": [
    "print(gc.RUN_NAME)\n",
    "job = 'ungrib_avgtsfc'\n",
    "ungrib_source_dirs = ['ungrib_surf', 'ungrib_press']\n",
    "\n",
    "real = True\n",
    "hours = 24\n",
    "\n",
    "LIST_S_LINKS = [\n",
    "    'avg_tsfc.exe',\n",
    "#     'link_grib.csh',\n",
    "#     'ungrib'\n",
    "]\n",
    "\n",
    "LIST_H_LINKS = [\n",
    "#     'Vtable',\n",
    "    'env_WRFv4.bash'\n",
    "]"
   ]
  },
  {
   "cell_type": "code",
   "execution_count": 15,
   "metadata": {},
   "outputs": [
    {
     "data": {
      "text/plain": [
       "'/homeappl/home/aliagadi/saltena_2018/wrf_management/wrf_management/db_folder/wrf_man.sqlite'"
      ]
     },
     "execution_count": 15,
     "metadata": {},
     "output_type": "execute_result"
    }
   ],
   "source": [
    "#con = sq.connect(gc.PATH_DB)\n",
    "gc.PATH_DB"
   ]
  },
  {
   "cell_type": "code",
   "execution_count": 16,
   "metadata": {},
   "outputs": [
    {
     "name": "stdout",
     "output_type": "stream",
     "text": [
      "index                             1\n",
      "run_name             run_2019_02_20\n",
      "geogrid_path                geogrid\n",
      "config_path          run_2019_02_20\n",
      "data_path       runs/run_2019_02_20\n",
      "parent_run                     None\n",
      "comments                       None\n",
      "Name: 0, dtype: object\n"
     ]
    }
   ],
   "source": [
    "importlib.reload(un)\n",
    "run_row = wrf_management.run_utilities.get_run_row()\n",
    "print(run_row)"
   ]
  },
  {
   "cell_type": "code",
   "execution_count": 17,
   "metadata": {},
   "outputs": [
    {
     "name": "stdout",
     "output_type": "stream",
     "text": [
      "date              2018-05-18 00:00:00\n",
      "ungrib_surf                       200\n",
      "ungrib_press                      200\n",
      "ungrib_avgtsfc                      5\n",
      "metgrid                             5\n",
      "real                                0\n",
      "Name: 0, dtype: object\n"
     ]
    }
   ],
   "source": [
    "job_row = wrf_management.run_utilities.get_next_row(job=job, i_max=10)\n",
    "print(job_row)"
   ]
  },
  {
   "cell_type": "code",
   "execution_count": 18,
   "metadata": {},
   "outputs": [
    {
     "name": "stdout",
     "output_type": "stream",
     "text": [
      "/wrk/aliagadi/DONOTREMOVE/wrf_management_data/runs/run_2019_02_20/2018_05_18/ungrib_avgtsfc\n"
     ]
    }
   ],
   "source": [
    "if real:\n",
    "    wrf_management.run_utilities.update_run_table(val=job_row[job] + 1,\n",
    "                                                  job=job,\n",
    "                                                  date=job_row['date']\n",
    "                                                  )\n",
    "\n",
    "job_path = wrf_management.run_utilities.getmk_job_path(run_row, job_row, job)\n",
    "print(job_path)\n",
    "\n",
    "wrf_management.run_utilities.rm_if_path_exists(\n",
    "    os.path.join(job_path, 'avg_tsfc.log')\n",
    ")"
   ]
  },
  {
   "cell_type": "code",
   "execution_count": 19,
   "metadata": {},
   "outputs": [
    {
     "name": "stdout",
     "output_type": "stream",
     "text": [
      "/homeappl/home/aliagadi/saltena_2018/wrf_management/wrf_management/config_dir/run_2019_02_20\n"
     ]
    }
   ],
   "source": [
    "conf_path = wrf_management.run_utilities.get_conf_path(run_row)\n",
    "print(conf_path)"
   ]
  },
  {
   "cell_type": "code",
   "execution_count": 20,
   "metadata": {},
   "outputs": [
    {
     "data": {
      "text/html": [
       "<div>\n",
       "<style scoped>\n",
       "    .dataframe tbody tr th:only-of-type {\n",
       "        vertical-align: middle;\n",
       "    }\n",
       "\n",
       "    .dataframe tbody tr th {\n",
       "        vertical-align: top;\n",
       "    }\n",
       "\n",
       "    .dataframe thead th {\n",
       "        text-align: right;\n",
       "    }\n",
       "</style>\n",
       "<table border=\"1\" class=\"dataframe\">\n",
       "  <thead>\n",
       "    <tr style=\"text-align: right;\">\n",
       "      <th></th>\n",
       "      <th>share</th>\n",
       "      <th>metgrid</th>\n",
       "    </tr>\n",
       "  </thead>\n",
       "  <tbody>\n",
       "    <tr>\n",
       "      <th>end_date</th>\n",
       "      <td>[2018-05-19_00:00:00, 2018-05-19_00:00:00, 201...</td>\n",
       "      <td>NaN</td>\n",
       "    </tr>\n",
       "    <tr>\n",
       "      <th>fg_name</th>\n",
       "      <td>NaN</td>\n",
       "      <td>[ungrib_surf, ungrib_press]</td>\n",
       "    </tr>\n",
       "    <tr>\n",
       "      <th>interval_seconds</th>\n",
       "      <td>21600</td>\n",
       "      <td>NaN</td>\n",
       "    </tr>\n",
       "    <tr>\n",
       "      <th>io_form_geogrid</th>\n",
       "      <td>2</td>\n",
       "      <td>NaN</td>\n",
       "    </tr>\n",
       "    <tr>\n",
       "      <th>io_form_metgrid</th>\n",
       "      <td>NaN</td>\n",
       "      <td>2</td>\n",
       "    </tr>\n",
       "    <tr>\n",
       "      <th>max_dom</th>\n",
       "      <td>4</td>\n",
       "      <td>NaN</td>\n",
       "    </tr>\n",
       "    <tr>\n",
       "      <th>start_date</th>\n",
       "      <td>[2018-05-18_00:00:00, 2018-05-18_00:00:00, 201...</td>\n",
       "      <td>NaN</td>\n",
       "    </tr>\n",
       "    <tr>\n",
       "      <th>wrf_core</th>\n",
       "      <td>ARW</td>\n",
       "      <td>NaN</td>\n",
       "    </tr>\n",
       "  </tbody>\n",
       "</table>\n",
       "</div>"
      ],
      "text/plain": [
       "                                                              share  \\\n",
       "end_date          [2018-05-19_00:00:00, 2018-05-19_00:00:00, 201...   \n",
       "fg_name                                                         NaN   \n",
       "interval_seconds                                              21600   \n",
       "io_form_geogrid                                                   2   \n",
       "io_form_metgrid                                                 NaN   \n",
       "max_dom                                                           4   \n",
       "start_date        [2018-05-18_00:00:00, 2018-05-18_00:00:00, 201...   \n",
       "wrf_core                                                        ARW   \n",
       "\n",
       "                                      metgrid  \n",
       "end_date                                  NaN  \n",
       "fg_name           [ungrib_surf, ungrib_press]  \n",
       "interval_seconds                          NaN  \n",
       "io_form_geogrid                           NaN  \n",
       "io_form_metgrid                             2  \n",
       "max_dom                                   NaN  \n",
       "start_date                                NaN  \n",
       "wrf_core                                  NaN  "
      ]
     },
     "execution_count": 20,
     "metadata": {},
     "output_type": "execute_result"
    }
   ],
   "source": [
    "importlib.reload(un)\n",
    "name_list = un.skim_namelist_copy_avgtsfc(\n",
    "    conf_path, job_path, date=job_row.date, prefix=job, hours=24\n",
    ")\n",
    "pd.DataFrame(name_list)"
   ]
  },
  {
   "cell_type": "code",
   "execution_count": 21,
   "metadata": {},
   "outputs": [],
   "source": [
    "\n",
    "importlib.reload(un)\n",
    "un.link_grub_files(ungrib_prefixes=ungrib_source_dirs, job_path=job_path)"
   ]
  },
  {
   "cell_type": "code",
   "execution_count": 22,
   "metadata": {},
   "outputs": [
    {
     "name": "stdout",
     "output_type": "stream",
     "text": [
      "env_WRFv4.bash\n",
      "unilinking\n",
      "avg_tsfc.exe\n"
     ]
    }
   ],
   "source": [
    "# if gc.ID=='taito_login':\n",
    "wrf_management.run_utilities.copy_hard_links(conf_path, job_path, LIST_H_LINKS)\n",
    "wrf_management.run_utilities.copy_soft_links(\n",
    "    os.path.join(gc.PATH_WPS,'util'),\n",
    "    job_path,LIST_S_LINKS)\n",
    "    \n"
   ]
  },
  {
   "cell_type": "code",
   "execution_count": 23,
   "metadata": {},
   "outputs": [
    {
     "name": "stdout",
     "output_type": "stream",
     "text": [
      "#!/bin/bash\n",
      "        \n",
      "cd /wrk/aliagadi/DONOTREMOVE/wrf_management_data/runs/run_2019_02_20/2018_05_18/ungrib_avgtsfc\n",
      "source ./env_WRFv4.bash \n",
      "srun -t10 -p serial --mem 1000 -J'a2018-05-18 00:00:00' ./avg_tsfc.exe > avg_tsfc.log\n",
      "exit $?\n",
      "    \n"
     ]
    }
   ],
   "source": [
    "run_script = \\\n",
    "    \"\"\"#!/bin/bash\n",
    "        \n",
    "cd {job_path}\n",
    "source ./env_WRFv4.bash \n",
    "srun -t10 -p serial --mem 1000 -J'a{date}' ./avg_tsfc.exe > avg_tsfc.log\n",
    "exit $?\n",
    "    \"\"\".format(job_path=job_path, date = job_row.date)\n",
    "print(run_script)\n",
    "bs_path = os.path.join(job_path, 'run_me.sh')\n",
    "bs_file = open(bs_path, 'w')\n",
    "bs_file.write(run_script)\n",
    "bs_file.close()"
   ]
  },
  {
   "cell_type": "code",
   "execution_count": 24,
   "metadata": {},
   "outputs": [
    {
     "name": "stdout",
     "output_type": "stream",
     "text": [
      "b''\n",
      "b'srun: job 41577624 queued and waiting for resources\\nsrun: job 41577624 has been allocated resources\\n'\n"
     ]
    }
   ],
   "source": [
    "if gc.ID == 'taito_login':\n",
    "    res = su.run(['/bin/bash', bs_path], stdout=su.PIPE, stderr=su.PIPE)\n",
    "\n",
    "print(res.stdout)\n",
    "print(res.stderr)\n",
    "if gc.ID == 'taito_login' and res.returncode == 0:\n",
    "    wrf_management.run_utilities.update_run_table(val=100,\n",
    "                                                  job=job,\n",
    "                                                  date=job_row['date']\n",
    "                                                  )"
   ]
  },
  {
   "cell_type": "code",
   "execution_count": null,
   "metadata": {},
   "outputs": [],
   "source": []
  },
  {
   "cell_type": "code",
   "execution_count": null,
   "metadata": {},
   "outputs": [],
   "source": []
  },
  {
   "cell_type": "code",
   "execution_count": null,
   "metadata": {},
   "outputs": [],
   "source": []
  },
  {
   "cell_type": "code",
   "execution_count": null,
   "metadata": {},
   "outputs": [],
   "source": []
  },
  {
   "cell_type": "code",
   "execution_count": null,
   "metadata": {},
   "outputs": [],
   "source": []
  },
  {
   "cell_type": "code",
   "execution_count": null,
   "metadata": {},
   "outputs": [],
   "source": []
  },
  {
   "cell_type": "code",
   "execution_count": null,
   "metadata": {},
   "outputs": [],
   "source": []
  },
  {
   "cell_type": "code",
   "execution_count": null,
   "metadata": {},
   "outputs": [],
   "source": []
  },
  {
   "cell_type": "code",
   "execution_count": null,
   "metadata": {
    "lines_to_next_cell": 2
   },
   "outputs": [],
   "source": [
    "\n"
   ]
  }
 ],
 "metadata": {
  "jupytext": {
   "text_representation": {
    "extension": ".py",
    "format_name": "percent",
    "format_version": "1.2",
    "jupytext_version": "1.0.0"
   }
  },
  "kernelspec": {
   "display_name": "Python 3",
   "language": "python",
   "name": "python3"
  },
  "language_info": {
   "codemirror_mode": {
    "name": "ipython",
    "version": 3
   },
   "file_extension": ".py",
   "mimetype": "text/x-python",
   "name": "python",
   "nbconvert_exporter": "python",
   "pygments_lexer": "ipython3",
   "version": "3.6.8"
  }
 },
 "nbformat": 4,
 "nbformat_minor": 2
}
