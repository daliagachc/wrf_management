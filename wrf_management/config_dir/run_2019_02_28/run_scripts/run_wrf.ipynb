{
 "cells": [
  {
   "cell_type": "code",
   "execution_count": 52,
   "metadata": {},
   "outputs": [
    {
     "data": {
      "text/plain": [
       "<module 'wrf_management.run_wrf' from '/Users/diego/wrf_management/wrf_management/run_wrf.py'>"
      ]
     },
     "execution_count": 52,
     "metadata": {},
     "output_type": "execute_result"
    }
   ],
   "source": [
    "import importlib\n",
    "import os\n",
    "\n",
    "try:\n",
    "    from . import init as it\n",
    "except:\n",
    "    from wrf_management.config_dir.run_2019_02_27.run_scripts import init as it\n",
    "importlib.reload(it)\n",
    "\n",
    "import di_python.ya_esta as ye\n",
    "import wrf_management.run_wrf as rw\n",
    "import wrf_management.project_global_constants as gc\n",
    "importlib.reload(rw)"
   ]
  },
  {
   "cell_type": "code",
   "execution_count": 45,
   "metadata": {},
   "outputs": [
    {
     "name": "stdout",
     "output_type": "stream",
     "text": [
      "/Users/diego/wrf_management/wrf_management/config_dir/run_2019_02_27/namelist.input\n"
     ]
    }
   ],
   "source": [
    "df = rw.get_date_range(it.init_date, it.end_date)\n",
    "print(rw.get_input_file_path(it.run_name))\n",
    "\n",
    "input_path = rw.get_input_file_path(it.run_name)\n",
    "\n",
    "input_dic = rw.get_input_dic(input_path)\n",
    "\n",
    "new_input_dic = rw.modify_dt_input_dic(it.init_date, it.end_date, input_dic)\n",
    "it.run_type = 'wrf' \n",
    "run_type_dir = rw.create_run_type_dir(gc.PATH_DATA, it.run_name, it.run_type)\n",
    "\n",
    "rw.write_input_dic(run_type_dir=run_type_dir, new_input_dic=new_input_dic)"
   ]
  },
  {
   "cell_type": "code",
   "execution_count": 46,
   "metadata": {},
   "outputs": [
    {
     "data": {
      "text/plain": [
       "'run_2019_02_20'"
      ]
     },
     "execution_count": 46,
     "metadata": {},
     "output_type": "execute_result"
    }
   ],
   "source": [
    "it.parent_run"
   ]
  },
  {
   "cell_type": "code",
   "execution_count": 47,
   "metadata": {},
   "outputs": [
    {
     "data": {
      "text/plain": [
       "'/tmp/wrf_management/data_folder/runs/run_2019_02_27/wrf'"
      ]
     },
     "execution_count": 47,
     "metadata": {},
     "output_type": "execute_result"
    }
   ],
   "source": [
    "run_type_dir"
   ]
  },
  {
   "cell_type": "code",
   "execution_count": 48,
   "metadata": {},
   "outputs": [
    {
     "data": {
      "text/plain": [
       "'/tmp/wrf_management/data_folder/runs/run_2019_02_20'"
      ]
     },
     "execution_count": 48,
     "metadata": {},
     "output_type": "execute_result"
    }
   ],
   "source": [
    "parent_run_dir = os.path.join(gc.PATH_DATA, 'runs', it.parent_run)\n",
    "parent_run_dir"
   ]
  },
  {
   "cell_type": "code",
   "execution_count": 49,
   "metadata": {
    "lines_to_next_cell": 2
   },
   "outputs": [
    {
     "data": {
      "text/plain": [
       "Timestamp('2017-12-02 00:00:00')"
      ]
     },
     "execution_count": 49,
     "metadata": {},
     "output_type": "execute_result"
    }
   ],
   "source": [
    "dates = list(df.dt)\n",
    "dates[0]"
   ]
  },
  {
   "cell_type": "code",
   "execution_count": 72,
   "metadata": {},
   "outputs": [
    {
     "name": "stdout",
     "output_type": "stream",
     "text": [
      "/tmp/wrf_management/data_folder/runs/run_2019_02_27/real\n",
      "['/tmp/wrf_management/data_folder/runs/run_2019_02_27/real/wrfinput_d01', '/tmp/wrf_management/data_folder/runs/run_2019_02_27/real/wrfinput_d02', '/tmp/wrf_management/data_folder/runs/run_2019_02_27/real/wrfbdy_d01']\n"
     ]
    }
   ],
   "source": [
    "importlib.reload(rw)\n",
    "real_path=rw.create_run_type_dir(gc.PATH_DATA, it.run_name, 'real')\n",
    "print(real_path)\n",
    "rw.link_wrfs(real_path=real_path, dest_path=run_type_dir)\n"
   ]
  },
  {
   "cell_type": "code",
   "execution_count": 68,
   "metadata": {},
   "outputs": [
    {
     "name": "stdout",
     "output_type": "stream",
     "text": [
      "/tmp/wrf_management/app_folder/WRF4/WRF/main/*.exe\n",
      "['/tmp/wrf_management/app_folder/WRF4/WRF/main/wrf.exe', '/tmp/wrf_management/app_folder/WRF4/WRF/main/ndown.exe', '/tmp/wrf_management/app_folder/WRF4/WRF/main/tc.exe', '/tmp/wrf_management/app_folder/WRF4/WRF/main/real.exe']\n",
      "/tmp/wrf_management/app_folder/WRF4/WRF/main/wrf.exe\n",
      "/tmp/wrf_management/data_folder/runs/run_2019_02_27/wrf/wrf.exe\n",
      "/tmp/wrf_management/app_folder/WRF4/WRF/main/ndown.exe\n",
      "/tmp/wrf_management/data_folder/runs/run_2019_02_27/wrf/ndown.exe\n",
      "/tmp/wrf_management/app_folder/WRF4/WRF/main/tc.exe\n",
      "/tmp/wrf_management/data_folder/runs/run_2019_02_27/wrf/tc.exe\n",
      "/tmp/wrf_management/app_folder/WRF4/WRF/main/real.exe\n",
      "/tmp/wrf_management/data_folder/runs/run_2019_02_27/wrf/real.exe\n",
      "/tmp/wrf_management/app_folder/WRF4/WRF/run/gribmap.txt\n",
      "['/tmp/wrf_management/app_folder/WRF4/WRF/run/gribmap.txt']\n",
      "/tmp/wrf_management/app_folder/WRF4/WRF/run/gribmap.txt\n",
      "/tmp/wrf_management/data_folder/runs/run_2019_02_27/wrf/gribmap.txt\n",
      "/tmp/wrf_management/app_folder/WRF4/WRF/run/RRTM*\n",
      "['/tmp/wrf_management/app_folder/WRF4/WRF/run/RRTM_DATA', '/tmp/wrf_management/app_folder/WRF4/WRF/run/RRTMG_LW_DATA_DBL', '/tmp/wrf_management/app_folder/WRF4/WRF/run/RRTMG_LW_DATA', '/tmp/wrf_management/app_folder/WRF4/WRF/run/RRTM_DATA_DBL', '/tmp/wrf_management/app_folder/WRF4/WRF/run/RRTMG_SW_DATA', '/tmp/wrf_management/app_folder/WRF4/WRF/run/RRTMG_SW_DATA_DBL']\n",
      "/tmp/wrf_management/app_folder/WRF4/WRF/run/RRTM_DATA\n",
      "/tmp/wrf_management/data_folder/runs/run_2019_02_27/wrf/RRTM_DATA\n",
      "/tmp/wrf_management/app_folder/WRF4/WRF/run/RRTMG_LW_DATA_DBL\n",
      "/tmp/wrf_management/data_folder/runs/run_2019_02_27/wrf/RRTMG_LW_DATA_DBL\n",
      "/tmp/wrf_management/app_folder/WRF4/WRF/run/RRTMG_LW_DATA\n",
      "/tmp/wrf_management/data_folder/runs/run_2019_02_27/wrf/RRTMG_LW_DATA\n",
      "/tmp/wrf_management/app_folder/WRF4/WRF/run/RRTM_DATA_DBL\n",
      "/tmp/wrf_management/data_folder/runs/run_2019_02_27/wrf/RRTM_DATA_DBL\n",
      "/tmp/wrf_management/app_folder/WRF4/WRF/run/RRTMG_SW_DATA\n",
      "/tmp/wrf_management/data_folder/runs/run_2019_02_27/wrf/RRTMG_SW_DATA\n",
      "/tmp/wrf_management/app_folder/WRF4/WRF/run/RRTMG_SW_DATA_DBL\n",
      "/tmp/wrf_management/data_folder/runs/run_2019_02_27/wrf/RRTMG_SW_DATA_DBL\n",
      "/tmp/wrf_management/app_folder/WRF4/WRF/run/*TBL\n",
      "['/tmp/wrf_management/app_folder/WRF4/WRF/run/URBPARM.TBL', '/tmp/wrf_management/app_folder/WRF4/WRF/run/GENPARM.TBL', '/tmp/wrf_management/app_folder/WRF4/WRF/run/VEGPARM.TBL', '/tmp/wrf_management/app_folder/WRF4/WRF/run/MPTABLE.TBL', '/tmp/wrf_management/app_folder/WRF4/WRF/run/LANDUSE.TBL', '/tmp/wrf_management/app_folder/WRF4/WRF/run/URBPARM_UZE.TBL', '/tmp/wrf_management/app_folder/WRF4/WRF/run/SOILPARM.TBL', '/tmp/wrf_management/app_folder/WRF4/WRF/run/HLC.TBL']\n",
      "/tmp/wrf_management/app_folder/WRF4/WRF/run/URBPARM.TBL\n",
      "/tmp/wrf_management/data_folder/runs/run_2019_02_27/wrf/URBPARM.TBL\n",
      "/tmp/wrf_management/app_folder/WRF4/WRF/run/GENPARM.TBL\n",
      "/tmp/wrf_management/data_folder/runs/run_2019_02_27/wrf/GENPARM.TBL\n",
      "/tmp/wrf_management/app_folder/WRF4/WRF/run/VEGPARM.TBL\n",
      "/tmp/wrf_management/data_folder/runs/run_2019_02_27/wrf/VEGPARM.TBL\n",
      "/tmp/wrf_management/app_folder/WRF4/WRF/run/MPTABLE.TBL\n",
      "/tmp/wrf_management/data_folder/runs/run_2019_02_27/wrf/MPTABLE.TBL\n",
      "/tmp/wrf_management/app_folder/WRF4/WRF/run/LANDUSE.TBL\n",
      "/tmp/wrf_management/data_folder/runs/run_2019_02_27/wrf/LANDUSE.TBL\n",
      "/tmp/wrf_management/app_folder/WRF4/WRF/run/URBPARM_UZE.TBL\n",
      "/tmp/wrf_management/data_folder/runs/run_2019_02_27/wrf/URBPARM_UZE.TBL\n",
      "/tmp/wrf_management/app_folder/WRF4/WRF/run/SOILPARM.TBL\n",
      "/tmp/wrf_management/data_folder/runs/run_2019_02_27/wrf/SOILPARM.TBL\n",
      "/tmp/wrf_management/app_folder/WRF4/WRF/run/HLC.TBL\n",
      "/tmp/wrf_management/data_folder/runs/run_2019_02_27/wrf/HLC.TBL\n",
      "/tmp/wrf_management/app_folder/WRF4/WRF/run/*tbl\n",
      "['/tmp/wrf_management/app_folder/WRF4/WRF/run/wind-turbine-1.tbl', '/tmp/wrf_management/app_folder/WRF4/WRF/run/grib2map.tbl']\n",
      "/tmp/wrf_management/app_folder/WRF4/WRF/run/wind-turbine-1.tbl\n",
      "/tmp/wrf_management/data_folder/runs/run_2019_02_27/wrf/wind-turbine-1.tbl\n",
      "/tmp/wrf_management/app_folder/WRF4/WRF/run/grib2map.tbl\n",
      "/tmp/wrf_management/data_folder/runs/run_2019_02_27/wrf/grib2map.tbl\n",
      "/tmp/wrf_management/app_folder/WRF4/WRF/run/ozone*\n",
      "['/tmp/wrf_management/app_folder/WRF4/WRF/run/ozone_plev.formatted', '/tmp/wrf_management/app_folder/WRF4/WRF/run/ozone.formatted', '/tmp/wrf_management/app_folder/WRF4/WRF/run/ozone_lat.formatted']\n",
      "/tmp/wrf_management/app_folder/WRF4/WRF/run/ozone_plev.formatted\n",
      "/tmp/wrf_management/data_folder/runs/run_2019_02_27/wrf/ozone_plev.formatted\n",
      "/tmp/wrf_management/app_folder/WRF4/WRF/run/ozone.formatted\n",
      "/tmp/wrf_management/data_folder/runs/run_2019_02_27/wrf/ozone.formatted\n",
      "/tmp/wrf_management/app_folder/WRF4/WRF/run/ozone_lat.formatted\n",
      "/tmp/wrf_management/data_folder/runs/run_2019_02_27/wrf/ozone_lat.formatted\n"
     ]
    }
   ],
   "source": [
    "importlib.reload(rw)\n",
    "rw.link_wrf(dest_path=run_type_dir)"
   ]
  },
  {
   "cell_type": "code",
   "execution_count": null,
   "metadata": {},
   "outputs": [],
   "source": [
    "'/tmp/wrf_management/app_folder/WRF4/WRF/main/real.exe'"
   ]
  }
 ],
 "metadata": {
  "jupytext": {
   "text_representation": {
    "extension": ".py",
    "format_name": "percent",
    "format_version": "1.2",
    "jupytext_version": "0.8.6"
   }
  },
  "kernelspec": {
   "display_name": "Python 3",
   "language": "python",
   "name": "python3"
  },
  "language_info": {
   "codemirror_mode": {
    "name": "ipython",
    "version": 3
   },
   "file_extension": ".py",
   "mimetype": "text/x-python",
   "name": "python",
   "nbconvert_exporter": "python",
   "pygments_lexer": "ipython3",
   "version": "3.6.7"
  }
 },
 "nbformat": 4,
 "nbformat_minor": 2
}
