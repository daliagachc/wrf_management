{
 "cells": [
  {
   "cell_type": "code",
   "execution_count": 2,
   "metadata": {},
   "outputs": [],
   "source": [
    "import importlib\n",
    "import os\n",
    "\n",
    "try:\n",
    "    from . import init as it\n",
    "except:\n",
    "    from wrf_management.config_dir.run_2019_02_28.run_scripts import init as it\n",
    "importlib.reload(it)\n",
    "\n",
    "import di_python.ya_esta as ye\n",
    "import wrf_management.run_wrf as rw\n",
    "import wrf_management.project_global_constants as gc"
   ]
  },
  {
   "cell_type": "code",
   "execution_count": 3,
   "metadata": {},
   "outputs": [
    {
     "name": "stdout",
     "output_type": "stream",
     "text": [
      "/Users/diego/wrf_management/wrf_management/config_dir/run_2019_02_28/namelist.input\n"
     ]
    }
   ],
   "source": [
    "df = rw.get_date_range(it.init_date, it.end_date)\n",
    "print(rw.get_input_file_path(it.run_name))\n",
    "\n",
    "input_path = rw.get_input_file_path(it.run_name)\n",
    "\n",
    "input_dic = rw.get_input_dic(input_path)\n",
    "\n",
    "new_input_dic = rw.modify_dt_input_dic(it.init_date, it.end_date, input_dic)\n",
    "\n",
    "run_type_dir = rw.create_run_type_dir(gc.PATH_DATA, it.run_name, it.run_type)\n",
    "\n",
    "rw.write_input_dic(run_type_dir=run_type_dir, new_input_dic=new_input_dic)"
   ]
  },
  {
   "cell_type": "code",
   "execution_count": 4,
   "metadata": {},
   "outputs": [
    {
     "data": {
      "text/plain": [
       "'run_2019_02_20'"
      ]
     },
     "execution_count": 4,
     "metadata": {},
     "output_type": "execute_result"
    }
   ],
   "source": [
    "it.parent_run"
   ]
  },
  {
   "cell_type": "code",
   "execution_count": 5,
   "metadata": {},
   "outputs": [
    {
     "data": {
      "text/plain": [
       "'/tmp/wrf_management/data_folder/runs/run_2019_02_28/real'"
      ]
     },
     "execution_count": 5,
     "metadata": {},
     "output_type": "execute_result"
    }
   ],
   "source": [
    "run_type_dir"
   ]
  },
  {
   "cell_type": "code",
   "execution_count": 6,
   "metadata": {},
   "outputs": [
    {
     "data": {
      "text/plain": [
       "'/tmp/wrf_management/data_folder/runs/run_2019_02_20'"
      ]
     },
     "execution_count": 6,
     "metadata": {},
     "output_type": "execute_result"
    }
   ],
   "source": [
    "parent_run_dir = os.path.join(gc.PATH_DATA, 'runs', it.parent_run)\n",
    "parent_run_dir"
   ]
  },
  {
   "cell_type": "code",
   "execution_count": 9,
   "metadata": {
    "lines_to_next_cell": 2
   },
   "outputs": [
    {
     "data": {
      "text/plain": [
       "[Timestamp('2017-12-02 00:00:00'),\n",
       " Timestamp('2017-12-03 00:00:00'),\n",
       " Timestamp('2017-12-04 00:00:00'),\n",
       " Timestamp('2017-12-05 00:00:00'),\n",
       " Timestamp('2017-12-06 00:00:00'),\n",
       " Timestamp('2017-12-07 00:00:00'),\n",
       " Timestamp('2017-12-08 00:00:00'),\n",
       " Timestamp('2017-12-09 00:00:00'),\n",
       " Timestamp('2017-12-10 00:00:00'),\n",
       " Timestamp('2017-12-11 00:00:00'),\n",
       " Timestamp('2017-12-12 00:00:00'),\n",
       " Timestamp('2017-12-13 00:00:00'),\n",
       " Timestamp('2017-12-14 00:00:00'),\n",
       " Timestamp('2017-12-15 00:00:00'),\n",
       " Timestamp('2017-12-16 00:00:00'),\n",
       " Timestamp('2017-12-17 00:00:00'),\n",
       " Timestamp('2017-12-18 00:00:00'),\n",
       " Timestamp('2017-12-19 00:00:00'),\n",
       " Timestamp('2017-12-20 00:00:00'),\n",
       " Timestamp('2017-12-21 00:00:00'),\n",
       " Timestamp('2017-12-22 00:00:00')]"
      ]
     },
     "execution_count": 9,
     "metadata": {},
     "output_type": "execute_result"
    }
   ],
   "source": [
    "dates = list(df.dt)\n",
    "dates"
   ]
  },
  {
   "cell_type": "code",
   "execution_count": 8,
   "metadata": {},
   "outputs": [],
   "source": [
    "rw.link_metgrids(parent_run_path=parent_run_dir, dates=dates,\n",
    "                 dest_path=run_type_dir)"
   ]
  },
  {
   "cell_type": "code",
   "execution_count": null,
   "metadata": {},
   "outputs": [],
   "source": [
    "rw.link_real(dest_path=run_type_dir)"
   ]
  },
  {
   "cell_type": "code",
   "execution_count": null,
   "metadata": {},
   "outputs": [],
   "source": [
    "'/tmp/wrf_management/app_folder/WRF4/WRF/main/real.exe'"
   ]
  }
 ],
 "metadata": {
  "jupytext": {
   "text_representation": {
    "extension": ".py",
    "format_name": "percent",
    "format_version": "1.2",
    "jupytext_version": "0.8.6"
   }
  },
  "kernelspec": {
   "display_name": "Python 3",
   "language": "python",
   "name": "python3"
  },
  "language_info": {
   "codemirror_mode": {
    "name": "ipython",
    "version": 3
   },
   "file_extension": ".py",
   "mimetype": "text/x-python",
   "name": "python",
   "nbconvert_exporter": "python",
   "pygments_lexer": "ipython3",
   "version": "3.6.7"
  }
 },
 "nbformat": 4,
 "nbformat_minor": 2
}
