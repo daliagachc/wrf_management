{
 "cells": [
  {
   "cell_type": "code",
   "execution_count": 1,
   "metadata": {},
   "outputs": [
    {
     "name": "stdout",
     "output_type": "stream",
     "text": [
      "run_2019_03_02\n"
     ]
    }
   ],
   "source": [
    "import importlib\n",
    "import os\n",
    "\n",
    "import init as it\n",
    "\n",
    "print(it.run_name)\n",
    "importlib.reload(it)\n",
    "\n",
    "import di_python.ya_esta as ye\n",
    "import wrf_management.run_wrf as rw\n",
    "import wrf_management.project_global_constants as gc"
   ]
  },
  {
   "cell_type": "code",
   "execution_count": 2,
   "metadata": {},
   "outputs": [
    {
     "name": "stdout",
     "output_type": "stream",
     "text": [
      "/homeappl/home/aliagadi/saltena_2018/wrf_management/wrf_management/config_dir/run_2019_03_02/namelist.input\n"
     ]
    }
   ],
   "source": [
    "df = rw.get_date_range(it.init_date, it.end_date)\n",
    "print(rw.get_input_file_path(it.run_name))\n",
    "\n",
    "input_path = rw.get_input_file_path(it.run_name)\n",
    "\n",
    "input_dic = rw.get_input_dic(input_path)\n",
    "\n",
    "new_input_dic = rw.modify_dt_input_dic(it.init_date, it.end_date, input_dic)\n",
    "\n",
    "run_type_dir = rw.create_run_type_dir(gc.PATH_DATA, it.run_name, it.run_type)\n",
    "\n",
    "rw.write_input_dic(run_type_dir=run_type_dir, new_input_dic=new_input_dic)"
   ]
  },
  {
   "cell_type": "code",
   "execution_count": 3,
   "metadata": {},
   "outputs": [
    {
     "data": {
      "text/plain": [
       "'run_2019_02_20'"
      ]
     },
     "execution_count": 3,
     "metadata": {},
     "output_type": "execute_result"
    }
   ],
   "source": [
    "it.parent_run"
   ]
  },
  {
   "cell_type": "code",
   "execution_count": 4,
   "metadata": {},
   "outputs": [
    {
     "data": {
      "text/plain": [
       "'/wrk/aliagadi/DONOTREMOVE/wrf_management_data/runs/run_2019_03_02/real'"
      ]
     },
     "execution_count": 4,
     "metadata": {},
     "output_type": "execute_result"
    }
   ],
   "source": [
    "run_type_dir"
   ]
  },
  {
   "cell_type": "code",
   "execution_count": 5,
   "metadata": {},
   "outputs": [
    {
     "data": {
      "text/plain": [
       "'/wrk/aliagadi/DONOTREMOVE/wrf_management_data/runs/run_2019_02_20'"
      ]
     },
     "execution_count": 5,
     "metadata": {},
     "output_type": "execute_result"
    }
   ],
   "source": [
    "parent_run_dir = os.path.join(gc.PATH_DATA, 'runs', it.parent_run)\n",
    "parent_run_dir"
   ]
  },
  {
   "cell_type": "code",
   "execution_count": 6,
   "metadata": {},
   "outputs": [
    {
     "data": {
      "text/plain": [
       "[Timestamp('2018-05-01 00:00:00'),\n",
       " Timestamp('2018-05-02 00:00:00'),\n",
       " Timestamp('2018-05-03 00:00:00'),\n",
       " Timestamp('2018-05-04 00:00:00'),\n",
       " Timestamp('2018-05-05 00:00:00'),\n",
       " Timestamp('2018-05-06 00:00:00'),\n",
       " Timestamp('2018-05-07 00:00:00'),\n",
       " Timestamp('2018-05-08 00:00:00'),\n",
       " Timestamp('2018-05-09 00:00:00'),\n",
       " Timestamp('2018-05-10 00:00:00'),\n",
       " Timestamp('2018-05-11 00:00:00'),\n",
       " Timestamp('2018-05-12 00:00:00'),\n",
       " Timestamp('2018-05-13 00:00:00'),\n",
       " Timestamp('2018-05-14 00:00:00'),\n",
       " Timestamp('2018-05-15 00:00:00'),\n",
       " Timestamp('2018-05-16 00:00:00'),\n",
       " Timestamp('2018-05-17 00:00:00'),\n",
       " Timestamp('2018-05-18 00:00:00'),\n",
       " Timestamp('2018-05-19 00:00:00'),\n",
       " Timestamp('2018-05-20 00:00:00'),\n",
       " Timestamp('2018-05-21 00:00:00'),\n",
       " Timestamp('2018-05-22 00:00:00'),\n",
       " Timestamp('2018-05-23 00:00:00'),\n",
       " Timestamp('2018-05-24 00:00:00'),\n",
       " Timestamp('2018-05-25 00:00:00')]"
      ]
     },
     "execution_count": 6,
     "metadata": {},
     "output_type": "execute_result"
    }
   ],
   "source": [
    "dates = list(df.dt)\n",
    "dates"
   ]
  },
  {
   "cell_type": "code",
   "execution_count": 7,
   "metadata": {},
   "outputs": [],
   "source": [
    "rw.link_metgrids(parent_run_path=parent_run_dir, dates=dates,\n",
    "                 dest_path=run_type_dir)"
   ]
  },
  {
   "cell_type": "code",
   "execution_count": 8,
   "metadata": {},
   "outputs": [],
   "source": [
    "rw.link_real(dest_path=run_type_dir)"
   ]
  },
  {
   "cell_type": "code",
   "execution_count": 9,
   "metadata": {},
   "outputs": [],
   "source": [
    "\n",
    "rw.cp_sbatch(source_dir='../', target_dir=run_type_dir, pat='*real.sh')"
   ]
  },
  {
   "cell_type": "code",
   "execution_count": null,
   "metadata": {},
   "outputs": [],
   "source": []
  }
 ],
 "metadata": {
  "jupytext": {
   "text_representation": {
    "extension": ".py",
    "format_name": "percent",
    "format_version": "1.2",
    "jupytext_version": "1.0.0"
   }
  },
  "kernelspec": {
   "display_name": "Python 3",
   "language": "python",
   "name": "python3"
  },
  "language_info": {
   "codemirror_mode": {
    "name": "ipython",
    "version": 3
   },
   "file_extension": ".py",
   "mimetype": "text/x-python",
   "name": "python",
   "nbconvert_exporter": "python",
   "pygments_lexer": "ipython3",
   "version": "3.6.8"
  }
 },
 "nbformat": 4,
 "nbformat_minor": 2
}
