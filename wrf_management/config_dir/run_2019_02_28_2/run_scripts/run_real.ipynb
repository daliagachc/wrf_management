{
 "cells": [
  {
   "cell_type": "code",
   "execution_count": 1,
   "metadata": {},
   "outputs": [
    {
     "name": "stdout",
     "output_type": "stream",
     "text": [
      "run_2019_02_28_2\n"
     ]
    }
   ],
   "source": [
    "import importlib\n",
    "import os\n",
    "\n",
    "import init as it\n",
    "print(it.run_name)\n",
    "importlib.reload(it)\n",
    "\n",
    "import di_python.ya_esta as ye\n",
    "import wrf_management.run_wrf as rw\n",
    "import wrf_management.project_global_constants as gc"
   ]
  },
  {
   "cell_type": "code",
   "execution_count": 2,
   "metadata": {},
   "outputs": [
    {
     "name": "stdout",
     "output_type": "stream",
     "text": [
      "/Users/diego/wrf_management/wrf_management/config_dir/run_2019_02_28_2/namelist.input\n"
     ]
    }
   ],
   "source": [
    "df = rw.get_date_range(it.init_date, it.end_date)\n",
    "print(rw.get_input_file_path(it.run_name))\n",
    "\n",
    "input_path = rw.get_input_file_path(it.run_name)\n",
    "\n",
    "input_dic = rw.get_input_dic(input_path)\n",
    "\n",
    "new_input_dic = rw.modify_dt_input_dic(it.init_date, it.end_date, input_dic)\n",
    "\n",
    "run_type_dir = rw.create_run_type_dir(gc.PATH_DATA, it.run_name, it.run_type)\n",
    "\n",
    "rw.write_input_dic(run_type_dir=run_type_dir, new_input_dic=new_input_dic)"
   ]
  },
  {
   "cell_type": "code",
   "execution_count": 3,
   "metadata": {},
   "outputs": [
    {
     "data": {
      "text/plain": [
       "'run_2019_02_20'"
      ]
     },
     "execution_count": 3,
     "metadata": {},
     "output_type": "execute_result"
    }
   ],
   "source": [
    "it.parent_run"
   ]
  },
  {
   "cell_type": "code",
   "execution_count": 4,
   "metadata": {},
   "outputs": [
    {
     "data": {
      "text/plain": [
       "'/tmp/wrf_management/data_folder/runs/run_2019_02_28_2/real'"
      ]
     },
     "execution_count": 4,
     "metadata": {},
     "output_type": "execute_result"
    }
   ],
   "source": [
    "run_type_dir"
   ]
  },
  {
   "cell_type": "code",
   "execution_count": 5,
   "metadata": {},
   "outputs": [
    {
     "data": {
      "text/plain": [
       "'/tmp/wrf_management/data_folder/runs/run_2019_02_20'"
      ]
     },
     "execution_count": 5,
     "metadata": {},
     "output_type": "execute_result"
    }
   ],
   "source": [
    "parent_run_dir = os.path.join(gc.PATH_DATA, 'runs', it.parent_run)\n",
    "parent_run_dir"
   ]
  },
  {
   "cell_type": "code",
   "execution_count": 6,
   "metadata": {
    "lines_to_next_cell": 2
   },
   "outputs": [
    {
     "data": {
      "text/plain": [
       "[Timestamp('2017-12-02 00:00:00'),\n",
       " Timestamp('2017-12-03 00:00:00'),\n",
       " Timestamp('2017-12-04 00:00:00'),\n",
       " Timestamp('2017-12-05 00:00:00'),\n",
       " Timestamp('2017-12-06 00:00:00'),\n",
       " Timestamp('2017-12-07 00:00:00'),\n",
       " Timestamp('2017-12-08 00:00:00'),\n",
       " Timestamp('2017-12-09 00:00:00'),\n",
       " Timestamp('2017-12-10 00:00:00'),\n",
       " Timestamp('2017-12-11 00:00:00'),\n",
       " Timestamp('2017-12-12 00:00:00'),\n",
       " Timestamp('2017-12-13 00:00:00'),\n",
       " Timestamp('2017-12-14 00:00:00'),\n",
       " Timestamp('2017-12-15 00:00:00'),\n",
       " Timestamp('2017-12-16 00:00:00'),\n",
       " Timestamp('2017-12-17 00:00:00'),\n",
       " Timestamp('2017-12-18 00:00:00'),\n",
       " Timestamp('2017-12-19 00:00:00'),\n",
       " Timestamp('2017-12-20 00:00:00'),\n",
       " Timestamp('2017-12-21 00:00:00'),\n",
       " Timestamp('2017-12-22 00:00:00')]"
      ]
     },
     "execution_count": 6,
     "metadata": {},
     "output_type": "execute_result"
    }
   ],
   "source": [
    "dates = list(df.dt)\n",
    "dates"
   ]
  },
  {
   "cell_type": "code",
   "execution_count": 7,
   "metadata": {},
   "outputs": [
    {
     "name": "stderr",
     "output_type": "stream",
     "text": [
      "ERROR:root:Internal Python error in the inspect module.\n",
      "Below is the traceback from this internal error.\n",
      "\n"
     ]
    },
    {
     "name": "stdout",
     "output_type": "stream",
     "text": [
      "Traceback (most recent call last):\n",
      "  File \"/Volumes/mbProD/anaconda3/lib/python3.6/site-packages/IPython/core/interactiveshell.py\", line 3267, in run_code\n",
      "    exec(code_obj, self.user_global_ns, self.user_ns)\n",
      "  File \"<ipython-input-7-08f34a8cf2f3>\", line 2, in <module>\n",
      "    dest_path=run_type_dir)\n",
      "  File \"/Users/diego/wrf_management/wrf_management/run_wrf.py\", line 96, in link_metgrids\n",
      "    dest_path=dest_path)\n",
      "  File \"/Users/diego/wrf_management/wrf_management/run_wrf.py\", line 89, in link_metgrids_single\n",
      "    ru.relink(source_file_path=s, dest_file_path=dest)\n",
      "  File \"/Users/diego/wrf_management/wrf_management/run_utilities.py\", line 148, in relink\n",
      "    os.symlink(source_file_path, dest_file_path)\n",
      "KeyboardInterrupt\n",
      "\n",
      "During handling of the above exception, another exception occurred:\n",
      "\n",
      "Traceback (most recent call last):\n",
      "  File \"/Volumes/mbProD/anaconda3/lib/python3.6/site-packages/IPython/core/interactiveshell.py\", line 2018, in showtraceback\n",
      "    stb = value._render_traceback_()\n",
      "AttributeError: 'KeyboardInterrupt' object has no attribute '_render_traceback_'\n",
      "\n",
      "During handling of the above exception, another exception occurred:\n",
      "\n",
      "Traceback (most recent call last):\n",
      "  File \"/Volumes/mbProD/anaconda3/lib/python3.6/site-packages/IPython/core/ultratb.py\", line 1095, in get_records\n",
      "    return _fixed_getinnerframes(etb, number_of_lines_of_context, tb_offset)\n",
      "  File \"/Volumes/mbProD/anaconda3/lib/python3.6/site-packages/IPython/core/ultratb.py\", line 313, in wrapped\n",
      "    return f(*args, **kwargs)\n",
      "  File \"/Volumes/mbProD/anaconda3/lib/python3.6/site-packages/IPython/core/ultratb.py\", line 347, in _fixed_getinnerframes\n",
      "    records = fix_frame_records_filenames(inspect.getinnerframes(etb, context))\n",
      "  File \"/Volumes/mbProD/anaconda3/lib/python3.6/inspect.py\", line 1488, in getinnerframes\n",
      "    frameinfo = (tb.tb_frame,) + getframeinfo(tb, context)\n",
      "  File \"/Volumes/mbProD/anaconda3/lib/python3.6/inspect.py\", line 1446, in getframeinfo\n",
      "    filename = getsourcefile(frame) or getfile(frame)\n",
      "  File \"/Volumes/mbProD/anaconda3/lib/python3.6/inspect.py\", line 696, in getsourcefile\n",
      "    if getattr(getmodule(object, filename), '__loader__', None) is not None:\n",
      "  File \"/Volumes/mbProD/anaconda3/lib/python3.6/inspect.py\", line 739, in getmodule\n",
      "    f = getabsfile(module)\n",
      "  File \"/Volumes/mbProD/anaconda3/lib/python3.6/inspect.py\", line 708, in getabsfile\n",
      "    _filename = getsourcefile(object) or getfile(object)\n",
      "  File \"/Volumes/mbProD/anaconda3/lib/python3.6/inspect.py\", line 693, in getsourcefile\n",
      "    if os.path.exists(filename):\n",
      "  File \"/Volumes/mbProD/anaconda3/lib/python3.6/genericpath.py\", line 19, in exists\n",
      "    os.stat(path)\n",
      "KeyboardInterrupt\n"
     ]
    },
    {
     "ename": "KeyboardInterrupt",
     "evalue": "",
     "output_type": "error",
     "traceback": [
      "\u001b[0;31m---------------------------------------------------------------------------\u001b[0m"
     ]
    }
   ],
   "source": [
    "rw.link_metgrids(parent_run_path=parent_run_dir, dates=dates,\n",
    "                 dest_path=run_type_dir)"
   ]
  },
  {
   "cell_type": "code",
   "execution_count": null,
   "metadata": {},
   "outputs": [],
   "source": [
    "rw.link_real(dest_path=run_type_dir)"
   ]
  },
  {
   "cell_type": "code",
   "execution_count": 9,
   "metadata": {},
   "outputs": [],
   "source": [
    "\n",
    "rw.cp_sbatch(source_dir='../',target_dir=run_type_dir,pat='*real.sh')"
   ]
  },
  {
   "cell_type": "code",
   "execution_count": null,
   "metadata": {},
   "outputs": [],
   "source": []
  }
 ],
 "metadata": {
  "jupytext": {
   "text_representation": {
    "extension": ".py",
    "format_name": "percent",
    "format_version": "1.2",
    "jupytext_version": "0.8.6"
   }
  },
  "kernelspec": {
   "display_name": "Python 3",
   "language": "python",
   "name": "python3"
  },
  "language_info": {
   "codemirror_mode": {
    "name": "ipython",
    "version": 3
   },
   "file_extension": ".py",
   "mimetype": "text/x-python",
   "name": "python",
   "nbconvert_exporter": "python",
   "pygments_lexer": "ipython3",
   "version": "3.6.7"
  }
 },
 "nbformat": 4,
 "nbformat_minor": 2
}
