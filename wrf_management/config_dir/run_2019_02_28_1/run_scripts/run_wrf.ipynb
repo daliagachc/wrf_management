{
 "cells": [
  {
   "cell_type": "code",
   "execution_count": 1,
   "metadata": {},
   "outputs": [
    {
     "name": "stdout",
     "output_type": "stream",
     "text": [
      "run_2019_02_28_1\n"
     ]
    },
    {
     "data": {
      "text/plain": [
       "<module 'wrf_management.run_wrf' from '/homeappl/home/aliagadi/saltena_2018/wrf_management/wrf_management/run_wrf.py'>"
      ]
     },
     "execution_count": 1,
     "metadata": {},
     "output_type": "execute_result"
    }
   ],
   "source": [
    "import importlib\n",
    "import os\n",
    "\n",
    "import init as it\n",
    "print(it.run_name)\n",
    "\n",
    "import di_python.ya_esta as ye\n",
    "import wrf_management.run_wrf as rw\n",
    "import wrf_management.project_global_constants as gc\n",
    "importlib.reload(rw)"
   ]
  },
  {
   "cell_type": "code",
   "execution_count": 2,
   "metadata": {},
   "outputs": [
    {
     "name": "stdout",
     "output_type": "stream",
     "text": [
      "/homeappl/home/aliagadi/saltena_2018/wrf_management/wrf_management/config_dir/run_2019_02_28_1/namelist.input\n"
     ]
    }
   ],
   "source": [
    "df = rw.get_date_range(it.init_date, it.end_date)\n",
    "print(rw.get_input_file_path(it.run_name))\n",
    "\n",
    "input_path = rw.get_input_file_path(it.run_name)\n",
    "\n",
    "input_dic = rw.get_input_dic(input_path)\n",
    "\n",
    "new_input_dic = rw.modify_dt_input_dic(it.init_date, it.end_date, input_dic)\n",
    "it.run_type = 'wrf' \n",
    "run_type_dir = rw.create_run_type_dir(gc.PATH_DATA, it.run_name, it.run_type)\n",
    "\n",
    "rw.write_input_dic(run_type_dir=run_type_dir, new_input_dic=new_input_dic)"
   ]
  },
  {
   "cell_type": "code",
   "execution_count": 3,
   "metadata": {},
   "outputs": [
    {
     "data": {
      "text/plain": [
       "'run_2019_02_20'"
      ]
     },
     "execution_count": 3,
     "metadata": {},
     "output_type": "execute_result"
    }
   ],
   "source": [
    "it.parent_run"
   ]
  },
  {
   "cell_type": "code",
   "execution_count": 4,
   "metadata": {},
   "outputs": [
    {
     "data": {
      "text/plain": [
       "'/wrk/aliagadi/DONOTREMOVE/wrf_management_data/runs/run_2019_02_28_1/wrf'"
      ]
     },
     "execution_count": 4,
     "metadata": {},
     "output_type": "execute_result"
    }
   ],
   "source": [
    "run_type_dir"
   ]
  },
  {
   "cell_type": "code",
   "execution_count": 5,
   "metadata": {},
   "outputs": [
    {
     "data": {
      "text/plain": [
       "'/wrk/aliagadi/DONOTREMOVE/wrf_management_data/runs/run_2019_02_20'"
      ]
     },
     "execution_count": 5,
     "metadata": {},
     "output_type": "execute_result"
    }
   ],
   "source": [
    "parent_run_dir = os.path.join(gc.PATH_DATA, 'runs', it.parent_run)\n",
    "parent_run_dir"
   ]
  },
  {
   "cell_type": "code",
   "execution_count": 6,
   "metadata": {
    "lines_to_next_cell": 2
   },
   "outputs": [
    {
     "data": {
      "text/plain": [
       "Timestamp('2017-12-02 00:00:00')"
      ]
     },
     "execution_count": 6,
     "metadata": {},
     "output_type": "execute_result"
    }
   ],
   "source": [
    "dates = list(df.dt)\n",
    "dates[0]"
   ]
  },
  {
   "cell_type": "code",
   "execution_count": 7,
   "metadata": {
    "lines_to_next_cell": 2
   },
   "outputs": [
    {
     "name": "stdout",
     "output_type": "stream",
     "text": [
      "/wrk/aliagadi/DONOTREMOVE/wrf_management_data/runs/run_2019_02_28_1/real\n",
      "['/wrk/aliagadi/DONOTREMOVE/wrf_management_data/runs/run_2019_02_28_1/real/wrfinput_d03', '/wrk/aliagadi/DONOTREMOVE/wrf_management_data/runs/run_2019_02_28_1/real/wrfinput_d01', '/wrk/aliagadi/DONOTREMOVE/wrf_management_data/runs/run_2019_02_28_1/real/wrfinput_d04', '/wrk/aliagadi/DONOTREMOVE/wrf_management_data/runs/run_2019_02_28_1/real/wrfinput_d02', '/wrk/aliagadi/DONOTREMOVE/wrf_management_data/runs/run_2019_02_28_1/real/wrfbdy_d01']\n"
     ]
    }
   ],
   "source": [
    "importlib.reload(rw)\n",
    "real_path=rw.create_run_type_dir(gc.PATH_DATA, it.run_name, 'real')\n",
    "print(real_path)\n",
    "rw.link_wrfs(real_path=real_path, dest_path=run_type_dir)"
   ]
  },
  {
   "cell_type": "code",
   "execution_count": 8,
   "metadata": {},
   "outputs": [
    {
     "name": "stdout",
     "output_type": "stream",
     "text": [
      "/homeappl/home/aliagadi/appl_taito/WRF4/WRF/main/*.exe\n",
      "['/homeappl/home/aliagadi/appl_taito/WRF4/WRF/main/wrf.exe', '/homeappl/home/aliagadi/appl_taito/WRF4/WRF/main/ndown.exe', '/homeappl/home/aliagadi/appl_taito/WRF4/WRF/main/tc.exe', '/homeappl/home/aliagadi/appl_taito/WRF4/WRF/main/real.exe']\n",
      "/homeappl/home/aliagadi/appl_taito/WRF4/WRF/main/wrf.exe\n",
      "/wrk/aliagadi/DONOTREMOVE/wrf_management_data/runs/run_2019_02_28_1/wrf/wrf.exe\n",
      "/homeappl/home/aliagadi/appl_taito/WRF4/WRF/main/ndown.exe\n",
      "/wrk/aliagadi/DONOTREMOVE/wrf_management_data/runs/run_2019_02_28_1/wrf/ndown.exe\n",
      "/homeappl/home/aliagadi/appl_taito/WRF4/WRF/main/tc.exe\n",
      "/wrk/aliagadi/DONOTREMOVE/wrf_management_data/runs/run_2019_02_28_1/wrf/tc.exe\n",
      "/homeappl/home/aliagadi/appl_taito/WRF4/WRF/main/real.exe\n",
      "/wrk/aliagadi/DONOTREMOVE/wrf_management_data/runs/run_2019_02_28_1/wrf/real.exe\n",
      "/homeappl/home/aliagadi/appl_taito/WRF4/WRF/run/gribmap.txt\n",
      "['/homeappl/home/aliagadi/appl_taito/WRF4/WRF/run/gribmap.txt']\n",
      "/homeappl/home/aliagadi/appl_taito/WRF4/WRF/run/gribmap.txt\n",
      "/wrk/aliagadi/DONOTREMOVE/wrf_management_data/runs/run_2019_02_28_1/wrf/gribmap.txt\n",
      "/homeappl/home/aliagadi/appl_taito/WRF4/WRF/run/RRTM*\n",
      "['/homeappl/home/aliagadi/appl_taito/WRF4/WRF/run/RRTM_DATA', '/homeappl/home/aliagadi/appl_taito/WRF4/WRF/run/RRTMG_LW_DATA_DBL', '/homeappl/home/aliagadi/appl_taito/WRF4/WRF/run/RRTMG_LW_DATA', '/homeappl/home/aliagadi/appl_taito/WRF4/WRF/run/RRTM_DATA_DBL', '/homeappl/home/aliagadi/appl_taito/WRF4/WRF/run/RRTMG_SW_DATA', '/homeappl/home/aliagadi/appl_taito/WRF4/WRF/run/RRTMG_SW_DATA_DBL']\n",
      "/homeappl/home/aliagadi/appl_taito/WRF4/WRF/run/RRTM_DATA\n",
      "/wrk/aliagadi/DONOTREMOVE/wrf_management_data/runs/run_2019_02_28_1/wrf/RRTM_DATA\n",
      "/homeappl/home/aliagadi/appl_taito/WRF4/WRF/run/RRTMG_LW_DATA_DBL\n",
      "/wrk/aliagadi/DONOTREMOVE/wrf_management_data/runs/run_2019_02_28_1/wrf/RRTMG_LW_DATA_DBL\n",
      "/homeappl/home/aliagadi/appl_taito/WRF4/WRF/run/RRTMG_LW_DATA\n",
      "/wrk/aliagadi/DONOTREMOVE/wrf_management_data/runs/run_2019_02_28_1/wrf/RRTMG_LW_DATA\n",
      "/homeappl/home/aliagadi/appl_taito/WRF4/WRF/run/RRTM_DATA_DBL\n",
      "/wrk/aliagadi/DONOTREMOVE/wrf_management_data/runs/run_2019_02_28_1/wrf/RRTM_DATA_DBL\n",
      "/homeappl/home/aliagadi/appl_taito/WRF4/WRF/run/RRTMG_SW_DATA\n",
      "/wrk/aliagadi/DONOTREMOVE/wrf_management_data/runs/run_2019_02_28_1/wrf/RRTMG_SW_DATA\n",
      "/homeappl/home/aliagadi/appl_taito/WRF4/WRF/run/RRTMG_SW_DATA_DBL\n",
      "/wrk/aliagadi/DONOTREMOVE/wrf_management_data/runs/run_2019_02_28_1/wrf/RRTMG_SW_DATA_DBL\n",
      "/homeappl/home/aliagadi/appl_taito/WRF4/WRF/run/*TBL\n",
      "['/homeappl/home/aliagadi/appl_taito/WRF4/WRF/run/URBPARM.TBL', '/homeappl/home/aliagadi/appl_taito/WRF4/WRF/run/GENPARM.TBL', '/homeappl/home/aliagadi/appl_taito/WRF4/WRF/run/VEGPARM.TBL', '/homeappl/home/aliagadi/appl_taito/WRF4/WRF/run/MPTABLE.TBL', '/homeappl/home/aliagadi/appl_taito/WRF4/WRF/run/LANDUSE.TBL', '/homeappl/home/aliagadi/appl_taito/WRF4/WRF/run/URBPARM_UZE.TBL', '/homeappl/home/aliagadi/appl_taito/WRF4/WRF/run/SOILPARM.TBL', '/homeappl/home/aliagadi/appl_taito/WRF4/WRF/run/HLC.TBL']\n",
      "/homeappl/home/aliagadi/appl_taito/WRF4/WRF/run/URBPARM.TBL\n",
      "/wrk/aliagadi/DONOTREMOVE/wrf_management_data/runs/run_2019_02_28_1/wrf/URBPARM.TBL\n",
      "/homeappl/home/aliagadi/appl_taito/WRF4/WRF/run/GENPARM.TBL\n",
      "/wrk/aliagadi/DONOTREMOVE/wrf_management_data/runs/run_2019_02_28_1/wrf/GENPARM.TBL\n",
      "/homeappl/home/aliagadi/appl_taito/WRF4/WRF/run/VEGPARM.TBL\n",
      "/wrk/aliagadi/DONOTREMOVE/wrf_management_data/runs/run_2019_02_28_1/wrf/VEGPARM.TBL\n",
      "/homeappl/home/aliagadi/appl_taito/WRF4/WRF/run/MPTABLE.TBL\n",
      "/wrk/aliagadi/DONOTREMOVE/wrf_management_data/runs/run_2019_02_28_1/wrf/MPTABLE.TBL\n",
      "/homeappl/home/aliagadi/appl_taito/WRF4/WRF/run/LANDUSE.TBL\n",
      "/wrk/aliagadi/DONOTREMOVE/wrf_management_data/runs/run_2019_02_28_1/wrf/LANDUSE.TBL\n",
      "/homeappl/home/aliagadi/appl_taito/WRF4/WRF/run/URBPARM_UZE.TBL\n",
      "/wrk/aliagadi/DONOTREMOVE/wrf_management_data/runs/run_2019_02_28_1/wrf/URBPARM_UZE.TBL\n",
      "/homeappl/home/aliagadi/appl_taito/WRF4/WRF/run/SOILPARM.TBL\n",
      "/wrk/aliagadi/DONOTREMOVE/wrf_management_data/runs/run_2019_02_28_1/wrf/SOILPARM.TBL\n",
      "/homeappl/home/aliagadi/appl_taito/WRF4/WRF/run/HLC.TBL\n",
      "/wrk/aliagadi/DONOTREMOVE/wrf_management_data/runs/run_2019_02_28_1/wrf/HLC.TBL\n",
      "/homeappl/home/aliagadi/appl_taito/WRF4/WRF/run/*tbl\n",
      "['/homeappl/home/aliagadi/appl_taito/WRF4/WRF/run/wind-turbine-1.tbl', '/homeappl/home/aliagadi/appl_taito/WRF4/WRF/run/grib2map.tbl']\n",
      "/homeappl/home/aliagadi/appl_taito/WRF4/WRF/run/wind-turbine-1.tbl\n",
      "/wrk/aliagadi/DONOTREMOVE/wrf_management_data/runs/run_2019_02_28_1/wrf/wind-turbine-1.tbl\n",
      "/homeappl/home/aliagadi/appl_taito/WRF4/WRF/run/grib2map.tbl\n",
      "/wrk/aliagadi/DONOTREMOVE/wrf_management_data/runs/run_2019_02_28_1/wrf/grib2map.tbl\n",
      "/homeappl/home/aliagadi/appl_taito/WRF4/WRF/run/ozone*\n",
      "['/homeappl/home/aliagadi/appl_taito/WRF4/WRF/run/ozone_plev.formatted', '/homeappl/home/aliagadi/appl_taito/WRF4/WRF/run/ozone.formatted', '/homeappl/home/aliagadi/appl_taito/WRF4/WRF/run/ozone_lat.formatted']\n",
      "/homeappl/home/aliagadi/appl_taito/WRF4/WRF/run/ozone_plev.formatted\n",
      "/wrk/aliagadi/DONOTREMOVE/wrf_management_data/runs/run_2019_02_28_1/wrf/ozone_plev.formatted\n",
      "/homeappl/home/aliagadi/appl_taito/WRF4/WRF/run/ozone.formatted\n",
      "/wrk/aliagadi/DONOTREMOVE/wrf_management_data/runs/run_2019_02_28_1/wrf/ozone.formatted\n",
      "/homeappl/home/aliagadi/appl_taito/WRF4/WRF/run/ozone_lat.formatted\n",
      "/wrk/aliagadi/DONOTREMOVE/wrf_management_data/runs/run_2019_02_28_1/wrf/ozone_lat.formatted\n"
     ]
    }
   ],
   "source": [
    "importlib.reload(rw)\n",
    "rw.link_wrf(dest_path=run_type_dir)"
   ]
  },
  {
   "cell_type": "code",
   "execution_count": null,
   "metadata": {},
   "outputs": [],
   "source": []
  }
 ],
 "metadata": {
  "jupytext": {
   "text_representation": {
    "extension": ".py",
    "format_name": "percent",
    "format_version": "1.2",
    "jupytext_version": "0.8.6"
   }
  },
  "kernelspec": {
   "display_name": "Python 3",
   "language": "python",
   "name": "python3"
  },
  "language_info": {
   "codemirror_mode": {
    "name": "ipython",
    "version": 3
   },
   "file_extension": ".py",
   "mimetype": "text/x-python",
   "name": "python",
   "nbconvert_exporter": "python",
   "pygments_lexer": "ipython3",
   "version": "3.6.8"
  }
 },
 "nbformat": 4,
 "nbformat_minor": 2
}
