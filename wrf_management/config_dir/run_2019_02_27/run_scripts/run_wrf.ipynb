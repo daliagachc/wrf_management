{
 "cells": [
  {
   "cell_type": "code",
   "execution_count": 1,
   "metadata": {
    "lines_to_next_cell": 2
   },
   "outputs": [],
   "source": [
    "try:\n",
    "    from . import init as it\n",
    "except:\n",
    "    from wrf_management.config_dir.run_2019_02_27.run_scripts import init as it\n",
    "\n",
    "from datetime import datetime as dt\n",
    "import pandas as pd\n",
    "import matplotlib.pyplot as plt"
   ]
  },
  {
   "cell_type": "code",
   "execution_count": null,
   "metadata": {
    "lines_to_next_cell": 2
   },
   "outputs": [],
   "source": [
    "\n",
    "def get_date_range(\n",
    "        init_date: dt, end_date: dt\n",
    ") -> pd.DataFrame:\n",
    "    dates = pd.date_range(it.init_date, it.end_date)\n",
    "    df = pd.DataFrame(dates, columns=['dt'])\n",
    "    return df\n",
    "\n",
    "\n",
    "def link_data_file(\n",
    "\n",
    ") -> pd.DataFrame:\n",
    "    pass\n",
    "\n",
    "\n",
    "def copy_executables(\n",
    "\n",
    ") -> pd.DataFrame:\n",
    "    pass"
   ]
  },
  {
   "cell_type": "code",
   "execution_count": null,
   "metadata": {
    "lines_to_next_cell": 3
   },
   "outputs": [],
   "source": [
    "\n",
    "df = get_date_range(it.init_date, it.end_date)"
   ]
  }
 ],
 "metadata": {
  "jupytext": {
   "text_representation": {
    "extension": ".py",
    "format_name": "percent",
    "format_version": "1.2",
    "jupytext_version": "0.8.6"
   }
  },
  "kernelspec": {
   "display_name": "Python 3",
   "language": "python",
   "name": "python3"
  },
  "language_info": {
   "codemirror_mode": {
    "name": "ipython",
    "version": 3
   },
   "file_extension": ".py",
   "mimetype": "text/x-python",
   "name": "python",
   "nbconvert_exporter": "python",
   "pygments_lexer": "ipython3",
   "version": "3.6.7"
  }
 },
 "nbformat": 4,
 "nbformat_minor": 2
}
